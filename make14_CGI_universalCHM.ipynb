{
 "cells": [
  {
   "cell_type": "code",
   "execution_count": null,
   "metadata": {},
   "outputs": [],
   "source": []
  },
  {
   "cell_type": "code",
   "execution_count": 5,
   "metadata": {},
   "outputs": [],
   "source": [
    "import subprocess\n",
    "import os\n",
    "import numpy as np\n",
    "import pandas as pd\n",
    "import matplotlib as mpl\n",
    "mpl.rcParams['pdf.fonttype'] = 42\n",
    "mpl.rcParams['ps.fonttype'] = 42\n",
    "mpl.rcParams['font.sans-serif'] = 'Arial'\n",
    "import matplotlib.pyplot as plt\n",
    "import seaborn as sns\n",
    "from pprint import pprint\n",
    "from matplotlib.backends.backend_pdf import PdfPages\n",
    "%matplotlib inline"
   ]
  },
  {
   "cell_type": "code",
   "execution_count": 8,
   "metadata": {},
   "outputs": [],
   "source": [
    "def peak_overlap_venn2(peak1,\n",
    "                       peak2,\n",
    "                       label1='A',\n",
    "                       label2='B',\n",
    "                       col1='C1',\n",
    "                       col2='C2',\n",
    "                       col12='C12',\n",
    "                       label_ha='center',\n",
    "                       output_file=None):\n",
    "    import subprocess\n",
    "    from matplotlib_venn import venn2\n",
    "    from matplotlib_venn._common import mix_colors\n",
    "    from matplotlib.colors import ColorConverter\n",
    "    a = int(\n",
    "        subprocess.check_output(\n",
    "            f'wc -l {peak1}'.split()).decode().strip().split()[0])\n",
    "    b = int(\n",
    "        subprocess.check_output(\n",
    "            f'wc -l {peak2}'.split()).decode().strip().split()[0])\n",
    "    ab = int(\n",
    "        subprocess.check_output(\n",
    "            f'intersectBed -u -a {peak1} -b {peak2} | wc -l',\n",
    "            shell=True).decode().strip())\n",
    "    ba = int(\n",
    "        subprocess.check_output(\n",
    "            f'intersectBed -u -a {peak2} -b {peak1} | wc -l',\n",
    "            shell=True).decode().strip())\n",
    "    intersect = (ab + ba) >> 1\n",
    "#     v = venn2((a - intersect, b - intersect, intersect),\n",
    "    v = venn2((a - ab, b - ba, intersect),\n",
    "              set_colors=(col1, col2),\n",
    "              alpha=.5,\n",
    "              set_labels=(label1, label2))\n",
    "#     v.get_label_by_id('10').set_text(f'{a-intersect:,}\\n')\n",
    "#     v.get_label_by_id('01').set_text(f'\\n{b-intersect:,}')\n",
    "#     v.get_label_by_id('11').set_text(f'{intersect:,}')\n",
    "    v.get_label_by_id('10').set_text(f'{a-ab:,}\\n')\n",
    "    v.get_label_by_id('01').set_text(f'\\n{b-ba:,}')\n",
    "    v.get_label_by_id('11').set_text(f'{ab}\\n{ba}')\n",
    "    \n",
    "    v.get_patch_by_id('11').set_color(col12)\n",
    "    v.get_patch_by_id('11').set_edgecolor('none')\n",
    "    v.get_patch_by_id('11').set_alpha(0.4)\n",
    "    \n",
    "    if label_ha != 'auto' :\n",
    "        for label in v.set_labels:\n",
    "            label.set_ha(label_ha)\n",
    "            \n",
    "    if output_file:\n",
    "        plt.savefig(output_file, transparent=True)\n",
    "        plt.close()"
   ]
  },
  {
   "cell_type": "code",
   "execution_count": 10,
   "metadata": {},
   "outputs": [],
   "source": [
    "peak_overlap_venn2('/mnt/Storage/home/wangyiman/CHMsInOtherContexts/CellStateTransition/CHMOrganization/Universal_specific/Universal.CHM.bed',\n",
    "                   '/mnt/Storage/home/yanghui/annotations/mm10/mm10.cpgIslandExtUnmasked.bed',\n",
    "                   label1='Universal CHMs',\n",
    "                   label2='CGIs',\n",
    "                   col1='#98BDD8',\n",
    "                   col2='#E4DDC3',\n",
    "                   col12='#8BB38D',\n",
    "                   output_file='/mnt/Storage/home/wangyiman/CHMsInOtherContexts/figures/make14_Venn_universalCHM_CGI.pdf')"
   ]
  },
  {
   "cell_type": "code",
   "execution_count": null,
   "metadata": {},
   "outputs": [],
   "source": []
  },
  {
   "cell_type": "code",
   "execution_count": null,
   "metadata": {},
   "outputs": [],
   "source": []
  }
 ],
 "metadata": {
  "kernelspec": {
   "display_name": "Python [conda env:root] *",
   "language": "python",
   "name": "conda-root-py"
  },
  "language_info": {
   "codemirror_mode": {
    "name": "ipython",
    "version": 3
   },
   "file_extension": ".py",
   "mimetype": "text/x-python",
   "name": "python",
   "nbconvert_exporter": "python",
   "pygments_lexer": "ipython3",
   "version": "3.8.5"
  }
 },
 "nbformat": 4,
 "nbformat_minor": 4
}
