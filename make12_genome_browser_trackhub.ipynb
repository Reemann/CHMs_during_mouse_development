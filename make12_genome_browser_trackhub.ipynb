{
 "cells": [
  {
   "cell_type": "code",
   "execution_count": null,
   "metadata": {},
   "outputs": [],
   "source": []
  },
  {
   "cell_type": "code",
   "execution_count": 51,
   "metadata": {},
   "outputs": [],
   "source": [
    "import subprocess\n",
    "import os\n",
    "import numpy as np\n",
    "import pandas as pd\n",
    "import matplotlib as mpl\n",
    "mpl.rcParams['pdf.fonttype'] = 42\n",
    "mpl.rcParams['ps.fonttype'] = 42\n",
    "mpl.rcParams['font.sans-serif'] = 'Arial'\n",
    "import matplotlib.pyplot as plt\n",
    "import seaborn as sns\n",
    "from pprint import pprint\n",
    "from matplotlib.backends.backend_pdf import PdfPages\n",
    "%matplotlib inline"
   ]
  },
  {
   "cell_type": "code",
   "execution_count": 52,
   "metadata": {},
   "outputs": [],
   "source": [
    "def get_bigwig_mean(bw_file):\n",
    "    import os\n",
    "    import subprocess\n",
    "    fold = subprocess.check_output(f'bigWigInfo {bw_file} | grep mean',\n",
    "                                   shell=True).decode()\n",
    "    fold = float(fold.split()[1])\n",
    "    return fold"
   ]
  },
  {
   "cell_type": "code",
   "execution_count": 53,
   "metadata": {},
   "outputs": [
    {
     "name": "stdout",
     "output_type": "stream",
     "text": [
      "123\n"
     ]
    }
   ],
   "source": [
    "print('123')"
   ]
  },
  {
   "cell_type": "code",
   "execution_count": null,
   "metadata": {},
   "outputs": [],
   "source": []
  },
  {
   "cell_type": "code",
   "execution_count": null,
   "metadata": {},
   "outputs": [],
   "source": []
  },
  {
   "cell_type": "markdown",
   "metadata": {},
   "source": [
    "# prepare"
   ]
  },
  {
   "cell_type": "code",
   "execution_count": 3,
   "metadata": {},
   "outputs": [],
   "source": [
    "os.chdir(\"/mnt/Storage/home/wangyiman/CHMsInOtherContexts/CellStateTransition/MethK9Signal\")"
   ]
  },
  {
   "cell_type": "code",
   "execution_count": 4,
   "metadata": {},
   "outputs": [],
   "source": [
    "stage_dict = {\n",
    "    'EarlyEmbryogenesis': ['2cell','8cell','Morula','ICM',],\n",
    "    'PGCsDevelopment': ['E10.5','E13.5_female','E13.5_male',],\n",
    "    'Spermatogenesis': ['US','DS','PS','RS',],\n",
    "    'RetinalDevelopment': ['E14.5','E17.5','P0','P3','P7','P10','P14','P21',],\n",
    "    'HeartDevelopment': ['E10.5','E11.5','E12.5','E13.5','E14.5','E15.5','E16.5','P0',],\n",
    "    'LiverDevelopment': ['E11.5','E12.5','E13.5','E14.5','E15.5','E16.5','P0']\n",
    "}"
   ]
  },
  {
   "cell_type": "code",
   "execution_count": 47,
   "metadata": {},
   "outputs": [],
   "source": [
    "color_dict = {\n",
    "    'EarlyEmbryogenesis': '#9B1C3D',\n",
    "    'PGCsDevelopment': '#16557A',\n",
    "    'Spermatogenesis': '#1B9E77',\n",
    "    'RetinalDevelopment': '#BF8B12',\n",
    "    'HeartDevelopment': '#2E8BC0',\n",
    "    'LiverDevelopment': '#666666'\n",
    "}"
   ]
  },
  {
   "cell_type": "code",
   "execution_count": 30,
   "metadata": {},
   "outputs": [],
   "source": [
    "def hex2rgb(h) :\n",
    "    rgb = tuple(int(h[i:i+2], 16) for i in (1, 3, 5))\n",
    "    return f\"{rgb[0]},{rgb[1]},{rgb[2]}\""
   ]
  },
  {
   "cell_type": "code",
   "execution_count": 31,
   "metadata": {},
   "outputs": [
    {
     "data": {
      "text/plain": [
       "'155,28,61'"
      ]
     },
     "execution_count": 31,
     "metadata": {},
     "output_type": "execute_result"
    }
   ],
   "source": [
    "hex2rgb('#9B1C3D')"
   ]
  },
  {
   "cell_type": "code",
   "execution_count": 28,
   "metadata": {},
   "outputs": [],
   "source": [
    "smooth_dict = {\n",
    "    'methyl.merged': 1,\n",
    "    'H3K9me3.rmDup': 5\n",
    "}"
   ]
  },
  {
   "cell_type": "code",
   "execution_count": 37,
   "metadata": {},
   "outputs": [
    {
     "data": {
      "text/plain": [
       "dict_keys(['EarlyEmbryogenesis', 'PGCsDevelopment', 'Spermatogenesis', 'RetinalDevelopment', 'HeartDevelopment', 'LiverDevelopment'])"
      ]
     },
     "execution_count": 37,
     "metadata": {},
     "output_type": "execute_result"
    }
   ],
   "source": [
    "stage_dict.keys()"
   ]
  },
  {
   "cell_type": "code",
   "execution_count": 38,
   "metadata": {},
   "outputs": [
    {
     "name": "stderr",
     "output_type": "stream",
     "text": [
      "pass1 - making usageList (19 chroms): 1 millis\n",
      "pass2 - checking and writing primary data (2677 records, 3 fields): 12 millis\n"
     ]
    }
   ],
   "source": [
    "%%bash\n",
    "bedToBigBed Universal.CHM.bed /mnt/Storage/home/yanghui/annotations/mm10/mm10_euch.chrom.sizes Universal.CHM.bb"
   ]
  },
  {
   "cell_type": "markdown",
   "metadata": {},
   "source": [
    "# trackDb.txt"
   ]
  },
  {
   "cell_type": "markdown",
   "metadata": {},
   "source": [
    "## DNA methyl signal & K9 signal"
   ]
  },
  {
   "cell_type": "code",
   "execution_count": 41,
   "metadata": {},
   "outputs": [],
   "source": [
    "with open('trackDb.txt', 'w') as fi :\n",
    "    for process in stage_dict.keys() :\n",
    "        for modifi in ['methyl.merged', 'H3K9me3.rmDup'] :\n",
    "            for stage in stage_dict[process] :\n",
    "                bigwig_file = f'{process}_{stage}.{modifi}.bw'\n",
    "                mean = get_bigwig_mean(f'{bigwig_file}')\n",
    "                fi.write(f'track {process}_{stage}_{modifi.split(\".\")[0]}\\n')\n",
    "                fi.write(f'bigDataUrl {bigwig_file}\\n')\n",
    "                fi.write(f'shortLabel {process}_{stage}_{modifi.split(\".\")[0]}\\n')\n",
    "                fi.write(f'longLabel {process}_{stage}_{modifi.split(\".\")[0]}\\n')\n",
    "                fi.write(f'color {hex2rgb(color_dict[process])}\\n')\n",
    "                fi.write(f'type bigWig\\n')\n",
    "                fi.write(f'visibility full\\n')\n",
    "                if modifi == 'methyl.merged' :\n",
    "                    fi.write(f'viewLimits 0:1\\n')\n",
    "                else :\n",
    "#                     fi.write(f'viewLimits {5 * mean:.5f}:{50 * mean:.5f}\\n')\n",
    "                    fi.write(f'viewLimits 0:{10 * mean:.5f}\\n')\n",
    "#                     fi.write(f'viewLimits 0:1\\n')\n",
    "                fi.write(f'maxHeightPixels 15\\n')\n",
    "#                 fi.write(f'smoothingWindow {smooth_dict[modifi]}\\n')\n",
    "                fi.write(f'windowingFunction mean\\n\\n')\n",
    "      \n",
    "    fi.write('track CpG_number\\n')\n",
    "    fi.write('bigDataUrl mm10.b1kb.s10bp.euchr.CpGnumber.bw\\n')    \n",
    "    fi.write('shortLabel CpG_number\\n')    \n",
    "    fi.write('longLabel CpG_number\\n')    \n",
    "    fi.write('color 50,50,50\\n')    \n",
    "    fi.write('type bigWig\\n')    \n",
    "    fi.write('visibility full\\n')    \n",
    "    fi.write('maxHeightPixels 20\\n\\n')   \n",
    "        \n",
    "    fi.write('track Universal_CHMs\\n')\n",
    "    fi.write('bigDataUrl Universal.CHM.bb\\n')    \n",
    "    fi.write('shortLabel Universal_CHMs\\n')    \n",
    "    fi.write('longLabel Universal_CHMs\\n')    \n",
    "    fi.write('color 50,50,50\\n')    \n",
    "    fi.write('type bigBed\\n')    \n",
    "    fi.write('visibility full\\n')    \n",
    "    fi.write('maxHeightPixels 20\\n\\n')   \n",
    "    "
   ]
  },
  {
   "cell_type": "markdown",
   "metadata": {},
   "source": [
    "## DNA amount signal & K9 signal"
   ]
  },
  {
   "cell_type": "code",
   "execution_count": 54,
   "metadata": {},
   "outputs": [],
   "source": [
    "with open('trackDb_DNAamount.txt', 'w') as fi :\n",
    "    for p,process in enumerate(stage_dict.keys()) :\n",
    "        for modifi in ['mm10.1kbB_10bpS.methyl_amount', 'H3K9me3.rmDup'] :\n",
    "            for s,stage in enumerate(stage_dict[process]) :\n",
    "#                 mean = get_bigwig_mean(f'{bigwig_file}')\n",
    "                fi.write(f'track {process}_{stage}_{modifi.split(\".\")[-1]}\\n')\n",
    "                if modifi == 'mm10.1kbB_10bpS.methyl_amount' :\n",
    "                    bigwig_file = f'{process}.{stage}.{modifi}.bw'\n",
    "                else :\n",
    "                    bigwig_file = f'{process}_{stage}.{modifi}.bw'\n",
    "                fi.write(f'bigDataUrl {bigwig_file}\\n')\n",
    "                fi.write(f'shortLabel {process}_{stage}_{modifi.split(\".\")[-1]}\\n')\n",
    "                fi.write(f'longLabel {process}_{stage}_{modifi.split(\".\")[-1]}\\n')\n",
    "                fi.write(f'color {hex2rgb(color_dict[process])}\\n')\n",
    "                fi.write(f'type bigWig\\n')\n",
    "                fi.write(f'visibility full\\n')\n",
    "                if modifi == 'mm10.1kbB_10bpS.methyl_amount' :\n",
    "                    fi.write(f'viewLimits 0:50\\n')\n",
    "                else :\n",
    "#                     fi.write(f'viewLimits {5 * mean:.5f}:{50 * mean:.5f}\\n')\n",
    "                    fi.write(f'viewLimits 0:1\\n')\n",
    "#                     fi.write(f'viewLimits 0:1\\n')\n",
    "                fi.write(f'maxHeightPixels 20\\n')\n",
    "#                 fi.write(f'smoothingWindow {smooth_dict[modifi]}\\n')\n",
    "                fi.write(f'windowingFunction mean\\n')\n",
    "                process1 = process if process != 'EarlyEmbryogenesis' else 'Pre-implantation'\n",
    "                fi.write(f'group {p+1}_{process1}\\n')\n",
    "                fi.write(f'prior {s+1}\\n\\n')\n",
    "        \n",
    "      \n",
    "    fi.write('track CpG_number\\n')\n",
    "    fi.write('bigDataUrl mm10.b1kb.s10bp.euchr.CpGnumber.bw\\n')    \n",
    "    fi.write('shortLabel CpG_number\\n')    \n",
    "    fi.write('longLabel CpG_number\\n')    \n",
    "    fi.write('color 50,50,50\\n')    \n",
    "    fi.write('type bigWig\\n')    \n",
    "    fi.write('visibility full\\n')    \n",
    "    fi.write('maxHeightPixels 20\\n\\n')   \n",
    "        \n",
    "    fi.write('track Universal_CHMs\\n')\n",
    "    fi.write('bigDataUrl Universal.CHM.bb\\n')    \n",
    "    fi.write('shortLabel Universal_CHMs\\n')    \n",
    "    fi.write('longLabel Universal_CHMs\\n')    \n",
    "    fi.write('color 50,50,50\\n')    \n",
    "    fi.write('type bigBed\\n')    \n",
    "    fi.write('visibility full\\n')    \n",
    "    fi.write('maxHeightPixels 20\\n\\n')   \n",
    "    "
   ]
  },
  {
   "cell_type": "code",
   "execution_count": null,
   "metadata": {},
   "outputs": [],
   "source": [
    "track CR_Nanog_dome_rep1\n",
    "bigDataUrl CR_Nanog_dome_rep1.bw\n",
    "shortLabel CR_Nanog_dome_rep1\n",
    "longLabel CR_Nanog_dome_rep1\n",
    "color 152,189,216\n",
    "type bigWig\n",
    "visibility full\n",
    "viewLimits 0.154665:1.546650\n",
    "maxHeightPixels 20\n",
    "smoothingWindow 5\n",
    "windowingFunction mean"
   ]
  },
  {
   "cell_type": "markdown",
   "metadata": {},
   "source": [
    "## A/B compartment"
   ]
  },
  {
   "cell_type": "code",
   "execution_count": 55,
   "metadata": {},
   "outputs": [],
   "source": [
    "stage_3_dict = {\n",
    " 'EarlyEmbryogenesis': ['2cell', '8cell', 'ICM'],\n",
    " 'PGCsDevelopment': ['E10.5', 'E13.5_female', 'E13.5_male'],\n",
    " 'Spermatogenesis': ['US', 'DS', 'RS'],\n",
    " 'RetinalDevelopment': ['E14.5', 'P0', 'P21'],\n",
    " 'HeartDevelopment': ['E10.5', 'E13.5', 'P0'],\n",
    " 'LiverDevelopment': ['E11.5', 'E14.5', 'P0']\n",
    "}"
   ]
  },
  {
   "cell_type": "code",
   "execution_count": 57,
   "metadata": {},
   "outputs": [],
   "source": [
    "%%bash\n",
    "ln -s /mnt/Storage/home/wangyiman/CHMsInOtherContexts/CellStateTransition/CHMOrganization/Universal_specific/Features/ChromatinStates/Cavalli_Cell2017_ABcompartment/AB_compartment_intersect[AB]_Cavalli_Cell2017.bed .\n",
    "\n",
    "sort -k1,1 -k2,2n AB_compartment_intersectA_Cavalli_Cell2017.bed | grep -v chrX | grep -v chrY > A_comparment.sorted.bed\n",
    "sort -k1,1 -k2,2n AB_compartment_intersectB_Cavalli_Cell2017.bed | grep -v chrX | grep -v chrY > B_comparment.sorted.bed\n",
    "bedToBigBed A_comparment.sorted.bed /mnt/Storage/home/yanghui/annotations/mm10/mm10_euch.chrom.sizes A_comparment.bb\n",
    "bedToBigBed B_comparment.sorted.bed /mnt/Storage/home/yanghui/annotations/mm10/mm10_euch.chrom.sizes B_comparment.bb\n"
   ]
  },
  {
   "cell_type": "code",
   "execution_count": 61,
   "metadata": {},
   "outputs": [],
   "source": [
    "with open('trackDb_ABcompart.txt', 'w') as fi :\n",
    "    for process in stage_dict.keys() :\n",
    "        for modifi in ['methyl.merged', 'H3K9me3.rmDup'] :\n",
    "            for stage in stage_3_dict[process] :\n",
    "                bigwig_file = f'{process}_{stage}.{modifi}.bw'\n",
    "                mean = get_bigwig_mean(f'{bigwig_file}')\n",
    "                fi.write(f'track {process}_{stage}_{modifi.split(\".\")[0]}\\n')\n",
    "                fi.write(f'bigDataUrl {bigwig_file}\\n')\n",
    "                fi.write(f'shortLabel {process}_{stage}_{modifi.split(\".\")[0]}\\n')\n",
    "                fi.write(f'longLabel {process}_{stage}_{modifi.split(\".\")[0]}\\n')\n",
    "                fi.write(f'color {hex2rgb(color_dict[process])}\\n')\n",
    "                fi.write(f'type bigWig\\n')\n",
    "                fi.write(f'visibility full\\n')\n",
    "                if modifi == 'methyl.merged' :\n",
    "                    fi.write(f'viewLimits 0.6:1\\n')\n",
    "                else :\n",
    "#                     fi.write(f'viewLimits {5 * mean:.5f}:{50 * mean:.5f}\\n')\n",
    "#                     fi.write(f'viewLimits 0:{10 * mean:.5f}\\n')\n",
    "                    fi.write(f'viewLimits 0:1\\n')\n",
    "                fi.write(f'maxHeightPixels 15\\n')\n",
    "#                 fi.write(f'smoothingWindow {smooth_dict[modifi]}\\n')\n",
    "                fi.write(f'windowingFunction mean\\n\\n')\n",
    "      \n",
    "    fi.write('track CpG_number\\n')\n",
    "    fi.write('bigDataUrl mm10.b1kb.s10bp.euchr.CpGnumber.bw\\n')    \n",
    "    fi.write('shortLabel CpG_number\\n')    \n",
    "    fi.write('longLabel CpG_number\\n')    \n",
    "    fi.write('color 50,50,50\\n')    \n",
    "    fi.write('type bigWig\\n')    \n",
    "    fi.write('visibility full\\n')    \n",
    "    fi.write('viewLimits 0:50\\n')\n",
    "    fi.write('maxHeightPixels 20\\n\\n')   \n",
    "        \n",
    "    fi.write('track Universal_CHMs\\n')\n",
    "    fi.write('bigDataUrl Universal.CHM.bb\\n')    \n",
    "    fi.write('shortLabel Universal_CHMs\\n')    \n",
    "    fi.write('longLabel Universal_CHMs\\n')    \n",
    "    fi.write('color 50,50,50\\n')    \n",
    "    fi.write('type bigBed\\n')    \n",
    "    fi.write('visibility full\\n')    \n",
    "    fi.write('maxHeightPixels 20\\n\\n')\n",
    "    \n",
    "    fi.write('track A_compartments\\n')\n",
    "    fi.write('bigDataUrl A_comparment.bb\\n')    \n",
    "    fi.write('shortLabel A_compartments\\n')    \n",
    "    fi.write('longLabel A_compartments\\n')    \n",
    "    fi.write('color 196,90,198\\n')    \n",
    "    fi.write('type bigBed\\n')    \n",
    "    fi.write('visibility full\\n')    \n",
    "    fi.write('maxHeightPixels 20\\n\\n')\n",
    "    \n",
    "    fi.write('track B_compartments\\n')\n",
    "    fi.write('bigDataUrl B_comparment.bb\\n')    \n",
    "    fi.write('shortLabel B_compartments\\n')    \n",
    "    fi.write('longLabel B_compartments\\n')    \n",
    "    fi.write('color 90,173,198\\n')    \n",
    "    fi.write('type bigBed\\n')    \n",
    "    fi.write('visibility full\\n')    \n",
    "    fi.write('maxHeightPixels 20\\n\\n')\n",
    "\n",
    "    "
   ]
  },
  {
   "cell_type": "code",
   "execution_count": null,
   "metadata": {},
   "outputs": [],
   "source": []
  },
  {
   "cell_type": "code",
   "execution_count": 56,
   "metadata": {},
   "outputs": [
    {
     "data": {
      "text/plain": [
       "1"
      ]
     },
     "execution_count": 56,
     "metadata": {},
     "output_type": "execute_result"
    }
   ],
   "source": [
    "1"
   ]
  },
  {
   "cell_type": "code",
   "execution_count": null,
   "metadata": {},
   "outputs": [],
   "source": []
  }
 ],
 "metadata": {
  "kernelspec": {
   "display_name": "Python [conda env:root] *",
   "language": "python",
   "name": "conda-root-py"
  },
  "language_info": {
   "codemirror_mode": {
    "name": "ipython",
    "version": 3
   },
   "file_extension": ".py",
   "mimetype": "text/x-python",
   "name": "python",
   "nbconvert_exporter": "python",
   "pygments_lexer": "ipython3",
   "version": "3.8.5"
  }
 },
 "nbformat": 4,
 "nbformat_minor": 4
}
