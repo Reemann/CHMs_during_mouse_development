{
 "cells": [
  {
   "cell_type": "markdown",
   "id": "e6f1157b",
   "metadata": {},
   "source": [
    "# Universal vs Process-specific vs NonCHM CpGrich"
   ]
  },
  {
   "cell_type": "markdown",
   "id": "5fc6e222",
   "metadata": {},
   "source": [
    "## Obtain three group annotations"
   ]
  },
  {
   "cell_type": "code",
   "execution_count": 3,
   "id": "e4a4f4ec",
   "metadata": {
    "ExecuteTime": {
     "end_time": "2023-01-01T07:13:20.448563Z",
     "start_time": "2023-01-01T07:13:16.563781Z"
    }
   },
   "outputs": [],
   "source": [
    "%%bash\n",
    "anPATH=/mnt/Storage/home/yanghui/annotations\n",
    "dataPATH_ymw=/mnt/Storage/home/wangyiman/CHMsInOtherContexts/CellStateTransition/CHMOrganization\n",
    "mkdir -p Universal_ProcessSpecific_NonCHMsCpGrich;cd Universal_ProcessSpecific_NonCHMsCpGrich\n",
    "ln -s ${dataPATH_ymw}/Universal_specific/Universal.CHM.bed UniversalCHMs.bed # 2,677\n",
    "cat ${dataPATH_ymw}/Universal_specific/*Specific.CHM.bed | sort -k1,1 -k2,2n | mergeBed -i - -d 2000 > ProcessSpecificCHMs.bed # 6,980\n",
    "awk 'BEGIN{FS=OFS=\"\\t\"}{if($4>=30){print $1, $2, $3;}}' ${anPATH}/mm10/Bins/mm10.b1kb.euchr.CpGnumber > mm10.b1kb.euchr.CpGrich.bed # 41,427\n",
    "cat ${dataPATH_ymw}/*/merged.CHM.bed | windowBed -w 2000 -v -a mm10.b1kb.euchr.CpGrich.bed -b - > NonCHMsCpGrich.bed # 22,298"
   ]
  },
  {
   "cell_type": "markdown",
   "id": "adde0942",
   "metadata": {},
   "source": [
    "## Region enrichment"
   ]
  },
  {
   "cell_type": "markdown",
   "id": "ed17a9d3",
   "metadata": {},
   "source": [
    "### Don't divide according to chromatin states"
   ]
  },
  {
   "cell_type": "markdown",
   "id": "116666f3",
   "metadata": {},
   "source": [
    "#### Obtain region enrichment details"
   ]
  },
  {
   "cell_type": "code",
   "execution_count": 5,
   "id": "65b0232c",
   "metadata": {
    "ExecuteTime": {
     "end_time": "2023-01-01T07:38:59.326954Z",
     "start_time": "2023-01-01T07:38:27.494533Z"
    }
   },
   "outputs": [
    {
     "name": "stdout",
     "output_type": "stream",
     "text": [
      "null device \n",
      "          1 \n",
      "null device \n",
      "          1 \n",
      "null device \n",
      "          1 \n",
      "null device \n",
      "          1 \n",
      "null device \n",
      "          1 \n",
      "null device \n",
      "          1 \n"
     ]
    }
   ],
   "source": [
    "%%bash\n",
    "shPATH=/mnt/Storage/home/yanghui/scripts/shell\n",
    "anPATH=/mnt/Storage/home/yanghui/annotations\n",
    "dirPATH=/mnt/Storage/home/yanghui/imprinting/result.2021/Exploring/CHMsInOtherContexts/CellStateTransition/CHMOrganization/Universal_specific/Features/Repeats\n",
    "cd ${dirPATH}/Universal_ProcessSpecific_NonCHMsCpGrich\n",
    "for group in UniversalCHMs ProcessSpecificCHMs NonCHMsCpGrich\n",
    "do\n",
    "    bash ${shPATH}/regionEnrichment_userDefined.sh \\\n",
    "        \"${dirPATH}/Universal_ProcessSpecific_NonCHMsCpGrich\" \\\n",
    "        \"mm10_euch\" \\\n",
    "        \"${anPATH}/mm10/mm10_euch.chrom.sizes\" \\\n",
    "        \"${group}.bed\" \\\n",
    "        \"${anPATH}/mm10/RegionEnrichment/mm10_euch.CGI_Unmasked.merged.bed;${anPATH}/mm10/RegionEnrichment/mm10_euch.promoter.merged.bed;${anPATH}/mm10/RegionEnrichment/mm10_euch.geneBody.merged.bed;${anPATH}/mm10/RegionEnrichment/mm10_euch.exon.merged.bed;${anPATH}/mm10/RegionEnrichment/mm10_euch.intron.merged.bed;${anPATH}/mm10/RegionEnrichment/mm10_euch.LTR.merged.bed;${anPATH}/mm10/RegionEnrichment/mm10_euch.LINE.merged.bed;${anPATH}/mm10/RegionEnrichment/mm10_euch.SINE.merged.bed\" \\\n",
    "        \"regionEnrich_${group}\"\n",
    "done # for group end"
   ]
  },
  {
   "cell_type": "markdown",
   "id": "4b8b3742",
   "metadata": {},
   "source": [
    "#### Plot together"
   ]
  },
  {
   "cell_type": "code",
   "execution_count": 7,
   "id": "f5fc8c05",
   "metadata": {
    "ExecuteTime": {
     "end_time": "2023-01-01T07:51:22.878301Z",
     "start_time": "2023-01-01T07:51:21.528559Z"
    }
   },
   "outputs": [
    {
     "name": "stdout",
     "output_type": "stream",
     "text": [
      "null device \n",
      "          1 \n"
     ]
    }
   ],
   "source": [
    "%%bash\n",
    "dirPATH=/mnt/Storage/home/yanghui/imprinting/result.2021/Exploring/CHMsInOtherContexts/CellStateTransition/CHMOrganization/Universal_specific/Features/Repeats\n",
    "rPATH=/mnt/Storage/home/yanghui/scripts/R\n",
    "cd ${dirPATH}/Universal_ProcessSpecific_NonCHMsCpGrich\n",
    "\n",
    "# # Plot together\n",
    "# echo -e \"xValue\\tyValue\\tgroup\" > regionEnrich.ggplot_basic.txt\n",
    "# for group in UniversalCHMs ProcessSpecificCHMs NonCHMsCpGrich\n",
    "# do\n",
    "#     tail -n +2 regionEnrich_${group}.EnrichScore.txt | \\\n",
    "#         awk -v GROUP=${group} 'BEGIN{FS=OFS=\"\\t\"}{\\\n",
    "#         split($1, a, \"_\");\\\n",
    "#         print a[1], $2, GROUP;}' >> regionEnrich.ggplot_basic.txt\n",
    "# done # for group end\n",
    "\n",
    "Rscript ${rPATH}/ggplot_barplot.r \\\n",
    "    \"regionEnrich.ggplot_basic.txt\" \\\n",
    "    \"regionEnrich.ggplot_barplot.pdf\" \\\n",
    "    \"Region enrichment\" \\\n",
    "    \"\" \\\n",
    "    \"Enrichment score\" \\\n",
    "    \"-6;6.2;2\" \\\n",
    "    \"CGI;promoter;geneBody;exon;intron;LTR;LINE;SINE\" \\\n",
    "    \"UniversalCHMs;ProcessSpecificCHMs;NonCHMsCpGrich\" \\\n",
    "    \"dodge\" \\\n",
    "    \"7\" \\\n",
    "    \"3\" \\\n",
    "    \"1\" \\\n",
    "    \"F\""
   ]
  },
  {
   "cell_type": "markdown",
   "id": "5a0ccfd7",
   "metadata": {},
   "source": [
    "### Divide according to chromatin states"
   ]
  },
  {
   "cell_type": "markdown",
   "id": "a6007598",
   "metadata": {},
   "source": [
    "#### Obtain region enrichment details"
   ]
  },
  {
   "cell_type": "code",
   "execution_count": 35,
   "id": "2813bb13",
   "metadata": {
    "ExecuteTime": {
     "end_time": "2023-01-03T08:08:37.141270Z",
     "start_time": "2023-01-03T08:07:34.780282Z"
    }
   },
   "outputs": [
    {
     "name": "stdout",
     "output_type": "stream",
     "text": [
      "null device \n",
      "          1 \n",
      "null device \n",
      "          1 \n",
      "null device \n",
      "          1 \n",
      "null device \n",
      "          1 \n",
      "null device \n",
      "          1 \n",
      "null device \n",
      "          1 \n",
      "null device \n",
      "          1 \n",
      "null device \n",
      "          1 \n",
      "null device \n",
      "          1 \n",
      "null device \n",
      "          1 \n",
      "null device \n",
      "          1 \n",
      "null device \n",
      "          1 \n"
     ]
    }
   ],
   "source": [
    "%%bash\n",
    "shPATH=/mnt/Storage/home/yanghui/scripts/shell\n",
    "anPATH=/mnt/Storage/home/yanghui/annotations\n",
    "dirPATH=/mnt/Storage/home/yanghui/imprinting/result.2021/Exploring/CHMsInOtherContexts/CellStateTransition/CHMOrganization/Universal_specific/Features/Repeats\n",
    "dataPATH_compartment=/mnt/Storage/home/wangyiman/CHMsInOtherContexts/CellStateTransition/CHMOrganization/Universal_specific/Features/ChromatinStates/Cavalli_Cell2017_ABcompartment\n",
    "cd ${dirPATH}/Universal_ProcessSpecific_NonCHMsCpGrich\n",
    "for group in UniversalCHMs ProcessSpecificCHMs NonCHMsCpGrich\n",
    "do\n",
    "    intersectBed -u -a ${group}.bed -b ${dataPATH_compartment}/AB_compartment_intersectA_Cavalli_Cell2017.bed > ${group}.cmpt_A.bed # \n",
    "    intersectBed -u -a ${group}.bed -b ${dataPATH_compartment}/AB_compartment_intersectB_Cavalli_Cell2017.bed | \\\n",
    "        intersectBed -v -a - -b ${group}.cmpt_A.bed > ${group}.cmpt_B.bed # \n",
    "    \n",
    "    for cmpt in A B\n",
    "    do\n",
    "        bash ${shPATH}/regionEnrichment_userDefined.sh \\\n",
    "            \"${dirPATH}/Universal_ProcessSpecific_NonCHMsCpGrich\" \\\n",
    "            \"mm10_euch\" \\\n",
    "            \"${anPATH}/mm10/mm10_euch.chrom.sizes\" \\\n",
    "            \"${group}.cmpt_${cmpt}.bed\" \\\n",
    "            \"${anPATH}/mm10/RegionEnrichment/mm10_euch.CGI_Unmasked.merged.bed;${anPATH}/mm10/RegionEnrichment/mm10_euch.promoter.merged.bed;${anPATH}/mm10/RegionEnrichment/mm10_euch.geneBody.merged.bed;${anPATH}/mm10/RegionEnrichment/mm10_euch.exon.merged.bed;${anPATH}/mm10/RegionEnrichment/mm10_euch.intron.merged.bed;${anPATH}/mm10/RegionEnrichment/mm10_euch.LTR.merged.bed;${anPATH}/mm10/RegionEnrichment/mm10_euch.LINE.merged.bed;${anPATH}/mm10/RegionEnrichment/mm10_euch.SINE.merged.bed\" \\\n",
    "            \"regionEnrich_${group}_${cmpt}\"\n",
    "    done # for cmpt end\n",
    "done # for group end"
   ]
  },
  {
   "cell_type": "markdown",
   "id": "8a4b6cbb",
   "metadata": {},
   "source": [
    "#### Plot together"
   ]
  },
  {
   "cell_type": "code",
   "execution_count": 36,
   "id": "e9efb280",
   "metadata": {
    "ExecuteTime": {
     "end_time": "2023-01-03T08:19:17.728018Z",
     "start_time": "2023-01-03T08:19:14.329823Z"
    }
   },
   "outputs": [
    {
     "name": "stdout",
     "output_type": "stream",
     "text": [
      "null device \n",
      "          1 \n"
     ]
    }
   ],
   "source": [
    "%%bash\n",
    "dirPATH=/mnt/Storage/home/yanghui/imprinting/result.2021/Exploring/CHMsInOtherContexts/CellStateTransition/CHMOrganization/Universal_specific/Features/Repeats\n",
    "rPATH=/mnt/Storage/home/yanghui/scripts/R\n",
    "cd ${dirPATH}/Universal_ProcessSpecific_NonCHMsCpGrich\n",
    "\n",
    "# Plot together\n",
    "echo -e \"xValue\\tyValue\\tgroup\" > regionEnrich_cmpt.ggplot_basic.txt\n",
    "for group in UniversalCHMs ProcessSpecificCHMs NonCHMsCpGrich\n",
    "do\n",
    "\tfor cmpt in A B\n",
    "\tdo\n",
    "    \ttail -n +2 regionEnrich_${group}_${cmpt}.EnrichScore.txt | \\\n",
    "    \t    awk -v GROUP=\"${group} ov ${cmpt}\" 'BEGIN{FS=OFS=\"\\t\"}{\\\n",
    "    \t    split($1, a, \"_\");\\\n",
    "    \t    print a[1], $2, GROUP;}' >> regionEnrich_cmpt.ggplot_basic.txt\n",
    "    done # for cmpt end\n",
    "done # for group end\n",
    "\n",
    "Rscript ${rPATH}/ggplot_barplot.r \\\n",
    "    \"regionEnrich_cmpt.ggplot_basic.txt\" \\\n",
    "    \"regionEnrich_cmpt.ggplot_barplot.pdf\" \\\n",
    "    \"Region enrichment\" \\\n",
    "    \"\" \\\n",
    "    \"Enrichment score\" \\\n",
    "    \"-6;6.2;2\" \\\n",
    "    \"CGI;promoter;geneBody;exon;intron;LTR;LINE;SINE\" \\\n",
    "    \"UniversalCHMs ov A;UniversalCHMs ov B;ProcessSpecificCHMs ov A;ProcessSpecificCHMs ov B;NonCHMsCpGrich ov A;NonCHMsCpGrich ov B\" \\\n",
    "    \"dodge\" \\\n",
    "    \"7\" \\\n",
    "    \"3\" \\\n",
    "    \"1\" \\\n",
    "    \"F\""
   ]
  },
  {
   "cell_type": "markdown",
   "id": "973d9764",
   "metadata": {},
   "source": [
    "## Repeats subfamily enrichment"
   ]
  },
  {
   "cell_type": "markdown",
   "id": "127537ba",
   "metadata": {},
   "source": [
    "### Don't divide according to chromatin states"
   ]
  },
  {
   "cell_type": "markdown",
   "id": "df686cc9",
   "metadata": {},
   "source": [
    "#### Obtain enrichment score"
   ]
  },
  {
   "cell_type": "code",
   "execution_count": 12,
   "id": "047ac2f6",
   "metadata": {
    "ExecuteTime": {
     "end_time": "2023-01-01T14:42:43.935222Z",
     "start_time": "2023-01-01T14:39:35.424446Z"
    }
   },
   "outputs": [
    {
     "name": "stdout",
     "output_type": "stream",
     "text": [
      "null device \n",
      "          1 \n",
      "null device \n",
      "          1 \n",
      "null device \n",
      "          1 \n",
      "null device \n",
      "          1 \n",
      "null device \n",
      "          1 \n",
      "null device \n",
      "          1 \n",
      "null device \n",
      "          1 \n",
      "null device \n",
      "          1 \n",
      "null device \n",
      "          1 \n",
      "null device \n",
      "          1 \n",
      "null device \n",
      "          1 \n",
      "null device \n",
      "          1 \n",
      "null device \n",
      "          1 \n",
      "null device \n",
      "          1 \n",
      "null device \n",
      "          1 \n",
      "null device \n",
      "          1 \n",
      "null device \n",
      "          1 \n",
      "null device \n",
      "          1 \n",
      "null device \n",
      "          1 \n",
      "null device \n",
      "          1 \n",
      "null device \n",
      "          1 \n",
      "null device \n",
      "          1 \n",
      "null device \n",
      "          1 \n",
      "null device \n",
      "          1 \n",
      "null device \n",
      "          1 \n",
      "null device \n",
      "          1 \n",
      "null device \n",
      "          1 \n",
      "null device \n",
      "          1 \n",
      "null device \n",
      "          1 \n",
      "null device \n",
      "          1 \n",
      "null device \n",
      "          1 \n",
      "null device \n",
      "          1 \n",
      "null device \n",
      "          1 \n",
      "null device \n",
      "          1 \n",
      "null device \n",
      "          1 \n",
      "null device \n",
      "          1 \n",
      "null device \n",
      "          1 \n",
      "null device \n",
      "          1 \n",
      "null device \n",
      "          1 \n",
      "null device \n",
      "          1 \n",
      "null device \n",
      "          1 \n",
      "null device \n",
      "          1 \n",
      "null device \n",
      "          1 \n",
      "null device \n",
      "          1 \n",
      "null device \n",
      "          1 \n",
      "null device \n",
      "          1 \n",
      "null device \n",
      "          1 \n",
      "null device \n",
      "          1 \n",
      "null device \n",
      "          1 \n",
      "null device \n",
      "          1 \n",
      "null device \n",
      "          1 \n",
      "null device \n",
      "          1 \n",
      "null device \n",
      "          1 \n",
      "null device \n",
      "          1 \n",
      "null device \n",
      "          1 \n",
      "null device \n",
      "          1 \n",
      "null device \n",
      "          1 \n",
      "null device \n",
      "          1 \n",
      "null device \n",
      "          1 \n",
      "null device \n",
      "          1 \n",
      "null device \n",
      "          1 \n",
      "null device \n",
      "          1 \n",
      "null device \n",
      "          1 \n",
      "null device \n",
      "          1 \n",
      "null device \n",
      "          1 \n",
      "null device \n",
      "          1 \n",
      "null device \n",
      "          1 \n",
      "null device \n",
      "          1 \n",
      "null device \n",
      "          1 \n",
      "null device \n",
      "          1 \n",
      "null device \n",
      "          1 \n",
      "null device \n",
      "          1 \n",
      "null device \n",
      "          1 \n",
      "null device \n",
      "          1 \n",
      "null device \n",
      "          1 \n",
      "null device \n",
      "          1 \n",
      "null device \n",
      "          1 \n",
      "null device \n",
      "          1 \n",
      "null device \n",
      "          1 \n",
      "null device \n",
      "          1 \n",
      "null device \n",
      "          1 \n",
      "null device \n",
      "          1 \n",
      "null device \n",
      "          1 \n",
      "null device \n",
      "          1 \n",
      "null device \n",
      "          1 \n",
      "null device \n",
      "          1 \n",
      "null device \n",
      "          1 \n",
      "null device \n",
      "          1 \n",
      "null device \n",
      "          1 \n",
      "null device \n",
      "          1 \n",
      "null device \n",
      "          1 \n",
      "null device \n",
      "          1 \n",
      "null device \n",
      "          1 \n",
      "null device \n",
      "          1 \n",
      "null device \n",
      "          1 \n",
      "null device \n",
      "          1 \n",
      "null device \n",
      "          1 \n",
      "null device \n",
      "          1 \n",
      "null device \n",
      "          1 \n",
      "null device \n",
      "          1 \n",
      "null device \n",
      "          1 \n",
      "null device \n",
      "          1 \n",
      "null device \n",
      "          1 \n",
      "null device \n",
      "          1 \n",
      "null device \n",
      "          1 \n",
      "null device \n",
      "          1 \n",
      "null device \n",
      "          1 \n",
      "null device \n",
      "          1 \n",
      "null device \n",
      "          1 \n",
      "null device \n",
      "          1 \n",
      "null device \n",
      "          1 \n",
      "null device \n",
      "          1 \n",
      "null device \n",
      "          1 \n",
      "null device \n",
      "          1 \n",
      "null device \n",
      "          1 \n",
      "null device \n",
      "          1 \n",
      "null device \n",
      "          1 \n",
      "null device \n",
      "          1 \n",
      "null device \n",
      "          1 \n",
      "null device \n",
      "          1 \n",
      "null device \n",
      "          1 \n",
      "null device \n",
      "          1 \n",
      "null device \n",
      "          1 \n",
      "null device \n",
      "          1 \n",
      "null device \n",
      "          1 \n",
      "null device \n",
      "          1 \n",
      "null device \n",
      "          1 \n",
      "null device \n",
      "          1 \n",
      "null device \n",
      "          1 \n",
      "null device \n",
      "          1 \n",
      "null device \n",
      "          1 \n",
      "null device \n",
      "          1 \n",
      "null device \n",
      "          1 \n",
      "null device \n",
      "          1 \n",
      "null device \n",
      "          1 \n",
      "null device \n",
      "          1 \n",
      "null device \n",
      "          1 \n",
      "null device \n",
      "          1 \n"
     ]
    },
    {
     "name": "stderr",
     "output_type": "stream",
     "text": [
      "Runtime error (func=(main), adr=3): Divide by zero\n",
      "Runtime error (func=(main), adr=3): Divide by zero\n",
      "Runtime error (func=(main), adr=3): Divide by zero\n"
     ]
    }
   ],
   "source": [
    "%%bash\n",
    "dirPATH=/mnt/Storage/home/yanghui/imprinting/result.2021/Exploring/CHMsInOtherContexts/CellStateTransition/CHMOrganization/Universal_specific/Features/Repeats\n",
    "shPATH=/mnt/Storage/home/yanghui/scripts/shell\n",
    "cd ${dirPATH}/Universal_ProcessSpecific_NonCHMsCpGrich\n",
    "# mkdir -p LTR_Subfamily LINE_Subfamily SINE_Subfamily\n",
    "\n",
    "for group in UniversalCHMs ProcessSpecificCHMs NonCHMsCpGrich\n",
    "do\n",
    "    for repeatType in LTR LINE SINE\n",
    "    do\n",
    "        bash ${shPATH}/regionEnrichment_${repeatType}_mm10_euch.sh \\\n",
    "            \"${dirPATH}/Universal_ProcessSpecific_NonCHMsCpGrich/${repeatType}_Subfamily\" \\\n",
    "            \"${dirPATH}/Universal_ProcessSpecific_NonCHMsCpGrich/${group}.bed\" \\\n",
    "            \"${group}\"\n",
    "    done # for repeatType end\n",
    "done # for group end"
   ]
  },
  {
   "cell_type": "markdown",
   "id": "6a164431",
   "metadata": {},
   "source": [
    "#### Prepare for sina plot"
   ]
  },
  {
   "cell_type": "code",
   "execution_count": 45,
   "id": "b95e13a6",
   "metadata": {
    "ExecuteTime": {
     "end_time": "2023-01-03T08:38:23.462426Z",
     "start_time": "2023-01-03T08:38:23.120030Z"
    }
   },
   "outputs": [],
   "source": [
    "%%bash\n",
    "dirPATH=/mnt/Storage/home/yanghui/imprinting/result.2021/Exploring/CHMsInOtherContexts/CellStateTransition/CHMOrganization/Universal_specific/Features/Repeats\n",
    "\n",
    "for repeatType in LTR LINE SINE\n",
    "do\n",
    "    cd ${dirPATH}/Universal_ProcessSpecific_NonCHMsCpGrich/${repeatType}_Subfamily\n",
    "    echo -e \"xValue\\tyValue\\tgroup\\tcol\\tlabel\" > enrichmentScore.ggplot_sina.txt\n",
    "    for group in UniversalCHMs ProcessSpecificCHMs NonCHMsCpGrich\n",
    "    do\n",
    "        for fmlEnrich in $(ls ${group}.EnrichScore_${repeatType}_*.txt)\n",
    "        do\n",
    "            fmlName=$(echo ${fmlEnrich#*EnrichScore_${repeatType}_*})\n",
    "            fmlName=$(echo ${fmlName%.txt})\n",
    "            tail -n +2 ${fmlEnrich} | grep -v \"inf\" | \\\n",
    "                awk -v XVALUE=${group} -v GROUP=${repeatType} -v COL=${fmlName} 'BEGIN{FS=OFS=\"\\t\"}{\\\n",
    "                print XVALUE, $2, GROUP, COL, $1;}' >> enrichmentScore.ggplot_sina.txt\n",
    "        done # for fmlEnrich end\n",
    "    done # for group end\n",
    "done # for repeatType end"
   ]
  },
  {
   "cell_type": "markdown",
   "id": "3e7a7cc9",
   "metadata": {},
   "source": [
    "#### Sina plot"
   ]
  },
  {
   "cell_type": "code",
   "execution_count": 47,
   "id": "afdcf20d",
   "metadata": {
    "ExecuteTime": {
     "end_time": "2023-01-03T08:39:15.587723Z",
     "start_time": "2023-01-03T08:39:09.594336Z"
    }
   },
   "outputs": [
    {
     "name": "stdout",
     "output_type": "stream",
     "text": [
      "[1] \"#CE0013\" \"#C7A609\" \"#64C0AB\" \"#A14C94\" \"#1187CD\"\n",
      "[1] \"ERV1\"      \"ERVK\"      \"ERVL\"      \"ERVL-MaLR\" \"Gypsy\"    \n",
      "\n",
      "  1   2   3   4   5 \n",
      "157 484 116 176  11 \n",
      "null device \n",
      "          1 \n",
      "[1] \"#CE0013\" \"#16557A\" \"#C7A609\" \"#87C232\" \"#64C0AB\" \"#A14C94\" \"#8B7E75\"\n",
      "[8] \"#1187CD\" \"#000000\"\n",
      "[1] \"CR1\"      \"Dong-R4\"  \"Jockey\"   \"L1\"       \"L1-Tx1\"   \"L2\"       \"Penelope\"\n",
      "[8] \"RTE-BovB\" \"RTE-X\"   \n",
      "\n",
      "  1   3   4   6   7   8   9 \n",
      " 17   1 298  23   3   3   4 \n",
      "null device \n",
      "          1 \n",
      "[1] \"#CE0013\" \"#16557A\" \"#C7A609\" \"#87C232\" \"#64C0AB\" \"#A14C94\" \"#8B7E75\"\n",
      "[8] \"#1187CD\" \"#000000\"\n",
      "[1] \"5S-Deu-L2\" \"Alu\"       \"B2\"        \"B4\"        \"ID\"        \"MIR\"      \n",
      "[7] \"tRNA\"      \"tRNA-Deu\"  \"tRNA-RTE\" \n",
      "\n",
      " 1  2  3  4  5  6  7  8  9 \n",
      " 1 46 15 12 10 15  2  1  3 \n",
      "null device \n",
      "          1 \n"
     ]
    }
   ],
   "source": [
    "%%bash\n",
    "dirPATH=/mnt/Storage/home/yanghui/imprinting/result.2021/Exploring/CHMsInOtherContexts/CellStateTransition/CHMOrganization/Universal_specific/Features/Repeats\n",
    "rPATH=/mnt/Storage/home/yanghui/scripts/R\n",
    "\n",
    "LTR_sina(){\n",
    "    cd ${dirPATH}/Universal_ProcessSpecific_NonCHMsCpGrich/LTR_Subfamily\n",
    "    Rscript ${rPATH}/ggplot_sina_colorfull.r \\\n",
    "        enrichmentScore.ggplot_sina.txt \\\n",
    "        enrichmentScore_filtered.ggplot_sina.pdf \\\n",
    "        \"Enrichment score\" \\\n",
    "        \"-12;8;4\" \\\n",
    "        \"UniversalCHMs;ProcessSpecificCHMs;NonCHMsCpGrich\" \\\n",
    "        \"LTR\" \\\n",
    "        \"ERV1;ERVK;ERVL;ERVL-MaLR;Gypsy\" \\\n",
    "        \"#CE0013;#C7A609;#64C0AB;#A14C94;#1187CD\" \\\n",
    "        \"0.2\" \\\n",
    "        \"0.75\" \\\n",
    "        \"1\" \\\n",
    "        \"5\" \\\n",
    "        \"5\"\n",
    "}\n",
    "LTR_sina\n",
    "\n",
    "LINE_sina(){\n",
    "    cd ${dirPATH}/Universal_ProcessSpecific_NonCHMsCpGrich/LINE_Subfamily\n",
    "    Rscript ${rPATH}/ggplot_sina_colorfull.r \\\n",
    "        enrichmentScore.ggplot_sina.txt \\\n",
    "        enrichmentScore_filtered.ggplot_sina.pdf \\\n",
    "        \"Enrichment score\" \\\n",
    "        \"-12;8;4\" \\\n",
    "        \"UniversalCHMs;ProcessSpecificCHMs;NonCHMsCpGrich\" \\\n",
    "        \"LINE\" \\\n",
    "        \"CR1;Dong-R4;Jockey;L1;L1-Tx1;L2;Penelope;RTE-BovB;RTE-X\" \\\n",
    "        \"#CE0013;#16557A;#C7A609;#87C232;#64C0AB;#A14C94;#8B7E75;#1187CD;#000000\" \\\n",
    "        \"0.2\" \\\n",
    "        \"0.75\" \\\n",
    "        \"1\" \\\n",
    "        \"5\" \\\n",
    "        \"5\"\n",
    "}\n",
    "LINE_sina\n",
    "\n",
    "SINE_sina(){\n",
    "    cd ${dirPATH}/Universal_ProcessSpecific_NonCHMsCpGrich/SINE_Subfamily\n",
    "    Rscript ${rPATH}/ggplot_sina_colorfull.r \\\n",
    "        enrichmentScore.ggplot_sina.txt \\\n",
    "        enrichmentScore_filtered.ggplot_sina.pdf \\\n",
    "        \"Enrichment score\" \\\n",
    "        \"-12;8;4\" \\\n",
    "        \"UniversalCHMs;ProcessSpecificCHMs;NonCHMsCpGrich\" \\\n",
    "        \"SINE\" \\\n",
    "        \"5S-Deu-L2;Alu;B2;B4;ID;MIR;tRNA;tRNA-Deu;tRNA-RTE\" \\\n",
    "        \"#CE0013;#16557A;#C7A609;#87C232;#64C0AB;#A14C94;#8B7E75;#1187CD;#000000\" \\\n",
    "        \"0.2\" \\\n",
    "        \"0.75\" \\\n",
    "        \"1\" \\\n",
    "        \"5\" \\\n",
    "        \"5\"\n",
    "}\n",
    "SINE_sina\n",
    "\n",
    "# R: Cant "
   ]
  },
  {
   "cell_type": "markdown",
   "id": "39c5dae7",
   "metadata": {},
   "source": [
    "#### Scatter plot"
   ]
  },
  {
   "cell_type": "code",
   "execution_count": 68,
   "id": "ba07ace0",
   "metadata": {
    "ExecuteTime": {
     "end_time": "2023-01-05T08:37:14.615902Z",
     "start_time": "2023-01-05T08:37:10.159205Z"
    }
   },
   "outputs": [
    {
     "name": "stdout",
     "output_type": "stream",
     "text": [
      "null device \n",
      "          1 \n",
      "null device \n",
      "          1 \n",
      "null device \n",
      "          1 \n"
     ]
    }
   ],
   "source": [
    "%%bash\n",
    "dirPATH=/mnt/Storage/home/yanghui/imprinting/result.2021/Exploring/CHMsInOtherContexts/CellStateTransition/CHMOrganization/Universal_specific/Features/Repeats\n",
    "rPATH=/mnt/Storage/home/yanghui/scripts/R\n",
    "\n",
    "LTR_F(){\n",
    "    cd ${dirPATH}/Universal_ProcessSpecific_NonCHMsCpGrich/LTR_Subfamily\n",
    "    echo -e \"xValue\\tyValue\\tgroup\\tshape\\tsubfamily\" > enrichDetails.ggplot_scatter.txt # group: ERV1...; shape: UniversalCHMs\n",
    "    for group in UniversalCHMs ProcessSpecificCHMs NonCHMsCpGrich\n",
    "    do\n",
    "        for fml in ERV1 ERVK ERVL ERVL-MaLR Gypsy\n",
    "        do\n",
    "            paste ${group}.overlaped_LTR_${fml}.txt ${group}.EnrichScore_LTR_${fml}.txt | \\\n",
    "                tail -n +2 | awk -v GROUP=${fml} -v SHAPE=${group} 'BEGIN{FS=OFS=\"\\t\"}{if($1==$4 && $5!=\"-inf\"){print $3*100, $5, GROUP, SHAPE, $1;}}' >> enrichDetails.ggplot_scatter.txt\n",
    "        done # for fml end\n",
    "    done # for group end\n",
    "    \n",
    "    \n",
    "    \n",
    "    Rscript ${rPATH}/ggplot_scatterplot_basic.r \\\n",
    "        enrichDetails.ggplot_scatter.txt \\\n",
    "        enrichDetails \\\n",
    "        \"Overlapped ratio (%)\" \\\n",
    "        \"Enrichment score\" \\\n",
    "        \"0;80;20\" \\\n",
    "        \"-12;8;4\" \\\n",
    "        \"ERV1;ERVK;ERVL;ERVL-MaLR;Gypsy\" \\\n",
    "        \"T;1;0\" \\\n",
    "        \"0.75\" \\\n",
    "        \"5\" \\\n",
    "        \"5\" \\\n",
    "        \"Set1\"\n",
    "}\n",
    "LTR_F\n",
    "\n",
    "LINE_F(){\n",
    "    cd ${dirPATH}/Universal_ProcessSpecific_NonCHMsCpGrich/LINE_Subfamily\n",
    "    echo -e \"xValue\\tyValue\\tgroup\\tshape\\tsubfamily\" > enrichDetails.ggplot_scatter.txt # group: ERV1...; shape: UniversalCHMs\n",
    "    for group in UniversalCHMs ProcessSpecificCHMs NonCHMsCpGrich\n",
    "    do\n",
    "        for fml in CR1 Dong-R4 Jockey L1 L1-Tx1 L2 Penelope RTE-BovB RTE-X\n",
    "        do\n",
    "            paste ${group}.overlaped_LINE_${fml}.txt ${group}.EnrichScore_LINE_${fml}.txt | \\\n",
    "                tail -n +2 | awk -v GROUP=${fml} -v SHAPE=${group} 'BEGIN{FS=OFS=\"\\t\"}{if($1==$4 && $5!=\"-inf\"){print $3*100, $5, GROUP, SHAPE, $1;}}' >> enrichDetails.ggplot_scatter.txt\n",
    "        done # for fml end\n",
    "    done # for group end\n",
    "    \n",
    "    \n",
    "    \n",
    "    Rscript ${rPATH}/ggplot_scatterplot_basic.r \\\n",
    "        enrichDetails.ggplot_scatter.txt \\\n",
    "        enrichDetails \\\n",
    "        \"Overlapped ratio (%)\" \\\n",
    "        \"Enrichment score\" \\\n",
    "        \"0;100;20\" \\\n",
    "        \"-12;8;4\" \\\n",
    "        \"CR1;Dong-R4;Jockey;L1;L1-Tx1;L2;Penelope;RTE-BovB;RTE-X\" \\\n",
    "        \"T;1;0\" \\\n",
    "        \"0.75\" \\\n",
    "        \"5\" \\\n",
    "        \"5\" \\\n",
    "        \"Set1\"\n",
    "}\n",
    "LINE_F\n",
    "\n",
    "SINE_F(){\n",
    "    cd ${dirPATH}/Universal_ProcessSpecific_NonCHMsCpGrich/SINE_Subfamily\n",
    "    echo -e \"xValue\\tyValue\\tgroup\\tshape\\tsubfamily\" > enrichDetails.ggplot_scatter.txt # group: ERV1...; shape: UniversalCHMs\n",
    "    for group in UniversalCHMs ProcessSpecificCHMs NonCHMsCpGrich\n",
    "    do\n",
    "        for fml in 5S-Deu-L2 Alu B2 B4 ID MIR tRNA tRNA-Deu tRNA-RTE\n",
    "        do\n",
    "            paste ${group}.overlaped_SINE_${fml}.txt ${group}.EnrichScore_SINE_${fml}.txt | \\\n",
    "                tail -n +2 | awk -v GROUP=${fml} -v SHAPE=${group} 'BEGIN{FS=OFS=\"\\t\"}{if($1==$4 && $5!=\"-inf\"){print $3*100, $5, GROUP, SHAPE, $1;}}' >> enrichDetails.ggplot_scatter.txt\n",
    "        done # for fml end\n",
    "    done # for group end\n",
    "    \n",
    "    \n",
    "    \n",
    "    Rscript ${rPATH}/ggplot_scatterplot_basic.r \\\n",
    "        enrichDetails.ggplot_scatter.txt \\\n",
    "        enrichDetails \\\n",
    "        \"Overlapped ratio (%)\" \\\n",
    "        \"Enrichment score\" \\\n",
    "        \"0;100;20\" \\\n",
    "        \"-12;8;4\" \\\n",
    "        \"5S-Deu-L2;Alu;B2;B4;ID;MIR;tRNA;tRNA-Deu;tRNA-RTE\" \\\n",
    "        \"T;1;0\" \\\n",
    "        \"0.75\" \\\n",
    "        \"5\" \\\n",
    "        \"5\" \\\n",
    "        \"Set1\"\n",
    "}\n",
    "SINE_F"
   ]
  },
  {
   "cell_type": "markdown",
   "id": "777d4053",
   "metadata": {},
   "source": [
    "#### Pie plot showing enriched subfamily"
   ]
  },
  {
   "cell_type": "markdown",
   "id": "5a9bf622",
   "metadata": {
    "heading_collapsed": true
   },
   "source": [
    "##### Prepare for pie plot"
   ]
  },
  {
   "cell_type": "code",
   "execution_count": 19,
   "id": "03df4e02",
   "metadata": {
    "ExecuteTime": {
     "end_time": "2023-01-02T04:17:26.350093Z",
     "start_time": "2023-01-02T04:17:26.067747Z"
    },
    "hidden": true
   },
   "outputs": [],
   "source": [
    "%%bash\n",
    "dirPATH=/mnt/Storage/home/yanghui/imprinting/result.2021/Exploring/CHMsInOtherContexts/CellStateTransition/CHMOrganization/Universal_specific/Features/Repeats\n",
    "\n",
    "for repeatType in LTR LINE SINE\n",
    "do\n",
    "    cd ${dirPATH}/Universal_ProcessSpecific_NonCHMsCpGrich/${repeatType}_Subfamily\n",
    "    for group in UniversalCHMs ProcessSpecificCHMs NonCHMsCpGrich\n",
    "    do\n",
    "        echo -e \"value\\tgroup\" > ${group}.enriched.ggplot_pieplot.txt\n",
    "        for fmlEnrich in $(ls ${group}.EnrichScore_${repeatType}_*.txt)\n",
    "        do\n",
    "            fmlName=$(echo ${fmlEnrich#*EnrichScore_${repeatType}_*})\n",
    "            fmlName=$(echo ${fmlName%.txt})\n",
    "            tail -n +2 ${fmlEnrich} | \\\n",
    "                awk -v GROUP=${fmlName} 'BEGIN{FS=OFS=\"\\t\";TOTAL=0;}{\\\n",
    "                if($2>=1){TOTAL+=1;}}END{print TOTAL, GROUP;}' >> ${group}.enriched.ggplot_pieplot.txt\n",
    "        done # for fmlEnrich end\n",
    "    done # for group end\n",
    "done # for repeatType end"
   ]
  },
  {
   "cell_type": "markdown",
   "id": "6284f988",
   "metadata": {
    "heading_collapsed": true
   },
   "source": [
    "##### Pie plot"
   ]
  },
  {
   "cell_type": "code",
   "execution_count": 20,
   "id": "74a31d0f",
   "metadata": {
    "ExecuteTime": {
     "end_time": "2023-01-02T04:23:28.587092Z",
     "start_time": "2023-01-02T04:23:16.429495Z"
    },
    "hidden": true
   },
   "outputs": [
    {
     "name": "stdout",
     "output_type": "stream",
     "text": [
      "null device \n",
      "          1 \n",
      "null device \n",
      "          1 \n",
      "null device \n",
      "          1 \n",
      "null device \n",
      "          1 \n",
      "null device \n",
      "          1 \n",
      "null device \n",
      "          1 \n",
      "null device \n",
      "          1 \n",
      "null device \n",
      "          1 \n",
      "null device \n",
      "          1 \n"
     ]
    },
    {
     "name": "stderr",
     "output_type": "stream",
     "text": [
      "Warning messages:\n",
      "1: Removed 9 rows containing missing values (position_stack). \n",
      "2: Removed 9 rows containing missing values (geom_text). \n",
      "Warning messages:\n",
      "1: Removed 9 rows containing missing values (position_stack). \n",
      "2: Removed 9 rows containing missing values (geom_text). \n"
     ]
    }
   ],
   "source": [
    "%%bash\n",
    "dirPATH=/mnt/Storage/home/yanghui/imprinting/result.2021/Exploring/CHMsInOtherContexts/CellStateTransition/CHMOrganization/Universal_specific/Features/Repeats\n",
    "rPATH=/mnt/Storage/home/yanghui/scripts/R\n",
    "\n",
    "LTR_pie(){\n",
    "    cd ${dirPATH}/Universal_ProcessSpecific_NonCHMsCpGrich/LTR_Subfamily\n",
    "    for group in UniversalCHMs ProcessSpecificCHMs NonCHMsCpGrich\n",
    "    do\n",
    "        Rscript ${rPATH}/ggplot_pie.r \\\n",
    "        ${group}.enriched.ggplot_pieplot.txt \\\n",
    "        ${group} \\\n",
    "        \"ERV1;ERVK;ERVL;ERVL-MaLR;Gypsy\" \\\n",
    "        \"#CE0013;#C7A609;#64C0AB;#A14C94;#1187CD\" \\\n",
    "        T \\\n",
    "        3.5 \\\n",
    "        3.5\n",
    "    done # for group end\n",
    "}\n",
    "LTR_pie\n",
    "\n",
    "LINE_pie(){\n",
    "    cd ${dirPATH}/Universal_ProcessSpecific_NonCHMsCpGrich/LINE_Subfamily\n",
    "    for group in UniversalCHMs ProcessSpecificCHMs NonCHMsCpGrich\n",
    "    do\n",
    "        Rscript ${rPATH}/ggplot_pie.r \\\n",
    "        ${group}.enriched.ggplot_pieplot.txt \\\n",
    "        ${group} \\\n",
    "        \"CR1;Dong-R4;Jockey;L1;L1-Tx1;L2;Penelope;RTE-BovB;RTE-X\" \\\n",
    "        \"#CE0013;#16557A;#C7A609;#87C232;#64C0AB;#A14C94;#8B7E75;#1187CD;#000000\" \\\n",
    "        T \\\n",
    "        3.5 \\\n",
    "        3.5\n",
    "    done # for group end\n",
    "}\n",
    "LINE_pie\n",
    "\n",
    "SINE_pie(){\n",
    "    cd ${dirPATH}/Universal_ProcessSpecific_NonCHMsCpGrich/SINE_Subfamily\n",
    "    for group in UniversalCHMs ProcessSpecificCHMs NonCHMsCpGrich\n",
    "    do\n",
    "        Rscript ${rPATH}/ggplot_pie.r \\\n",
    "        ${group}.enriched.ggplot_pieplot.txt \\\n",
    "        ${group} \\\n",
    "        \"5S-Deu-L2;Alu;B2;B4;ID;MIR;tRNA;tRNA-Deu;tRNA-RTE\" \\\n",
    "        \"#CE0013;#16557A;#C7A609;#87C232;#64C0AB;#A14C94;#8B7E75;#1187CD;#000000\" \\\n",
    "        T \\\n",
    "        3.5 \\\n",
    "        3.5\n",
    "    done # for group end\n",
    "}\n",
    "SINE_pie"
   ]
  },
  {
   "cell_type": "markdown",
   "id": "d9bb782e",
   "metadata": {},
   "source": [
    "#### Overlap between enriched subfamily"
   ]
  },
  {
   "cell_type": "code",
   "execution_count": 21,
   "id": "20ea45d9",
   "metadata": {
    "ExecuteTime": {
     "end_time": "2023-01-02T07:16:27.823526Z",
     "start_time": "2023-01-02T07:16:27.694911Z"
    }
   },
   "outputs": [],
   "source": [
    "%%bash\n",
    "dirPATH=/mnt/Storage/home/yanghui/imprinting/result.2021/Exploring/CHMsInOtherContexts/CellStateTransition/CHMOrganization/Universal_specific/Features/Repeats\n",
    "\n",
    "for repeatType in LTR LINE SINE\n",
    "do\n",
    "    cd ${dirPATH}/Universal_ProcessSpecific_NonCHMsCpGrich/${repeatType}_Subfamily\n",
    "    for group in UniversalCHMs ProcessSpecificCHMs NonCHMsCpGrich\n",
    "    do\n",
    "        cat ${group}.EnrichScore_${repeatType}_*.txt | grep -v \"EnrichScore\" | \\\n",
    "            awk 'BEGIN{FS=OFS=\"\\t\";}{if($2!=\"-inf\" && $2>=1){print $1;}}' | sort -u > ${group}.subfml_enriched.txt # \n",
    "        cat ${group}.EnrichScore_${repeatType}_*.txt | grep -v \"EnrichScore\" | \\\n",
    "            awk 'BEGIN{FS=OFS=\"\\t\";}{if($2==\"-inf\" || $2<1){print $1;}}' | sort -u | grep -wvf ${group}.subfml_enriched.txt - > ${group}.subfml_nonenriched.txt # \n",
    "    done # for group end\n",
    "done # for repeatType end"
   ]
  },
  {
   "cell_type": "markdown",
   "id": "3866bc48",
   "metadata": {},
   "source": [
    "#### Conservation score"
   ]
  },
  {
   "cell_type": "markdown",
   "id": "60090661",
   "metadata": {},
   "source": [
    "##### Multiple groups according to overlap"
   ]
  },
  {
   "cell_type": "markdown",
   "id": "21ef21fa",
   "metadata": {},
   "source": [
    "###### Group according to overlap"
   ]
  },
  {
   "cell_type": "code",
   "execution_count": 22,
   "id": "9140680d",
   "metadata": {
    "ExecuteTime": {
     "end_time": "2023-01-02T08:26:47.267847Z",
     "start_time": "2023-01-02T08:26:47.077016Z"
    }
   },
   "outputs": [],
   "source": [
    "%%bash\n",
    "dirPATH=/mnt/Storage/home/yanghui/imprinting/result.2021/Exploring/CHMsInOtherContexts/CellStateTransition/CHMOrganization/Universal_specific/Features/Repeats\n",
    "for repeatType in LTR LINE SINE\n",
    "do\n",
    "    cd ${dirPATH}/Universal_ProcessSpecific_NonCHMsCpGrich/${repeatType}_Subfamily\n",
    "    grep -wf UniversalCHMs.subfml_enriched.txt ProcessSpecificCHMs.subfml_enriched.txt > BothCHMs.subfml_enriched.txt #\n",
    "    grep -vwf UniversalCHMs.subfml_enriched.txt ProcessSpecificCHMs.subfml_enriched.txt > ProcessSpecificCHMsOnly.subfml_enriched.txt # \n",
    "    grep -vwf ProcessSpecificCHMs.subfml_enriched.txt UniversalCHMs.subfml_enriched.txt > UniversalCHMsOnly.subfml_enriched.txt # \n",
    "    cat UniversalCHMs.EnrichScore_${repeatType}_*.txt | grep -v \"EnrichScore\" | \\\n",
    "        cut -f 1 | sort -u > all.subfml.txt\n",
    "    cat *.subfml_enriched.txt | sort -u | grep -vwf - all.subfml.txt > subfml_nonenriched.txt # \n",
    "done # for repeatType end"
   ]
  },
  {
   "cell_type": "markdown",
   "id": "034d0cba",
   "metadata": {
    "heading_collapsed": true
   },
   "source": [
    "###### Obtain corresponding annotation"
   ]
  },
  {
   "cell_type": "code",
   "execution_count": 24,
   "id": "d952b1db",
   "metadata": {
    "ExecuteTime": {
     "end_time": "2023-01-02T08:41:00.704515Z",
     "start_time": "2023-01-02T08:40:48.646098Z"
    },
    "hidden": true
   },
   "outputs": [],
   "source": [
    "%%bash\n",
    "anPATH=/mnt/Storage/home/yanghui/annotations\n",
    "dirPATH=/mnt/Storage/home/yanghui/imprinting/result.2021/Exploring/CHMsInOtherContexts/CellStateTransition/CHMOrganization/Universal_specific/Features/Repeats\n",
    "\n",
    "for repeatType in LTR LINE SINE\n",
    "do\n",
    "    cd ${dirPATH}/Universal_ProcessSpecific_NonCHMsCpGrich/${repeatType}_Subfamily\n",
    "    for group in BothCHMs.subfml_enriched ProcessSpecificCHMsOnly.subfml_enriched UniversalCHMsOnly.subfml_enriched NonCHMsCpGrich.subfml_enriched subfml_nonenriched\n",
    "    do\n",
    "        if [ -s ${group}.txt ]\n",
    "        then\n",
    "            for subfml in $(cut -f 1 ${group}.txt)\n",
    "            do\n",
    "                cat ${anPATH}/mm10/Repeats/${repeatType}/*/mm10.${subfml}.bed | \\\n",
    "                    intersectBed -a - -b ${anPATH}/mm10/mm10_euch.chrom.limits | \\\n",
    "                    cut -f 1-3 >> ${group}.bed\n",
    "            done # for subfml end\n",
    "        fi\n",
    "    done # for group end\n",
    "done # for repeatType end"
   ]
  },
  {
   "cell_type": "markdown",
   "id": "00f9e5be",
   "metadata": {
    "heading_collapsed": true
   },
   "source": [
    "###### Obtain average conservation score"
   ]
  },
  {
   "cell_type": "code",
   "execution_count": 28,
   "id": "e973d213",
   "metadata": {
    "ExecuteTime": {
     "end_time": "2023-01-02T09:09:06.229304Z",
     "start_time": "2023-01-02T09:07:46.696296Z"
    },
    "hidden": true
   },
   "outputs": [
    {
     "name": "stdout",
     "output_type": "stream",
     "text": [
      "null device \n",
      "          1 \n",
      "null device \n",
      "          1 \n",
      "[1] \"wilcox.test of significance between different xValues\"\n",
      "# A tibble: 10 × 8\n",
      "   .y.    group1                group2        p   p.adj p.format p.signif method\n",
      "   <chr>  <chr>                 <chr>     <dbl>   <dbl> <chr>    <chr>    <chr> \n",
      " 1 yValue BothCHMs.subfml_enri… Proce… 1.28e-61 1  e-60 < 2e-16  ****     Wilco…\n",
      " 2 yValue BothCHMs.subfml_enri… Unive… 3.29e-12 2  e-11 3.3e-12  ****     Wilco…\n",
      " 3 yValue BothCHMs.subfml_enri… NonCH… 1.60e- 6 8  e- 6 1.6e-06  ****     Wilco…\n",
      " 4 yValue BothCHMs.subfml_enri… subfm… 0        0       < 2e-16  ****     Wilco…\n",
      " 5 yValue ProcessSpecificCHMsO… Unive… 9.81e- 1 9.8e- 1 0.981    ns       Wilco…\n",
      " 6 yValue ProcessSpecificCHMsO… NonCH… 2.30e- 2 9.2e- 2 0.023    *        Wilco…\n",
      " 7 yValue ProcessSpecificCHMsO… subfm… 0        0       < 2e-16  ****     Wilco…\n",
      " 8 yValue UniversalCHMsOnly.su… NonCH… 3.19e- 2 9.6e- 2 0.032    *        Wilco…\n",
      " 9 yValue UniversalCHMsOnly.su… subfm… 4.86e-23 3.4e-22 < 2e-16  ****     Wilco…\n",
      "10 yValue NonCHMsCpGrich.subfm… subfm… 2.51e- 1 5  e- 1 0.251    ns       Wilco…\n",
      "[1] \"t.test of significance between different xValues\"\n",
      "# A tibble: 10 × 8\n",
      "   .y.    group1              group2         p    p.adj p.format p.signif method\n",
      "   <chr>  <chr>               <chr>      <dbl>    <dbl> <chr>    <chr>    <chr> \n",
      " 1 yValue BothCHMs.subfml_en… Proce… 1.93e- 22 1.5e- 21 < 2e-16  ****     T-test\n",
      " 2 yValue BothCHMs.subfml_en… Unive… 9.39e-  4 2.6e-  3 0.00094  ***      T-test\n",
      " 3 yValue BothCHMs.subfml_en… NonCH… 8.08e-  9 4.8e-  8 8.1e-09  ****     T-test\n",
      " 4 yValue BothCHMs.subfml_en… subfm… 4.22e-157 3.8e-156 < 2e-16  ****     T-test\n",
      " 5 yValue ProcessSpecificCHM… Unive… 3.16e-  1 3.2e-  1 0.31584  ns       T-test\n",
      " 6 yValue ProcessSpecificCHM… NonCH… 1.49e-  6 6  e-  6 1.5e-06  ****     T-test\n",
      " 7 yValue ProcessSpecificCHM… subfm… 9.97e-204 1  e-202 < 2e-16  ****     T-test\n",
      " 8 yValue UniversalCHMsOnly.… NonCH… 8.39e-  7 4.2e-  6 8.4e-07  ****     T-test\n",
      " 9 yValue UniversalCHMsOnly.… subfm… 5.32e- 15 3.7e- 14 5.3e-15  ****     T-test\n",
      "10 yValue NonCHMsCpGrich.sub… subfm… 8.82e-  4 2.6e-  3 0.00088  ***      T-test\n",
      "null device \n",
      "          1 \n",
      "null device \n",
      "          1 \n",
      "[1] \"wilcox.test of significance between different xValues\"\n",
      "# A tibble: 6 × 8\n",
      "  .y.    group1                 group2        p   p.adj p.format p.signif method\n",
      "  <chr>  <chr>                  <chr>     <dbl>   <dbl> <chr>    <chr>    <chr> \n",
      "1 yValue ProcessSpecificCHMsOn… Unive… 2.08e-21 4.2e-21 < 2e-16  ****     Wilco…\n",
      "2 yValue ProcessSpecificCHMsOn… NonCH… 2.69e-64 1.3e-63 < 2e-16  ****     Wilco…\n",
      "3 yValue ProcessSpecificCHMsOn… subfm… 0        0       < 2e-16  ****     Wilco…\n",
      "4 yValue UniversalCHMsOnly.sub… NonCH… 1.35e-38 5.4e-38 < 2e-16  ****     Wilco…\n",
      "5 yValue UniversalCHMsOnly.sub… subfm… 6.68e- 6 6.7e- 6 6.7e-06  ****     Wilco…\n",
      "6 yValue NonCHMsCpGrich.subfml… subfm… 2.40e-36 7.2e-36 < 2e-16  ****     Wilco…\n",
      "[1] \"t.test of significance between different xValues\"\n",
      "# A tibble: 6 × 8\n",
      "  .y.    group1                 group2        p   p.adj p.format p.signif method\n",
      "  <chr>  <chr>                  <chr>     <dbl>   <dbl> <chr>    <chr>    <chr> \n",
      "1 yValue ProcessSpecificCHMsOn… Unive… 1.38e-14 2.8e-14 1.4e-14  ****     T-test\n",
      "2 yValue ProcessSpecificCHMsOn… NonCH… 3.49e-38 1.7e-37 < 2e-16  ****     T-test\n",
      "3 yValue ProcessSpecificCHMsOn… subfm… 0        0       < 2e-16  ****     T-test\n",
      "4 yValue UniversalCHMsOnly.sub… NonCH… 1.31e-30 5.3e-30 < 2e-16  ****     T-test\n",
      "5 yValue UniversalCHMsOnly.sub… subfm… 1.44e- 4 1.4e- 4 0.00014  ***      T-test\n",
      "6 yValue NonCHMsCpGrich.subfml… subfm… 3.51e-28 1.1e-27 < 2e-16  ****     T-test\n",
      "null device \n",
      "          1 \n",
      "null device \n",
      "          1 \n",
      "[1] \"wilcox.test of significance between different xValues\"\n",
      "# A tibble: 1 × 8\n",
      "  .y.    group1                 group2        p   p.adj p.format p.signif method\n",
      "  <chr>  <chr>                  <chr>     <dbl>   <dbl> <chr>    <chr>    <chr> \n",
      "1 yValue NonCHMsCpGrich.subfml… subfm… 1.05e-18 1.1e-18 <2e-16   ****     Wilco…\n",
      "[1] \"t.test of significance between different xValues\"\n",
      "# A tibble: 1 × 8\n",
      "  .y.    group1                 group2        p   p.adj p.format p.signif method\n",
      "  <chr>  <chr>                  <chr>     <dbl>   <dbl> <chr>    <chr>    <chr> \n",
      "1 yValue NonCHMsCpGrich.subfml… subfm… 1.67e-10 1.7e-10 1.7e-10  ****     T-test\n"
     ]
    },
    {
     "name": "stderr",
     "output_type": "stream",
     "text": [
      "Warning message:\n",
      "Removed 1 rows containing missing values (geom_hline). \n",
      "Warning message:\n",
      "Removed 1 rows containing missing values (geom_hline). \n",
      "Warning message:\n",
      "Removed 1 rows containing missing values (geom_hline). \n"
     ]
    }
   ],
   "source": [
    "%%bash\n",
    "dirPATH=/mnt/Storage/home/yanghui/imprinting/result.2021/Exploring/CHMsInOtherContexts/CellStateTransition/CHMOrganization/Universal_specific/Features/Repeats\n",
    "anPATH=/mnt/Storage/home/yanghui/annotations\n",
    "shPATH=/mnt/Storage/home/yanghui/scripts/shell\n",
    "rPATH=/mnt/Storage/home/yanghui/scripts/R\n",
    "\n",
    "for repeatType in LTR LINE SINE\n",
    "do\n",
    "    cd ${dirPATH}/Universal_ProcessSpecific_NonCHMsCpGrich/${repeatType}_Subfamily\n",
    "    # echo -e \"xValue\\tyValue\\tgroup\" > phastCons60wayPlacental.ggplot_basic.txt\n",
    "    # for group in BothCHMs.subfml_enriched ProcessSpecificCHMsOnly.subfml_enriched UniversalCHMsOnly.subfml_enriched NonCHMsCpGrich.subfml_enriched subfml_nonenriched\n",
    "    # do\n",
    "    #     if [ -f ${group}.bed ]\n",
    "    #     then\n",
    "    #         bash ${shPATH}/averageSignalInRegion.sh \\\n",
    "    #             ${group}.bed \\\n",
    "    #             ${anPATH}/mm10/Conservation/mm10.60way.phastCons60wayPlacental.bw \\\n",
    "    #             1 \\\n",
    "    #             ${group}.phastConsPlacental.txt\n",
    "    #         \n",
    "    #         awk -v XVALUE=${group} -v GROUP=${repeatType} 'BEGIN{FS=OFS=\"\\t\"}{print XVALUE, $4, GROUP;}' \\\n",
    "    #             ${group}.phastConsPlacental.txt >> phastCons60wayPlacental.ggplot_basic.txt\n",
    "    #     fi\n",
    "    # done # for group end\n",
    "    \n",
    "    # T: executed in 6m 47s, finished 17:02:44 2023-01-02\n",
    "    \n",
    "    # # Violin plot\n",
    "    # Rscript ${rPATH}/ggplot_violin.r \\\n",
    "    #     phastCons60wayPlacental.ggplot_basic.txt \\\n",
    "    #     phastCons60wayPlacental.ggplot_violin.pdf \\\n",
    "    #     ${repeatType} \\\n",
    "    #     \"\" \\\n",
    "    #     \"Conservation score\" \\\n",
    "    #     0 \\\n",
    "    #     1 \\\n",
    "    #     0.2 \\\n",
    "    #     \"BothCHMs.subfml_enriched;ProcessSpecificCHMsOnly.subfml_enriched;UniversalCHMsOnly.subfml_enriched;NonCHMsCpGrich.subfml_enriched;subfml_nonenriched\" \\\n",
    "    #     \"${repeatType}\" \\\n",
    "    #     4 \\\n",
    "    #     9\n",
    "                \n",
    "    # box plot\n",
    "    Rscript ${rPATH}/ggplot_boxplot.r \\\n",
    "        phastCons60wayPlacental.ggplot_basic.txt \\\n",
    "        phastCons60wayPlacental.ggplot_boxplot.pdf \\\n",
    "        ${repeatType} \\\n",
    "        \"\" \\\n",
    "        \"Conservation score\" \\\n",
    "        0 \\\n",
    "        1 \\\n",
    "        0.2 \\\n",
    "        \"BothCHMs.subfml_enriched;ProcessSpecificCHMsOnly.subfml_enriched;UniversalCHMsOnly.subfml_enriched;NonCHMsCpGrich.subfml_enriched;subfml_nonenriched\" \\\n",
    "        \"${repeatType}\" \\\n",
    "        4 \\\n",
    "        9\n",
    "done # for repeatType end"
   ]
  },
  {
   "cell_type": "markdown",
   "id": "9a867c0d",
   "metadata": {},
   "source": [
    "##### Enriched vs Non-enriched subfamilies"
   ]
  },
  {
   "cell_type": "markdown",
   "id": "dd80c7e5",
   "metadata": {},
   "source": [
    "###### Groups"
   ]
  },
  {
   "cell_type": "code",
   "execution_count": 79,
   "id": "1de29397",
   "metadata": {
    "ExecuteTime": {
     "end_time": "2023-01-06T02:26:04.842276Z",
     "start_time": "2023-01-06T02:26:04.679814Z"
    }
   },
   "outputs": [],
   "source": [
    "%%bash\n",
    "dirPATH=/mnt/Storage/home/yanghui/imprinting/result.2021/Exploring/CHMsInOtherContexts/CellStateTransition/CHMOrganization/Universal_specific/Features/Repeats\n",
    "for repeatType in LTR LINE SINE\n",
    "do\n",
    "    cd ${dirPATH}/Universal_ProcessSpecific_NonCHMsCpGrich/${repeatType}_Subfamily\n",
    "    cat UniversalCHMs.subfml_enriched.txt ProcessSpecificCHMs.subfml_enriched.txt | sort -u > subfml_Enriched.txt #\n",
    "    grep -vwf subfml_Enriched.txt all.subfml.txt > subfml_NonEnriched.txt #\n",
    "done # for repeatType end"
   ]
  },
  {
   "cell_type": "markdown",
   "id": "096a0ae5",
   "metadata": {},
   "source": [
    "###### Obtain corresponding annotation"
   ]
  },
  {
   "cell_type": "code",
   "execution_count": 30,
   "id": "59c15eeb",
   "metadata": {
    "ExecuteTime": {
     "end_time": "2023-01-03T06:27:16.762420Z",
     "start_time": "2023-01-03T06:27:06.151372Z"
    },
    "code_folding": [
     0
    ]
   },
   "outputs": [
    {
     "name": "stderr",
     "output_type": "stream",
     "text": [
      "sort: cannot read: subfml_Enriched.bed: No such file or directory\n"
     ]
    }
   ],
   "source": [
    "%%bash\n",
    "anPATH=/mnt/Storage/home/yanghui/annotations\n",
    "dirPATH=/mnt/Storage/home/yanghui/imprinting/result.2021/Exploring/CHMsInOtherContexts/CellStateTransition/CHMOrganization/Universal_specific/Features/Repeats\n",
    "\n",
    "for repeatType in LTR LINE SINE\n",
    "do\n",
    "    cd ${dirPATH}/Universal_ProcessSpecific_NonCHMsCpGrich/${repeatType}_Subfamily\n",
    "    for group in Enriched NonEnriched\n",
    "    do\n",
    "        if [ -s subfml_${group}.txt ]\n",
    "        then\n",
    "            for subfml in $(cut -f 1 subfml_${group}.txt)\n",
    "            do\n",
    "                cat ${anPATH}/mm10/Repeats/${repeatType}/*/mm10.${subfml}.bed | \\\n",
    "                    intersectBed -a - -b ${anPATH}/mm10/mm10_euch.chrom.limits | \\\n",
    "                    cut -f 1-3 >> subfml_${group}.bed\n",
    "            done # for subfml end\n",
    "        fi\n",
    "        sort -k1,1 -k2,2n -u subfml_${group}.bed > subfml_${group}.bed.tmp && mv subfml_${group}.bed.tmp subfml_${group}.bed\n",
    "    done # for group end\n",
    "done # for repeatType end"
   ]
  },
  {
   "cell_type": "markdown",
   "id": "079aa267",
   "metadata": {},
   "source": [
    "###### Obtain average conservation score"
   ]
  },
  {
   "cell_type": "code",
   "execution_count": 34,
   "id": "2862733a",
   "metadata": {
    "ExecuteTime": {
     "end_time": "2023-01-03T06:41:25.821062Z",
     "start_time": "2023-01-03T06:40:50.132230Z"
    }
   },
   "outputs": [
    {
     "name": "stdout",
     "output_type": "stream",
     "text": [
      "null device \n",
      "          1 \n",
      "null device \n",
      "          1 \n",
      "[1] \"wilcox.test of significance between different xValues\"\n",
      "# A tibble: 1 × 8\n",
      "  .y.    group1   group2          p p.adj p.format p.signif method  \n",
      "  <chr>  <chr>    <chr>       <dbl> <dbl> <chr>    <chr>    <chr>   \n",
      "1 yValue Enriched NonEnriched     0     0 <2e-16   ****     Wilcoxon\n",
      "[1] \"t.test of significance between different xValues\"\n",
      "# A tibble: 1 × 8\n",
      "  .y.    group1   group2          p p.adj p.format p.signif method\n",
      "  <chr>  <chr>    <chr>       <dbl> <dbl> <chr>    <chr>    <chr> \n",
      "1 yValue Enriched NonEnriched     0     0 <2e-16   ****     T-test\n",
      "null device \n",
      "          1 \n",
      "null device \n",
      "          1 \n",
      "[1] \"wilcox.test of significance between different xValues\"\n",
      "# A tibble: 1 × 8\n",
      "  .y.    group1   group2          p p.adj p.format p.signif method  \n",
      "  <chr>  <chr>    <chr>       <dbl> <dbl> <chr>    <chr>    <chr>   \n",
      "1 yValue Enriched NonEnriched     0     0 <2e-16   ****     Wilcoxon\n",
      "[1] \"t.test of significance between different xValues\"\n",
      "# A tibble: 1 × 8\n",
      "  .y.    group1   group2          p p.adj p.format p.signif method\n",
      "  <chr>  <chr>    <chr>       <dbl> <dbl> <chr>    <chr>    <chr> \n",
      "1 yValue Enriched NonEnriched     0     0 <2e-16   ****     T-test\n"
     ]
    },
    {
     "name": "stderr",
     "output_type": "stream",
     "text": [
      "Warning messages:\n",
      "1: Removed 5398 rows containing non-finite values (stat_ydensity). \n",
      "2: Removed 5398 rows containing non-finite values (stat_boxplot). \n",
      "Warning messages:\n",
      "1: Removed 5398 rows containing non-finite values (stat_boxplot). \n",
      "2: Removed 5398 rows containing non-finite values (stat_boxplot). \n",
      "3: Removed 1 rows containing missing values (geom_hline). \n",
      "Warning messages:\n",
      "1: Removed 10169 rows containing non-finite values (stat_ydensity). \n",
      "2: Removed 10169 rows containing non-finite values (stat_boxplot). \n",
      "Warning messages:\n",
      "1: Removed 10169 rows containing non-finite values (stat_boxplot). \n",
      "2: Removed 10169 rows containing non-finite values (stat_boxplot). \n",
      "3: Removed 1 rows containing missing values (geom_hline). \n"
     ]
    }
   ],
   "source": [
    "%%bash\n",
    "dirPATH=/mnt/Storage/home/yanghui/imprinting/result.2021/Exploring/CHMsInOtherContexts/CellStateTransition/CHMOrganization/Universal_specific/Features/Repeats\n",
    "anPATH=/mnt/Storage/home/yanghui/annotations\n",
    "shPATH=/mnt/Storage/home/yanghui/scripts/shell\n",
    "rPATH=/mnt/Storage/home/yanghui/scripts/R\n",
    "\n",
    "for repeatType in LTR LINE\n",
    "do\n",
    "    cd ${dirPATH}/Universal_ProcessSpecific_NonCHMsCpGrich/${repeatType}_Subfamily\n",
    "    # echo -e \"xValue\\tyValue\\tgroup\" > phastCons60wayPlacental_subfml.ggplot_basic.txt\n",
    "    # for group in Enriched NonEnriched\n",
    "    # do\n",
    "    #     if [ -f subfml_${group}.bed ]\n",
    "    #     then\n",
    "    #         bash ${shPATH}/averageSignalInRegion.sh \\\n",
    "    #             subfml_${group}.bed \\\n",
    "    #             ${anPATH}/mm10/Conservation/mm10.60way.phastCons60wayPlacental.bw \\\n",
    "    #             1 \\\n",
    "    #             subfml_${group}.phastConsPlacental.txt\n",
    "    #         \n",
    "    #         awk -v XVALUE=${group} -v GROUP=${repeatType} 'BEGIN{FS=OFS=\"\\t\"}{print XVALUE, $4, GROUP;}' \\\n",
    "    #             subfml_${group}.phastConsPlacental.txt >> phastCons60wayPlacental_subfml.ggplot_basic.txt\n",
    "    #     fi\n",
    "    # done # for group end\n",
    "    \n",
    "    # T: executed in 4m 10s, finished 14:36:19 2023-01-03\n",
    "    \n",
    "    # Violin plot\n",
    "    Rscript ${rPATH}/ggplot_violin.r \\\n",
    "        phastCons60wayPlacental_subfml.ggplot_basic.txt \\\n",
    "        phastCons60wayPlacental_subfml.ggplot_violin.pdf \\\n",
    "        ${repeatType} \\\n",
    "        \"\" \\\n",
    "        \"Conservation score\" \\\n",
    "        0 \\\n",
    "        0.6 \\\n",
    "        0.2 \\\n",
    "        \"Enriched;NonEnriched\" \\\n",
    "        \"${repeatType}\" \\\n",
    "        3 \\\n",
    "        4\n",
    "                \n",
    "    # box plot\n",
    "    Rscript ${rPATH}/ggplot_boxplot.r \\\n",
    "        phastCons60wayPlacental_subfml.ggplot_basic.txt \\\n",
    "        phastCons60wayPlacental_subfml.ggplot_boxplot.pdf \\\n",
    "        ${repeatType} \\\n",
    "        \"\" \\\n",
    "        \"Conservation score\" \\\n",
    "        0 \\\n",
    "        0.6 \\\n",
    "        0.2 \\\n",
    "        \"Enriched;NonEnriched\" \\\n",
    "        \"${repeatType}\" \\\n",
    "        3 \\\n",
    "        4\n",
    "done # for repeatType end"
   ]
  },
  {
   "cell_type": "markdown",
   "id": "191ae20e",
   "metadata": {
    "heading_collapsed": true
   },
   "source": [
    "##### Group according to enrichment score and overlapped ratio (>=10%)"
   ]
  },
  {
   "cell_type": "code",
   "execution_count": 82,
   "id": "3edc4984",
   "metadata": {
    "ExecuteTime": {
     "end_time": "2023-01-06T02:29:09.289860Z",
     "start_time": "2023-01-06T02:29:09.169677Z"
    },
    "code_folding": [
     0
    ],
    "hidden": true
   },
   "outputs": [],
   "source": [
    "%%bash\n",
    "dirPATH=/mnt/Storage/home/yanghui/imprinting/result.2021/Exploring/CHMsInOtherContexts/CellStateTransition/CHMOrganization/Universal_specific/Features/Repeats\n",
    "for repeatType in LTR LINE SINE\n",
    "do\n",
    "    cd ${dirPATH}/Universal_ProcessSpecific_NonCHMsCpGrich/${repeatType}_Subfamily\n",
    "    awk 'BEGIN{FS=OFS=\"\\t\"}{if($1!=\"xValue\" && $1>=10 && $2>=1){print $5;}}' enrichDetails.ggplot_scatter.txt | sort -u > subfml_Enriched_esor.txt #\n",
    "    grep -vwf subfml_Enriched.txt all.subfml.txt > subfml_NonEnriched_esor.txt #\n",
    "done # for repeatType end"
   ]
  },
  {
   "cell_type": "code",
   "execution_count": 83,
   "id": "edb3dc23",
   "metadata": {
    "ExecuteTime": {
     "end_time": "2023-01-06T02:31:14.429394Z",
     "start_time": "2023-01-06T02:31:01.242545Z"
    },
    "code_folding": [
     0
    ],
    "hidden": true
   },
   "outputs": [
    {
     "name": "stderr",
     "output_type": "stream",
     "text": [
      "sort: cannot read: subfml_Enriched_esor.bed: No such file or directory\n",
      "sort: cannot read: subfml_Enriched_esor.bed: No such file or directory\n"
     ]
    }
   ],
   "source": [
    "%%bash\n",
    "anPATH=/mnt/Storage/home/yanghui/annotations\n",
    "dirPATH=/mnt/Storage/home/yanghui/imprinting/result.2021/Exploring/CHMsInOtherContexts/CellStateTransition/CHMOrganization/Universal_specific/Features/Repeats\n",
    "\n",
    "for repeatType in LTR LINE SINE\n",
    "do\n",
    "    cd ${dirPATH}/Universal_ProcessSpecific_NonCHMsCpGrich/${repeatType}_Subfamily\n",
    "    for group in Enriched NonEnriched\n",
    "    do\n",
    "        if [ -s subfml_${group}_esor.txt ]\n",
    "        then\n",
    "            for subfml in $(cut -f 1 subfml_${group}_esor.txt)\n",
    "            do\n",
    "                cat ${anPATH}/mm10/Repeats/${repeatType}/*/mm10.${subfml}.bed | \\\n",
    "                    intersectBed -a - -b ${anPATH}/mm10/mm10_euch.chrom.limits | \\\n",
    "                    cut -f 1-3 >> subfml_${group}_esor.bed\n",
    "            done # for subfml end\n",
    "        fi\n",
    "        sort -k1,1 -k2,2n -u subfml_${group}_esor.bed > subfml_${group}_esor.bed.tmp && mv subfml_${group}_esor.bed.tmp subfml_${group}_esor.bed\n",
    "    done # for group end\n",
    "done # for repeatType end"
   ]
  },
  {
   "cell_type": "code",
   "execution_count": 84,
   "id": "f1c4247a",
   "metadata": {
    "ExecuteTime": {
     "end_time": "2023-01-06T02:36:17.745428Z",
     "start_time": "2023-01-06T02:34:20.785011Z"
    },
    "hidden": true
   },
   "outputs": [
    {
     "name": "stdout",
     "output_type": "stream",
     "text": [
      "null device \n",
      "          1 \n",
      "null device \n",
      "          1 \n",
      "[1] \"wilcox.test of significance between different xValues\"\n",
      "# A tibble: 1 × 8\n",
      "  .y.    group1   group2             p   p.adj p.format p.signif method  \n",
      "  <chr>  <chr>    <chr>          <dbl>   <dbl> <chr>    <chr>    <chr>   \n",
      "1 yValue Enriched NonEnriched 3.06e-62 3.1e-62 <2e-16   ****     Wilcoxon\n",
      "[1] \"t.test of significance between different xValues\"\n",
      "# A tibble: 1 × 8\n",
      "  .y.    group1   group2             p   p.adj p.format p.signif method\n",
      "  <chr>  <chr>    <chr>          <dbl>   <dbl> <chr>    <chr>    <chr> \n",
      "1 yValue Enriched NonEnriched 1.78e-27 1.8e-27 <2e-16   ****     T-test\n"
     ]
    },
    {
     "name": "stderr",
     "output_type": "stream",
     "text": [
      "IOPub data rate exceeded.\n",
      "The notebook server will temporarily stop sending output\n",
      "to the client in order to avoid crashing it.\n",
      "To change this limit, set the config variable\n",
      "`--NotebookApp.iopub_data_rate_limit`.\n",
      "\n",
      "Current values:\n",
      "NotebookApp.iopub_data_rate_limit=1000000.0 (bytes/sec)\n",
      "NotebookApp.rate_limit_window=3.0 (secs)\n",
      "\n"
     ]
    }
   ],
   "source": [
    "%%bash\n",
    "dirPATH=/mnt/Storage/home/yanghui/imprinting/result.2021/Exploring/CHMsInOtherContexts/CellStateTransition/CHMOrganization/Universal_specific/Features/Repeats\n",
    "anPATH=/mnt/Storage/home/yanghui/annotations\n",
    "shPATH=/mnt/Storage/home/yanghui/scripts/shell\n",
    "rPATH=/mnt/Storage/home/yanghui/scripts/R\n",
    "\n",
    "for repeatType in LTR\n",
    "do\n",
    "    cd ${dirPATH}/Universal_ProcessSpecific_NonCHMsCpGrich/${repeatType}_Subfamily\n",
    "    echo -e \"xValue\\tyValue\\tgroup\" > phastCons60wayPlacental_subfml_esor.ggplot_basic.txt\n",
    "    for group in Enriched NonEnriched\n",
    "    do\n",
    "        if [ -f subfml_${group}_esor.bed ]\n",
    "        then\n",
    "            bash ${shPATH}/averageSignalInRegion.sh \\\n",
    "                subfml_${group}_esor.bed \\\n",
    "                ${anPATH}/mm10/Conservation/mm10.60way.phastCons60wayPlacental.bw \\\n",
    "                1 \\\n",
    "                subfml_${group}_esor.phastConsPlacental.txt\n",
    "            \n",
    "            awk -v XVALUE=${group} -v GROUP=${repeatType} 'BEGIN{FS=OFS=\"\\t\"}{print XVALUE, $4, GROUP;}' \\\n",
    "                subfml_${group}_esor.phastConsPlacental.txt >> phastCons60wayPlacental_subfml_esor.ggplot_basic.txt\n",
    "        fi\n",
    "    done # for group end\n",
    "    \n",
    "    \n",
    "    # Violin plot\n",
    "    Rscript ${rPATH}/ggplot_violin.r \\\n",
    "        phastCons60wayPlacental_subfml_esor.ggplot_basic.txt \\\n",
    "        phastCons60wayPlacental_subfml_esor.ggplot_violin.pdf \\\n",
    "        ${repeatType} \\\n",
    "        \"\" \\\n",
    "        \"Conservation score\" \\\n",
    "        0 \\\n",
    "        0.6 \\\n",
    "        0.2 \\\n",
    "        \"Enriched;NonEnriched\" \\\n",
    "        \"${repeatType}\" \\\n",
    "        3 \\\n",
    "        4\n",
    "                \n",
    "    # box plot\n",
    "    Rscript ${rPATH}/ggplot_boxplot.r \\\n",
    "        phastCons60wayPlacental_subfml_esor.ggplot_basic.txt \\\n",
    "        phastCons60wayPlacental_subfml_esor.ggplot_boxplot.pdf \\\n",
    "        ${repeatType} \\\n",
    "        \"\" \\\n",
    "        \"Conservation score\" \\\n",
    "        0 \\\n",
    "        0.6 \\\n",
    "        0.2 \\\n",
    "        \"Enriched;NonEnriched\" \\\n",
    "        \"${repeatType}\" \\\n",
    "        3 \\\n",
    "        4\n",
    "done # for repeatType end"
   ]
  },
  {
   "cell_type": "markdown",
   "id": "9d3449d2",
   "metadata": {},
   "source": [
    "### Divide according to chromatin states"
   ]
  },
  {
   "cell_type": "markdown",
   "id": "b76423cb",
   "metadata": {},
   "source": [
    "#### Obtain enrichment score"
   ]
  },
  {
   "cell_type": "code",
   "execution_count": 65,
   "id": "fa3715d0",
   "metadata": {
    "ExecuteTime": {
     "end_time": "2023-01-05T08:26:30.419031Z",
     "start_time": "2023-01-05T08:21:32.124938Z"
    }
   },
   "outputs": [
    {
     "name": "stdout",
     "output_type": "stream",
     "text": [
      "null device \n",
      "          1 \n",
      "null device \n",
      "          1 \n",
      "null device \n",
      "          1 \n",
      "null device \n",
      "          1 \n",
      "null device \n",
      "          1 \n",
      "null device \n",
      "          1 \n",
      "null device \n",
      "          1 \n",
      "null device \n",
      "          1 \n",
      "null device \n",
      "          1 \n",
      "null device \n",
      "          1 \n",
      "null device \n",
      "          1 \n",
      "null device \n",
      "          1 \n",
      "null device \n",
      "          1 \n",
      "null device \n",
      "          1 \n",
      "null device \n",
      "          1 \n",
      "null device \n",
      "          1 \n",
      "null device \n",
      "          1 \n",
      "null device \n",
      "          1 \n",
      "null device \n",
      "          1 \n",
      "null device \n",
      "          1 \n",
      "null device \n",
      "          1 \n",
      "null device \n",
      "          1 \n",
      "null device \n",
      "          1 \n",
      "null device \n",
      "          1 \n",
      "null device \n",
      "          1 \n",
      "null device \n",
      "          1 \n",
      "null device \n",
      "          1 \n",
      "null device \n",
      "          1 \n",
      "null device \n",
      "          1 \n",
      "null device \n",
      "          1 \n",
      "null device \n",
      "          1 \n",
      "null device \n",
      "          1 \n",
      "null device \n",
      "          1 \n",
      "null device \n",
      "          1 \n",
      "null device \n",
      "          1 \n",
      "null device \n",
      "          1 \n",
      "null device \n",
      "          1 \n",
      "null device \n",
      "          1 \n",
      "null device \n",
      "          1 \n",
      "null device \n",
      "          1 \n",
      "null device \n",
      "          1 \n",
      "null device \n",
      "          1 \n",
      "null device \n",
      "          1 \n",
      "null device \n",
      "          1 \n",
      "null device \n",
      "          1 \n",
      "null device \n",
      "          1 \n",
      "null device \n",
      "          1 \n",
      "null device \n",
      "          1 \n",
      "null device \n",
      "          1 \n",
      "null device \n",
      "          1 \n",
      "null device \n",
      "          1 \n",
      "null device \n",
      "          1 \n",
      "null device \n",
      "          1 \n",
      "null device \n",
      "          1 \n",
      "null device \n",
      "          1 \n",
      "null device \n",
      "          1 \n",
      "null device \n",
      "          1 \n",
      "null device \n",
      "          1 \n",
      "null device \n",
      "          1 \n",
      "null device \n",
      "          1 \n",
      "null device \n",
      "          1 \n",
      "null device \n",
      "          1 \n",
      "null device \n",
      "          1 \n",
      "null device \n",
      "          1 \n",
      "null device \n",
      "          1 \n",
      "null device \n",
      "          1 \n",
      "null device \n",
      "          1 \n",
      "null device \n",
      "          1 \n",
      "null device \n",
      "          1 \n",
      "null device \n",
      "          1 \n",
      "null device \n",
      "          1 \n",
      "null device \n",
      "          1 \n",
      "null device \n",
      "          1 \n",
      "null device \n",
      "          1 \n",
      "null device \n",
      "          1 \n",
      "null device \n",
      "          1 \n",
      "null device \n",
      "          1 \n",
      "null device \n",
      "          1 \n",
      "null device \n",
      "          1 \n",
      "null device \n",
      "          1 \n",
      "null device \n",
      "          1 \n",
      "null device \n",
      "          1 \n",
      "null device \n",
      "          1 \n",
      "null device \n",
      "          1 \n",
      "null device \n",
      "          1 \n",
      "null device \n",
      "          1 \n",
      "null device \n",
      "          1 \n",
      "null device \n",
      "          1 \n",
      "null device \n",
      "          1 \n",
      "null device \n",
      "          1 \n",
      "null device \n",
      "          1 \n",
      "null device \n",
      "          1 \n",
      "null device \n",
      "          1 \n",
      "null device \n",
      "          1 \n",
      "null device \n",
      "          1 \n",
      "null device \n",
      "          1 \n",
      "null device \n",
      "          1 \n",
      "null device \n",
      "          1 \n",
      "null device \n",
      "          1 \n",
      "null device \n",
      "          1 \n",
      "null device \n",
      "          1 \n",
      "null device \n",
      "          1 \n",
      "null device \n",
      "          1 \n",
      "null device \n",
      "          1 \n",
      "null device \n",
      "          1 \n",
      "null device \n",
      "          1 \n",
      "null device \n",
      "          1 \n",
      "null device \n",
      "          1 \n",
      "null device \n",
      "          1 \n",
      "null device \n",
      "          1 \n",
      "null device \n",
      "          1 \n",
      "null device \n",
      "          1 \n",
      "null device \n",
      "          1 \n",
      "null device \n",
      "          1 \n",
      "null device \n",
      "          1 \n",
      "null device \n",
      "          1 \n",
      "null device \n",
      "          1 \n",
      "null device \n",
      "          1 \n",
      "null device \n",
      "          1 \n",
      "null device \n",
      "          1 \n",
      "null device \n",
      "          1 \n",
      "null device \n",
      "          1 \n",
      "null device \n",
      "          1 \n",
      "null device \n",
      "          1 \n",
      "null device \n",
      "          1 \n",
      "null device \n",
      "          1 \n",
      "null device \n",
      "          1 \n",
      "null device \n",
      "          1 \n",
      "null device \n",
      "          1 \n",
      "null device \n",
      "          1 \n",
      "null device \n",
      "          1 \n",
      "null device \n",
      "          1 \n",
      "null device \n",
      "          1 \n",
      "null device \n",
      "          1 \n",
      "null device \n",
      "          1 \n",
      "null device \n",
      "          1 \n",
      "null device \n",
      "          1 \n",
      "null device \n",
      "          1 \n",
      "null device \n",
      "          1 \n",
      "null device \n",
      "          1 \n",
      "null device \n",
      "          1 \n",
      "null device \n",
      "          1 \n",
      "null device \n",
      "          1 \n",
      "null device \n",
      "          1 \n",
      "null device \n",
      "          1 \n",
      "null device \n",
      "          1 \n",
      "null device \n",
      "          1 \n",
      "null device \n",
      "          1 \n",
      "null device \n",
      "          1 \n",
      "null device \n",
      "          1 \n",
      "null device \n",
      "          1 \n",
      "null device \n",
      "          1 \n",
      "null device \n",
      "          1 \n",
      "null device \n",
      "          1 \n",
      "null device \n",
      "          1 \n",
      "null device \n",
      "          1 \n",
      "null device \n",
      "          1 \n",
      "null device \n",
      "          1 \n",
      "null device \n",
      "          1 \n",
      "null device \n",
      "          1 \n",
      "null device \n",
      "          1 \n",
      "null device \n",
      "          1 \n",
      "null device \n",
      "          1 \n",
      "null device \n",
      "          1 \n",
      "null device \n",
      "          1 \n",
      "null device \n",
      "          1 \n",
      "null device \n",
      "          1 \n",
      "null device \n",
      "          1 \n",
      "null device \n",
      "          1 \n",
      "null device \n",
      "          1 \n",
      "null device \n",
      "          1 \n",
      "null device \n",
      "          1 \n",
      "null device \n",
      "          1 \n",
      "null device \n",
      "          1 \n",
      "null device \n",
      "          1 \n",
      "null device \n",
      "          1 \n",
      "null device \n",
      "          1 \n",
      "null device \n",
      "          1 \n",
      "null device \n",
      "          1 \n",
      "null device \n",
      "          1 \n",
      "null device \n",
      "          1 \n",
      "null device \n",
      "          1 \n",
      "null device \n",
      "          1 \n",
      "null device \n",
      "          1 \n",
      "null device \n",
      "          1 \n",
      "null device \n",
      "          1 \n",
      "null device \n",
      "          1 \n",
      "null device \n",
      "          1 \n",
      "null device \n",
      "          1 \n",
      "null device \n",
      "          1 \n",
      "null device \n",
      "          1 \n",
      "null device \n",
      "          1 \n",
      "null device \n",
      "          1 \n",
      "null device \n",
      "          1 \n",
      "null device \n",
      "          1 \n",
      "null device \n",
      "          1 \n",
      "null device \n",
      "          1 \n",
      "null device \n",
      "          1 \n",
      "null device \n",
      "          1 \n",
      "null device \n",
      "          1 \n",
      "null device \n",
      "          1 \n",
      "null device \n",
      "          1 \n",
      "null device \n",
      "          1 \n",
      "null device \n",
      "          1 \n",
      "null device \n",
      "          1 \n",
      "null device \n",
      "          1 \n",
      "null device \n",
      "          1 \n",
      "null device \n",
      "          1 \n",
      "null device \n",
      "          1 \n",
      "null device \n",
      "          1 \n",
      "null device \n",
      "          1 \n",
      "null device \n",
      "          1 \n",
      "null device \n",
      "          1 \n",
      "null device \n",
      "          1 \n",
      "null device \n",
      "          1 \n",
      "null device \n",
      "          1 \n",
      "null device \n",
      "          1 \n",
      "null device \n",
      "          1 \n",
      "null device \n",
      "          1 \n",
      "null device \n",
      "          1 \n",
      "null device \n",
      "          1 \n",
      "null device \n",
      "          1 \n",
      "null device \n",
      "          1 \n",
      "null device \n",
      "          1 \n",
      "null device \n",
      "          1 \n",
      "null device \n",
      "          1 \n",
      "null device \n",
      "          1 \n",
      "null device \n",
      "          1 \n",
      "null device \n",
      "          1 \n",
      "null device \n",
      "          1 \n",
      "null device \n",
      "          1 \n",
      "null device \n",
      "          1 \n",
      "null device \n",
      "          1 \n",
      "null device \n",
      "          1 \n",
      "null device \n",
      "          1 \n",
      "null device \n",
      "          1 \n",
      "null device \n",
      "          1 \n",
      "null device \n",
      "          1 \n",
      "null device \n",
      "          1 \n",
      "null device \n",
      "          1 \n",
      "null device \n",
      "          1 \n",
      "null device \n",
      "          1 \n",
      "null device \n",
      "          1 \n",
      "null device \n",
      "          1 \n",
      "null device \n",
      "          1 \n",
      "null device \n",
      "          1 \n",
      "null device \n",
      "          1 \n",
      "null device \n",
      "          1 \n",
      "null device \n",
      "          1 \n",
      "null device \n",
      "          1 \n",
      "null device \n",
      "          1 \n",
      "null device \n",
      "          1 \n",
      "null device \n",
      "          1 \n",
      "null device \n",
      "          1 \n",
      "null device \n",
      "          1 \n",
      "null device \n",
      "          1 \n",
      "null device \n",
      "          1 \n",
      "null device \n",
      "          1 \n",
      "null device \n",
      "          1 \n",
      "null device \n",
      "          1 \n",
      "null device \n",
      "          1 \n",
      "null device \n",
      "          1 \n",
      "null device \n",
      "          1 \n",
      "null device \n",
      "          1 \n",
      "null device \n",
      "          1 \n",
      "null device \n",
      "          1 \n",
      "null device \n",
      "          1 \n",
      "null device \n",
      "          1 \n",
      "null device \n",
      "          1 \n",
      "null device \n",
      "          1 \n",
      "null device \n",
      "          1 \n",
      "null device \n",
      "          1 \n",
      "null device \n",
      "          1 \n",
      "null device \n",
      "          1 \n",
      "null device \n",
      "          1 \n",
      "null device \n",
      "          1 \n"
     ]
    },
    {
     "name": "stderr",
     "output_type": "stream",
     "text": [
      "Runtime error (func=(main), adr=3): Divide by zero\n",
      "Runtime error (func=(main), adr=3): Divide by zero\n",
      "Runtime error (func=(main), adr=3): Divide by zero\n",
      "Runtime error (func=(main), adr=3): Divide by zero\n",
      "Runtime error (func=(main), adr=3): Divide by zero\n",
      "Runtime error (func=(main), adr=3): Divide by zero\n"
     ]
    }
   ],
   "source": [
    "%%bash\n",
    "dirPATH=/mnt/Storage/home/yanghui/imprinting/result.2021/Exploring/CHMsInOtherContexts/CellStateTransition/CHMOrganization/Universal_specific/Features/Repeats\n",
    "shPATH=/mnt/Storage/home/yanghui/scripts/shell\n",
    "cd ${dirPATH}/Universal_ProcessSpecific_NonCHMsCpGrich\n",
    "\n",
    "for group in UniversalCHMs ProcessSpecificCHMs NonCHMsCpGrich\n",
    "do\n",
    "    for repeatType in LTR LINE SINE\n",
    "    do\n",
    "    \tfor cmpt in A B\n",
    "    \tdo\n",
    "        \tbash ${shPATH}/regionEnrichment_${repeatType}_mm10_euch.sh \\\n",
    "        \t    \"${dirPATH}/Universal_ProcessSpecific_NonCHMsCpGrich/${repeatType}_Subfamily\" \\\n",
    "        \t    \"${dirPATH}/Universal_ProcessSpecific_NonCHMsCpGrich/${group}.cmpt_${cmpt}.bed\" \\\n",
    "        \t    \"${group}.cmpt_${cmpt}\"\n",
    "        done # for cmpt end\n",
    "    done # for repeatType end\n",
    "done # for group end"
   ]
  },
  {
   "cell_type": "markdown",
   "id": "65d67c99",
   "metadata": {},
   "source": [
    "#### Sina plot"
   ]
  },
  {
   "cell_type": "markdown",
   "id": "d42a9727",
   "metadata": {},
   "source": [
    "##### Prepare for sina plot"
   ]
  },
  {
   "cell_type": "code",
   "execution_count": 69,
   "id": "a6753f3c",
   "metadata": {
    "ExecuteTime": {
     "end_time": "2023-01-05T08:46:27.079109Z",
     "start_time": "2023-01-05T08:46:26.557394Z"
    },
    "code_folding": []
   },
   "outputs": [],
   "source": [
    "%%bash\n",
    "dirPATH=/mnt/Storage/home/yanghui/imprinting/result.2021/Exploring/CHMsInOtherContexts/CellStateTransition/CHMOrganization/Universal_specific/Features/Repeats\n",
    "\n",
    "for repeatType in LTR LINE SINE\n",
    "do\n",
    "    cd ${dirPATH}/Universal_ProcessSpecific_NonCHMsCpGrich/${repeatType}_Subfamily\n",
    "    echo -e \"xValue\\tyValue\\tgroup\\tcol\\tlabel\" > enrichmentScore_cmpt.ggplot_sina.txt\n",
    "    for group in UniversalCHMs ProcessSpecificCHMs NonCHMsCpGrich\n",
    "    do\n",
    "        for cmpt in A B\n",
    "        do\n",
    "            for fmlEnrich in $(ls ${group}.cmpt_${cmpt}.EnrichScore_${repeatType}_*.txt)\n",
    "            do\n",
    "                fmlName=$(echo ${fmlEnrich#*EnrichScore_${repeatType}_*})\n",
    "                fmlName=$(echo ${fmlName%.txt})\n",
    "                tail -n +2 ${fmlEnrich} | grep -v \"inf\" | \\\n",
    "                    awk -v XVALUE=${group} -v GROUP=${cmpt} -v COL=${fmlName} 'BEGIN{FS=OFS=\"\\t\"}{\\\n",
    "                    print XVALUE, $2, GROUP, COL, $1;}' >> enrichmentScore_cmpt.ggplot_sina.txt\n",
    "            done # for fmlEnrich end\n",
    "        done # for cmpt end\n",
    "    done # for group end\n",
    "done # for repeatType end"
   ]
  },
  {
   "cell_type": "markdown",
   "id": "a6958093",
   "metadata": {
    "heading_collapsed": true
   },
   "source": [
    "##### Sina plot"
   ]
  },
  {
   "cell_type": "code",
   "execution_count": 71,
   "id": "f02d506c",
   "metadata": {
    "ExecuteTime": {
     "end_time": "2023-01-05T08:49:12.201299Z",
     "start_time": "2023-01-05T08:49:07.829785Z"
    },
    "code_folding": [],
    "hidden": true
   },
   "outputs": [
    {
     "name": "stdout",
     "output_type": "stream",
     "text": [
      "[1] \"#CE0013\" \"#C7A609\" \"#64C0AB\" \"#A14C94\" \"#1187CD\"\n",
      "[1] \"ERV1\"      \"ERVK\"      \"ERVL\"      \"ERVL-MaLR\" \"Gypsy\"    \n",
      "\n",
      "  1   2   3   4   5 \n",
      "182 594 114 230   9 \n",
      "null device \n",
      "          1 \n",
      "[1] \"#CE0013\" \"#16557A\" \"#C7A609\" \"#87C232\" \"#64C0AB\" \"#A14C94\" \"#8B7E75\"\n",
      "[8] \"#1187CD\" \"#000000\"\n",
      "[1] \"CR1\"      \"Dong-R4\"  \"Jockey\"   \"L1\"       \"L1-Tx1\"   \"L2\"       \"Penelope\"\n",
      "[8] \"RTE-BovB\" \"RTE-X\"   \n",
      "\n",
      "  1   3   4   6   7   8   9 \n",
      " 16   1 396  34   2   3   3 \n",
      "null device \n",
      "          1 \n",
      "[1] \"#CE0013\" \"#16557A\" \"#C7A609\" \"#87C232\" \"#64C0AB\" \"#A14C94\" \"#8B7E75\"\n",
      "[8] \"#1187CD\" \"#000000\"\n",
      "[1] \"5S-Deu-L2\" \"Alu\"       \"B2\"        \"B4\"        \"ID\"        \"MIR\"      \n",
      "[7] \"tRNA\"      \"tRNA-Deu\"  \"tRNA-RTE\" \n",
      "\n",
      " 1  2  3  4  5  6  7  8  9 \n",
      " 1 80 28 24 16 23  2  1  3 \n",
      "null device \n",
      "          1 \n"
     ]
    }
   ],
   "source": [
    "%%bash\n",
    "dirPATH=/mnt/Storage/home/yanghui/imprinting/result.2021/Exploring/CHMsInOtherContexts/CellStateTransition/CHMOrganization/Universal_specific/Features/Repeats\n",
    "rPATH=/mnt/Storage/home/yanghui/scripts/R\n",
    "\n",
    "LTR_sina(){\n",
    "    cd ${dirPATH}/Universal_ProcessSpecific_NonCHMsCpGrich/LTR_Subfamily\n",
    "    Rscript ${rPATH}/ggplot_sina_colorfull.r \\\n",
    "        enrichmentScore_cmpt.ggplot_sina.txt \\\n",
    "        enrichmentScore_cmpt_filtered.ggplot_sina.pdf \\\n",
    "        \"Enrichment score\" \\\n",
    "        \"-12;8;4\" \\\n",
    "        \"UniversalCHMs;ProcessSpecificCHMs;NonCHMsCpGrich\" \\\n",
    "        \"A;B\" \\\n",
    "        \"ERV1;ERVK;ERVL;ERVL-MaLR;Gypsy\" \\\n",
    "        \"#CE0013;#C7A609;#64C0AB;#A14C94;#1187CD\" \\\n",
    "        \"0.2\" \\\n",
    "        \"0.5\" \\\n",
    "        \"1\" \\\n",
    "        \"5\" \\\n",
    "        \"5\"\n",
    "}\n",
    "LTR_sina\n",
    "\n",
    "LINE_sina(){\n",
    "    cd ${dirPATH}/Universal_ProcessSpecific_NonCHMsCpGrich/LINE_Subfamily\n",
    "    Rscript ${rPATH}/ggplot_sina_colorfull.r \\\n",
    "        enrichmentScore_cmpt.ggplot_sina.txt \\\n",
    "        enrichmentScore_cmpt_filtered.ggplot_sina.pdf \\\n",
    "        \"Enrichment score\" \\\n",
    "        \"-12;8;4\" \\\n",
    "        \"UniversalCHMs;ProcessSpecificCHMs;NonCHMsCpGrich\" \\\n",
    "        \"A;B\" \\\n",
    "        \"CR1;Dong-R4;Jockey;L1;L1-Tx1;L2;Penelope;RTE-BovB;RTE-X\" \\\n",
    "        \"#CE0013;#16557A;#C7A609;#87C232;#64C0AB;#A14C94;#8B7E75;#1187CD;#000000\" \\\n",
    "        \"0.2\" \\\n",
    "        \"0.5\" \\\n",
    "        \"1\" \\\n",
    "        \"5\" \\\n",
    "        \"5\"\n",
    "}\n",
    "LINE_sina\n",
    "\n",
    "SINE_sina(){\n",
    "    cd ${dirPATH}/Universal_ProcessSpecific_NonCHMsCpGrich/SINE_Subfamily\n",
    "    Rscript ${rPATH}/ggplot_sina_colorfull.r \\\n",
    "        enrichmentScore_cmpt.ggplot_sina.txt \\\n",
    "        enrichmentScore_cmpt_filtered.ggplot_sina.pdf \\\n",
    "        \"Enrichment score\" \\\n",
    "        \"-12;8;4\" \\\n",
    "        \"UniversalCHMs;ProcessSpecificCHMs;NonCHMsCpGrich\" \\\n",
    "        \"A;B\" \\\n",
    "        \"5S-Deu-L2;Alu;B2;B4;ID;MIR;tRNA;tRNA-Deu;tRNA-RTE\" \\\n",
    "        \"#CE0013;#16557A;#C7A609;#87C232;#64C0AB;#A14C94;#8B7E75;#1187CD;#000000\" \\\n",
    "        \"0.2\" \\\n",
    "        \"0.5\" \\\n",
    "        \"1\" \\\n",
    "        \"5\" \\\n",
    "        \"5\"\n",
    "}\n",
    "SINE_sina\n",
    "\n",
    "# R: Can't see significant difference between A and B compartment through this methods"
   ]
  },
  {
   "cell_type": "markdown",
   "id": "c141e57e",
   "metadata": {},
   "source": [
    "##### Prepare sina to show A / B as corresponding xValue"
   ]
  },
  {
   "cell_type": "code",
   "execution_count": 74,
   "id": "d7e76200",
   "metadata": {
    "ExecuteTime": {
     "end_time": "2023-01-05T09:02:49.636512Z",
     "start_time": "2023-01-05T09:02:49.143283Z"
    },
    "code_folding": []
   },
   "outputs": [],
   "source": [
    "%%bash\n",
    "dirPATH=/mnt/Storage/home/yanghui/imprinting/result.2021/Exploring/CHMsInOtherContexts/CellStateTransition/CHMOrganization/Universal_specific/Features/Repeats\n",
    "\n",
    "for repeatType in LTR LINE SINE\n",
    "do\n",
    "    cd ${dirPATH}/Universal_ProcessSpecific_NonCHMsCpGrich/${repeatType}_Subfamily\n",
    "    echo -e \"xValue\\tyValue\\tgroup\\tcol\\tlabel\" > enrichmentScore_cmpt_crsp.ggplot_sina.txt\n",
    "    for group in UniversalCHMs ProcessSpecificCHMs NonCHMsCpGrich\n",
    "    do\n",
    "        for cmpt in A B\n",
    "        do\n",
    "            for fmlEnrich in $(ls ${group}.cmpt_${cmpt}.EnrichScore_${repeatType}_*.txt)\n",
    "            do\n",
    "                fmlName=$(echo ${fmlEnrich#*EnrichScore_${repeatType}_*})\n",
    "                fmlName=$(echo ${fmlName%.txt})\n",
    "                tail -n +2 ${fmlEnrich} | grep -v \"inf\" | \\\n",
    "                    awk -v XVALUE=${group}.${cmpt} -v GROUP=${repeatType} -v COL=${fmlName} 'BEGIN{FS=OFS=\"\\t\"}{\\\n",
    "                    print XVALUE, $2, GROUP, COL, $1;}' >> enrichmentScore_cmpt_crsp.ggplot_sina.txt\n",
    "            done # for fmlEnrich end\n",
    "        done # for cmpt end\n",
    "    done # for group end\n",
    "done # for repeatType end"
   ]
  },
  {
   "cell_type": "code",
   "execution_count": 75,
   "id": "bef5b9f0",
   "metadata": {
    "ExecuteTime": {
     "end_time": "2023-01-05T09:03:03.787836Z",
     "start_time": "2023-01-05T09:02:59.312915Z"
    }
   },
   "outputs": [
    {
     "name": "stdout",
     "output_type": "stream",
     "text": [
      "[1] \"#CE0013\" \"#C7A609\" \"#64C0AB\" \"#A14C94\" \"#1187CD\"\n",
      "[1] \"ERV1\"      \"ERVK\"      \"ERVL\"      \"ERVL-MaLR\" \"Gypsy\"    \n",
      "\n",
      "  1   2   3   4   5 \n",
      "182 594 114 230   9 \n",
      "null device \n",
      "          1 \n",
      "[1] \"#CE0013\" \"#16557A\" \"#C7A609\" \"#87C232\" \"#64C0AB\" \"#A14C94\" \"#8B7E75\"\n",
      "[8] \"#1187CD\" \"#000000\"\n",
      "[1] \"CR1\"      \"Dong-R4\"  \"Jockey\"   \"L1\"       \"L1-Tx1\"   \"L2\"       \"Penelope\"\n",
      "[8] \"RTE-BovB\" \"RTE-X\"   \n",
      "\n",
      "  1   3   4   6   7   8   9 \n",
      " 16   1 396  34   2   3   3 \n",
      "null device \n",
      "          1 \n",
      "[1] \"#CE0013\" \"#16557A\" \"#C7A609\" \"#87C232\" \"#64C0AB\" \"#A14C94\" \"#8B7E75\"\n",
      "[8] \"#1187CD\" \"#000000\"\n",
      "[1] \"5S-Deu-L2\" \"Alu\"       \"B2\"        \"B4\"        \"ID\"        \"MIR\"      \n",
      "[7] \"tRNA\"      \"tRNA-Deu\"  \"tRNA-RTE\" \n",
      "\n",
      " 1  2  3  4  5  6  7  8  9 \n",
      " 1 80 28 24 16 23  2  1  3 \n",
      "null device \n",
      "          1 \n"
     ]
    }
   ],
   "source": [
    "%%bash\n",
    "dirPATH=/mnt/Storage/home/yanghui/imprinting/result.2021/Exploring/CHMsInOtherContexts/CellStateTransition/CHMOrganization/Universal_specific/Features/Repeats\n",
    "rPATH=/mnt/Storage/home/yanghui/scripts/R\n",
    "\n",
    "LTR_sina(){\n",
    "    cd ${dirPATH}/Universal_ProcessSpecific_NonCHMsCpGrich/LTR_Subfamily\n",
    "    Rscript ${rPATH}/ggplot_sina_colorfull.r \\\n",
    "        enrichmentScore_cmpt_crsp.ggplot_sina.txt \\\n",
    "        enrichmentScore_cmpt_crsp_filtered.ggplot_sina.pdf \\\n",
    "        \"Enrichment score\" \\\n",
    "        \"-12;8;4\" \\\n",
    "        \"UniversalCHMs.A;UniversalCHMs.B;ProcessSpecificCHMs.A;ProcessSpecificCHMs.B;NonCHMsCpGrich.A;NonCHMsCpGrich.B\" \\\n",
    "        \"LTR\" \\\n",
    "        \"ERV1;ERVK;ERVL;ERVL-MaLR;Gypsy\" \\\n",
    "        \"#CE0013;#C7A609;#64C0AB;#A14C94;#1187CD\" \\\n",
    "        \"0.2\" \\\n",
    "        \"0.5\" \\\n",
    "        \"1\" \\\n",
    "        \"5\" \\\n",
    "        \"5\"\n",
    "}\n",
    "LTR_sina\n",
    "\n",
    "LINE_sina(){\n",
    "    cd ${dirPATH}/Universal_ProcessSpecific_NonCHMsCpGrich/LINE_Subfamily\n",
    "    Rscript ${rPATH}/ggplot_sina_colorfull.r \\\n",
    "        enrichmentScore_cmpt_crsp.ggplot_sina.txt \\\n",
    "        enrichmentScore_cmpt_crsp_filtered.ggplot_sina.pdf \\\n",
    "        \"Enrichment score\" \\\n",
    "        \"-12;8;4\" \\\n",
    "        \"UniversalCHMs.A;UniversalCHMs.B;ProcessSpecificCHMs.A;ProcessSpecificCHMs.B;NonCHMsCpGrich.A;NonCHMsCpGrich.B\" \\\n",
    "        \"LINE\" \\\n",
    "        \"CR1;Dong-R4;Jockey;L1;L1-Tx1;L2;Penelope;RTE-BovB;RTE-X\" \\\n",
    "        \"#CE0013;#16557A;#C7A609;#87C232;#64C0AB;#A14C94;#8B7E75;#1187CD;#000000\" \\\n",
    "        \"0.2\" \\\n",
    "        \"0.5\" \\\n",
    "        \"1\" \\\n",
    "        \"5\" \\\n",
    "        \"5\"\n",
    "}\n",
    "LINE_sina\n",
    "\n",
    "SINE_sina(){\n",
    "    cd ${dirPATH}/Universal_ProcessSpecific_NonCHMsCpGrich/SINE_Subfamily\n",
    "    Rscript ${rPATH}/ggplot_sina_colorfull.r \\\n",
    "        enrichmentScore_cmpt_crsp.ggplot_sina.txt \\\n",
    "        enrichmentScore_cmpt_crsp_filtered.ggplot_sina.pdf \\\n",
    "        \"Enrichment score\" \\\n",
    "        \"-12;8;4\" \\\n",
    "        \"UniversalCHMs.A;UniversalCHMs.B;ProcessSpecificCHMs.A;ProcessSpecificCHMs.B;NonCHMsCpGrich.A;NonCHMsCpGrich.B\" \\\n",
    "        \"SINE\" \\\n",
    "        \"5S-Deu-L2;Alu;B2;B4;ID;MIR;tRNA;tRNA-Deu;tRNA-RTE\" \\\n",
    "        \"#CE0013;#16557A;#C7A609;#87C232;#64C0AB;#A14C94;#8B7E75;#1187CD;#000000\" \\\n",
    "        \"0.2\" \\\n",
    "        \"0.5\" \\\n",
    "        \"1\" \\\n",
    "        \"5\" \\\n",
    "        \"5\"\n",
    "}\n",
    "SINE_sina"
   ]
  },
  {
   "cell_type": "markdown",
   "id": "027b1ba0",
   "metadata": {},
   "source": [
    "#### Scatter plot"
   ]
  },
  {
   "cell_type": "code",
   "execution_count": 77,
   "id": "aaa50b13",
   "metadata": {
    "ExecuteTime": {
     "end_time": "2023-01-05T09:13:31.303570Z",
     "start_time": "2023-01-05T09:13:26.474455Z"
    }
   },
   "outputs": [
    {
     "name": "stdout",
     "output_type": "stream",
     "text": [
      "null device \n",
      "          1 \n",
      "null device \n",
      "          1 \n",
      "null device \n",
      "          1 \n"
     ]
    }
   ],
   "source": [
    "%%bash\n",
    "dirPATH=/mnt/Storage/home/yanghui/imprinting/result.2021/Exploring/CHMsInOtherContexts/CellStateTransition/CHMOrganization/Universal_specific/Features/Repeats\n",
    "rPATH=/mnt/Storage/home/yanghui/scripts/R\n",
    "\n",
    "LTR_F(){\n",
    "    cd ${dirPATH}/Universal_ProcessSpecific_NonCHMsCpGrich/LTR_Subfamily\n",
    "    echo -e \"xValue\\tyValue\\tgroup\\tshape\\tsubfamily\" > enrichDetails_cmpt.ggplot_scatter.txt # group: ERV1...; shape: UniversalCHMs\n",
    "    for group in UniversalCHMs ProcessSpecificCHMs NonCHMsCpGrich\n",
    "    do\n",
    "        for cmpt in A B\n",
    "        do\n",
    "            for fml in ERV1 ERVK ERVL ERVL-MaLR Gypsy\n",
    "            do\n",
    "                paste ${group}.cmpt_${cmpt}.overlaped_LTR_${fml}.txt ${group}.cmpt_${cmpt}.EnrichScore_LTR_${fml}.txt | \\\n",
    "                    tail -n +2 | awk -v GROUP=${fml} -v SHAPE=${group}.cmpt_${cmpt} 'BEGIN{FS=OFS=\"\\t\"}{if($1==$4 && $5!=\"-inf\"){print $3*100, $5, GROUP, SHAPE, $1;}}' >> enrichDetails_cmpt.ggplot_scatter.txt\n",
    "            done # for fml end\n",
    "        done # for cmpt end\n",
    "    done # for group end\n",
    "    \n",
    "    Rscript ${rPATH}/ggplot_scatterplot_basic.r \\\n",
    "        enrichDetails_cmpt.ggplot_scatter.txt \\\n",
    "        enrichDetails_cmpt \\\n",
    "        \"Overlapped ratio (%)\" \\\n",
    "        \"Enrichment score\" \\\n",
    "        \"0;100;20\" \\\n",
    "        \"-12;8;4\" \\\n",
    "        \"ERV1;ERVK;ERVL;ERVL-MaLR;Gypsy\" \\\n",
    "        \"T;1;0\" \\\n",
    "        \"0.75\" \\\n",
    "        \"5\" \\\n",
    "        \"5\" \\\n",
    "        \"Set1\"\n",
    "}\n",
    "LTR_F\n",
    "\n",
    "LINE_F(){\n",
    "    cd ${dirPATH}/Universal_ProcessSpecific_NonCHMsCpGrich/LINE_Subfamily\n",
    "    echo -e \"xValue\\tyValue\\tgroup\\tshape\\tsubfamily\" > enrichDetails_cmpt.ggplot_scatter.txt # group: ERV1...; shape: UniversalCHMs\n",
    "    for group in UniversalCHMs ProcessSpecificCHMs NonCHMsCpGrich\n",
    "    do\n",
    "        for cmpt in A B\n",
    "        do\n",
    "            for fml in CR1 Dong-R4 Jockey L1 L1-Tx1 L2 Penelope RTE-BovB RTE-X\n",
    "            do\n",
    "                paste ${group}.cmpt_${cmpt}.overlaped_LINE_${fml}.txt ${group}.cmpt_${cmpt}.EnrichScore_LINE_${fml}.txt | \\\n",
    "                    tail -n +2 | awk -v GROUP=${fml} -v SHAPE=${group}.cmpt_${cmpt} 'BEGIN{FS=OFS=\"\\t\"}{if($1==$4 && $5!=\"-inf\"){print $3*100, $5, GROUP, SHAPE, $1;}}' >> enrichDetails_cmpt.ggplot_scatter.txt\n",
    "            done # for fml end\n",
    "        done # for cmpt end\n",
    "    done # for group end\n",
    "    \n",
    "    Rscript ${rPATH}/ggplot_scatterplot_basic.r \\\n",
    "        enrichDetails_cmpt.ggplot_scatter.txt \\\n",
    "        enrichDetails_cmpt \\\n",
    "        \"Overlapped ratio (%)\" \\\n",
    "        \"Enrichment score\" \\\n",
    "        \"0;100;20\" \\\n",
    "        \"-12;8;4\" \\\n",
    "        \"CR1;Dong-R4;Jockey;L1;L1-Tx1;L2;Penelope;RTE-BovB;RTE-X\" \\\n",
    "        \"T;1;0\" \\\n",
    "        \"0.75\" \\\n",
    "        \"5\" \\\n",
    "        \"5\" \\\n",
    "        \"Set1\"\n",
    "}\n",
    "LINE_F\n",
    "\n",
    "SINE_F(){\n",
    "    cd ${dirPATH}/Universal_ProcessSpecific_NonCHMsCpGrich/SINE_Subfamily\n",
    "    echo -e \"xValue\\tyValue\\tgroup\\tshape\\tsubfamily\" > enrichDetails_cmpt.ggplot_scatter.txt # group: ERV1...; shape: UniversalCHMs\n",
    "    for group in UniversalCHMs ProcessSpecificCHMs NonCHMsCpGrich\n",
    "    do\n",
    "        for cmpt in A B\n",
    "        do\n",
    "            for fml in 5S-Deu-L2 Alu B2 B4 ID MIR tRNA tRNA-Deu tRNA-RTE\n",
    "            do\n",
    "                paste ${group}.cmpt_${cmpt}.overlaped_SINE_${fml}.txt ${group}.cmpt_${cmpt}.EnrichScore_SINE_${fml}.txt | \\\n",
    "                    tail -n +2 | awk -v GROUP=${fml} -v SHAPE=${group}.cmpt_${cmpt} 'BEGIN{FS=OFS=\"\\t\"}{if($1==$4 && $5!=\"-inf\"){print $3*100, $5, GROUP, SHAPE, $1;}}' >> enrichDetails_cmpt.ggplot_scatter.txt\n",
    "            done # for fml end\n",
    "        done # for cmpt end\n",
    "    done # for group end\n",
    "    \n",
    "    Rscript ${rPATH}/ggplot_scatterplot_basic.r \\\n",
    "        enrichDetails_cmpt.ggplot_scatter.txt \\\n",
    "        enrichDetails_cmpt \\\n",
    "        \"Overlapped ratio (%)\" \\\n",
    "        \"Enrichment score\" \\\n",
    "        \"0;100;20\" \\\n",
    "        \"-12;8;4\" \\\n",
    "        \"5S-Deu-L2;Alu;B2;B4;ID;MIR;tRNA;tRNA-Deu;tRNA-RTE\" \\\n",
    "        \"T;1;0\" \\\n",
    "        \"0.75\" \\\n",
    "        \"5\" \\\n",
    "        \"5\" \\\n",
    "        \"Set1\"\n",
    "}\n",
    "SINE_F"
   ]
  },
  {
   "cell_type": "markdown",
   "id": "c65fcb75",
   "metadata": {},
   "source": [
    "#### Enriched vs Non-enriched subfamilies"
   ]
  },
  {
   "cell_type": "code",
   "execution_count": null,
   "id": "9d178ba5",
   "metadata": {},
   "outputs": [],
   "source": [
    "%%bash\n",
    "dirPATH=/mnt/Storage/home/yanghui/imprinting/result.2021/Exploring/CHMsInOtherContexts/CellStateTransition/CHMOrganization/Universal_specific/Features/Repeats\n",
    "\n",
    "for repeatType in LTR LINE SINE\n",
    "do\n",
    "    cd ${dirPATH}/Universal_ProcessSpecific_NonCHMsCpGrich/${repeatType}_Subfamily\n",
    "    for group in UniversalCHMs ProcessSpecificCHMs NonCHMsCpGrich\n",
    "    do\n",
    "        echo -e \"value\\tgroup\" > ${group}.enriched.ggplot_pieplot.txt\n",
    "        for fmlEnrich in $(ls ${group}.EnrichScore_${repeatType}_*.txt)\n",
    "        do\n",
    "            fmlName=$(echo ${fmlEnrich#*EnrichScore_${repeatType}_*})\n",
    "            fmlName=$(echo ${fmlName%.txt})\n",
    "            tail -n +2 ${fmlEnrich} | \\\n",
    "                awk -v GROUP=${fmlName} 'BEGIN{FS=OFS=\"\\t\";TOTAL=0;}{\\\n",
    "                if($2>=1){TOTAL+=1;}}END{print TOTAL, GROUP;}' >> ${group}.enriched.ggplot_pieplot.txt\n",
    "        done # for fmlEnrich end\n",
    "    done # for group end\n",
    "done # for repeatType end"
   ]
  },
  {
   "cell_type": "markdown",
   "id": "120512f0",
   "metadata": {},
   "source": [
    "# Universal vs NonCHM CpGrich"
   ]
  },
  {
   "cell_type": "markdown",
   "id": "69c4ec23",
   "metadata": {},
   "source": [
    "## Region enrichment"
   ]
  },
  {
   "cell_type": "markdown",
   "id": "eb5e3600",
   "metadata": {},
   "source": [
    "### Don't divide according to chromatin states"
   ]
  },
  {
   "cell_type": "code",
   "execution_count": 39,
   "id": "b0a8fdeb",
   "metadata": {
    "ExecuteTime": {
     "end_time": "2023-01-03T08:27:18.047792Z",
     "start_time": "2023-01-03T08:27:16.637968Z"
    }
   },
   "outputs": [
    {
     "name": "stdout",
     "output_type": "stream",
     "text": [
      "null device \n",
      "          1 \n"
     ]
    }
   ],
   "source": [
    "%%bash\n",
    "dirPATH=/mnt/Storage/home/yanghui/imprinting/result.2021/Exploring/CHMsInOtherContexts/CellStateTransition/CHMOrganization/Universal_specific/Features/Repeats\n",
    "rPATH=/mnt/Storage/home/yanghui/scripts/R\n",
    "mkdir -p ${dirPATH}/UniversalCHMs_NonCHMsCpGrich;cd ${dirPATH}/UniversalCHMs_NonCHMsCpGrich\n",
    "Rscript ${rPATH}/ggplot_barplot.r \\\n",
    "    \"${dirPATH}/Universal_ProcessSpecific_NonCHMsCpGrich/regionEnrich.ggplot_basic.txt\" \\\n",
    "    \"regionEnrich.ggplot_barplot.pdf\" \\\n",
    "    \"Region enrichment\" \\\n",
    "    \"\" \\\n",
    "    \"Enrichment score\" \\\n",
    "    \"-6;6.2;2\" \\\n",
    "    \"CGI;promoter;geneBody;exon;intron;LTR;LINE;SINE\" \\\n",
    "    \"UniversalCHMs;NonCHMsCpGrich\" \\\n",
    "    \"dodge\" \\\n",
    "    \"7\" \\\n",
    "    \"3\" \\\n",
    "    \"1\" \\\n",
    "    \"F\""
   ]
  },
  {
   "cell_type": "markdown",
   "id": "dca760fb",
   "metadata": {},
   "source": [
    "### Divide according to chromatin states"
   ]
  },
  {
   "cell_type": "code",
   "execution_count": 41,
   "id": "6aae2420",
   "metadata": {
    "ExecuteTime": {
     "end_time": "2023-01-03T08:32:48.937851Z",
     "start_time": "2023-01-03T08:32:47.387459Z"
    }
   },
   "outputs": [
    {
     "name": "stdout",
     "output_type": "stream",
     "text": [
      "null device \n",
      "          1 \n"
     ]
    }
   ],
   "source": [
    "%%bash\n",
    "dirPATH=/mnt/Storage/home/yanghui/imprinting/result.2021/Exploring/CHMsInOtherContexts/CellStateTransition/CHMOrganization/Universal_specific/Features/Repeats\n",
    "rPATH=/mnt/Storage/home/yanghui/scripts/R\n",
    "mkdir -p ${dirPATH}/UniversalCHMs_NonCHMsCpGrich;cd ${dirPATH}/UniversalCHMs_NonCHMsCpGrich\n",
    "\n",
    "Rscript ${rPATH}/ggplot_barplot.r \\\n",
    "    \"${dirPATH}/Universal_ProcessSpecific_NonCHMsCpGrich/regionEnrich_cmpt.ggplot_basic.txt\" \\\n",
    "    \"regionEnrich_cmpt.ggplot_barplot.pdf\" \\\n",
    "    \"Region enrichment\" \\\n",
    "    \"\" \\\n",
    "    \"Enrichment score\" \\\n",
    "    \"-6;6.2;2\" \\\n",
    "    \"CGI;promoter;geneBody;exon;intron;LTR;LINE;SINE\" \\\n",
    "    \"UniversalCHMs ov A;UniversalCHMs ov B;NonCHMsCpGrich ov A;NonCHMsCpGrich ov B\" \\\n",
    "    \"dodge\" \\\n",
    "    \"7\" \\\n",
    "    \"3\" \\\n",
    "    \"1\" \\\n",
    "    \"F\""
   ]
  },
  {
   "cell_type": "markdown",
   "id": "46d4e4bd",
   "metadata": {},
   "source": [
    "## Repeats subfamily enrichment"
   ]
  },
  {
   "cell_type": "markdown",
   "id": "5aa3e0b3",
   "metadata": {},
   "source": [
    "### Sina plot"
   ]
  },
  {
   "cell_type": "code",
   "execution_count": 58,
   "id": "341905c7",
   "metadata": {
    "ExecuteTime": {
     "end_time": "2023-01-04T09:13:47.411542Z",
     "start_time": "2023-01-04T09:13:42.925761Z"
    }
   },
   "outputs": [
    {
     "name": "stdout",
     "output_type": "stream",
     "text": [
      "[1] \"#CE0013\" \"#C7A609\" \"#64C0AB\" \"#A14C94\" \"#1187CD\"\n",
      "[1] \"ERV1\"      \"ERVK\"      \"ERVL\"      \"ERVL-MaLR\" \"Gypsy\"    \n",
      "\n",
      "  1   2   3   4   5 \n",
      " 91 255  69 101   8 \n",
      "null device \n",
      "          1 \n",
      "[1] \"#CE0013\" \"#16557A\" \"#C7A609\" \"#87C232\" \"#64C0AB\" \"#A14C94\" \"#8B7E75\"\n",
      "[8] \"#1187CD\" \"#000000\"\n",
      "[1] \"CR1\"      \"Dong-R4\"  \"Jockey\"   \"L1\"       \"L1-Tx1\"   \"L2\"       \"Penelope\"\n",
      "[8] \"RTE-BovB\" \"RTE-X\"   \n",
      "\n",
      "  1   4   6   7   8   9 \n",
      " 12 181  15   2   2   3 \n",
      "null device \n",
      "          1 \n",
      "[1] \"#CE0013\" \"#16557A\" \"#C7A609\" \"#87C232\" \"#64C0AB\" \"#A14C94\" \"#8B7E75\"\n",
      "[8] \"#1187CD\" \"#000000\"\n",
      "[1] \"5S-Deu-L2\" \"Alu\"       \"B2\"        \"B4\"        \"ID\"        \"MIR\"      \n",
      "[7] \"tRNA\"      \"tRNA-Deu\"  \"tRNA-RTE\" \n",
      "\n",
      " 1  2  3  4  5  6  7  8  9 \n",
      " 1 31 10  8  6 10  1  1  2 \n",
      "null device \n",
      "          1 \n"
     ]
    }
   ],
   "source": [
    "%%bash\n",
    "dirPATH=/mnt/Storage/home/yanghui/imprinting/result.2021/Exploring/CHMsInOtherContexts/CellStateTransition/CHMOrganization/Universal_specific/Features/Repeats\n",
    "rPATH=/mnt/Storage/home/yanghui/scripts/R\n",
    "\n",
    "LTR_sina(){\n",
    "    mkdir -p ${dirPATH}/UniversalCHMs_NonCHMsCpGrich/LTR_Subfamily;cd ${dirPATH}/UniversalCHMs_NonCHMsCpGrich/LTR_Subfamily\n",
    "    Rscript ${rPATH}/ggplot_sina_colorfull.r \\\n",
    "        ${dirPATH}/Universal_ProcessSpecific_NonCHMsCpGrich/LTR_Subfamily/enrichmentScore.ggplot_sina.txt \\\n",
    "        enrichmentScore_filtered.ggplot_sina.pdf \\\n",
    "        \"Enrichment score\" \\\n",
    "        \"-12;8;4\" \\\n",
    "        \"UniversalCHMs;NonCHMsCpGrich\" \\\n",
    "        \"LTR\" \\\n",
    "        \"ERV1;ERVK;ERVL;ERVL-MaLR;Gypsy\" \\\n",
    "        \"#CE0013;#C7A609;#64C0AB;#A14C94;#1187CD\" \\\n",
    "        \"0.2\" \\\n",
    "        \"0.75\" \\\n",
    "        \"1\" \\\n",
    "        \"6\" \\\n",
    "        \"6.5\"\n",
    "}\n",
    "LTR_sina\n",
    "\n",
    "LINE_sina(){\n",
    "    mkdir -p ${dirPATH}/UniversalCHMs_NonCHMsCpGrich/LINE_Subfamily;cd ${dirPATH}/UniversalCHMs_NonCHMsCpGrich/LINE_Subfamily\n",
    "    Rscript ${rPATH}/ggplot_sina_colorfull.r \\\n",
    "        ${dirPATH}/Universal_ProcessSpecific_NonCHMsCpGrich/LINE_Subfamily/enrichmentScore.ggplot_sina.txt \\\n",
    "        enrichmentScore_filtered.ggplot_sina.pdf \\\n",
    "        \"Enrichment score\" \\\n",
    "        \"-12;8;4\" \\\n",
    "        \"UniversalCHMs;NonCHMsCpGrich\" \\\n",
    "        \"LINE\" \\\n",
    "        \"CR1;Dong-R4;Jockey;L1;L1-Tx1;L2;Penelope;RTE-BovB;RTE-X\" \\\n",
    "        \"#CE0013;#16557A;#C7A609;#87C232;#64C0AB;#A14C94;#8B7E75;#1187CD;#000000\" \\\n",
    "        \"0.2\" \\\n",
    "        \"0.75\" \\\n",
    "        \"1\" \\\n",
    "        \"6\" \\\n",
    "        \"6.2\"\n",
    "}\n",
    "LINE_sina\n",
    "\n",
    "SINE_sina(){\n",
    "    mkdir -p ${dirPATH}/UniversalCHMs_NonCHMsCpGrich/SINE_Subfamily;cd ${dirPATH}/UniversalCHMs_NonCHMsCpGrich/SINE_Subfamily\n",
    "    Rscript ${rPATH}/ggplot_sina_colorfull.r \\\n",
    "        ${dirPATH}/Universal_ProcessSpecific_NonCHMsCpGrich/SINE_Subfamily/enrichmentScore.ggplot_sina.txt \\\n",
    "        enrichmentScore_filtered.ggplot_sina.pdf \\\n",
    "        \"Enrichment score\" \\\n",
    "        \"-12;8;4\" \\\n",
    "        \"UniversalCHMs;NonCHMsCpGrich\" \\\n",
    "        \"SINE\" \\\n",
    "        \"5S-Deu-L2;Alu;B2;B4;ID;MIR;tRNA;tRNA-Deu;tRNA-RTE\" \\\n",
    "        \"#CE0013;#16557A;#C7A609;#87C232;#64C0AB;#A14C94;#8B7E75;#1187CD;#000000\" \\\n",
    "        \"0.2\" \\\n",
    "        \"0.75\" \\\n",
    "        \"1\" \\\n",
    "        \"6\" \\\n",
    "        \"6.1\"\n",
    "}\n",
    "SINE_sina"
   ]
  },
  {
   "cell_type": "markdown",
   "id": "7be29fc0",
   "metadata": {},
   "source": [
    "### Scatter plot"
   ]
  },
  {
   "cell_type": "code",
   "execution_count": 64,
   "id": "a3546343",
   "metadata": {
    "ExecuteTime": {
     "end_time": "2023-01-05T02:58:33.568111Z",
     "start_time": "2023-01-05T02:58:29.439369Z"
    }
   },
   "outputs": [
    {
     "name": "stdout",
     "output_type": "stream",
     "text": [
      "null device \n",
      "          1 \n",
      "null device \n",
      "          1 \n",
      "null device \n",
      "          1 \n"
     ]
    }
   ],
   "source": [
    "%%bash\n",
    "dirPATH=/mnt/Storage/home/yanghui/imprinting/result.2021/Exploring/CHMsInOtherContexts/CellStateTransition/CHMOrganization/Universal_specific/Features/Repeats\n",
    "rPATH=/mnt/Storage/home/yanghui/scripts/R\n",
    "\n",
    "LTR_F(){\n",
    "    cd ${dirPATH}/UniversalCHMs_NonCHMsCpGrich/LTR_Subfamily\n",
    "    # echo -e \"xValue\\tyValue\\tgroup\\tshape\\tsubfamily\" > enrichDetails.ggplot_scatter.txt # group: ERV1...; shape: UniversalCHMs\n",
    "    # for group in UniversalCHMs NonCHMsCpGrich\n",
    "    # do\n",
    "    #     for fml in ERV1 ERVK ERVL ERVL-MaLR Gypsy\n",
    "    #     do\n",
    "    #         paste ${dirPATH}/Universal_ProcessSpecific_NonCHMsCpGrich/LTR_Subfamily/${group}.overlaped_LTR_${fml}.txt ${dirPATH}/Universal_ProcessSpecific_NonCHMsCpGrich/LTR_Subfamily/${group}.EnrichScore_LTR_${fml}.txt | \\\n",
    "    #             tail -n +2 | awk -v GROUP=${fml} -v SHAPE=${group} 'BEGIN{FS=OFS=\"\\t\"}{if($1==$4 && $5!=\"-inf\"){print $3*100, $5, GROUP, SHAPE, $1;}}' >> enrichDetails.ggplot_scatter.txt\n",
    "    #     done # for fml end\n",
    "    # done # for group end\n",
    "    \n",
    "    \n",
    "    \n",
    "    Rscript ${rPATH}/ggplot_scatterplot_basic.r \\\n",
    "        enrichDetails.ggplot_scatter.txt \\\n",
    "        enrichDetails \\\n",
    "        \"Overlapped ratio (%)\" \\\n",
    "        \"Enrichment score\" \\\n",
    "        \"0;80;20\" \\\n",
    "        \"-12;8;4\" \\\n",
    "        \"ERV1;ERVK;ERVL;ERVL-MaLR;Gypsy\" \\\n",
    "        \"T;1;0\" \\\n",
    "        \"0.75\" \\\n",
    "        \"5\" \\\n",
    "        \"5\" \\\n",
    "        \"Set1\"\n",
    "}\n",
    "LTR_F\n",
    "\n",
    "LINE_F(){\n",
    "    cd ${dirPATH}/UniversalCHMs_NonCHMsCpGrich/LINE_Subfamily\n",
    "    # echo -e \"xValue\\tyValue\\tgroup\\tshape\\tsubfamily\" > enrichDetails.ggplot_scatter.txt # group: ERV1...; shape: UniversalCHMs\n",
    "    # for group in UniversalCHMs NonCHMsCpGrich\n",
    "    # do\n",
    "    #     for fml in CR1 Dong-R4 Jockey L1 L1-Tx1 L2 Penelope RTE-BovB RTE-X\n",
    "    #     do\n",
    "    #         paste ${dirPATH}/Universal_ProcessSpecific_NonCHMsCpGrich/LINE_Subfamily/${group}.overlaped_LINE_${fml}.txt ${dirPATH}/Universal_ProcessSpecific_NonCHMsCpGrich/LINE_Subfamily/${group}.EnrichScore_LINE_${fml}.txt | \\\n",
    "    #             tail -n +2 | awk -v GROUP=${fml} -v SHAPE=${group} 'BEGIN{FS=OFS=\"\\t\"}{if($1==$4 && $5!=\"-inf\"){print $3*100, $5, GROUP, SHAPE, $1;}}' >> enrichDetails.ggplot_scatter.txt\n",
    "    #     done # for fml end\n",
    "    # done # for group end\n",
    "    \n",
    "    \n",
    "    \n",
    "    Rscript ${rPATH}/ggplot_scatterplot_basic.r \\\n",
    "        enrichDetails.ggplot_scatter.txt \\\n",
    "        enrichDetails \\\n",
    "        \"Overlapped ratio (%)\" \\\n",
    "        \"Enrichment score\" \\\n",
    "        \"0;100;20\" \\\n",
    "        \"-12;8;4\" \\\n",
    "        \"CR1;Dong-R4;Jockey;L1;L1-Tx1;L2;Penelope;RTE-BovB;RTE-X\" \\\n",
    "        \"T;1;0\" \\\n",
    "        \"0.75\" \\\n",
    "        \"5\" \\\n",
    "        \"5\" \\\n",
    "        \"Set1\"\n",
    "}\n",
    "LINE_F\n",
    "\n",
    "SINE_F(){\n",
    "    cd ${dirPATH}/UniversalCHMs_NonCHMsCpGrich/SINE_Subfamily\n",
    "    # echo -e \"xValue\\tyValue\\tgroup\\tshape\\tsubfamily\" > enrichDetails.ggplot_scatter.txt # group: ERV1...; shape: UniversalCHMs\n",
    "    # for group in UniversalCHMs NonCHMsCpGrich\n",
    "    # do\n",
    "    #     for fml in 5S-Deu-L2 Alu B2 B4 ID MIR tRNA tRNA-Deu tRNA-RTE\n",
    "    #     do\n",
    "    #         paste ${dirPATH}/Universal_ProcessSpecific_NonCHMsCpGrich/SINE_Subfamily/${group}.overlaped_SINE_${fml}.txt ${dirPATH}/Universal_ProcessSpecific_NonCHMsCpGrich/SINE_Subfamily/${group}.EnrichScore_SINE_${fml}.txt | \\\n",
    "    #             tail -n +2 | awk -v GROUP=${fml} -v SHAPE=${group} 'BEGIN{FS=OFS=\"\\t\"}{if($1==$4 && $5!=\"-inf\"){print $3*100, $5, GROUP, SHAPE, $1;}}' >> enrichDetails.ggplot_scatter.txt\n",
    "    #     done # for fml end\n",
    "    # done # for group end\n",
    "    \n",
    "    \n",
    "    \n",
    "    Rscript ${rPATH}/ggplot_scatterplot_basic.r \\\n",
    "        enrichDetails.ggplot_scatter.txt \\\n",
    "        enrichDetails \\\n",
    "        \"Overlapped ratio (%)\" \\\n",
    "        \"Enrichment score\" \\\n",
    "        \"0;100;20\" \\\n",
    "        \"-12;8;4\" \\\n",
    "        \"5S-Deu-L2;Alu;B2;B4;ID;MIR;tRNA;tRNA-Deu;tRNA-RTE\" \\\n",
    "        \"T;1;0\" \\\n",
    "        \"0.75\" \\\n",
    "        \"5\" \\\n",
    "        \"5\" \\\n",
    "        \"Set1\"\n",
    "}\n",
    "SINE_F"
   ]
  },
  {
   "cell_type": "markdown",
   "id": "63b4a1d0",
   "metadata": {},
   "source": [
    "### Pie plot showing enriched subfamily"
   ]
  },
  {
   "cell_type": "code",
   "execution_count": 49,
   "id": "67ee4a76",
   "metadata": {
    "ExecuteTime": {
     "end_time": "2023-01-03T08:47:31.086964Z",
     "start_time": "2023-01-03T08:47:18.154342Z"
    }
   },
   "outputs": [
    {
     "name": "stdout",
     "output_type": "stream",
     "text": [
      "null device \n",
      "          1 \n",
      "null device \n",
      "          1 \n",
      "null device \n",
      "          1 \n",
      "null device \n",
      "          1 \n",
      "null device \n",
      "          1 \n",
      "null device \n",
      "          1 \n"
     ]
    },
    {
     "name": "stderr",
     "output_type": "stream",
     "text": [
      "Warning messages:\n",
      "1: Removed 9 rows containing missing values (position_stack). \n",
      "2: Removed 9 rows containing missing values (geom_text). \n"
     ]
    }
   ],
   "source": [
    "%%bash\n",
    "dirPATH=/mnt/Storage/home/yanghui/imprinting/result.2021/Exploring/CHMsInOtherContexts/CellStateTransition/CHMOrganization/Universal_specific/Features/Repeats\n",
    "rPATH=/mnt/Storage/home/yanghui/scripts/R\n",
    "\n",
    "LTR_pie(){\n",
    "    cd ${dirPATH}/UniversalCHMs_NonCHMsCpGrich/LTR_Subfamily\n",
    "    for group in UniversalCHMs NonCHMsCpGrich\n",
    "    do\n",
    "        Rscript ${rPATH}/ggplot_pie.r \\\n",
    "        ${dirPATH}/Universal_ProcessSpecific_NonCHMsCpGrich/LTR_Subfamily/${group}.enriched.ggplot_pieplot.txt \\\n",
    "        ${group} \\\n",
    "        \"ERV1;ERVK;ERVL;ERVL-MaLR;Gypsy\" \\\n",
    "        \"#CE0013;#C7A609;#64C0AB;#A14C94;#1187CD\" \\\n",
    "        T \\\n",
    "        3.5 \\\n",
    "        3.5\n",
    "    done # for group end\n",
    "}\n",
    "LTR_pie\n",
    "\n",
    "LINE_pie(){\n",
    "    cd ${dirPATH}/UniversalCHMs_NonCHMsCpGrich/LINE_Subfamily\n",
    "    for group in UniversalCHMs NonCHMsCpGrich\n",
    "    do\n",
    "        Rscript ${rPATH}/ggplot_pie.r \\\n",
    "        ${dirPATH}/Universal_ProcessSpecific_NonCHMsCpGrich/LINE_Subfamily/${group}.enriched.ggplot_pieplot.txt \\\n",
    "        ${group} \\\n",
    "        \"CR1;Dong-R4;Jockey;L1;L1-Tx1;L2;Penelope;RTE-BovB;RTE-X\" \\\n",
    "        \"#CE0013;#16557A;#C7A609;#87C232;#64C0AB;#A14C94;#8B7E75;#1187CD;#000000\" \\\n",
    "        T \\\n",
    "        3.5 \\\n",
    "        3.5\n",
    "    done # for group end\n",
    "}\n",
    "LINE_pie\n",
    "\n",
    "SINE_pie(){\n",
    "    cd ${dirPATH}/UniversalCHMs_NonCHMsCpGrich/SINE_Subfamily\n",
    "    for group in UniversalCHMs NonCHMsCpGrich\n",
    "    do\n",
    "        Rscript ${rPATH}/ggplot_pie.r \\\n",
    "        ${dirPATH}/Universal_ProcessSpecific_NonCHMsCpGrich/SINE_Subfamily/${group}.enriched.ggplot_pieplot.txt \\\n",
    "        ${group} \\\n",
    "        \"5S-Deu-L2;Alu;B2;B4;ID;MIR;tRNA;tRNA-Deu;tRNA-RTE\" \\\n",
    "        \"#CE0013;#16557A;#C7A609;#87C232;#64C0AB;#A14C94;#8B7E75;#1187CD;#000000\" \\\n",
    "        T \\\n",
    "        3.5 \\\n",
    "        3.5\n",
    "    done # for group end\n",
    "}\n",
    "SINE_pie"
   ]
  },
  {
   "cell_type": "markdown",
   "id": "1db6adb6",
   "metadata": {},
   "source": [
    "### Conservation score"
   ]
  },
  {
   "cell_type": "markdown",
   "id": "9571d23b",
   "metadata": {},
   "source": [
    "#### Obtain Enriched vs NonEnriched repeat subfamilies"
   ]
  },
  {
   "cell_type": "code",
   "execution_count": 51,
   "id": "8ab04a4d",
   "metadata": {
    "ExecuteTime": {
     "end_time": "2023-01-03T08:53:59.430405Z",
     "start_time": "2023-01-03T08:53:59.382917Z"
    }
   },
   "outputs": [],
   "source": [
    "%%bash\n",
    "dirPATH=/mnt/Storage/home/yanghui/imprinting/result.2021/Exploring/CHMsInOtherContexts/CellStateTransition/CHMOrganization/Universal_specific/Features/Repeats\n",
    "for repeatType in LTR LINE SINE\n",
    "do\n",
    "    cd ${dirPATH}/UniversalCHMs_NonCHMsCpGrich/${repeatType}_Subfamily\n",
    "    sort -u ${dirPATH}/Universal_ProcessSpecific_NonCHMsCpGrich/${repeatType}_Subfamily/UniversalCHMs.subfml_enriched.txt > subfml_Enriched.txt #\n",
    "    grep -vwf subfml_Enriched.txt ${dirPATH}/Universal_ProcessSpecific_NonCHMsCpGrich/${repeatType}_Subfamily/all.subfml.txt > subfml_NonEnriched.txt #\n",
    "done # for repeatType end"
   ]
  },
  {
   "cell_type": "markdown",
   "id": "bd0a68bd",
   "metadata": {},
   "source": [
    "#### Obtain corresponding annotation"
   ]
  },
  {
   "cell_type": "code",
   "execution_count": 52,
   "id": "05de5183",
   "metadata": {
    "ExecuteTime": {
     "end_time": "2023-01-03T08:59:51.266778Z",
     "start_time": "2023-01-03T08:59:34.760035Z"
    }
   },
   "outputs": [
    {
     "name": "stderr",
     "output_type": "stream",
     "text": [
      "sort: cannot read: subfml_Enriched.bed: No such file or directory\n"
     ]
    }
   ],
   "source": [
    "%%bash\n",
    "anPATH=/mnt/Storage/home/yanghui/annotations\n",
    "dirPATH=/mnt/Storage/home/yanghui/imprinting/result.2021/Exploring/CHMsInOtherContexts/CellStateTransition/CHMOrganization/Universal_specific/Features/Repeats\n",
    "\n",
    "for repeatType in LTR LINE SINE\n",
    "do\n",
    "    cd ${dirPATH}/UniversalCHMs_NonCHMsCpGrich/${repeatType}_Subfamily\n",
    "    for group in Enriched NonEnriched\n",
    "    do\n",
    "        if [ -s subfml_${group}.txt ]\n",
    "        then\n",
    "            for subfml in $(cut -f 1 subfml_${group}.txt)\n",
    "            do\n",
    "                cat ${anPATH}/mm10/Repeats/${repeatType}/*/mm10.${subfml}.bed | \\\n",
    "                    intersectBed -a - -b ${anPATH}/mm10/mm10_euch.chrom.limits | \\\n",
    "                    cut -f 1-3 >> subfml_${group}.bed\n",
    "            done # for subfml end\n",
    "        fi\n",
    "        sort -k1,1 -k2,2n -u subfml_${group}.bed > subfml_${group}.bed.tmp && mv subfml_${group}.bed.tmp subfml_${group}.bed\n",
    "    done # for group end\n",
    "done # for repeatType end"
   ]
  },
  {
   "cell_type": "markdown",
   "id": "08fd0403",
   "metadata": {},
   "source": [
    "#### Obtain average conservation score"
   ]
  },
  {
   "cell_type": "code",
   "execution_count": 54,
   "id": "643ba5dc",
   "metadata": {
    "ExecuteTime": {
     "end_time": "2023-01-03T09:11:51.597572Z",
     "start_time": "2023-01-03T09:10:57.405438Z"
    }
   },
   "outputs": [
    {
     "name": "stdout",
     "output_type": "stream",
     "text": [
      "null device \n",
      "          1 \n",
      "null device \n",
      "          1 \n",
      "[1] \"wilcox.test of significance between different xValues\"\n",
      "# A tibble: 1 × 8\n",
      "  .y.    group1   group2          p p.adj p.format p.signif method  \n",
      "  <chr>  <chr>    <chr>       <dbl> <dbl> <chr>    <chr>    <chr>   \n",
      "1 yValue Enriched NonEnriched     0     0 <2e-16   ****     Wilcoxon\n",
      "[1] \"t.test of significance between different xValues\"\n",
      "# A tibble: 1 × 8\n",
      "  .y.    group1   group2              p    p.adj p.format p.signif method\n",
      "  <chr>  <chr>    <chr>           <dbl>    <dbl> <chr>    <chr>    <chr> \n",
      "1 yValue Enriched NonEnriched 5.51e-158 5.5e-158 <2e-16   ****     T-test\n",
      "null device \n",
      "          1 \n",
      "null device \n",
      "          1 \n",
      "[1] \"wilcox.test of significance between different xValues\"\n",
      "# A tibble: 1 × 8\n",
      "  .y.    group1   group2             p   p.adj p.format p.signif method  \n",
      "  <chr>  <chr>    <chr>          <dbl>   <dbl> <chr>    <chr>    <chr>   \n",
      "1 yValue Enriched NonEnriched 0.000323 0.00032 0.00032  ***      Wilcoxon\n",
      "[1] \"t.test of significance between different xValues\"\n",
      "# A tibble: 1 × 8\n",
      "  .y.    group1   group2            p p.adj p.format p.signif method\n",
      "  <chr>  <chr>    <chr>         <dbl> <dbl> <chr>    <chr>    <chr> \n",
      "1 yValue Enriched NonEnriched 0.00204 0.002 0.002    **       T-test\n"
     ]
    },
    {
     "name": "stderr",
     "output_type": "stream",
     "text": [
      "Warning messages:\n",
      "1: Removed 24628 rows containing non-finite values (stat_ydensity). \n",
      "2: Removed 24628 rows containing non-finite values (stat_boxplot). \n",
      "Warning messages:\n",
      "1: Removed 24628 rows containing non-finite values (stat_boxplot). \n",
      "2: Removed 24628 rows containing non-finite values (stat_boxplot). \n",
      "3: Removed 1 rows containing missing values (geom_hline). \n",
      "Warning messages:\n",
      "1: Removed 28571 rows containing non-finite values (stat_ydensity). \n",
      "2: Removed 28571 rows containing non-finite values (stat_boxplot). \n",
      "Warning messages:\n",
      "1: Removed 28571 rows containing non-finite values (stat_boxplot). \n",
      "2: Removed 28571 rows containing non-finite values (stat_boxplot). \n",
      "3: Removed 1 rows containing missing values (geom_hline). \n"
     ]
    }
   ],
   "source": [
    "%%bash\n",
    "dirPATH=/mnt/Storage/home/yanghui/imprinting/result.2021/Exploring/CHMsInOtherContexts/CellStateTransition/CHMOrganization/Universal_specific/Features/Repeats\n",
    "anPATH=/mnt/Storage/home/yanghui/annotations\n",
    "shPATH=/mnt/Storage/home/yanghui/scripts/shell\n",
    "rPATH=/mnt/Storage/home/yanghui/scripts/R\n",
    "\n",
    "for repeatType in LTR LINE\n",
    "do\n",
    "    cd ${dirPATH}/UniversalCHMs_NonCHMsCpGrich/${repeatType}_Subfamily\n",
    "    # echo -e \"xValue\\tyValue\\tgroup\" > phastCons60wayPlacental_subfml.ggplot_basic.txt\n",
    "    # for group in Enriched NonEnriched\n",
    "    # do\n",
    "    #     if [ -f subfml_${group}.bed ]\n",
    "    #     then\n",
    "    #         bash ${shPATH}/averageSignalInRegion.sh \\\n",
    "    #             subfml_${group}.bed \\\n",
    "    #             ${anPATH}/mm10/Conservation/mm10.60way.phastCons60wayPlacental.bw \\\n",
    "    #             1 \\\n",
    "    #             subfml_${group}.phastConsPlacental.txt\n",
    "    #         \n",
    "    #         awk -v XVALUE=${group} -v GROUP=${repeatType} 'BEGIN{FS=OFS=\"\\t\"}{print XVALUE, $4, GROUP;}' \\\n",
    "    #             subfml_${group}.phastConsPlacental.txt >> phastCons60wayPlacental_subfml.ggplot_basic.txt\n",
    "    #     fi\n",
    "    # done # for group end\n",
    "    \n",
    "    # T: executed in 6m 8s, finished 17:09:18 2023-01-03\n",
    "    \n",
    "    \n",
    "    # Violin plot\n",
    "    Rscript ${rPATH}/ggplot_violin.r \\\n",
    "        phastCons60wayPlacental_subfml.ggplot_basic.txt \\\n",
    "        phastCons60wayPlacental_subfml.ggplot_violin.pdf \\\n",
    "        ${repeatType} \\\n",
    "        \"\" \\\n",
    "        \"Conservation score\" \\\n",
    "        0 \\\n",
    "        0.4 \\\n",
    "        0.2 \\\n",
    "        \"Enriched;NonEnriched\" \\\n",
    "        \"${repeatType}\" \\\n",
    "        3 \\\n",
    "        4\n",
    "                \n",
    "    # box plot\n",
    "    Rscript ${rPATH}/ggplot_boxplot.r \\\n",
    "        phastCons60wayPlacental_subfml.ggplot_basic.txt \\\n",
    "        phastCons60wayPlacental_subfml.ggplot_boxplot.pdf \\\n",
    "        ${repeatType} \\\n",
    "        \"\" \\\n",
    "        \"Conservation score\" \\\n",
    "        0 \\\n",
    "        0.4 \\\n",
    "        0.2 \\\n",
    "        \"Enriched;NonEnriched\" \\\n",
    "        \"${repeatType}\" \\\n",
    "        3 \\\n",
    "        4\n",
    "done # for repeatType end"
   ]
  },
  {
   "cell_type": "markdown",
   "id": "f4645514",
   "metadata": {},
   "source": [
    "# Fig3 & FigS3"
   ]
  },
  {
   "cell_type": "markdown",
   "id": "52f5be7a",
   "metadata": {},
   "source": [
    "## Obtain annotation"
   ]
  },
  {
   "cell_type": "code",
   "execution_count": 86,
   "id": "7ee39d55",
   "metadata": {
    "ExecuteTime": {
     "end_time": "2023-01-07T13:01:21.868505Z",
     "start_time": "2023-01-07T13:01:21.791462Z"
    }
   },
   "outputs": [],
   "source": [
    "%%bash\n",
    "anPATH=/mnt/Storage/home/yanghui/annotations\n",
    "dirPATH=/mnt/Storage/home/yanghui/imprinting/result.2021/Exploring/CHMsInOtherContexts/CellStateTransition/CHMOrganization/Universal_specific/Features/Repeats\n",
    "dataPATH_ymw=/mnt/Storage/home/wangyiman/CHMsInOtherContexts/CellStateTransition/CHMOrganization\n",
    "dataPATH_nonCHMsCpGrich1kb=/mnt/Storage/home/yanghui/imprinting/result.2021/Exploring/CHMsInOtherContexts/CellStateTransition/CHMOrganization/NonCHMsCpGrich.bed\n",
    "mkdir -p ${dirPATH}/UniversalCHMs_NonCHMsCpGrich1kb;cd ${dirPATH}/UniversalCHMs_NonCHMsCpGrich1kb\n",
    "cp ${dataPATH_ymw}/Universal_specific/Universal.CHM.bed UniversalCHMs.bed # 2,677\n",
    "cp ${dataPATH_nonCHMsCpGrich1kb} NonCHMsCpGrich.bed # 22,069\n"
   ]
  },
  {
   "cell_type": "markdown",
   "id": "97e0a803",
   "metadata": {},
   "source": [
    "### Updated annotation in compartment A and B"
   ]
  },
  {
   "cell_type": "code",
   "execution_count": 9,
   "id": "b86e8eec",
   "metadata": {
    "ExecuteTime": {
     "end_time": "2023-03-02T14:15:44.960287Z",
     "start_time": "2023-03-02T14:15:44.869245Z"
    }
   },
   "outputs": [],
   "source": [
    "%%bash\n",
    "anPATH=/mnt/Storage/home/yanghui/annotations\n",
    "dirPATH=/mnt/Storage/home/yanghui/imprinting/result.2021/Exploring/CHMsInOtherContexts/CellStateTransition/CHMOrganization/Universal_specific/Features/Repeats\n",
    "dataPATH_ymw_cpm=/mnt/Storage/home/wangyiman/CHMsInOtherContexts/CellStateTransition/CHMOrganization/Universal_specific/Features/ChromatinStates/Cavalli_Cell2017_ABcompartment_5tissue\n",
    "mkdir -p ${dirPATH}/UniversalCHMs_NonCHMsCpGrich1kb;cd ${dirPATH}/UniversalCHMs_NonCHMsCpGrich1kb\n",
    "cp ${dataPATH_ymw_cpm}/CHM_intersect_table/intersectOnly_UniversalCHM_5tissue_A.bed UniversalCHMs.cpm_A.bed # 553\n",
    "cp ${dataPATH_ymw_cpm}/CHM_intersect_table/intersectOnly_UniversalCHM_5tissue_B.bed UniversalCHMs.cpm_B.bed # 946\n",
    "cp ${dataPATH_ymw_cpm}/nonCHM_intersect_table/intersectOnly_nonCHM_5tissue_A.bed CpGrichNonCHMs.cpm_A.bed # 12,351\n",
    "cp ${dataPATH_ymw_cpm}/nonCHM_intersect_table/intersectOnly_nonCHM_5tissue_B.bed CpGrichNonCHMs.cpm_B.bed # 639"
   ]
  },
  {
   "cell_type": "markdown",
   "id": "6148b46f",
   "metadata": {},
   "source": [
    "## Region enrichment"
   ]
  },
  {
   "cell_type": "markdown",
   "id": "f76df183",
   "metadata": {},
   "source": [
    "### Don't divide according to chromatin state"
   ]
  },
  {
   "cell_type": "markdown",
   "id": "aaf82826",
   "metadata": {},
   "source": [
    "#### Obtain region enrichment details"
   ]
  },
  {
   "cell_type": "code",
   "execution_count": 89,
   "id": "a1946ced",
   "metadata": {
    "ExecuteTime": {
     "end_time": "2023-01-07T13:05:45.378257Z",
     "start_time": "2023-01-07T13:05:23.391525Z"
    },
    "code_folding": []
   },
   "outputs": [
    {
     "name": "stdout",
     "output_type": "stream",
     "text": [
      "null device \n",
      "          1 \n",
      "null device \n",
      "          1 \n",
      "null device \n",
      "          1 \n",
      "null device \n",
      "          1 \n"
     ]
    }
   ],
   "source": [
    "%%bash\n",
    "dirPATH=/mnt/Storage/home/yanghui/imprinting/result.2021/Exploring/CHMsInOtherContexts/CellStateTransition/CHMOrganization/Universal_specific/Features/Repeats\n",
    "anPATH=/mnt/Storage/home/yanghui/annotations\n",
    "shPATH=/mnt/Storage/home/yanghui/scripts/shell\n",
    "mkdir -p ${dirPATH}/UniversalCHMs_NonCHMsCpGrich1kb;cd ${dirPATH}/UniversalCHMs_NonCHMsCpGrich1kb\n",
    "\n",
    "for group in UniversalCHMs NonCHMsCpGrich\n",
    "do\n",
    "    bash ${shPATH}/regionEnrichment_userDefined.sh \\\n",
    "        \"${dirPATH}/UniversalCHMs_NonCHMsCpGrich1kb\" \\\n",
    "        \"mm10_euch\" \\\n",
    "        \"${anPATH}/mm10/mm10_euch.chrom.sizes\" \\\n",
    "        \"${group}.bed\" \\\n",
    "        \"${anPATH}/mm10/RegionEnrichment/mm10_euch.CGI_Unmasked.merged.bed;${anPATH}/mm10/RegionEnrichment/mm10_euch.promoter.merged.bed;${anPATH}/mm10/RegionEnrichment/mm10_euch.geneBody.merged.bed;${anPATH}/mm10/RegionEnrichment/mm10_euch.exon.merged.bed;${anPATH}/mm10/RegionEnrichment/mm10_euch.intron.merged.bed;${anPATH}/mm10/RegionEnrichment/mm10_euch.LTR.merged.bed;${anPATH}/mm10/RegionEnrichment/mm10_euch.LINE.merged.bed;${anPATH}/mm10/RegionEnrichment/mm10_euch.SINE.merged.bed\" \\\n",
    "        \"regionEnrich_${group}\"\n",
    "done # for group end"
   ]
  },
  {
   "cell_type": "markdown",
   "id": "d4f7756a",
   "metadata": {
    "heading_collapsed": true
   },
   "source": [
    "#### Plot together"
   ]
  },
  {
   "cell_type": "code",
   "execution_count": 90,
   "id": "565f39a7",
   "metadata": {
    "ExecuteTime": {
     "end_time": "2023-01-07T13:07:14.457154Z",
     "start_time": "2023-01-07T13:07:10.892283Z"
    },
    "hidden": true
   },
   "outputs": [
    {
     "name": "stdout",
     "output_type": "stream",
     "text": [
      "null device \n",
      "          1 \n"
     ]
    }
   ],
   "source": [
    "%%bash\n",
    "dirPATH=/mnt/Storage/home/yanghui/imprinting/result.2021/Exploring/CHMsInOtherContexts/CellStateTransition/CHMOrganization/Universal_specific/Features/Repeats\n",
    "rPATH=/mnt/Storage/home/yanghui/scripts/R\n",
    "cd ${dirPATH}/UniversalCHMs_NonCHMsCpGrich1kb\n",
    "\n",
    "# Plot together\n",
    "echo -e \"xValue\\tyValue\\tgroup\" > regionEnrich.ggplot_basic.txt\n",
    "for group in UniversalCHMs NonCHMsCpGrich\n",
    "do\n",
    "    tail -n +2 regionEnrich_${group}.EnrichScore.txt | \\\n",
    "        awk -v GROUP=${group} 'BEGIN{FS=OFS=\"\\t\"}{\\\n",
    "        split($1, a, \"_\");\\\n",
    "        print a[1], $2, GROUP;}' >> regionEnrich.ggplot_basic.txt\n",
    "done # for group end\n",
    "\n",
    "Rscript ${rPATH}/ggplot_barplot.r \\\n",
    "    \"regionEnrich.ggplot_basic.txt\" \\\n",
    "    \"regionEnrich.ggplot_barplot.pdf\" \\\n",
    "    \"Region enrichment\" \\\n",
    "    \"\" \\\n",
    "    \"Enrichment score\" \\\n",
    "    \"-6;6.2;2\" \\\n",
    "    \"CGI;promoter;geneBody;exon;intron;LTR;LINE;SINE\" \\\n",
    "    \"UniversalCHMs;NonCHMsCpGrich\" \\\n",
    "    \"dodge\" \\\n",
    "    \"7\" \\\n",
    "    \"3\" \\\n",
    "    \"1\" \\\n",
    "    \"F\""
   ]
  },
  {
   "cell_type": "markdown",
   "id": "14f62a2d",
   "metadata": {},
   "source": [
    "### Divide according to chromatin state"
   ]
  },
  {
   "cell_type": "markdown",
   "id": "54e126cf",
   "metadata": {},
   "source": [
    "#### Obtain region enrichment details"
   ]
  },
  {
   "cell_type": "code",
   "execution_count": 11,
   "id": "020bffb1",
   "metadata": {
    "ExecuteTime": {
     "end_time": "2023-03-03T01:41:44.104638Z",
     "start_time": "2023-03-03T01:41:02.207984Z"
    }
   },
   "outputs": [
    {
     "name": "stdout",
     "output_type": "stream",
     "text": [
      "null device \n",
      "          1 \n",
      "null device \n",
      "          1 \n",
      "null device \n",
      "          1 \n",
      "null device \n",
      "          1 \n",
      "null device \n",
      "          1 \n",
      "null device \n",
      "          1 \n",
      "null device \n",
      "          1 \n",
      "null device \n",
      "          1 \n"
     ]
    }
   ],
   "source": [
    "%%bash\n",
    "dirPATH=/mnt/Storage/home/yanghui/imprinting/result.2021/Exploring/CHMsInOtherContexts/CellStateTransition/CHMOrganization/Universal_specific/Features/Repeats\n",
    "anPATH=/mnt/Storage/home/yanghui/annotations\n",
    "shPATH=/mnt/Storage/home/yanghui/scripts/shell\n",
    "mkdir -p ${dirPATH}/UniversalCHMs_NonCHMsCpGrich1kb;cd ${dirPATH}/UniversalCHMs_NonCHMsCpGrich1kb\n",
    " \n",
    "for group in UniversalCHMs.cpm_A UniversalCHMs.cpm_B CpGrichNonCHMs.cpm_A CpGrichNonCHMs.cpm_B\n",
    "do\n",
    "    bash ${shPATH}/regionEnrichment_userDefined.sh \\\n",
    "        \"${dirPATH}/UniversalCHMs_NonCHMsCpGrich1kb\" \\\n",
    "        \"mm10_euch\" \\\n",
    "        \"${anPATH}/mm10/mm10_euch.chrom.sizes\" \\\n",
    "        \"${group}.bed\" \\\n",
    "        \"${anPATH}/mm10/RegionEnrichment/mm10_euch.CGI_Unmasked.merged.bed;${anPATH}/mm10/RegionEnrichment/mm10_euch.promoter.merged.bed;${anPATH}/mm10/RegionEnrichment/mm10_euch.geneBody.merged.bed;${anPATH}/mm10/RegionEnrichment/mm10_euch.exon.merged.bed;${anPATH}/mm10/RegionEnrichment/mm10_euch.intron.merged.bed;${anPATH}/mm10/RegionEnrichment/mm10_euch.LTR.merged.bed;${anPATH}/mm10/RegionEnrichment/mm10_euch.LINE.merged.bed;${anPATH}/mm10/RegionEnrichment/mm10_euch.SINE.merged.bed\" \\\n",
    "        \"regionEnrich_${group}\"\n",
    "done # for group end"
   ]
  },
  {
   "cell_type": "markdown",
   "id": "2e85b438",
   "metadata": {},
   "source": [
    "#### Plot together"
   ]
  },
  {
   "cell_type": "code",
   "execution_count": 13,
   "id": "4675f568",
   "metadata": {
    "ExecuteTime": {
     "end_time": "2023-03-03T01:43:05.298931Z",
     "start_time": "2023-03-03T01:43:03.905614Z"
    }
   },
   "outputs": [
    {
     "name": "stdout",
     "output_type": "stream",
     "text": [
      "null device \n",
      "          1 \n"
     ]
    }
   ],
   "source": [
    "%%bash\n",
    "dirPATH=/mnt/Storage/home/yanghui/imprinting/result.2021/Exploring/CHMsInOtherContexts/CellStateTransition/CHMOrganization/Universal_specific/Features/Repeats\n",
    "rPATH=/mnt/Storage/home/yanghui/scripts/R\n",
    "cd ${dirPATH}/UniversalCHMs_NonCHMsCpGrich1kb\n",
    "\n",
    "# Plot together\n",
    "echo -e \"xValue\\tyValue\\tgroup\" > regionEnrich_cpm.ggplot_basic.txt\n",
    "for group in UniversalCHMs.cpm_A UniversalCHMs.cpm_B CpGrichNonCHMs.cpm_A CpGrichNonCHMs.cpm_B\n",
    "do\n",
    "    tail -n +2 regionEnrich_${group}.EnrichScore.txt | \\\n",
    "        awk -v GROUP=${group} 'BEGIN{FS=OFS=\"\\t\"}{\\\n",
    "        split($1, a, \"_\");\\\n",
    "        print a[1], $2, GROUP;}' >> regionEnrich_cpm.ggplot_basic.txt\n",
    "done # for group end\n",
    "\n",
    "Rscript ${rPATH}/ggplot_barplot.r \\\n",
    "    \"regionEnrich_cpm.ggplot_basic.txt\" \\\n",
    "    \"regionEnrich_cpm.ggplot_barplot.pdf\" \\\n",
    "    \"Region enrichment\" \\\n",
    "    \"\" \\\n",
    "    \"Enrichment score\" \\\n",
    "    \"-8;6.2;2\" \\\n",
    "    \"CGI;promoter;geneBody;exon;intron;LTR;LINE;SINE\" \\\n",
    "    \"UniversalCHMs.cpm_A;UniversalCHMs.cpm_B;CpGrichNonCHMs.cpm_A;CpGrichNonCHMs.cpm_B\" \\\n",
    "    \"dodge\" \\\n",
    "    \"7\" \\\n",
    "    \"3\" \\\n",
    "    \"1\" \\\n",
    "    \"F\""
   ]
  },
  {
   "cell_type": "markdown",
   "id": "70f1f5bf",
   "metadata": {},
   "source": [
    "## Repeats subfamily enrichment"
   ]
  },
  {
   "cell_type": "markdown",
   "id": "1ec61ba5",
   "metadata": {},
   "source": [
    "### Obtain enrichment score"
   ]
  },
  {
   "cell_type": "code",
   "execution_count": 92,
   "id": "8632b6c9",
   "metadata": {
    "ExecuteTime": {
     "end_time": "2023-01-07T13:13:30.982289Z",
     "start_time": "2023-01-07T13:11:16.222571Z"
    },
    "code_folding": []
   },
   "outputs": [
    {
     "name": "stdout",
     "output_type": "stream",
     "text": [
      "null device \n",
      "          1 \n",
      "null device \n",
      "          1 \n",
      "null device \n",
      "          1 \n",
      "null device \n",
      "          1 \n",
      "null device \n",
      "          1 \n",
      "null device \n",
      "          1 \n",
      "null device \n",
      "          1 \n",
      "null device \n",
      "          1 \n",
      "null device \n",
      "          1 \n",
      "null device \n",
      "          1 \n",
      "null device \n",
      "          1 \n",
      "null device \n",
      "          1 \n",
      "null device \n",
      "          1 \n",
      "null device \n",
      "          1 \n",
      "null device \n",
      "          1 \n",
      "null device \n",
      "          1 \n",
      "null device \n",
      "          1 \n",
      "null device \n",
      "          1 \n",
      "null device \n",
      "          1 \n",
      "null device \n",
      "          1 \n",
      "null device \n",
      "          1 \n",
      "null device \n",
      "          1 \n",
      "null device \n",
      "          1 \n",
      "null device \n",
      "          1 \n",
      "null device \n",
      "          1 \n",
      "null device \n",
      "          1 \n",
      "null device \n",
      "          1 \n",
      "null device \n",
      "          1 \n",
      "null device \n",
      "          1 \n",
      "null device \n",
      "          1 \n",
      "null device \n",
      "          1 \n",
      "null device \n",
      "          1 \n",
      "null device \n",
      "          1 \n",
      "null device \n",
      "          1 \n",
      "null device \n",
      "          1 \n",
      "null device \n",
      "          1 \n",
      "null device \n",
      "          1 \n",
      "null device \n",
      "          1 \n",
      "null device \n",
      "          1 \n",
      "null device \n",
      "          1 \n",
      "null device \n",
      "          1 \n",
      "null device \n",
      "          1 \n",
      "null device \n",
      "          1 \n",
      "null device \n",
      "          1 \n",
      "null device \n",
      "          1 \n",
      "null device \n",
      "          1 \n",
      "null device \n",
      "          1 \n",
      "null device \n",
      "          1 \n",
      "null device \n",
      "          1 \n",
      "null device \n",
      "          1 \n",
      "null device \n",
      "          1 \n",
      "null device \n",
      "          1 \n",
      "null device \n",
      "          1 \n",
      "null device \n",
      "          1 \n",
      "null device \n",
      "          1 \n",
      "null device \n",
      "          1 \n",
      "null device \n",
      "          1 \n",
      "null device \n",
      "          1 \n",
      "null device \n",
      "          1 \n",
      "null device \n",
      "          1 \n",
      "null device \n",
      "          1 \n",
      "null device \n",
      "          1 \n",
      "null device \n",
      "          1 \n",
      "null device \n",
      "          1 \n",
      "null device \n",
      "          1 \n",
      "null device \n",
      "          1 \n",
      "null device \n",
      "          1 \n",
      "null device \n",
      "          1 \n",
      "null device \n",
      "          1 \n",
      "null device \n",
      "          1 \n",
      "null device \n",
      "          1 \n",
      "null device \n",
      "          1 \n",
      "null device \n",
      "          1 \n",
      "null device \n",
      "          1 \n",
      "null device \n",
      "          1 \n",
      "null device \n",
      "          1 \n",
      "null device \n",
      "          1 \n",
      "null device \n",
      "          1 \n",
      "null device \n",
      "          1 \n",
      "null device \n",
      "          1 \n",
      "null device \n",
      "          1 \n",
      "null device \n",
      "          1 \n",
      "null device \n",
      "          1 \n",
      "null device \n",
      "          1 \n",
      "null device \n",
      "          1 \n",
      "null device \n",
      "          1 \n",
      "null device \n",
      "          1 \n",
      "null device \n",
      "          1 \n",
      "null device \n",
      "          1 \n",
      "null device \n",
      "          1 \n",
      "null device \n",
      "          1 \n",
      "null device \n",
      "          1 \n"
     ]
    },
    {
     "name": "stderr",
     "output_type": "stream",
     "text": [
      "Runtime error (func=(main), adr=3): Divide by zero\n",
      "Runtime error (func=(main), adr=3): Divide by zero\n"
     ]
    }
   ],
   "source": [
    "%%bash\n",
    "dirPATH=/mnt/Storage/home/yanghui/imprinting/result.2021/Exploring/CHMsInOtherContexts/CellStateTransition/CHMOrganization/Universal_specific/Features/Repeats\n",
    "shPATH=/mnt/Storage/home/yanghui/scripts/shell\n",
    "cd ${dirPATH}/UniversalCHMs_NonCHMsCpGrich1kb\n",
    "mkdir -p LTR_Subfamily LINE_Subfamily SINE_Subfamily\n",
    "\n",
    "for group in UniversalCHMs NonCHMsCpGrich\n",
    "do\n",
    "    for repeatType in LTR LINE SINE\n",
    "    do\n",
    "        bash ${shPATH}/regionEnrichment_${repeatType}_mm10_euch.sh \\\n",
    "            \"${dirPATH}/UniversalCHMs_NonCHMsCpGrich1kb/${repeatType}_Subfamily\" \\\n",
    "            \"${dirPATH}/UniversalCHMs_NonCHMsCpGrich1kb/${group}.bed\" \\\n",
    "            \"${group}\"\n",
    "    done # for repeatType end\n",
    "done # for group end"
   ]
  },
  {
   "cell_type": "markdown",
   "id": "24016ad9",
   "metadata": {},
   "source": [
    "### Sina plot"
   ]
  },
  {
   "cell_type": "markdown",
   "id": "c7f1c0f6",
   "metadata": {},
   "source": [
    "#### Prepare for sina plot"
   ]
  },
  {
   "cell_type": "code",
   "execution_count": 7,
   "id": "7dea4eaa",
   "metadata": {
    "ExecuteTime": {
     "end_time": "2023-03-02T13:01:42.016215Z",
     "start_time": "2023-03-02T13:01:41.439411Z"
    }
   },
   "outputs": [],
   "source": [
    "%%bash\n",
    "dirPATH=/mnt/Storage/home/yanghui/imprinting/result.2021/Exploring/CHMsInOtherContexts/CellStateTransition/CHMOrganization/Universal_specific/Features/Repeats\n",
    "\n",
    "for repeatType in LTR LINE SINE\n",
    "do\n",
    "    cd ${dirPATH}/UniversalCHMs_NonCHMsCpGrich1kb/${repeatType}_Subfamily\n",
    "    echo -e \"xValue\\tyValue\\tgroup\\tcol\\tlabel\" > enrichmentScore.ggplot_sina.txt\n",
    "    for group in UniversalCHMs NonCHMsCpGrich\n",
    "    do\n",
    "        for fmlEnrich in $(ls ${group}.EnrichScore_${repeatType}_*.txt)\n",
    "        do\n",
    "            fmlName=$(echo ${fmlEnrich#*EnrichScore_${repeatType}_*})\n",
    "            fmlName=$(echo ${fmlName%.txt})\n",
    "            tail -n +2 ${fmlEnrich} | grep -v \"inf\" | \\\n",
    "                awk -v XVALUE=${group} -v GROUP=${repeatType} -v COL=${fmlName} 'BEGIN{FS=OFS=\"\\t\"}{\\\n",
    "                print XVALUE, $2, GROUP, COL, $1;}' >> enrichmentScore.ggplot_sina.txt\n",
    "        done # for fmlEnrich end\n",
    "    done # for group end\n",
    "done # for repeatType end\n"
   ]
  },
  {
   "cell_type": "markdown",
   "id": "90728a98",
   "metadata": {},
   "source": [
    "#### Plot"
   ]
  },
  {
   "cell_type": "code",
   "execution_count": 8,
   "id": "32a5de3c",
   "metadata": {
    "ExecuteTime": {
     "end_time": "2023-03-02T13:04:21.886558Z",
     "start_time": "2023-03-02T13:04:13.042320Z"
    }
   },
   "outputs": [
    {
     "name": "stdout",
     "output_type": "stream",
     "text": [
      "[1] \"#CE0013\" \"#C7A609\" \"#64C0AB\" \"#A14C94\" \"#1187CD\"\n",
      "[1] \"ERV1\"      \"ERVK\"      \"ERVL\"      \"ERVL-MaLR\" \"Gypsy\"    \n",
      "\n",
      "  1   2   3   4   5 \n",
      " 89 255  67 101   8 \n",
      "null device \n",
      "          1 \n",
      "[1] \"#CE0013\" \"#16557A\" \"#C7A609\" \"#87C232\" \"#64C0AB\" \"#A14C94\" \"#8B7E75\"\n",
      "[8] \"#1187CD\" \"#000000\"\n",
      "[1] \"CR1\"      \"Dong-R4\"  \"Jockey\"   \"L1\"       \"L1-Tx1\"   \"L2\"       \"Penelope\"\n",
      "[8] \"RTE-BovB\" \"RTE-X\"   \n",
      "\n",
      "  1   4   6   7   8   9 \n",
      " 12 180  15   2   2   3 \n",
      "null device \n",
      "          1 \n",
      "[1] \"#CE0013\" \"#16557A\" \"#C7A609\" \"#87C232\" \"#64C0AB\" \"#A14C94\" \"#8B7E75\"\n",
      "[8] \"#1187CD\" \"#000000\"\n",
      "[1] \"5S-Deu-L2\" \"Alu\"       \"B2\"        \"B4\"        \"ID\"        \"MIR\"      \n",
      "[7] \"tRNA\"      \"tRNA-Deu\"  \"tRNA-RTE\" \n",
      "\n",
      " 1  2  3  4  5  6  7  8  9 \n",
      " 1 31 10  8  6 10  1  1  2 \n",
      "null device \n",
      "          1 \n"
     ]
    }
   ],
   "source": [
    "%%bash\n",
    "dirPATH=/mnt/Storage/home/yanghui/imprinting/result.2021/Exploring/CHMsInOtherContexts/CellStateTransition/CHMOrganization/Universal_specific/Features/Repeats\n",
    "rPATH=/mnt/Storage/home/yanghui/scripts/R\n",
    "\n",
    "LTR_sina(){\n",
    "    cd ${dirPATH}/UniversalCHMs_NonCHMsCpGrich1kb/LTR_Subfamily\n",
    "    Rscript ${rPATH}/ggplot_sina_colorfull.r \\\n",
    "        enrichmentScore.ggplot_sina.txt \\\n",
    "        enrichmentScore_filtered.ggplot_sina.pdf \\\n",
    "        \"Enrichment score\" \\\n",
    "        \"-12;8;4\" \\\n",
    "        \"UniversalCHMs;NonCHMsCpGrich\" \\\n",
    "        \"LTR\" \\\n",
    "        \"ERV1;ERVK;ERVL;ERVL-MaLR;Gypsy\" \\\n",
    "        \"#CE0013;#C7A609;#64C0AB;#A14C94;#1187CD\" \\\n",
    "        \"0.2\" \\\n",
    "        \"0.75\" \\\n",
    "        \"1\" \\\n",
    "        \"5\" \\\n",
    "        \"5\"\n",
    "}\n",
    "LTR_sina\n",
    "\n",
    "LINE_sina(){\n",
    "    cd ${dirPATH}/UniversalCHMs_NonCHMsCpGrich1kb/LINE_Subfamily\n",
    "    Rscript ${rPATH}/ggplot_sina_colorfull.r \\\n",
    "        enrichmentScore.ggplot_sina.txt \\\n",
    "        enrichmentScore_filtered.ggplot_sina.pdf \\\n",
    "        \"Enrichment score\" \\\n",
    "        \"-12;8;4\" \\\n",
    "        \"UniversalCHMs;NonCHMsCpGrich\" \\\n",
    "        \"LINE\" \\\n",
    "        \"CR1;Dong-R4;Jockey;L1;L1-Tx1;L2;Penelope;RTE-BovB;RTE-X\" \\\n",
    "        \"#CE0013;#16557A;#C7A609;#87C232;#64C0AB;#A14C94;#8B7E75;#1187CD;#000000\" \\\n",
    "        \"0.2\" \\\n",
    "        \"0.75\" \\\n",
    "        \"1\" \\\n",
    "        \"5\" \\\n",
    "        \"5\"\n",
    "}\n",
    "LINE_sina\n",
    "\n",
    "SINE_sina(){\n",
    "    cd ${dirPATH}/UniversalCHMs_NonCHMsCpGrich1kb/SINE_Subfamily\n",
    "    Rscript ${rPATH}/ggplot_sina_colorfull.r \\\n",
    "        enrichmentScore.ggplot_sina.txt \\\n",
    "        enrichmentScore_filtered.ggplot_sina.pdf \\\n",
    "        \"Enrichment score\" \\\n",
    "        \"-12;8;4\" \\\n",
    "        \"UniversalCHMs;NonCHMsCpGrich\" \\\n",
    "        \"SINE\" \\\n",
    "        \"5S-Deu-L2;Alu;B2;B4;ID;MIR;tRNA;tRNA-Deu;tRNA-RTE\" \\\n",
    "        \"#CE0013;#16557A;#C7A609;#87C232;#64C0AB;#A14C94;#8B7E75;#1187CD;#000000\" \\\n",
    "        \"0.2\" \\\n",
    "        \"0.75\" \\\n",
    "        \"1\" \\\n",
    "        \"5\" \\\n",
    "        \"5\"\n",
    "}\n",
    "SINE_sina"
   ]
  },
  {
   "cell_type": "markdown",
   "id": "20d13656",
   "metadata": {},
   "source": [
    "### Pie plot showing enriched subfamily"
   ]
  },
  {
   "cell_type": "markdown",
   "id": "d8ff50f1",
   "metadata": {},
   "source": [
    "#### Prepare for pie plot"
   ]
  },
  {
   "cell_type": "code",
   "execution_count": 14,
   "id": "91b82437",
   "metadata": {
    "ExecuteTime": {
     "end_time": "2023-03-03T01:49:34.574813Z",
     "start_time": "2023-03-03T01:49:34.370107Z"
    }
   },
   "outputs": [],
   "source": [
    "%%bash\n",
    "dirPATH=/mnt/Storage/home/yanghui/imprinting/result.2021/Exploring/CHMsInOtherContexts/CellStateTransition/CHMOrganization/Universal_specific/Features/Repeats\n",
    "\n",
    "for repeatType in LTR LINE SINE\n",
    "do\n",
    "    cd ${dirPATH}/UniversalCHMs_NonCHMsCpGrich1kb/${repeatType}_Subfamily\n",
    "    for group in UniversalCHMs NonCHMsCpGrich\n",
    "    do\n",
    "        echo -e \"value\\tgroup\" > ${group}.enriched.ggplot_pieplot.txt\n",
    "        for fmlEnrich in $(ls ${group}.EnrichScore_${repeatType}_*.txt)\n",
    "        do\n",
    "            fmlName=$(echo ${fmlEnrich#*EnrichScore_${repeatType}_*})\n",
    "            fmlName=$(echo ${fmlName%.txt})\n",
    "            tail -n +2 ${fmlEnrich} | \\\n",
    "                awk -v GROUP=${fmlName} 'BEGIN{FS=OFS=\"\\t\";TOTAL=0;}{\\\n",
    "                if($2>=1){TOTAL+=1;}}END{print TOTAL, GROUP;}' >> ${group}.enriched.ggplot_pieplot.txt\n",
    "        done # for fmlEnrich end\n",
    "    done # for group end\n",
    "done # for repeatType end"
   ]
  },
  {
   "cell_type": "markdown",
   "id": "8986f5db",
   "metadata": {},
   "source": [
    "#### Plot"
   ]
  },
  {
   "cell_type": "code",
   "execution_count": 15,
   "id": "af3c4602",
   "metadata": {
    "ExecuteTime": {
     "end_time": "2023-03-03T01:51:38.155699Z",
     "start_time": "2023-03-03T01:51:29.574864Z"
    }
   },
   "outputs": [
    {
     "name": "stdout",
     "output_type": "stream",
     "text": [
      "null device \n",
      "          1 \n",
      "null device \n",
      "          1 \n",
      "null device \n",
      "          1 \n",
      "null device \n",
      "          1 \n",
      "null device \n",
      "          1 \n",
      "null device \n",
      "          1 \n"
     ]
    },
    {
     "name": "stderr",
     "output_type": "stream",
     "text": [
      "Warning messages:\n",
      "1: Removed 9 rows containing missing values (position_stack). \n",
      "2: Removed 9 rows containing missing values (geom_text). \n"
     ]
    }
   ],
   "source": [
    "%%bash\n",
    "dirPATH=/mnt/Storage/home/yanghui/imprinting/result.2021/Exploring/CHMsInOtherContexts/CellStateTransition/CHMOrganization/Universal_specific/Features/Repeats\n",
    "rPATH=/mnt/Storage/home/yanghui/scripts/R\n",
    "\n",
    "LTR_pie(){\n",
    "    cd ${dirPATH}/UniversalCHMs_NonCHMsCpGrich1kb/LTR_Subfamily\n",
    "    for group in UniversalCHMs NonCHMsCpGrich\n",
    "    do\n",
    "        Rscript ${rPATH}/ggplot_pie.r \\\n",
    "        ${group}.enriched.ggplot_pieplot.txt \\\n",
    "        ${group} \\\n",
    "        \"ERV1;ERVK;ERVL;ERVL-MaLR;Gypsy\" \\\n",
    "        \"#CE0013;#C7A609;#64C0AB;#A14C94;#1187CD\" \\\n",
    "        T \\\n",
    "        3.5 \\\n",
    "        3.5\n",
    "    done # for group end\n",
    "}\n",
    "LTR_pie\n",
    "\n",
    "LINE_pie(){\n",
    "    cd ${dirPATH}/UniversalCHMs_NonCHMsCpGrich1kb/LINE_Subfamily\n",
    "    for group in UniversalCHMs NonCHMsCpGrich\n",
    "    do\n",
    "        Rscript ${rPATH}/ggplot_pie.r \\\n",
    "        ${group}.enriched.ggplot_pieplot.txt \\\n",
    "        ${group} \\\n",
    "        \"CR1;Dong-R4;Jockey;L1;L1-Tx1;L2;Penelope;RTE-BovB;RTE-X\" \\\n",
    "        \"#CE0013;#16557A;#C7A609;#87C232;#64C0AB;#A14C94;#8B7E75;#1187CD;#000000\" \\\n",
    "        T \\\n",
    "        3.5 \\\n",
    "        3.5\n",
    "    done # for group end\n",
    "}\n",
    "LINE_pie\n",
    "\n",
    "SINE_pie(){\n",
    "    cd ${dirPATH}/UniversalCHMs_NonCHMsCpGrich1kb/SINE_Subfamily\n",
    "    for group in UniversalCHMs NonCHMsCpGrich\n",
    "    do\n",
    "        Rscript ${rPATH}/ggplot_pie.r \\\n",
    "        ${group}.enriched.ggplot_pieplot.txt \\\n",
    "        ${group} \\\n",
    "        \"5S-Deu-L2;Alu;B2;B4;ID;MIR;tRNA;tRNA-Deu;tRNA-RTE\" \\\n",
    "        \"#CE0013;#16557A;#C7A609;#87C232;#64C0AB;#A14C94;#8B7E75;#1187CD;#000000\" \\\n",
    "        T \\\n",
    "        3.5 \\\n",
    "        3.5\n",
    "    done # for group end\n",
    "}\n",
    "SINE_pie"
   ]
  },
  {
   "cell_type": "markdown",
   "id": "31b15a9d",
   "metadata": {},
   "source": [
    "### Scatter plot"
   ]
  },
  {
   "cell_type": "code",
   "execution_count": 16,
   "id": "95411790",
   "metadata": {
    "ExecuteTime": {
     "end_time": "2023-03-03T02:01:24.658085Z",
     "start_time": "2023-03-03T02:01:23.214736Z"
    },
    "code_folding": [
     34,
     64
    ]
   },
   "outputs": [
    {
     "name": "stdout",
     "output_type": "stream",
     "text": [
      "null device \n",
      "          1 \n"
     ]
    }
   ],
   "source": [
    "%%bash\n",
    "dirPATH=/mnt/Storage/home/yanghui/imprinting/result.2021/Exploring/CHMsInOtherContexts/CellStateTransition/CHMOrganization/Universal_specific/Features/Repeats\n",
    "rPATH=/mnt/Storage/home/yanghui/scripts/R\n",
    "\n",
    "LTR_F(){\n",
    "    cd ${dirPATH}/UniversalCHMs_NonCHMsCpGrich1kb/LTR_Subfamily\n",
    "    echo -e \"xValue\\tyValue\\tgroup\\tshape\\tsubfamily\" > enrichDetails.ggplot_scatter.txt # group: ERV1, ERVK...; shape: UniversalCHMs\n",
    "    for group in UniversalCHMs\n",
    "    do\n",
    "        for fml in ERV1 ERVK\n",
    "        do\n",
    "            paste ${group}.overlaped_LTR_${fml}.txt ${group}.EnrichScore_LTR_${fml}.txt | \\\n",
    "                tail -n +2 | awk -v GROUP=${fml} -v SHAPE=${group} 'BEGIN{FS=OFS=\"\\t\"}{if($1==$4 && $5!=\"-inf\"){print $3*100, $5, GROUP, SHAPE, $1;}}' >> enrichDetails.ggplot_scatter.txt\n",
    "        done # for fml end\n",
    "    done # for group end\n",
    "     \n",
    "    \n",
    "    Rscript ${rPATH}/ggplot_scatterplot_basic.r \\\n",
    "        enrichDetails.ggplot_scatter.txt \\\n",
    "        enrichDetails \\\n",
    "        \"Overlapped ratio (%)\" \\\n",
    "        \"Enrichment score\" \\\n",
    "        \"0;80;20\" \\\n",
    "        \"-12;8;4\" \\\n",
    "        \"ERV1;ERVK;ERVL;ERVL-MaLR;Gypsy\" \\\n",
    "        \"T;1;0\" \\\n",
    "        \"0.75\" \\\n",
    "        \"5\" \\\n",
    "        \"5\" \\\n",
    "        \"Set1\"\n",
    "}\n",
    "LTR_F"
   ]
  },
  {
   "cell_type": "markdown",
   "id": "ff459721",
   "metadata": {},
   "source": [
    "### Conservation score"
   ]
  },
  {
   "cell_type": "markdown",
   "id": "2257658e",
   "metadata": {},
   "source": [
    "#### Obtain Enriched vs NonEnriched LTR subfamilies"
   ]
  },
  {
   "cell_type": "code",
   "execution_count": 17,
   "id": "357df092",
   "metadata": {
    "ExecuteTime": {
     "end_time": "2023-03-03T02:44:47.844937Z",
     "start_time": "2023-03-03T02:44:47.808474Z"
    }
   },
   "outputs": [],
   "source": [
    "%%bash\n",
    "dirPATH=/mnt/Storage/home/yanghui/imprinting/result.2021/Exploring/CHMsInOtherContexts/CellStateTransition/CHMOrganization/Universal_specific/Features/Repeats\n",
    "\n",
    "cd ${dirPATH}/UniversalCHMs_NonCHMsCpGrich1kb/LTR_Subfamily\n",
    "cat UniversalCHMs.EnrichScore_LTR_*.txt | grep -v \"EnrichScore\" | \\\n",
    "    awk 'BEGIN{FS=OFS=\"\\t\";}{if($2!=\"-inf\" && $2>=1){print $1;}}' | sort -u > UniversalCHMs.subfml_enriched.txt # 50\n",
    "    \n",
    "cat UniversalCHMs.EnrichScore_LTR_*.txt | grep -v \"EnrichScore\" | \\\n",
    "    awk 'BEGIN{FS=OFS=\"\\t\";}{if($2==\"-inf\" || $2<1){print $1;}}' | sort -u | grep -wvf UniversalCHMs.subfml_enriched.txt - > UniversalCHMs.subfml_nonenriched.txt # 592"
   ]
  },
  {
   "cell_type": "markdown",
   "id": "d480250f",
   "metadata": {},
   "source": [
    "#### Obtain corresponding annotation"
   ]
  },
  {
   "cell_type": "code",
   "execution_count": 19,
   "id": "c034cdee",
   "metadata": {
    "ExecuteTime": {
     "end_time": "2023-03-03T02:49:44.697798Z",
     "start_time": "2023-03-03T02:49:38.868879Z"
    }
   },
   "outputs": [],
   "source": [
    "%%bash\n",
    "anPATH=/mnt/Storage/home/yanghui/annotations\n",
    "dirPATH=/mnt/Storage/home/yanghui/imprinting/result.2021/Exploring/CHMsInOtherContexts/CellStateTransition/CHMOrganization/Universal_specific/Features/Repeats\n",
    "\n",
    "cd ${dirPATH}/UniversalCHMs_NonCHMsCpGrich1kb/LTR_Subfamily\n",
    "\n",
    "for group in enriched nonenriched\n",
    "do\n",
    "    for subfml in $(cut -f 1 UniversalCHMs.subfml_${group}.txt)\n",
    "    do\n",
    "        cat ${anPATH}/mm10/Repeats/LTR/*/mm10.${subfml}.bed | \\\n",
    "            intersectBed -a - -b ${anPATH}/mm10/mm10_euch.chrom.limits | \\\n",
    "            cut -f 1-3 >> UniversalCHMs.subfml_${group}.bed # 41,236 (enriched) || 837,636 (nonenriched)\n",
    "    done # for subfml end\n",
    "done # for group end"
   ]
  },
  {
   "cell_type": "markdown",
   "id": "70f396c5",
   "metadata": {},
   "source": [
    "#### Average conservation score"
   ]
  },
  {
   "cell_type": "code",
   "execution_count": 20,
   "id": "c6647e30",
   "metadata": {
    "ExecuteTime": {
     "end_time": "2023-03-03T02:57:38.555948Z",
     "start_time": "2023-03-03T02:55:36.224191Z"
    }
   },
   "outputs": [
    {
     "name": "stderr",
     "output_type": "stream",
     "text": [
      "IOPub data rate exceeded.\n",
      "The notebook server will temporarily stop sending output\n",
      "to the client in order to avoid crashing it.\n",
      "To change this limit, set the config variable\n",
      "`--NotebookApp.iopub_data_rate_limit`.\n",
      "\n",
      "Current values:\n",
      "NotebookApp.iopub_data_rate_limit=1000000.0 (bytes/sec)\n",
      "NotebookApp.rate_limit_window=3.0 (secs)\n",
      "\n"
     ]
    }
   ],
   "source": [
    "%%bash\n",
    "dirPATH=/mnt/Storage/home/yanghui/imprinting/result.2021/Exploring/CHMsInOtherContexts/CellStateTransition/CHMOrganization/Universal_specific/Features/Repeats\n",
    "anPATH=/mnt/Storage/home/yanghui/annotations\n",
    "shPATH=/mnt/Storage/home/yanghui/scripts/shell\n",
    "\n",
    "cd ${dirPATH}/UniversalCHMs_NonCHMsCpGrich1kb/LTR_Subfamily\n",
    "echo -e \"xValue\\tyValue\\tgroup\" > phastCons60wayPlacental.ggplot_basic.txt\n",
    "\n",
    "for group in enriched nonenriched\n",
    "do\n",
    "    if [ -f UniversalCHMs.subfml_${group}.bed ]\n",
    "    then\n",
    "        bash ${shPATH}/averageSignalInRegion.sh \\\n",
    "            UniversalCHMs.subfml_${group}.bed \\\n",
    "            ${anPATH}/mm10/Conservation/mm10.60way.phastCons60wayPlacental.bw \\\n",
    "            1 \\\n",
    "            UniversalCHMs.subfml_${group}.phastConsPlacental.txt\n",
    "        \n",
    "        awk -v XVALUE=${group} 'BEGIN{FS=OFS=\"\\t\"}{print XVALUE, $4, \"LTR\";}' UniversalCHMs.subfml_${group}.phastConsPlacental.txt >> phastCons60wayPlacental.ggplot_basic.txt\n",
    "    fi\n",
    "done # for group end"
   ]
  },
  {
   "cell_type": "markdown",
   "id": "14a02881",
   "metadata": {},
   "source": [
    "#### Box plot"
   ]
  },
  {
   "cell_type": "code",
   "execution_count": 24,
   "id": "3400cbff",
   "metadata": {
    "ExecuteTime": {
     "end_time": "2023-03-03T03:18:37.833557Z",
     "start_time": "2023-03-03T03:18:24.299837Z"
    },
    "code_folding": [
     0
    ]
   },
   "outputs": [
    {
     "name": "stdout",
     "output_type": "stream",
     "text": [
      "null device \n",
      "          1 \n",
      "[1] \"wilcox.test of significance between different xValues\"\n",
      "# A tibble: 1 × 8\n",
      "  .y.    group1   group2          p p.adj p.format p.signif method  \n",
      "  <chr>  <chr>    <chr>       <dbl> <dbl> <chr>    <chr>    <chr>   \n",
      "1 yValue enriched nonenriched     0     0 <2e-16   ****     Wilcoxon\n",
      "[1] \"t.test of significance between different xValues\"\n",
      "# A tibble: 1 × 8\n",
      "  .y.    group1   group2              p    p.adj p.format p.signif method\n",
      "  <chr>  <chr>    <chr>           <dbl>    <dbl> <chr>    <chr>    <chr> \n",
      "1 yValue enriched nonenriched 5.42e-158 5.4e-158 <2e-16   ****     T-test\n"
     ]
    },
    {
     "name": "stderr",
     "output_type": "stream",
     "text": [
      "Warning messages:\n",
      "1: Removed 24631 rows containing non-finite values (stat_boxplot). \n",
      "2: Removed 24631 rows containing non-finite values (stat_boxplot). \n",
      "3: Removed 1 rows containing missing values (geom_hline). \n"
     ]
    }
   ],
   "source": [
    "%%bash\n",
    "dirPATH=/mnt/Storage/home/yanghui/imprinting/result.2021/Exploring/CHMsInOtherContexts/CellStateTransition/CHMOrganization/Universal_specific/Features/Repeats\n",
    "anPATH=/mnt/Storage/home/yanghui/annotations\n",
    "rPATH=/mnt/Storage/home/yanghui/scripts/R\n",
    "\n",
    "cd ${dirPATH}/UniversalCHMs_NonCHMsCpGrich1kb/LTR_Subfamily\n",
    "Rscript ${rPATH}/ggplot_boxplot.r \\\n",
    "    phastCons60wayPlacental.ggplot_basic.txt \\\n",
    "    phastCons60wayPlacental.ggplot_boxplot.pdf \\\n",
    "    LTR \\\n",
    "    \"\" \\\n",
    "    \"Conservation score\" \\\n",
    "    0 \\\n",
    "    0.4 \\\n",
    "    0.2 \\\n",
    "    \"enriched;nonenriched\" \\\n",
    "    \"LTR\" \\\n",
    "    3.5 \\\n",
    "    4.5\n"
   ]
  },
  {
   "cell_type": "markdown",
   "id": "d07d88f5",
   "metadata": {},
   "source": [
    "#### Violin plot"
   ]
  },
  {
   "cell_type": "code",
   "execution_count": 26,
   "id": "e99e5430",
   "metadata": {
    "ExecuteTime": {
     "end_time": "2023-03-03T03:20:42.673008Z",
     "start_time": "2023-03-03T03:20:37.620561Z"
    }
   },
   "outputs": [
    {
     "name": "stdout",
     "output_type": "stream",
     "text": [
      "null device \n",
      "          1 \n"
     ]
    }
   ],
   "source": [
    "%%bash\n",
    "dirPATH=/mnt/Storage/home/yanghui/imprinting/result.2021/Exploring/CHMsInOtherContexts/CellStateTransition/CHMOrganization/Universal_specific/Features/Repeats\n",
    "anPATH=/mnt/Storage/home/yanghui/annotations\n",
    "rPATH=/mnt/Storage/home/yanghui/scripts/R\n",
    "\n",
    "cd ${dirPATH}/UniversalCHMs_NonCHMsCpGrich1kb/LTR_Subfamily\n",
    "Rscript ${rPATH}/ggplot_violin.r \\\n",
    "    phastCons60wayPlacental.ggplot_basic.txt \\\n",
    "    phastCons60wayPlacental.ggplot_violin.pdf \\\n",
    "    LTR \\\n",
    "    \"\" \\\n",
    "    \"Conservation score\" \\\n",
    "    0 \\\n",
    "    1 \\\n",
    "    0.2 \\\n",
    "    \"enriched;nonenriched\" \\\n",
    "    \"LTR\" \\\n",
    "    3.5 \\\n",
    "    4.5"
   ]
  },
  {
   "cell_type": "markdown",
   "id": "1c1a4e4f",
   "metadata": {},
   "source": [
    "## Overlap between universalCHMs and IAPEz-int subfamilies"
   ]
  },
  {
   "cell_type": "markdown",
   "id": "1c1d765b",
   "metadata": {
    "heading_collapsed": true
   },
   "source": [
    "### Two Universal CHMs groups (existence of IAPEz-int)"
   ]
  },
  {
   "cell_type": "markdown",
   "id": "cc010ead",
   "metadata": {
    "heading_collapsed": true,
    "hidden": true
   },
   "source": [
    "#### Groups"
   ]
  },
  {
   "cell_type": "code",
   "execution_count": 1,
   "id": "834cbd94",
   "metadata": {
    "ExecuteTime": {
     "end_time": "2023-02-20T03:07:03.556049Z",
     "start_time": "2023-02-20T03:07:03.398878Z"
    },
    "hidden": true
   },
   "outputs": [],
   "source": [
    "%%bash\n",
    "dirPATH=/mnt/Storage/home/yanghui/imprinting/result.2021/Exploring/CHMsInOtherContexts/CellStateTransition/CHMOrganization/Universal_specific/Features/Repeats\n",
    "anPATH=/mnt/Storage/home/yanghui/annotations\n",
    "\n",
    "mkdir -p ${dirPATH}/UniversalCHMs_IAPEz-int;cd ${dirPATH}/UniversalCHMs_IAPEz-int\n",
    "windowBed -w 2000 -u -a ${dirPATH}/UniversalCHMs.bed -b ${anPATH}/mm10/Repeats/LTR/ERVK/mm10_euch.IAPEz-int.merged.bed > overlapped.bed # 1,972\n",
    "windowBed -w 2000 -v -a ${dirPATH}/UniversalCHMs.bed -b ${anPATH}/mm10/Repeats/LTR/ERVK/mm10_euch.IAPEz-int.merged.bed > notoverlapped.bed # 705"
   ]
  },
  {
   "cell_type": "markdown",
   "id": "83d6ece9",
   "metadata": {
    "heading_collapsed": true,
    "hidden": true
   },
   "source": [
    "#### Length"
   ]
  },
  {
   "cell_type": "code",
   "execution_count": 4,
   "id": "5ce4d8f6",
   "metadata": {
    "ExecuteTime": {
     "end_time": "2023-02-20T03:18:46.345302Z",
     "start_time": "2023-02-20T03:18:42.277630Z"
    },
    "code_folding": [],
    "hidden": true
   },
   "outputs": [
    {
     "name": "stdout",
     "output_type": "stream",
     "text": [
      "null device \n",
      "          1 \n",
      "[1] \"wilcox.test of significance between different xValues\"\n",
      "# A tibble: 1 × 8\n",
      "  .y.    group1     group2               p   p.adj p.format p.signif method  \n",
      "  <chr>  <chr>      <chr>            <dbl>   <dbl> <chr>    <chr>    <chr>   \n",
      "1 yValue overlapped notoverlapped 3.70e-29 3.7e-29 <2e-16   ****     Wilcoxon\n",
      "[1] \"t.test of significance between different xValues\"\n",
      "# A tibble: 1 × 8\n",
      "  .y.    group1     group2               p   p.adj p.format p.signif method\n",
      "  <chr>  <chr>      <chr>            <dbl>   <dbl> <chr>    <chr>    <chr> \n",
      "1 yValue overlapped notoverlapped 2.59e-19 2.6e-19 <2e-16   ****     T-test\n",
      "null device \n",
      "          1 \n"
     ]
    },
    {
     "name": "stderr",
     "output_type": "stream",
     "text": [
      "Warning messages:\n",
      "1: Removed 10 rows containing non-finite values (stat_boxplot). \n",
      "2: Removed 10 rows containing non-finite values (stat_boxplot). \n",
      "3: Removed 1 rows containing missing values (geom_hline). \n",
      "Warning messages:\n",
      "1: Removed 10 rows containing non-finite values (stat_ydensity). \n",
      "2: Removed 10 rows containing non-finite values (stat_boxplot). \n"
     ]
    }
   ],
   "source": [
    "%%bash\n",
    "dirPATH=/mnt/Storage/home/yanghui/imprinting/result.2021/Exploring/CHMsInOtherContexts/CellStateTransition/CHMOrganization/Universal_specific/Features/Repeats\n",
    "rPATH=/mnt/Storage/home/yanghui/scripts/R\n",
    "\n",
    "mkdir -p ${dirPATH}/UniversalCHMs_IAPEz-int;cd ${dirPATH}/UniversalCHMs_IAPEz-int\n",
    "# echo -e \"xValue\\tyValue\\tgroup\" > length.ggplot_basic.txt\n",
    "# for group in overlapped notoverlapped\n",
    "# do\n",
    "#     awk -v XVALUE=${group} 'BEGIN{FS=OFS=\"\\t\"}{print XVALUE, $3-$2, \"Length\";}' ${group}.bed >> length.ggplot_basic.txt\n",
    "# done # for group end\n",
    "\n",
    "boxplot(){\n",
    "    Rscript ${rPATH}/ggplot_boxplot.r \\\n",
    "        length.ggplot_basic.txt \\\n",
    "        length.ggplot_boxplot.pdf \\\n",
    "        Length \\\n",
    "        \"\" \\\n",
    "        \"Length of universal CHMs\" \\\n",
    "        0 \\\n",
    "        12000 \\\n",
    "        2000 \\\n",
    "        \"overlapped;notoverlapped\" \\\n",
    "        Length \\\n",
    "        3.5 \\\n",
    "        3.5\n",
    "}\n",
    "boxplot\n",
    "\n",
    "violinplot(){\n",
    "    Rscript ${rPATH}/ggplot_violin.r \\\n",
    "        length.ggplot_basic.txt \\\n",
    "        length.ggplot_violinplot.pdf \\\n",
    "        Length \\\n",
    "        \"\" \\\n",
    "        \"Length of stable CHMs\" \\\n",
    "        0 \\\n",
    "        12000 \\\n",
    "        2000 \\\n",
    "        \"overlapped;notoverlapped\" \\\n",
    "        Length \\\n",
    "        6 \\\n",
    "        3.5\n",
    "}\n",
    "violinplot"
   ]
  },
  {
   "cell_type": "markdown",
   "id": "ee469270",
   "metadata": {
    "hidden": true
   },
   "source": [
    "#### Region enrichment"
   ]
  },
  {
   "cell_type": "code",
   "execution_count": 6,
   "id": "135c4c6e",
   "metadata": {
    "ExecuteTime": {
     "end_time": "2023-02-20T03:27:58.806919Z",
     "start_time": "2023-02-20T03:27:38.638695Z"
    },
    "hidden": true
   },
   "outputs": [
    {
     "name": "stdout",
     "output_type": "stream",
     "text": [
      "null device \n",
      "          1 \n",
      "null device \n",
      "          1 \n",
      "null device \n",
      "          1 \n",
      "null device \n",
      "          1 \n"
     ]
    }
   ],
   "source": [
    "%%bash\n",
    "dirPATH=/mnt/Storage/home/yanghui/imprinting/result.2021/Exploring/CHMsInOtherContexts/CellStateTransition/CHMOrganization/Universal_specific/Features/Repeats\n",
    "anPATH=/mnt/Storage/home/yanghui/annotations\n",
    "shPATH=/mnt/Storage/home/yanghui/scripts/shell\n",
    "mkdir -p ${dirPATH}/UniversalCHMs_IAPEz-int;cd ${dirPATH}/UniversalCHMs_IAPEz-int\n",
    "\n",
    "for group in overlapped notoverlapped\n",
    "do\n",
    "    bash ${shPATH}/regionEnrichment_userDefined.sh \\\n",
    "        \"${dirPATH}/UniversalCHMs_IAPEz-int\" \\\n",
    "        \"mm10_euch\" \\\n",
    "        \"${anPATH}/mm10/mm10_euch.chrom.sizes\" \\\n",
    "        \"${group}.bed\" \\\n",
    "        \"${anPATH}/mm10/RegionEnrichment/mm10_euch.CGI_Unmasked.merged.bed;${anPATH}/mm10/RegionEnrichment/mm10_euch.promoter.merged.bed;${anPATH}/mm10/RegionEnrichment/mm10_euch.geneBody.merged.bed;${anPATH}/mm10/RegionEnrichment/mm10_euch.exon.merged.bed;${anPATH}/mm10/RegionEnrichment/mm10_euch.intron.merged.bed;${anPATH}/mm10/RegionEnrichment/mm10_euch.LTR.merged.bed;${anPATH}/mm10/RegionEnrichment/mm10_euch.LINE.merged.bed;${anPATH}/mm10/RegionEnrichment/mm10_euch.SINE.merged.bed\" \\\n",
    "        \"regionEnrich_${group}\"\n",
    "done # for group end"
   ]
  },
  {
   "cell_type": "code",
   "execution_count": null,
   "id": "cea1a763",
   "metadata": {
    "hidden": true
   },
   "outputs": [],
   "source": []
  }
 ],
 "metadata": {
  "kernelspec": {
   "display_name": "Python [conda env:Epsilon] *",
   "language": "python",
   "name": "conda-env-Epsilon-py"
  },
  "language_info": {
   "codemirror_mode": {
    "name": "ipython",
    "version": 3
   },
   "file_extension": ".py",
   "mimetype": "text/x-python",
   "name": "python",
   "nbconvert_exporter": "python",
   "pygments_lexer": "ipython3",
   "version": "3.8.10"
  },
  "toc": {
   "base_numbering": 1,
   "nav_menu": {},
   "number_sections": true,
   "sideBar": true,
   "skip_h1_title": false,
   "title_cell": "Table of Contents",
   "title_sidebar": "Contents",
   "toc_cell": false,
   "toc_position": {
    "height": "calc(100% - 180px)",
    "left": "10px",
    "top": "150px",
    "width": "349px"
   },
   "toc_section_display": true,
   "toc_window_display": true
  }
 },
 "nbformat": 4,
 "nbformat_minor": 5
}
