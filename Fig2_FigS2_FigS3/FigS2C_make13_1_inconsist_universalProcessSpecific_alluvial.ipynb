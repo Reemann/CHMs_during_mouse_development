{
 "cells": [
  {
   "cell_type": "code",
   "execution_count": 1,
   "metadata": {},
   "outputs": [],
   "source": [
    "import subprocess\n",
    "import os\n",
    "import numpy as np\n",
    "import pandas as pd\n",
    "import matplotlib as mpl\n",
    "mpl.rcParams['pdf.fonttype'] = 42\n",
    "mpl.rcParams['ps.fonttype'] = 42\n",
    "mpl.rcParams['font.sans-serif'] = 'Arial'\n",
    "import matplotlib.pyplot as plt\n",
    "import seaborn as sns\n",
    "from pprint import pprint\n",
    "from matplotlib.backends.backend_pdf import PdfPages\n",
    "%matplotlib inline"
   ]
  },
  {
   "cell_type": "markdown",
   "metadata": {},
   "source": [
    "# read in the data"
   ]
  },
  {
   "cell_type": "code",
   "execution_count": 24,
   "metadata": {},
   "outputs": [],
   "source": [
    "os.chdir(\"/mnt/Storage/home/wangyiman/CHMsInOtherContexts/CellStateTransition/CHMOrganization/Universal_specific/Features/ChromatinStates/Cavalli_Cell2017_ABcompartment_5tissue/CHM_intersect_table\")\n",
    "count_dict = {\n",
    "    'ESCs -> NPCs' : {},\n",
    "    'NPCs -> CNs' : {},\n",
    "    'CNs -> ncxNPCs' : {},\n",
    "    'ncxNPCs -> ncxCNs' : {},\n",
    "    # 'ncxCNs' : {}\n",
    "}\n",
    "for process in ['Universal', \n",
    "                # 'Universal_complementarySet', \n",
    "                # 'EarlyEmbryogenesis_complementarySet', 'EarlyEmbryogenesis_complementarySet_otherCommon',\n",
    "                # 'PGCsDevelopment_complementarySet', 'PGCsDevelopment_complementarySet_otherCommon',\n",
    "                # 'Spermatogenesis_complementarySet', 'Spermatogenesis_complementarySet_otherCommon',\n",
    "                # 'RetinalDevelopment_complementarySet', 'RetinalDevelopment_complementarySet_otherCommon',\n",
    "                # 'HeartDevelopment_complementarySet', 'HeartDevelopment_complementarySet_otherCommon',\n",
    "                # 'LiverDevelopment_complementarySet', 'LiverDevelopment_complementarySet_otherCommon',\n",
    "                'EarlyEmbryoSpecific', \n",
    "                'PGCSpecific', \n",
    "                'SpermSpecific', \n",
    "                'RetinalSpecific', \n",
    "                'HeartSpecific', \n",
    "                'LiverSpecific',\n",
    "                'NonCHMsCpGrich', \n",
    "                ] :\n",
    "    intsct_df_binary = pd.DataFrame()\n",
    "    ### A : 4, B : 2, other : 1\n",
    "    process_l = f'{process}CHM' if process != 'NonCHMsCpGrich' else process\n",
    "    for i,compart in enumerate(['A', 'B', 'others']) :\n",
    "        df = pd.read_csv(\n",
    "            f'{process_l}_5tissue_{compart}.bed',\n",
    "            sep = \"\\t\",\n",
    "            header = None,\n",
    "            usecols = [3,4,5,6,7]\n",
    "                        )\n",
    "        if i == 0 :\n",
    "            intsct_df_binary = df * (2 ** (2-i))\n",
    "        else :\n",
    "            intsct_df_binary = intsct_df_binary + df * (2 ** (2-i))\n",
    "            \n",
    "            \n",
    "    intsct_df_binary = intsct_df_binary.loc[[(len(set(intsct_df_binary.iloc[i,:])) > 1) for i in range(intsct_df_binary.shape[0])]]\n",
    "    \n",
    "    col_label_next = {\n",
    "        'ESCs' : 'NPCs',\n",
    "        'NPCs' : 'CNs',\n",
    "        'CNs' : 'ncxNPCs',\n",
    "        'ncxNPCs' : 'ncxCNs',\n",
    "}\n",
    "    compart_class_value = {\n",
    "        'A': [4, 5, 6, 7],\n",
    "        'B': [2, 3, 6, 7],\n",
    "        'others': [1]\n",
    "    }\n",
    "            \n",
    "    for i,key in enumerate(['ESCs -> NPCs', 'NPCs -> CNs', 'CNs -> ncxNPCs', 'ncxNPCs -> ncxCNs']) :\n",
    "        col = i + 3\n",
    "        for compart_class_1 in ['A', 'B', 'others'] :\n",
    "            for compart_class_2 in ['A', 'B', 'others'] :\n",
    "                count_dict[key][f'{process}: {compart_class_1} -> {compart_class_2}'] = (intsct_df_binary[col].isin(compart_class_value[compart_class_1]) & intsct_df_binary[col+1].isin(compart_class_value[compart_class_2])).sum()\n",
    "        \n",
    "count_df = pd.DataFrame(count_dict)"
   ]
  },
  {
   "cell_type": "code",
   "execution_count": 25,
   "metadata": {},
   "outputs": [
    {
     "data": {
      "text/html": [
       "<div>\n",
       "<style scoped>\n",
       "    .dataframe tbody tr th:only-of-type {\n",
       "        vertical-align: middle;\n",
       "    }\n",
       "\n",
       "    .dataframe tbody tr th {\n",
       "        vertical-align: top;\n",
       "    }\n",
       "\n",
       "    .dataframe thead th {\n",
       "        text-align: right;\n",
       "    }\n",
       "</style>\n",
       "<table border=\"1\" class=\"dataframe\">\n",
       "  <thead>\n",
       "    <tr style=\"text-align: right;\">\n",
       "      <th></th>\n",
       "      <th>3</th>\n",
       "      <th>4</th>\n",
       "      <th>5</th>\n",
       "      <th>6</th>\n",
       "      <th>7</th>\n",
       "    </tr>\n",
       "  </thead>\n",
       "  <tbody>\n",
       "    <tr>\n",
       "      <th>3</th>\n",
       "      <td>4</td>\n",
       "      <td>2</td>\n",
       "      <td>2</td>\n",
       "      <td>2</td>\n",
       "      <td>2</td>\n",
       "    </tr>\n",
       "    <tr>\n",
       "      <th>4</th>\n",
       "      <td>4</td>\n",
       "      <td>2</td>\n",
       "      <td>2</td>\n",
       "      <td>2</td>\n",
       "      <td>2</td>\n",
       "    </tr>\n",
       "    <tr>\n",
       "      <th>5</th>\n",
       "      <td>4</td>\n",
       "      <td>2</td>\n",
       "      <td>2</td>\n",
       "      <td>2</td>\n",
       "      <td>2</td>\n",
       "    </tr>\n",
       "    <tr>\n",
       "      <th>6</th>\n",
       "      <td>4</td>\n",
       "      <td>2</td>\n",
       "      <td>2</td>\n",
       "      <td>2</td>\n",
       "      <td>2</td>\n",
       "    </tr>\n",
       "    <tr>\n",
       "      <th>7</th>\n",
       "      <td>4</td>\n",
       "      <td>2</td>\n",
       "      <td>2</td>\n",
       "      <td>2</td>\n",
       "      <td>2</td>\n",
       "    </tr>\n",
       "    <tr>\n",
       "      <th>...</th>\n",
       "      <td>...</td>\n",
       "      <td>...</td>\n",
       "      <td>...</td>\n",
       "      <td>...</td>\n",
       "      <td>...</td>\n",
       "    </tr>\n",
       "    <tr>\n",
       "      <th>22035</th>\n",
       "      <td>4</td>\n",
       "      <td>1</td>\n",
       "      <td>4</td>\n",
       "      <td>1</td>\n",
       "      <td>4</td>\n",
       "    </tr>\n",
       "    <tr>\n",
       "      <th>22057</th>\n",
       "      <td>1</td>\n",
       "      <td>4</td>\n",
       "      <td>4</td>\n",
       "      <td>4</td>\n",
       "      <td>4</td>\n",
       "    </tr>\n",
       "    <tr>\n",
       "      <th>22058</th>\n",
       "      <td>1</td>\n",
       "      <td>4</td>\n",
       "      <td>4</td>\n",
       "      <td>4</td>\n",
       "      <td>4</td>\n",
       "    </tr>\n",
       "    <tr>\n",
       "      <th>22063</th>\n",
       "      <td>4</td>\n",
       "      <td>4</td>\n",
       "      <td>4</td>\n",
       "      <td>4</td>\n",
       "      <td>1</td>\n",
       "    </tr>\n",
       "    <tr>\n",
       "      <th>22064</th>\n",
       "      <td>4</td>\n",
       "      <td>4</td>\n",
       "      <td>4</td>\n",
       "      <td>4</td>\n",
       "      <td>1</td>\n",
       "    </tr>\n",
       "  </tbody>\n",
       "</table>\n",
       "<p>6590 rows × 5 columns</p>\n",
       "</div>"
      ],
      "text/plain": [
       "       3  4  5  6  7\n",
       "3      4  2  2  2  2\n",
       "4      4  2  2  2  2\n",
       "5      4  2  2  2  2\n",
       "6      4  2  2  2  2\n",
       "7      4  2  2  2  2\n",
       "...   .. .. .. .. ..\n",
       "22035  4  1  4  1  4\n",
       "22057  1  4  4  4  4\n",
       "22058  1  4  4  4  4\n",
       "22063  4  4  4  4  1\n",
       "22064  4  4  4  4  1\n",
       "\n",
       "[6590 rows x 5 columns]"
      ]
     },
     "execution_count": 25,
     "metadata": {},
     "output_type": "execute_result"
    }
   ],
   "source": [
    "intsct_df_binary"
   ]
  },
  {
   "cell_type": "code",
   "execution_count": 26,
   "metadata": {},
   "outputs": [
    {
     "data": {
      "text/html": [
       "<div>\n",
       "<style scoped>\n",
       "    .dataframe tbody tr th:only-of-type {\n",
       "        vertical-align: middle;\n",
       "    }\n",
       "\n",
       "    .dataframe tbody tr th {\n",
       "        vertical-align: top;\n",
       "    }\n",
       "\n",
       "    .dataframe thead th {\n",
       "        text-align: right;\n",
       "    }\n",
       "</style>\n",
       "<table border=\"1\" class=\"dataframe\">\n",
       "  <thead>\n",
       "    <tr style=\"text-align: right;\">\n",
       "      <th></th>\n",
       "      <th>ESCs -&gt; NPCs</th>\n",
       "      <th>NPCs -&gt; CNs</th>\n",
       "      <th>CNs -&gt; ncxNPCs</th>\n",
       "      <th>ncxNPCs -&gt; ncxCNs</th>\n",
       "    </tr>\n",
       "  </thead>\n",
       "  <tbody>\n",
       "    <tr>\n",
       "      <th>Universal: A -&gt; A</th>\n",
       "      <td>135</td>\n",
       "      <td>491</td>\n",
       "      <td>278</td>\n",
       "      <td>180</td>\n",
       "    </tr>\n",
       "    <tr>\n",
       "      <th>Universal: A -&gt; B</th>\n",
       "      <td>21</td>\n",
       "      <td>93</td>\n",
       "      <td>306</td>\n",
       "      <td>116</td>\n",
       "    </tr>\n",
       "    <tr>\n",
       "      <th>Universal: A -&gt; others</th>\n",
       "      <td>19</td>\n",
       "      <td>27</td>\n",
       "      <td>31</td>\n",
       "      <td>20</td>\n",
       "    </tr>\n",
       "    <tr>\n",
       "      <th>Universal: B -&gt; A</th>\n",
       "      <td>435</td>\n",
       "      <td>97</td>\n",
       "      <td>21</td>\n",
       "      <td>46</td>\n",
       "    </tr>\n",
       "    <tr>\n",
       "      <th>Universal: B -&gt; B</th>\n",
       "      <td>154</td>\n",
       "      <td>93</td>\n",
       "      <td>133</td>\n",
       "      <td>400</td>\n",
       "    </tr>\n",
       "    <tr>\n",
       "      <th>...</th>\n",
       "      <td>...</td>\n",
       "      <td>...</td>\n",
       "      <td>...</td>\n",
       "      <td>...</td>\n",
       "    </tr>\n",
       "    <tr>\n",
       "      <th>NonCHMsCpGrich: B -&gt; B</th>\n",
       "      <td>202</td>\n",
       "      <td>190</td>\n",
       "      <td>431</td>\n",
       "      <td>995</td>\n",
       "    </tr>\n",
       "    <tr>\n",
       "      <th>NonCHMsCpGrich: B -&gt; others</th>\n",
       "      <td>202</td>\n",
       "      <td>30</td>\n",
       "      <td>61</td>\n",
       "      <td>175</td>\n",
       "    </tr>\n",
       "    <tr>\n",
       "      <th>NonCHMsCpGrich: others -&gt; A</th>\n",
       "      <td>1213</td>\n",
       "      <td>619</td>\n",
       "      <td>567</td>\n",
       "      <td>594</td>\n",
       "    </tr>\n",
       "    <tr>\n",
       "      <th>NonCHMsCpGrich: others -&gt; B</th>\n",
       "      <td>40</td>\n",
       "      <td>38</td>\n",
       "      <td>116</td>\n",
       "      <td>98</td>\n",
       "    </tr>\n",
       "    <tr>\n",
       "      <th>NonCHMsCpGrich: others -&gt; others</th>\n",
       "      <td>724</td>\n",
       "      <td>1067</td>\n",
       "      <td>1042</td>\n",
       "      <td>1342</td>\n",
       "    </tr>\n",
       "  </tbody>\n",
       "</table>\n",
       "<p>72 rows × 4 columns</p>\n",
       "</div>"
      ],
      "text/plain": [
       "                                  ESCs -> NPCs  NPCs -> CNs  CNs -> ncxNPCs  \\\n",
       "Universal: A -> A                          135          491             278   \n",
       "Universal: A -> B                           21           93             306   \n",
       "Universal: A -> others                      19           27              31   \n",
       "Universal: B -> A                          435           97              21   \n",
       "Universal: B -> B                          154           93             133   \n",
       "...                                        ...          ...             ...   \n",
       "NonCHMsCpGrich: B -> B                     202          190             431   \n",
       "NonCHMsCpGrich: B -> others                202           30              61   \n",
       "NonCHMsCpGrich: others -> A               1213          619             567   \n",
       "NonCHMsCpGrich: others -> B                 40           38             116   \n",
       "NonCHMsCpGrich: others -> others           724         1067            1042   \n",
       "\n",
       "                                  ncxNPCs -> ncxCNs  \n",
       "Universal: A -> A                               180  \n",
       "Universal: A -> B                               116  \n",
       "Universal: A -> others                           20  \n",
       "Universal: B -> A                                46  \n",
       "Universal: B -> B                               400  \n",
       "...                                             ...  \n",
       "NonCHMsCpGrich: B -> B                          995  \n",
       "NonCHMsCpGrich: B -> others                     175  \n",
       "NonCHMsCpGrich: others -> A                     594  \n",
       "NonCHMsCpGrich: others -> B                      98  \n",
       "NonCHMsCpGrich: others -> others               1342  \n",
       "\n",
       "[72 rows x 4 columns]"
      ]
     },
     "execution_count": 26,
     "metadata": {},
     "output_type": "execute_result"
    }
   ],
   "source": [
    "count_df"
   ]
  },
  {
   "cell_type": "code",
   "execution_count": 27,
   "metadata": {},
   "outputs": [],
   "source": [
    "data = count_df.to_dict()\n",
    "\n",
    "row_labels = count_df.reset_index()['index'].str.split(' -', expand=True)[0].unique().tolist()\n",
    "column_labels = count_df.T.reset_index()['index'].str.split(' -', expand=True)[0].tolist() + [count_df.T.reset_index()['index'].str.split('> ', expand=True)[1].tolist()[-1]]\n",
    "\n",
    "label = [f'{x} in {y}' for x in row_labels for y in column_labels]"
   ]
  },
  {
   "cell_type": "code",
   "execution_count": 32,
   "metadata": {},
   "outputs": [],
   "source": [
    "# Initialize source, target, and value lists\n",
    "source = []\n",
    "target = []\n",
    "value = []\n",
    "\n",
    "col_label_next = {\n",
    "    'ESCs' : 'NPCs',\n",
    "    'NPCs' : 'CNs',\n",
    "    'CNs' : 'ncxNPCs',\n",
    "    'ncxNPCs' : 'ncxCNs',\n",
    "}\n",
    "\n",
    "# Populate the source, target, and value lists\n",
    "for col_index, col_label in enumerate(column_labels[:-1]):\n",
    "    for process in ['Universal', \n",
    "                # 'Universal_complementarySet', \n",
    "                'EarlyEmbryoSpecific', \n",
    "                'PGCSpecific', \n",
    "                'SpermSpecific', \n",
    "                'RetinalSpecific', \n",
    "                'HeartSpecific', \n",
    "                'LiverSpecific',\n",
    "                # 'NonCHMsCpGrich', \n",
    "                ] :\n",
    "        for class_1 in ['A', 'B', 'others'] :\n",
    "            for class_2 in ['A', 'B', 'others'] :\n",
    "                data_key = f'{process}: {class_1} -> {class_2}'\n",
    "                # print(data_key)\n",
    "                source.append(label.index(f'{process}: {class_1} in {col_label}'))\n",
    "                target.append(label.index(f'{process}: {class_2} in {col_label_next[col_label]}'))\n",
    "                value.append(data[f'{col_label} -> {col_label_next[col_label]}'][f'{process}: {class_1} -> {class_2}'])\n",
    "\n",
    "\n",
    "# Print the resulting lists\n",
    "# print(\"Source:\", source)\n",
    "# print(\"Target:\", target)\n",
    "# print(\"Label:\", label)\n",
    "# print(\"Value:\", value)"
   ]
  },
  {
   "cell_type": "code",
   "execution_count": 33,
   "metadata": {},
   "outputs": [
    {
     "data": {
      "text/plain": [
       "252"
      ]
     },
     "execution_count": 33,
     "metadata": {},
     "output_type": "execute_result"
    }
   ],
   "source": [
    "len(value)"
   ]
  },
  {
   "cell_type": "code",
   "execution_count": 34,
   "metadata": {},
   "outputs": [
    {
     "data": {
      "text/plain": [
       "96"
      ]
     },
     "execution_count": 34,
     "metadata": {},
     "output_type": "execute_result"
    }
   ],
   "source": [
    "3 * 8 * 4"
   ]
  },
  {
   "cell_type": "code",
   "execution_count": 35,
   "metadata": {},
   "outputs": [
    {
     "data": {
      "application/vnd.plotly.v1+json": {
       "config": {
        "plotlyServerURL": "https://plot.ly"
       },
       "data": [
        {
         "link": {
          "color": [
           "#C490C6",
           "#90ADC6",
           "#777777",
           "#C490C6",
           "#90ADC6",
           "#777777",
           "#C490C6",
           "#90ADC6",
           "#777777",
           "#C490C6",
           "#90ADC6",
           "#777777",
           "#C490C6",
           "#90ADC6",
           "#777777",
           "#C490C6",
           "#90ADC6",
           "#777777",
           "#C490C6",
           "#90ADC6",
           "#777777",
           "#C490C6",
           "#90ADC6",
           "#777777",
           "#C490C6",
           "#90ADC6",
           "#777777",
           "#C490C6",
           "#90ADC6",
           "#777777",
           "#C490C6",
           "#90ADC6",
           "#777777",
           "#C490C6",
           "#90ADC6",
           "#777777",
           "#C490C6",
           "#90ADC6",
           "#777777",
           "#C490C6",
           "#90ADC6",
           "#777777",
           "#C490C6",
           "#90ADC6",
           "#777777",
           "#C490C6",
           "#90ADC6",
           "#777777",
           "#C490C6",
           "#90ADC6",
           "#777777",
           "#C490C6",
           "#90ADC6",
           "#777777",
           "#C490C6",
           "#90ADC6",
           "#777777",
           "#C490C6",
           "#90ADC6",
           "#777777",
           "#C490C6",
           "#90ADC6",
           "#777777",
           "#C490C6",
           "#90ADC6",
           "#777777",
           "#C490C6",
           "#90ADC6",
           "#777777",
           "#C490C6",
           "#90ADC6",
           "#777777",
           "#C490C6",
           "#90ADC6",
           "#777777",
           "#C490C6",
           "#90ADC6",
           "#777777",
           "#C490C6",
           "#90ADC6",
           "#777777",
           "#C490C6",
           "#90ADC6",
           "#777777",
           "#C490C6",
           "#90ADC6",
           "#777777",
           "#C490C6",
           "#90ADC6",
           "#777777",
           "#C490C6",
           "#90ADC6",
           "#777777",
           "#C490C6",
           "#90ADC6",
           "#777777",
           "#C490C6",
           "#90ADC6",
           "#777777",
           "#C490C6",
           "#90ADC6",
           "#777777",
           "#C490C6",
           "#90ADC6",
           "#777777",
           "#C490C6",
           "#90ADC6",
           "#777777",
           "#C490C6",
           "#90ADC6",
           "#777777",
           "#C490C6",
           "#90ADC6",
           "#777777",
           "#C490C6",
           "#90ADC6",
           "#777777",
           "#C490C6",
           "#90ADC6",
           "#777777",
           "#C490C6",
           "#90ADC6",
           "#777777",
           "#C490C6",
           "#90ADC6",
           "#777777",
           "#C490C6",
           "#90ADC6",
           "#777777",
           "#C490C6",
           "#90ADC6",
           "#777777",
           "#C490C6",
           "#90ADC6",
           "#777777",
           "#C490C6",
           "#90ADC6",
           "#777777",
           "#C490C6",
           "#90ADC6",
           "#777777",
           "#C490C6",
           "#90ADC6",
           "#777777",
           "#C490C6",
           "#90ADC6",
           "#777777",
           "#C490C6",
           "#90ADC6",
           "#777777",
           "#C490C6",
           "#90ADC6",
           "#777777",
           "#C490C6",
           "#90ADC6",
           "#777777",
           "#C490C6",
           "#90ADC6",
           "#777777",
           "#C490C6",
           "#90ADC6",
           "#777777",
           "#C490C6",
           "#90ADC6",
           "#777777",
           "#C490C6",
           "#90ADC6",
           "#777777",
           "#C490C6",
           "#90ADC6",
           "#777777",
           "#C490C6",
           "#90ADC6",
           "#777777",
           "#C490C6",
           "#90ADC6",
           "#777777",
           "#C490C6",
           "#90ADC6",
           "#777777",
           "#C490C6",
           "#90ADC6",
           "#777777",
           "#C490C6",
           "#90ADC6",
           "#777777",
           "#C490C6",
           "#90ADC6",
           "#777777",
           "#C490C6",
           "#90ADC6",
           "#777777",
           "#C490C6",
           "#90ADC6",
           "#777777",
           "#C490C6",
           "#90ADC6",
           "#777777",
           "#C490C6",
           "#90ADC6",
           "#777777",
           "#C490C6",
           "#90ADC6",
           "#777777",
           "#C490C6",
           "#90ADC6",
           "#777777",
           "#C490C6",
           "#90ADC6",
           "#777777",
           "#C490C6",
           "#90ADC6",
           "#777777",
           "#C490C6",
           "#90ADC6",
           "#777777",
           "#C490C6",
           "#90ADC6",
           "#777777",
           "#C490C6",
           "#90ADC6",
           "#777777",
           "#C490C6",
           "#90ADC6",
           "#777777",
           "#C490C6",
           "#90ADC6",
           "#777777",
           "#C490C6",
           "#90ADC6",
           "#777777",
           "#C490C6",
           "#90ADC6",
           "#777777",
           "#C490C6",
           "#90ADC6",
           "#777777",
           "#C490C6",
           "#90ADC6",
           "#777777",
           "#C490C6",
           "#90ADC6",
           "#777777",
           "#C490C6",
           "#90ADC6",
           "#777777",
           "#C490C6",
           "#90ADC6",
           "#777777",
           "#C490C6",
           "#90ADC6",
           "#777777",
           "#C490C6",
           "#90ADC6",
           "#777777",
           "#C490C6",
           "#90ADC6",
           "#777777",
           "#C490C6",
           "#90ADC6",
           "#777777",
           "#C490C6",
           "#90ADC6",
           "#777777",
           "#C490C6",
           "#90ADC6",
           "#777777",
           "#C490C6",
           "#90ADC6",
           "#777777",
           "#C490C6",
           "#90ADC6",
           "#777777",
           "#C490C6",
           "#90ADC6",
           "#777777",
           "#C490C6",
           "#90ADC6",
           "#777777",
           "#C490C6",
           "#90ADC6",
           "#777777",
           "#C490C6",
           "#90ADC6",
           "#777777",
           "#C490C6",
           "#90ADC6",
           "#777777"
          ],
          "source": [
           0,
           0,
           0,
           5,
           5,
           5,
           10,
           10,
           10,
           15,
           15,
           15,
           20,
           20,
           20,
           25,
           25,
           25,
           30,
           30,
           30,
           35,
           35,
           35,
           40,
           40,
           40,
           45,
           45,
           45,
           50,
           50,
           50,
           55,
           55,
           55,
           60,
           60,
           60,
           65,
           65,
           65,
           70,
           70,
           70,
           75,
           75,
           75,
           80,
           80,
           80,
           85,
           85,
           85,
           90,
           90,
           90,
           95,
           95,
           95,
           100,
           100,
           100,
           1,
           1,
           1,
           6,
           6,
           6,
           11,
           11,
           11,
           16,
           16,
           16,
           21,
           21,
           21,
           26,
           26,
           26,
           31,
           31,
           31,
           36,
           36,
           36,
           41,
           41,
           41,
           46,
           46,
           46,
           51,
           51,
           51,
           56,
           56,
           56,
           61,
           61,
           61,
           66,
           66,
           66,
           71,
           71,
           71,
           76,
           76,
           76,
           81,
           81,
           81,
           86,
           86,
           86,
           91,
           91,
           91,
           96,
           96,
           96,
           101,
           101,
           101,
           2,
           2,
           2,
           7,
           7,
           7,
           12,
           12,
           12,
           17,
           17,
           17,
           22,
           22,
           22,
           27,
           27,
           27,
           32,
           32,
           32,
           37,
           37,
           37,
           42,
           42,
           42,
           47,
           47,
           47,
           52,
           52,
           52,
           57,
           57,
           57,
           62,
           62,
           62,
           67,
           67,
           67,
           72,
           72,
           72,
           77,
           77,
           77,
           82,
           82,
           82,
           87,
           87,
           87,
           92,
           92,
           92,
           97,
           97,
           97,
           102,
           102,
           102,
           3,
           3,
           3,
           8,
           8,
           8,
           13,
           13,
           13,
           18,
           18,
           18,
           23,
           23,
           23,
           28,
           28,
           28,
           33,
           33,
           33,
           38,
           38,
           38,
           43,
           43,
           43,
           48,
           48,
           48,
           53,
           53,
           53,
           58,
           58,
           58,
           63,
           63,
           63,
           68,
           68,
           68,
           73,
           73,
           73,
           78,
           78,
           78,
           83,
           83,
           83,
           88,
           88,
           88,
           93,
           93,
           93,
           98,
           98,
           98,
           103,
           103,
           103
          ],
          "target": [
           1,
           6,
           11,
           1,
           6,
           11,
           1,
           6,
           11,
           16,
           21,
           26,
           16,
           21,
           26,
           16,
           21,
           26,
           31,
           36,
           41,
           31,
           36,
           41,
           31,
           36,
           41,
           46,
           51,
           56,
           46,
           51,
           56,
           46,
           51,
           56,
           61,
           66,
           71,
           61,
           66,
           71,
           61,
           66,
           71,
           76,
           81,
           86,
           76,
           81,
           86,
           76,
           81,
           86,
           91,
           96,
           101,
           91,
           96,
           101,
           91,
           96,
           101,
           2,
           7,
           12,
           2,
           7,
           12,
           2,
           7,
           12,
           17,
           22,
           27,
           17,
           22,
           27,
           17,
           22,
           27,
           32,
           37,
           42,
           32,
           37,
           42,
           32,
           37,
           42,
           47,
           52,
           57,
           47,
           52,
           57,
           47,
           52,
           57,
           62,
           67,
           72,
           62,
           67,
           72,
           62,
           67,
           72,
           77,
           82,
           87,
           77,
           82,
           87,
           77,
           82,
           87,
           92,
           97,
           102,
           92,
           97,
           102,
           92,
           97,
           102,
           3,
           8,
           13,
           3,
           8,
           13,
           3,
           8,
           13,
           18,
           23,
           28,
           18,
           23,
           28,
           18,
           23,
           28,
           33,
           38,
           43,
           33,
           38,
           43,
           33,
           38,
           43,
           48,
           53,
           58,
           48,
           53,
           58,
           48,
           53,
           58,
           63,
           68,
           73,
           63,
           68,
           73,
           63,
           68,
           73,
           78,
           83,
           88,
           78,
           83,
           88,
           78,
           83,
           88,
           93,
           98,
           103,
           93,
           98,
           103,
           93,
           98,
           103,
           4,
           9,
           14,
           4,
           9,
           14,
           4,
           9,
           14,
           19,
           24,
           29,
           19,
           24,
           29,
           19,
           24,
           29,
           34,
           39,
           44,
           34,
           39,
           44,
           34,
           39,
           44,
           49,
           54,
           59,
           49,
           54,
           59,
           49,
           54,
           59,
           64,
           69,
           74,
           64,
           69,
           74,
           64,
           69,
           74,
           79,
           84,
           89,
           79,
           84,
           89,
           79,
           84,
           89,
           94,
           99,
           104,
           94,
           99,
           104,
           94,
           99,
           104
          ],
          "value": [
           135,
           21,
           19,
           435,
           154,
           31,
           41,
           24,
           57,
           70,
           11,
           18,
           265,
           56,
           16,
           26,
           5,
           17,
           12,
           0,
           1,
           29,
           7,
           0,
           6,
           1,
           5,
           91,
           27,
           12,
           279,
           104,
           25,
           30,
           24,
           37,
           206,
           14,
           44,
           352,
           69,
           18,
           80,
           9,
           66,
           12,
           2,
           2,
           22,
           13,
           5,
           5,
           5,
           8,
           8,
           1,
           2,
           8,
           3,
           0,
           6,
           1,
           2,
           491,
           93,
           27,
           97,
           93,
           9,
           27,
           17,
           63,
           274,
           72,
           15,
           42,
           25,
           5,
           4,
           5,
           42,
           31,
           11,
           5,
           6,
           2,
           0,
           3,
           0,
           3,
           293,
           92,
           15,
           58,
           80,
           17,
           9,
           23,
           42,
           518,
           77,
           43,
           47,
           36,
           9,
           49,
           9,
           70,
           35,
           2,
           2,
           3,
           13,
           4,
           1,
           3,
           11,
           20,
           0,
           2,
           1,
           3,
           1,
           1,
           0,
           3,
           278,
           306,
           31,
           21,
           133,
           49,
           17,
           23,
           59,
           151,
           160,
           8,
           21,
           71,
           10,
           16,
           10,
           36,
           18,
           20,
           2,
           2,
           10,
           1,
           3,
           1,
           4,
           141,
           204,
           15,
           22,
           131,
           42,
           9,
           22,
           43,
           348,
           199,
           67,
           15,
           97,
           10,
           44,
           19,
           59,
           17,
           18,
           4,
           0,
           7,
           11,
           1,
           9,
           7,
           10,
           9,
           3,
           0,
           0,
           3,
           2,
           2,
           2,
           180,
           116,
           20,
           46,
           400,
           16,
           20,
           24,
           95,
           119,
           52,
           17,
           30,
           207,
           4,
           7,
           9,
           38,
           11,
           9,
           3,
           3,
           28,
           0,
           0,
           3,
           4,
           90,
           73,
           9,
           36,
           305,
           16,
           12,
           27,
           61,
           250,
           114,
           43,
           38,
           261,
           16,
           50,
           14,
           72,
           9,
           8,
           1,
           3,
           26,
           5,
           0,
           5,
           17,
           7,
           1,
           4,
           3,
           7,
           1,
           2,
           2,
           4
          ]
         },
         "node": {
          "line": {
           "color": "black",
           "width": 0.5
          },
          "pad": 25,
          "thickness": 20
         },
         "type": "sankey"
        }
       ],
       "layout": {
        "font": {
         "size": 10
        },
        "height": 1000,
        "template": {
         "data": {
          "bar": [
           {
            "error_x": {
             "color": "#2a3f5f"
            },
            "error_y": {
             "color": "#2a3f5f"
            },
            "marker": {
             "line": {
              "color": "#E5ECF6",
              "width": 0.5
             },
             "pattern": {
              "fillmode": "overlay",
              "size": 10,
              "solidity": 0.2
             }
            },
            "type": "bar"
           }
          ],
          "barpolar": [
           {
            "marker": {
             "line": {
              "color": "#E5ECF6",
              "width": 0.5
             },
             "pattern": {
              "fillmode": "overlay",
              "size": 10,
              "solidity": 0.2
             }
            },
            "type": "barpolar"
           }
          ],
          "carpet": [
           {
            "aaxis": {
             "endlinecolor": "#2a3f5f",
             "gridcolor": "white",
             "linecolor": "white",
             "minorgridcolor": "white",
             "startlinecolor": "#2a3f5f"
            },
            "baxis": {
             "endlinecolor": "#2a3f5f",
             "gridcolor": "white",
             "linecolor": "white",
             "minorgridcolor": "white",
             "startlinecolor": "#2a3f5f"
            },
            "type": "carpet"
           }
          ],
          "choropleth": [
           {
            "colorbar": {
             "outlinewidth": 0,
             "ticks": ""
            },
            "type": "choropleth"
           }
          ],
          "contour": [
           {
            "colorbar": {
             "outlinewidth": 0,
             "ticks": ""
            },
            "colorscale": [
             [
              0,
              "#0d0887"
             ],
             [
              0.1111111111111111,
              "#46039f"
             ],
             [
              0.2222222222222222,
              "#7201a8"
             ],
             [
              0.3333333333333333,
              "#9c179e"
             ],
             [
              0.4444444444444444,
              "#bd3786"
             ],
             [
              0.5555555555555556,
              "#d8576b"
             ],
             [
              0.6666666666666666,
              "#ed7953"
             ],
             [
              0.7777777777777778,
              "#fb9f3a"
             ],
             [
              0.8888888888888888,
              "#fdca26"
             ],
             [
              1,
              "#f0f921"
             ]
            ],
            "type": "contour"
           }
          ],
          "contourcarpet": [
           {
            "colorbar": {
             "outlinewidth": 0,
             "ticks": ""
            },
            "type": "contourcarpet"
           }
          ],
          "heatmap": [
           {
            "colorbar": {
             "outlinewidth": 0,
             "ticks": ""
            },
            "colorscale": [
             [
              0,
              "#0d0887"
             ],
             [
              0.1111111111111111,
              "#46039f"
             ],
             [
              0.2222222222222222,
              "#7201a8"
             ],
             [
              0.3333333333333333,
              "#9c179e"
             ],
             [
              0.4444444444444444,
              "#bd3786"
             ],
             [
              0.5555555555555556,
              "#d8576b"
             ],
             [
              0.6666666666666666,
              "#ed7953"
             ],
             [
              0.7777777777777778,
              "#fb9f3a"
             ],
             [
              0.8888888888888888,
              "#fdca26"
             ],
             [
              1,
              "#f0f921"
             ]
            ],
            "type": "heatmap"
           }
          ],
          "heatmapgl": [
           {
            "colorbar": {
             "outlinewidth": 0,
             "ticks": ""
            },
            "colorscale": [
             [
              0,
              "#0d0887"
             ],
             [
              0.1111111111111111,
              "#46039f"
             ],
             [
              0.2222222222222222,
              "#7201a8"
             ],
             [
              0.3333333333333333,
              "#9c179e"
             ],
             [
              0.4444444444444444,
              "#bd3786"
             ],
             [
              0.5555555555555556,
              "#d8576b"
             ],
             [
              0.6666666666666666,
              "#ed7953"
             ],
             [
              0.7777777777777778,
              "#fb9f3a"
             ],
             [
              0.8888888888888888,
              "#fdca26"
             ],
             [
              1,
              "#f0f921"
             ]
            ],
            "type": "heatmapgl"
           }
          ],
          "histogram": [
           {
            "marker": {
             "pattern": {
              "fillmode": "overlay",
              "size": 10,
              "solidity": 0.2
             }
            },
            "type": "histogram"
           }
          ],
          "histogram2d": [
           {
            "colorbar": {
             "outlinewidth": 0,
             "ticks": ""
            },
            "colorscale": [
             [
              0,
              "#0d0887"
             ],
             [
              0.1111111111111111,
              "#46039f"
             ],
             [
              0.2222222222222222,
              "#7201a8"
             ],
             [
              0.3333333333333333,
              "#9c179e"
             ],
             [
              0.4444444444444444,
              "#bd3786"
             ],
             [
              0.5555555555555556,
              "#d8576b"
             ],
             [
              0.6666666666666666,
              "#ed7953"
             ],
             [
              0.7777777777777778,
              "#fb9f3a"
             ],
             [
              0.8888888888888888,
              "#fdca26"
             ],
             [
              1,
              "#f0f921"
             ]
            ],
            "type": "histogram2d"
           }
          ],
          "histogram2dcontour": [
           {
            "colorbar": {
             "outlinewidth": 0,
             "ticks": ""
            },
            "colorscale": [
             [
              0,
              "#0d0887"
             ],
             [
              0.1111111111111111,
              "#46039f"
             ],
             [
              0.2222222222222222,
              "#7201a8"
             ],
             [
              0.3333333333333333,
              "#9c179e"
             ],
             [
              0.4444444444444444,
              "#bd3786"
             ],
             [
              0.5555555555555556,
              "#d8576b"
             ],
             [
              0.6666666666666666,
              "#ed7953"
             ],
             [
              0.7777777777777778,
              "#fb9f3a"
             ],
             [
              0.8888888888888888,
              "#fdca26"
             ],
             [
              1,
              "#f0f921"
             ]
            ],
            "type": "histogram2dcontour"
           }
          ],
          "mesh3d": [
           {
            "colorbar": {
             "outlinewidth": 0,
             "ticks": ""
            },
            "type": "mesh3d"
           }
          ],
          "parcoords": [
           {
            "line": {
             "colorbar": {
              "outlinewidth": 0,
              "ticks": ""
             }
            },
            "type": "parcoords"
           }
          ],
          "pie": [
           {
            "automargin": true,
            "type": "pie"
           }
          ],
          "scatter": [
           {
            "marker": {
             "colorbar": {
              "outlinewidth": 0,
              "ticks": ""
             }
            },
            "type": "scatter"
           }
          ],
          "scatter3d": [
           {
            "line": {
             "colorbar": {
              "outlinewidth": 0,
              "ticks": ""
             }
            },
            "marker": {
             "colorbar": {
              "outlinewidth": 0,
              "ticks": ""
             }
            },
            "type": "scatter3d"
           }
          ],
          "scattercarpet": [
           {
            "marker": {
             "colorbar": {
              "outlinewidth": 0,
              "ticks": ""
             }
            },
            "type": "scattercarpet"
           }
          ],
          "scattergeo": [
           {
            "marker": {
             "colorbar": {
              "outlinewidth": 0,
              "ticks": ""
             }
            },
            "type": "scattergeo"
           }
          ],
          "scattergl": [
           {
            "marker": {
             "colorbar": {
              "outlinewidth": 0,
              "ticks": ""
             }
            },
            "type": "scattergl"
           }
          ],
          "scattermapbox": [
           {
            "marker": {
             "colorbar": {
              "outlinewidth": 0,
              "ticks": ""
             }
            },
            "type": "scattermapbox"
           }
          ],
          "scatterpolar": [
           {
            "marker": {
             "colorbar": {
              "outlinewidth": 0,
              "ticks": ""
             }
            },
            "type": "scatterpolar"
           }
          ],
          "scatterpolargl": [
           {
            "marker": {
             "colorbar": {
              "outlinewidth": 0,
              "ticks": ""
             }
            },
            "type": "scatterpolargl"
           }
          ],
          "scatterternary": [
           {
            "marker": {
             "colorbar": {
              "outlinewidth": 0,
              "ticks": ""
             }
            },
            "type": "scatterternary"
           }
          ],
          "surface": [
           {
            "colorbar": {
             "outlinewidth": 0,
             "ticks": ""
            },
            "colorscale": [
             [
              0,
              "#0d0887"
             ],
             [
              0.1111111111111111,
              "#46039f"
             ],
             [
              0.2222222222222222,
              "#7201a8"
             ],
             [
              0.3333333333333333,
              "#9c179e"
             ],
             [
              0.4444444444444444,
              "#bd3786"
             ],
             [
              0.5555555555555556,
              "#d8576b"
             ],
             [
              0.6666666666666666,
              "#ed7953"
             ],
             [
              0.7777777777777778,
              "#fb9f3a"
             ],
             [
              0.8888888888888888,
              "#fdca26"
             ],
             [
              1,
              "#f0f921"
             ]
            ],
            "type": "surface"
           }
          ],
          "table": [
           {
            "cells": {
             "fill": {
              "color": "#EBF0F8"
             },
             "line": {
              "color": "white"
             }
            },
            "header": {
             "fill": {
              "color": "#C8D4E3"
             },
             "line": {
              "color": "white"
             }
            },
            "type": "table"
           }
          ]
         },
         "layout": {
          "annotationdefaults": {
           "arrowcolor": "#2a3f5f",
           "arrowhead": 0,
           "arrowwidth": 1
          },
          "autotypenumbers": "strict",
          "coloraxis": {
           "colorbar": {
            "outlinewidth": 0,
            "ticks": ""
           }
          },
          "colorscale": {
           "diverging": [
            [
             0,
             "#8e0152"
            ],
            [
             0.1,
             "#c51b7d"
            ],
            [
             0.2,
             "#de77ae"
            ],
            [
             0.3,
             "#f1b6da"
            ],
            [
             0.4,
             "#fde0ef"
            ],
            [
             0.5,
             "#f7f7f7"
            ],
            [
             0.6,
             "#e6f5d0"
            ],
            [
             0.7,
             "#b8e186"
            ],
            [
             0.8,
             "#7fbc41"
            ],
            [
             0.9,
             "#4d9221"
            ],
            [
             1,
             "#276419"
            ]
           ],
           "sequential": [
            [
             0,
             "#0d0887"
            ],
            [
             0.1111111111111111,
             "#46039f"
            ],
            [
             0.2222222222222222,
             "#7201a8"
            ],
            [
             0.3333333333333333,
             "#9c179e"
            ],
            [
             0.4444444444444444,
             "#bd3786"
            ],
            [
             0.5555555555555556,
             "#d8576b"
            ],
            [
             0.6666666666666666,
             "#ed7953"
            ],
            [
             0.7777777777777778,
             "#fb9f3a"
            ],
            [
             0.8888888888888888,
             "#fdca26"
            ],
            [
             1,
             "#f0f921"
            ]
           ],
           "sequentialminus": [
            [
             0,
             "#0d0887"
            ],
            [
             0.1111111111111111,
             "#46039f"
            ],
            [
             0.2222222222222222,
             "#7201a8"
            ],
            [
             0.3333333333333333,
             "#9c179e"
            ],
            [
             0.4444444444444444,
             "#bd3786"
            ],
            [
             0.5555555555555556,
             "#d8576b"
            ],
            [
             0.6666666666666666,
             "#ed7953"
            ],
            [
             0.7777777777777778,
             "#fb9f3a"
            ],
            [
             0.8888888888888888,
             "#fdca26"
            ],
            [
             1,
             "#f0f921"
            ]
           ]
          },
          "colorway": [
           "#636efa",
           "#EF553B",
           "#00cc96",
           "#ab63fa",
           "#FFA15A",
           "#19d3f3",
           "#FF6692",
           "#B6E880",
           "#FF97FF",
           "#FECB52"
          ],
          "font": {
           "color": "#2a3f5f"
          },
          "geo": {
           "bgcolor": "white",
           "lakecolor": "white",
           "landcolor": "#E5ECF6",
           "showlakes": true,
           "showland": true,
           "subunitcolor": "white"
          },
          "hoverlabel": {
           "align": "left"
          },
          "hovermode": "closest",
          "mapbox": {
           "style": "light"
          },
          "paper_bgcolor": "white",
          "plot_bgcolor": "#E5ECF6",
          "polar": {
           "angularaxis": {
            "gridcolor": "white",
            "linecolor": "white",
            "ticks": ""
           },
           "bgcolor": "#E5ECF6",
           "radialaxis": {
            "gridcolor": "white",
            "linecolor": "white",
            "ticks": ""
           }
          },
          "scene": {
           "xaxis": {
            "backgroundcolor": "#E5ECF6",
            "gridcolor": "white",
            "gridwidth": 2,
            "linecolor": "white",
            "showbackground": true,
            "ticks": "",
            "zerolinecolor": "white"
           },
           "yaxis": {
            "backgroundcolor": "#E5ECF6",
            "gridcolor": "white",
            "gridwidth": 2,
            "linecolor": "white",
            "showbackground": true,
            "ticks": "",
            "zerolinecolor": "white"
           },
           "zaxis": {
            "backgroundcolor": "#E5ECF6",
            "gridcolor": "white",
            "gridwidth": 2,
            "linecolor": "white",
            "showbackground": true,
            "ticks": "",
            "zerolinecolor": "white"
           }
          },
          "shapedefaults": {
           "line": {
            "color": "#2a3f5f"
           }
          },
          "ternary": {
           "aaxis": {
            "gridcolor": "white",
            "linecolor": "white",
            "ticks": ""
           },
           "baxis": {
            "gridcolor": "white",
            "linecolor": "white",
            "ticks": ""
           },
           "bgcolor": "#E5ECF6",
           "caxis": {
            "gridcolor": "white",
            "linecolor": "white",
            "ticks": ""
           }
          },
          "title": {
           "x": 0.05
          },
          "xaxis": {
           "automargin": true,
           "gridcolor": "white",
           "linecolor": "white",
           "ticks": "",
           "title": {
            "standoff": 15
           },
           "zerolinecolor": "white",
           "zerolinewidth": 2
          },
          "yaxis": {
           "automargin": true,
           "gridcolor": "white",
           "linecolor": "white",
           "ticks": "",
           "title": {
            "standoff": 15
           },
           "zerolinecolor": "white",
           "zerolinewidth": 2
          }
         }
        },
        "title": {
         "text": ""
        },
        "width": 1000
       }
      },
      "text/html": [
       "<div>                            <div id=\"afe05e4e-62b4-4192-aa3c-6c9ce0daf2c0\" class=\"plotly-graph-div\" style=\"height:1000px; width:1000px;\"></div>            <script type=\"text/javascript\">                require([\"plotly\"], function(Plotly) {                    window.PLOTLYENV=window.PLOTLYENV || {};                                    if (document.getElementById(\"afe05e4e-62b4-4192-aa3c-6c9ce0daf2c0\")) {                    Plotly.newPlot(                        \"afe05e4e-62b4-4192-aa3c-6c9ce0daf2c0\",                        [{\"link\":{\"color\":[\"#C490C6\",\"#90ADC6\",\"#777777\",\"#C490C6\",\"#90ADC6\",\"#777777\",\"#C490C6\",\"#90ADC6\",\"#777777\",\"#C490C6\",\"#90ADC6\",\"#777777\",\"#C490C6\",\"#90ADC6\",\"#777777\",\"#C490C6\",\"#90ADC6\",\"#777777\",\"#C490C6\",\"#90ADC6\",\"#777777\",\"#C490C6\",\"#90ADC6\",\"#777777\",\"#C490C6\",\"#90ADC6\",\"#777777\",\"#C490C6\",\"#90ADC6\",\"#777777\",\"#C490C6\",\"#90ADC6\",\"#777777\",\"#C490C6\",\"#90ADC6\",\"#777777\",\"#C490C6\",\"#90ADC6\",\"#777777\",\"#C490C6\",\"#90ADC6\",\"#777777\",\"#C490C6\",\"#90ADC6\",\"#777777\",\"#C490C6\",\"#90ADC6\",\"#777777\",\"#C490C6\",\"#90ADC6\",\"#777777\",\"#C490C6\",\"#90ADC6\",\"#777777\",\"#C490C6\",\"#90ADC6\",\"#777777\",\"#C490C6\",\"#90ADC6\",\"#777777\",\"#C490C6\",\"#90ADC6\",\"#777777\",\"#C490C6\",\"#90ADC6\",\"#777777\",\"#C490C6\",\"#90ADC6\",\"#777777\",\"#C490C6\",\"#90ADC6\",\"#777777\",\"#C490C6\",\"#90ADC6\",\"#777777\",\"#C490C6\",\"#90ADC6\",\"#777777\",\"#C490C6\",\"#90ADC6\",\"#777777\",\"#C490C6\",\"#90ADC6\",\"#777777\",\"#C490C6\",\"#90ADC6\",\"#777777\",\"#C490C6\",\"#90ADC6\",\"#777777\",\"#C490C6\",\"#90ADC6\",\"#777777\",\"#C490C6\",\"#90ADC6\",\"#777777\",\"#C490C6\",\"#90ADC6\",\"#777777\",\"#C490C6\",\"#90ADC6\",\"#777777\",\"#C490C6\",\"#90ADC6\",\"#777777\",\"#C490C6\",\"#90ADC6\",\"#777777\",\"#C490C6\",\"#90ADC6\",\"#777777\",\"#C490C6\",\"#90ADC6\",\"#777777\",\"#C490C6\",\"#90ADC6\",\"#777777\",\"#C490C6\",\"#90ADC6\",\"#777777\",\"#C490C6\",\"#90ADC6\",\"#777777\",\"#C490C6\",\"#90ADC6\",\"#777777\",\"#C490C6\",\"#90ADC6\",\"#777777\",\"#C490C6\",\"#90ADC6\",\"#777777\",\"#C490C6\",\"#90ADC6\",\"#777777\",\"#C490C6\",\"#90ADC6\",\"#777777\",\"#C490C6\",\"#90ADC6\",\"#777777\",\"#C490C6\",\"#90ADC6\",\"#777777\",\"#C490C6\",\"#90ADC6\",\"#777777\",\"#C490C6\",\"#90ADC6\",\"#777777\",\"#C490C6\",\"#90ADC6\",\"#777777\",\"#C490C6\",\"#90ADC6\",\"#777777\",\"#C490C6\",\"#90ADC6\",\"#777777\",\"#C490C6\",\"#90ADC6\",\"#777777\",\"#C490C6\",\"#90ADC6\",\"#777777\",\"#C490C6\",\"#90ADC6\",\"#777777\",\"#C490C6\",\"#90ADC6\",\"#777777\",\"#C490C6\",\"#90ADC6\",\"#777777\",\"#C490C6\",\"#90ADC6\",\"#777777\",\"#C490C6\",\"#90ADC6\",\"#777777\",\"#C490C6\",\"#90ADC6\",\"#777777\",\"#C490C6\",\"#90ADC6\",\"#777777\",\"#C490C6\",\"#90ADC6\",\"#777777\",\"#C490C6\",\"#90ADC6\",\"#777777\",\"#C490C6\",\"#90ADC6\",\"#777777\",\"#C490C6\",\"#90ADC6\",\"#777777\",\"#C490C6\",\"#90ADC6\",\"#777777\",\"#C490C6\",\"#90ADC6\",\"#777777\",\"#C490C6\",\"#90ADC6\",\"#777777\",\"#C490C6\",\"#90ADC6\",\"#777777\",\"#C490C6\",\"#90ADC6\",\"#777777\",\"#C490C6\",\"#90ADC6\",\"#777777\",\"#C490C6\",\"#90ADC6\",\"#777777\",\"#C490C6\",\"#90ADC6\",\"#777777\",\"#C490C6\",\"#90ADC6\",\"#777777\",\"#C490C6\",\"#90ADC6\",\"#777777\",\"#C490C6\",\"#90ADC6\",\"#777777\",\"#C490C6\",\"#90ADC6\",\"#777777\",\"#C490C6\",\"#90ADC6\",\"#777777\",\"#C490C6\",\"#90ADC6\",\"#777777\",\"#C490C6\",\"#90ADC6\",\"#777777\",\"#C490C6\",\"#90ADC6\",\"#777777\",\"#C490C6\",\"#90ADC6\",\"#777777\",\"#C490C6\",\"#90ADC6\",\"#777777\",\"#C490C6\",\"#90ADC6\",\"#777777\",\"#C490C6\",\"#90ADC6\",\"#777777\",\"#C490C6\",\"#90ADC6\",\"#777777\",\"#C490C6\",\"#90ADC6\",\"#777777\",\"#C490C6\",\"#90ADC6\",\"#777777\",\"#C490C6\",\"#90ADC6\",\"#777777\",\"#C490C6\",\"#90ADC6\",\"#777777\",\"#C490C6\",\"#90ADC6\",\"#777777\",\"#C490C6\",\"#90ADC6\",\"#777777\",\"#C490C6\",\"#90ADC6\",\"#777777\",\"#C490C6\",\"#90ADC6\",\"#777777\",\"#C490C6\",\"#90ADC6\",\"#777777\"],\"source\":[0,0,0,5,5,5,10,10,10,15,15,15,20,20,20,25,25,25,30,30,30,35,35,35,40,40,40,45,45,45,50,50,50,55,55,55,60,60,60,65,65,65,70,70,70,75,75,75,80,80,80,85,85,85,90,90,90,95,95,95,100,100,100,1,1,1,6,6,6,11,11,11,16,16,16,21,21,21,26,26,26,31,31,31,36,36,36,41,41,41,46,46,46,51,51,51,56,56,56,61,61,61,66,66,66,71,71,71,76,76,76,81,81,81,86,86,86,91,91,91,96,96,96,101,101,101,2,2,2,7,7,7,12,12,12,17,17,17,22,22,22,27,27,27,32,32,32,37,37,37,42,42,42,47,47,47,52,52,52,57,57,57,62,62,62,67,67,67,72,72,72,77,77,77,82,82,82,87,87,87,92,92,92,97,97,97,102,102,102,3,3,3,8,8,8,13,13,13,18,18,18,23,23,23,28,28,28,33,33,33,38,38,38,43,43,43,48,48,48,53,53,53,58,58,58,63,63,63,68,68,68,73,73,73,78,78,78,83,83,83,88,88,88,93,93,93,98,98,98,103,103,103],\"target\":[1,6,11,1,6,11,1,6,11,16,21,26,16,21,26,16,21,26,31,36,41,31,36,41,31,36,41,46,51,56,46,51,56,46,51,56,61,66,71,61,66,71,61,66,71,76,81,86,76,81,86,76,81,86,91,96,101,91,96,101,91,96,101,2,7,12,2,7,12,2,7,12,17,22,27,17,22,27,17,22,27,32,37,42,32,37,42,32,37,42,47,52,57,47,52,57,47,52,57,62,67,72,62,67,72,62,67,72,77,82,87,77,82,87,77,82,87,92,97,102,92,97,102,92,97,102,3,8,13,3,8,13,3,8,13,18,23,28,18,23,28,18,23,28,33,38,43,33,38,43,33,38,43,48,53,58,48,53,58,48,53,58,63,68,73,63,68,73,63,68,73,78,83,88,78,83,88,78,83,88,93,98,103,93,98,103,93,98,103,4,9,14,4,9,14,4,9,14,19,24,29,19,24,29,19,24,29,34,39,44,34,39,44,34,39,44,49,54,59,49,54,59,49,54,59,64,69,74,64,69,74,64,69,74,79,84,89,79,84,89,79,84,89,94,99,104,94,99,104,94,99,104],\"value\":[135,21,19,435,154,31,41,24,57,70,11,18,265,56,16,26,5,17,12,0,1,29,7,0,6,1,5,91,27,12,279,104,25,30,24,37,206,14,44,352,69,18,80,9,66,12,2,2,22,13,5,5,5,8,8,1,2,8,3,0,6,1,2,491,93,27,97,93,9,27,17,63,274,72,15,42,25,5,4,5,42,31,11,5,6,2,0,3,0,3,293,92,15,58,80,17,9,23,42,518,77,43,47,36,9,49,9,70,35,2,2,3,13,4,1,3,11,20,0,2,1,3,1,1,0,3,278,306,31,21,133,49,17,23,59,151,160,8,21,71,10,16,10,36,18,20,2,2,10,1,3,1,4,141,204,15,22,131,42,9,22,43,348,199,67,15,97,10,44,19,59,17,18,4,0,7,11,1,9,7,10,9,3,0,0,3,2,2,2,180,116,20,46,400,16,20,24,95,119,52,17,30,207,4,7,9,38,11,9,3,3,28,0,0,3,4,90,73,9,36,305,16,12,27,61,250,114,43,38,261,16,50,14,72,9,8,1,3,26,5,0,5,17,7,1,4,3,7,1,2,2,4]},\"node\":{\"line\":{\"color\":\"black\",\"width\":0.5},\"pad\":25,\"thickness\":20},\"type\":\"sankey\"}],                        {\"template\":{\"data\":{\"bar\":[{\"error_x\":{\"color\":\"#2a3f5f\"},\"error_y\":{\"color\":\"#2a3f5f\"},\"marker\":{\"line\":{\"color\":\"#E5ECF6\",\"width\":0.5},\"pattern\":{\"fillmode\":\"overlay\",\"size\":10,\"solidity\":0.2}},\"type\":\"bar\"}],\"barpolar\":[{\"marker\":{\"line\":{\"color\":\"#E5ECF6\",\"width\":0.5},\"pattern\":{\"fillmode\":\"overlay\",\"size\":10,\"solidity\":0.2}},\"type\":\"barpolar\"}],\"carpet\":[{\"aaxis\":{\"endlinecolor\":\"#2a3f5f\",\"gridcolor\":\"white\",\"linecolor\":\"white\",\"minorgridcolor\":\"white\",\"startlinecolor\":\"#2a3f5f\"},\"baxis\":{\"endlinecolor\":\"#2a3f5f\",\"gridcolor\":\"white\",\"linecolor\":\"white\",\"minorgridcolor\":\"white\",\"startlinecolor\":\"#2a3f5f\"},\"type\":\"carpet\"}],\"choropleth\":[{\"colorbar\":{\"outlinewidth\":0,\"ticks\":\"\"},\"type\":\"choropleth\"}],\"contour\":[{\"colorbar\":{\"outlinewidth\":0,\"ticks\":\"\"},\"colorscale\":[[0.0,\"#0d0887\"],[0.1111111111111111,\"#46039f\"],[0.2222222222222222,\"#7201a8\"],[0.3333333333333333,\"#9c179e\"],[0.4444444444444444,\"#bd3786\"],[0.5555555555555556,\"#d8576b\"],[0.6666666666666666,\"#ed7953\"],[0.7777777777777778,\"#fb9f3a\"],[0.8888888888888888,\"#fdca26\"],[1.0,\"#f0f921\"]],\"type\":\"contour\"}],\"contourcarpet\":[{\"colorbar\":{\"outlinewidth\":0,\"ticks\":\"\"},\"type\":\"contourcarpet\"}],\"heatmap\":[{\"colorbar\":{\"outlinewidth\":0,\"ticks\":\"\"},\"colorscale\":[[0.0,\"#0d0887\"],[0.1111111111111111,\"#46039f\"],[0.2222222222222222,\"#7201a8\"],[0.3333333333333333,\"#9c179e\"],[0.4444444444444444,\"#bd3786\"],[0.5555555555555556,\"#d8576b\"],[0.6666666666666666,\"#ed7953\"],[0.7777777777777778,\"#fb9f3a\"],[0.8888888888888888,\"#fdca26\"],[1.0,\"#f0f921\"]],\"type\":\"heatmap\"}],\"heatmapgl\":[{\"colorbar\":{\"outlinewidth\":0,\"ticks\":\"\"},\"colorscale\":[[0.0,\"#0d0887\"],[0.1111111111111111,\"#46039f\"],[0.2222222222222222,\"#7201a8\"],[0.3333333333333333,\"#9c179e\"],[0.4444444444444444,\"#bd3786\"],[0.5555555555555556,\"#d8576b\"],[0.6666666666666666,\"#ed7953\"],[0.7777777777777778,\"#fb9f3a\"],[0.8888888888888888,\"#fdca26\"],[1.0,\"#f0f921\"]],\"type\":\"heatmapgl\"}],\"histogram\":[{\"marker\":{\"pattern\":{\"fillmode\":\"overlay\",\"size\":10,\"solidity\":0.2}},\"type\":\"histogram\"}],\"histogram2d\":[{\"colorbar\":{\"outlinewidth\":0,\"ticks\":\"\"},\"colorscale\":[[0.0,\"#0d0887\"],[0.1111111111111111,\"#46039f\"],[0.2222222222222222,\"#7201a8\"],[0.3333333333333333,\"#9c179e\"],[0.4444444444444444,\"#bd3786\"],[0.5555555555555556,\"#d8576b\"],[0.6666666666666666,\"#ed7953\"],[0.7777777777777778,\"#fb9f3a\"],[0.8888888888888888,\"#fdca26\"],[1.0,\"#f0f921\"]],\"type\":\"histogram2d\"}],\"histogram2dcontour\":[{\"colorbar\":{\"outlinewidth\":0,\"ticks\":\"\"},\"colorscale\":[[0.0,\"#0d0887\"],[0.1111111111111111,\"#46039f\"],[0.2222222222222222,\"#7201a8\"],[0.3333333333333333,\"#9c179e\"],[0.4444444444444444,\"#bd3786\"],[0.5555555555555556,\"#d8576b\"],[0.6666666666666666,\"#ed7953\"],[0.7777777777777778,\"#fb9f3a\"],[0.8888888888888888,\"#fdca26\"],[1.0,\"#f0f921\"]],\"type\":\"histogram2dcontour\"}],\"mesh3d\":[{\"colorbar\":{\"outlinewidth\":0,\"ticks\":\"\"},\"type\":\"mesh3d\"}],\"parcoords\":[{\"line\":{\"colorbar\":{\"outlinewidth\":0,\"ticks\":\"\"}},\"type\":\"parcoords\"}],\"pie\":[{\"automargin\":true,\"type\":\"pie\"}],\"scatter\":[{\"marker\":{\"colorbar\":{\"outlinewidth\":0,\"ticks\":\"\"}},\"type\":\"scatter\"}],\"scatter3d\":[{\"line\":{\"colorbar\":{\"outlinewidth\":0,\"ticks\":\"\"}},\"marker\":{\"colorbar\":{\"outlinewidth\":0,\"ticks\":\"\"}},\"type\":\"scatter3d\"}],\"scattercarpet\":[{\"marker\":{\"colorbar\":{\"outlinewidth\":0,\"ticks\":\"\"}},\"type\":\"scattercarpet\"}],\"scattergeo\":[{\"marker\":{\"colorbar\":{\"outlinewidth\":0,\"ticks\":\"\"}},\"type\":\"scattergeo\"}],\"scattergl\":[{\"marker\":{\"colorbar\":{\"outlinewidth\":0,\"ticks\":\"\"}},\"type\":\"scattergl\"}],\"scattermapbox\":[{\"marker\":{\"colorbar\":{\"outlinewidth\":0,\"ticks\":\"\"}},\"type\":\"scattermapbox\"}],\"scatterpolar\":[{\"marker\":{\"colorbar\":{\"outlinewidth\":0,\"ticks\":\"\"}},\"type\":\"scatterpolar\"}],\"scatterpolargl\":[{\"marker\":{\"colorbar\":{\"outlinewidth\":0,\"ticks\":\"\"}},\"type\":\"scatterpolargl\"}],\"scatterternary\":[{\"marker\":{\"colorbar\":{\"outlinewidth\":0,\"ticks\":\"\"}},\"type\":\"scatterternary\"}],\"surface\":[{\"colorbar\":{\"outlinewidth\":0,\"ticks\":\"\"},\"colorscale\":[[0.0,\"#0d0887\"],[0.1111111111111111,\"#46039f\"],[0.2222222222222222,\"#7201a8\"],[0.3333333333333333,\"#9c179e\"],[0.4444444444444444,\"#bd3786\"],[0.5555555555555556,\"#d8576b\"],[0.6666666666666666,\"#ed7953\"],[0.7777777777777778,\"#fb9f3a\"],[0.8888888888888888,\"#fdca26\"],[1.0,\"#f0f921\"]],\"type\":\"surface\"}],\"table\":[{\"cells\":{\"fill\":{\"color\":\"#EBF0F8\"},\"line\":{\"color\":\"white\"}},\"header\":{\"fill\":{\"color\":\"#C8D4E3\"},\"line\":{\"color\":\"white\"}},\"type\":\"table\"}]},\"layout\":{\"annotationdefaults\":{\"arrowcolor\":\"#2a3f5f\",\"arrowhead\":0,\"arrowwidth\":1},\"autotypenumbers\":\"strict\",\"coloraxis\":{\"colorbar\":{\"outlinewidth\":0,\"ticks\":\"\"}},\"colorscale\":{\"diverging\":[[0,\"#8e0152\"],[0.1,\"#c51b7d\"],[0.2,\"#de77ae\"],[0.3,\"#f1b6da\"],[0.4,\"#fde0ef\"],[0.5,\"#f7f7f7\"],[0.6,\"#e6f5d0\"],[0.7,\"#b8e186\"],[0.8,\"#7fbc41\"],[0.9,\"#4d9221\"],[1,\"#276419\"]],\"sequential\":[[0.0,\"#0d0887\"],[0.1111111111111111,\"#46039f\"],[0.2222222222222222,\"#7201a8\"],[0.3333333333333333,\"#9c179e\"],[0.4444444444444444,\"#bd3786\"],[0.5555555555555556,\"#d8576b\"],[0.6666666666666666,\"#ed7953\"],[0.7777777777777778,\"#fb9f3a\"],[0.8888888888888888,\"#fdca26\"],[1.0,\"#f0f921\"]],\"sequentialminus\":[[0.0,\"#0d0887\"],[0.1111111111111111,\"#46039f\"],[0.2222222222222222,\"#7201a8\"],[0.3333333333333333,\"#9c179e\"],[0.4444444444444444,\"#bd3786\"],[0.5555555555555556,\"#d8576b\"],[0.6666666666666666,\"#ed7953\"],[0.7777777777777778,\"#fb9f3a\"],[0.8888888888888888,\"#fdca26\"],[1.0,\"#f0f921\"]]},\"colorway\":[\"#636efa\",\"#EF553B\",\"#00cc96\",\"#ab63fa\",\"#FFA15A\",\"#19d3f3\",\"#FF6692\",\"#B6E880\",\"#FF97FF\",\"#FECB52\"],\"font\":{\"color\":\"#2a3f5f\"},\"geo\":{\"bgcolor\":\"white\",\"lakecolor\":\"white\",\"landcolor\":\"#E5ECF6\",\"showlakes\":true,\"showland\":true,\"subunitcolor\":\"white\"},\"hoverlabel\":{\"align\":\"left\"},\"hovermode\":\"closest\",\"mapbox\":{\"style\":\"light\"},\"paper_bgcolor\":\"white\",\"plot_bgcolor\":\"#E5ECF6\",\"polar\":{\"angularaxis\":{\"gridcolor\":\"white\",\"linecolor\":\"white\",\"ticks\":\"\"},\"bgcolor\":\"#E5ECF6\",\"radialaxis\":{\"gridcolor\":\"white\",\"linecolor\":\"white\",\"ticks\":\"\"}},\"scene\":{\"xaxis\":{\"backgroundcolor\":\"#E5ECF6\",\"gridcolor\":\"white\",\"gridwidth\":2,\"linecolor\":\"white\",\"showbackground\":true,\"ticks\":\"\",\"zerolinecolor\":\"white\"},\"yaxis\":{\"backgroundcolor\":\"#E5ECF6\",\"gridcolor\":\"white\",\"gridwidth\":2,\"linecolor\":\"white\",\"showbackground\":true,\"ticks\":\"\",\"zerolinecolor\":\"white\"},\"zaxis\":{\"backgroundcolor\":\"#E5ECF6\",\"gridcolor\":\"white\",\"gridwidth\":2,\"linecolor\":\"white\",\"showbackground\":true,\"ticks\":\"\",\"zerolinecolor\":\"white\"}},\"shapedefaults\":{\"line\":{\"color\":\"#2a3f5f\"}},\"ternary\":{\"aaxis\":{\"gridcolor\":\"white\",\"linecolor\":\"white\",\"ticks\":\"\"},\"baxis\":{\"gridcolor\":\"white\",\"linecolor\":\"white\",\"ticks\":\"\"},\"bgcolor\":\"#E5ECF6\",\"caxis\":{\"gridcolor\":\"white\",\"linecolor\":\"white\",\"ticks\":\"\"}},\"title\":{\"x\":0.05},\"xaxis\":{\"automargin\":true,\"gridcolor\":\"white\",\"linecolor\":\"white\",\"ticks\":\"\",\"title\":{\"standoff\":15},\"zerolinecolor\":\"white\",\"zerolinewidth\":2},\"yaxis\":{\"automargin\":true,\"gridcolor\":\"white\",\"linecolor\":\"white\",\"ticks\":\"\",\"title\":{\"standoff\":15},\"zerolinecolor\":\"white\",\"zerolinewidth\":2}}},\"title\":{\"text\":\"\"},\"font\":{\"size\":10},\"width\":1000,\"height\":1000},                        {\"responsive\": true}                    ).then(function(){\n",
       "                            \n",
       "var gd = document.getElementById('afe05e4e-62b4-4192-aa3c-6c9ce0daf2c0');\n",
       "var x = new MutationObserver(function (mutations, observer) {{\n",
       "        var display = window.getComputedStyle(gd).display;\n",
       "        if (!display || display === 'none') {{\n",
       "            console.log([gd, 'removed!']);\n",
       "            Plotly.purge(gd);\n",
       "            observer.disconnect();\n",
       "        }}\n",
       "}});\n",
       "\n",
       "// Listen for the removal of the full notebook cells\n",
       "var notebookContainer = gd.closest('#notebook-container');\n",
       "if (notebookContainer) {{\n",
       "    x.observe(notebookContainer, {childList: true});\n",
       "}}\n",
       "\n",
       "// Listen for the clearing of the current output cell\n",
       "var outputEl = gd.closest('.output');\n",
       "if (outputEl) {{\n",
       "    x.observe(outputEl, {childList: true});\n",
       "}}\n",
       "\n",
       "                        })                };                });            </script>        </div>"
      ]
     },
     "metadata": {},
     "output_type": "display_data"
    }
   ],
   "source": [
    "import plotly.graph_objects as go\n",
    "import plotly.io as pio\n",
    "\n",
    "flow_colors = ['#C490C6', '#90ADC6', '#777777'] * 3 * 8 * 4\n",
    "\n",
    "# Create the alluvial diagram\n",
    "fig = go.Figure(data=[go.Sankey(\n",
    "    node=dict(\n",
    "        pad=25,\n",
    "        thickness=20,\n",
    "        line=dict(color=\"black\", width=0.5),\n",
    "        # label=label\n",
    "    ),\n",
    "    link=dict(\n",
    "        source=source,\n",
    "        target=target,\n",
    "        value=value,\n",
    "        color=flow_colors\n",
    "    )\n",
    ")])\n",
    "\n",
    "# Update the layout and show the plot\n",
    "fig.update_layout(\n",
    "    title_text=\"\",\n",
    "    font_size=10,\n",
    "    width=1000,  # Custom figure width\n",
    "    height=1000  # Custom figure height\n",
    ")\n",
    "fig.show()\n",
    "\n",
    "# Save the figure as a PDF\n",
    "pio.write_image(fig, '/mnt/Storage/home/wangyiman/CHMsInOtherContexts/figures/make13_alluvial_inconsist_universalProcessSpecificNonCHM_ABOthers.pdf')\n"
   ]
  },
  {
   "cell_type": "code",
   "execution_count": 36,
   "metadata": {},
   "outputs": [
    {
     "data": {
      "application/vnd.plotly.v1+json": {
       "config": {
        "plotlyServerURL": "https://plot.ly"
       },
       "data": [
        {
         "link": {
          "color": [
           "#C490C6",
           "#90ADC6",
           "#777777",
           "#C490C6",
           "#90ADC6",
           "#777777",
           "#C490C6",
           "#90ADC6",
           "#777777",
           "#C490C6",
           "#90ADC6",
           "#777777",
           "#C490C6",
           "#90ADC6",
           "#777777",
           "#C490C6",
           "#90ADC6",
           "#777777",
           "#C490C6",
           "#90ADC6",
           "#777777",
           "#C490C6",
           "#90ADC6",
           "#777777",
           "#C490C6",
           "#90ADC6",
           "#777777",
           "#C490C6",
           "#90ADC6",
           "#777777",
           "#C490C6",
           "#90ADC6",
           "#777777",
           "#C490C6",
           "#90ADC6",
           "#777777",
           "#C490C6",
           "#90ADC6",
           "#777777",
           "#C490C6",
           "#90ADC6",
           "#777777",
           "#C490C6",
           "#90ADC6",
           "#777777",
           "#C490C6",
           "#90ADC6",
           "#777777",
           "#C490C6",
           "#90ADC6",
           "#777777",
           "#C490C6",
           "#90ADC6",
           "#777777",
           "#C490C6",
           "#90ADC6",
           "#777777",
           "#C490C6",
           "#90ADC6",
           "#777777",
           "#C490C6",
           "#90ADC6",
           "#777777",
           "#C490C6",
           "#90ADC6",
           "#777777",
           "#C490C6",
           "#90ADC6",
           "#777777",
           "#C490C6",
           "#90ADC6",
           "#777777",
           "#C490C6",
           "#90ADC6",
           "#777777",
           "#C490C6",
           "#90ADC6",
           "#777777",
           "#C490C6",
           "#90ADC6",
           "#777777",
           "#C490C6",
           "#90ADC6",
           "#777777",
           "#C490C6",
           "#90ADC6",
           "#777777",
           "#C490C6",
           "#90ADC6",
           "#777777",
           "#C490C6",
           "#90ADC6",
           "#777777",
           "#C490C6",
           "#90ADC6",
           "#777777",
           "#C490C6",
           "#90ADC6",
           "#777777",
           "#C490C6",
           "#90ADC6",
           "#777777",
           "#C490C6",
           "#90ADC6",
           "#777777",
           "#C490C6",
           "#90ADC6",
           "#777777",
           "#C490C6",
           "#90ADC6",
           "#777777",
           "#C490C6",
           "#90ADC6",
           "#777777",
           "#C490C6",
           "#90ADC6",
           "#777777",
           "#C490C6",
           "#90ADC6",
           "#777777",
           "#C490C6",
           "#90ADC6",
           "#777777",
           "#C490C6",
           "#90ADC6",
           "#777777",
           "#C490C6",
           "#90ADC6",
           "#777777",
           "#C490C6",
           "#90ADC6",
           "#777777",
           "#C490C6",
           "#90ADC6",
           "#777777",
           "#C490C6",
           "#90ADC6",
           "#777777",
           "#C490C6",
           "#90ADC6",
           "#777777",
           "#C490C6",
           "#90ADC6",
           "#777777",
           "#C490C6",
           "#90ADC6",
           "#777777",
           "#C490C6",
           "#90ADC6",
           "#777777",
           "#C490C6",
           "#90ADC6",
           "#777777",
           "#C490C6",
           "#90ADC6",
           "#777777",
           "#C490C6",
           "#90ADC6",
           "#777777",
           "#C490C6",
           "#90ADC6",
           "#777777",
           "#C490C6",
           "#90ADC6",
           "#777777",
           "#C490C6",
           "#90ADC6",
           "#777777",
           "#C490C6",
           "#90ADC6",
           "#777777",
           "#C490C6",
           "#90ADC6",
           "#777777",
           "#C490C6",
           "#90ADC6",
           "#777777",
           "#C490C6",
           "#90ADC6",
           "#777777",
           "#C490C6",
           "#90ADC6",
           "#777777",
           "#C490C6",
           "#90ADC6",
           "#777777",
           "#C490C6",
           "#90ADC6",
           "#777777",
           "#C490C6",
           "#90ADC6",
           "#777777",
           "#C490C6",
           "#90ADC6",
           "#777777",
           "#C490C6",
           "#90ADC6",
           "#777777",
           "#C490C6",
           "#90ADC6",
           "#777777",
           "#C490C6",
           "#90ADC6",
           "#777777",
           "#C490C6",
           "#90ADC6",
           "#777777",
           "#C490C6",
           "#90ADC6",
           "#777777",
           "#C490C6",
           "#90ADC6",
           "#777777",
           "#C490C6",
           "#90ADC6",
           "#777777",
           "#C490C6",
           "#90ADC6",
           "#777777",
           "#C490C6",
           "#90ADC6",
           "#777777",
           "#C490C6",
           "#90ADC6",
           "#777777",
           "#C490C6",
           "#90ADC6",
           "#777777",
           "#C490C6",
           "#90ADC6",
           "#777777",
           "#C490C6",
           "#90ADC6",
           "#777777",
           "#C490C6",
           "#90ADC6",
           "#777777",
           "#C490C6",
           "#90ADC6",
           "#777777",
           "#C490C6",
           "#90ADC6",
           "#777777",
           "#C490C6",
           "#90ADC6",
           "#777777",
           "#C490C6",
           "#90ADC6",
           "#777777",
           "#C490C6",
           "#90ADC6",
           "#777777",
           "#C490C6",
           "#90ADC6",
           "#777777",
           "#C490C6",
           "#90ADC6",
           "#777777",
           "#C490C6",
           "#90ADC6",
           "#777777",
           "#C490C6",
           "#90ADC6",
           "#777777",
           "#C490C6",
           "#90ADC6",
           "#777777",
           "#C490C6",
           "#90ADC6",
           "#777777",
           "#C490C6",
           "#90ADC6",
           "#777777",
           "#C490C6",
           "#90ADC6",
           "#777777",
           "#C490C6",
           "#90ADC6",
           "#777777",
           "#C490C6",
           "#90ADC6",
           "#777777",
           "#C490C6",
           "#90ADC6",
           "#777777",
           "#C490C6",
           "#90ADC6",
           "#777777"
          ],
          "source": [
           0,
           0,
           0,
           5,
           5,
           5,
           10,
           10,
           10,
           15,
           15,
           15,
           20,
           20,
           20,
           25,
           25,
           25,
           30,
           30,
           30,
           35,
           35,
           35,
           40,
           40,
           40,
           45,
           45,
           45,
           50,
           50,
           50,
           55,
           55,
           55,
           60,
           60,
           60,
           65,
           65,
           65,
           70,
           70,
           70,
           75,
           75,
           75,
           80,
           80,
           80,
           85,
           85,
           85,
           90,
           90,
           90,
           95,
           95,
           95,
           100,
           100,
           100,
           1,
           1,
           1,
           6,
           6,
           6,
           11,
           11,
           11,
           16,
           16,
           16,
           21,
           21,
           21,
           26,
           26,
           26,
           31,
           31,
           31,
           36,
           36,
           36,
           41,
           41,
           41,
           46,
           46,
           46,
           51,
           51,
           51,
           56,
           56,
           56,
           61,
           61,
           61,
           66,
           66,
           66,
           71,
           71,
           71,
           76,
           76,
           76,
           81,
           81,
           81,
           86,
           86,
           86,
           91,
           91,
           91,
           96,
           96,
           96,
           101,
           101,
           101,
           2,
           2,
           2,
           7,
           7,
           7,
           12,
           12,
           12,
           17,
           17,
           17,
           22,
           22,
           22,
           27,
           27,
           27,
           32,
           32,
           32,
           37,
           37,
           37,
           42,
           42,
           42,
           47,
           47,
           47,
           52,
           52,
           52,
           57,
           57,
           57,
           62,
           62,
           62,
           67,
           67,
           67,
           72,
           72,
           72,
           77,
           77,
           77,
           82,
           82,
           82,
           87,
           87,
           87,
           92,
           92,
           92,
           97,
           97,
           97,
           102,
           102,
           102,
           3,
           3,
           3,
           8,
           8,
           8,
           13,
           13,
           13,
           18,
           18,
           18,
           23,
           23,
           23,
           28,
           28,
           28,
           33,
           33,
           33,
           38,
           38,
           38,
           43,
           43,
           43,
           48,
           48,
           48,
           53,
           53,
           53,
           58,
           58,
           58,
           63,
           63,
           63,
           68,
           68,
           68,
           73,
           73,
           73,
           78,
           78,
           78,
           83,
           83,
           83,
           88,
           88,
           88,
           93,
           93,
           93,
           98,
           98,
           98,
           103,
           103,
           103
          ],
          "target": [
           1,
           6,
           11,
           1,
           6,
           11,
           1,
           6,
           11,
           16,
           21,
           26,
           16,
           21,
           26,
           16,
           21,
           26,
           31,
           36,
           41,
           31,
           36,
           41,
           31,
           36,
           41,
           46,
           51,
           56,
           46,
           51,
           56,
           46,
           51,
           56,
           61,
           66,
           71,
           61,
           66,
           71,
           61,
           66,
           71,
           76,
           81,
           86,
           76,
           81,
           86,
           76,
           81,
           86,
           91,
           96,
           101,
           91,
           96,
           101,
           91,
           96,
           101,
           2,
           7,
           12,
           2,
           7,
           12,
           2,
           7,
           12,
           17,
           22,
           27,
           17,
           22,
           27,
           17,
           22,
           27,
           32,
           37,
           42,
           32,
           37,
           42,
           32,
           37,
           42,
           47,
           52,
           57,
           47,
           52,
           57,
           47,
           52,
           57,
           62,
           67,
           72,
           62,
           67,
           72,
           62,
           67,
           72,
           77,
           82,
           87,
           77,
           82,
           87,
           77,
           82,
           87,
           92,
           97,
           102,
           92,
           97,
           102,
           92,
           97,
           102,
           3,
           8,
           13,
           3,
           8,
           13,
           3,
           8,
           13,
           18,
           23,
           28,
           18,
           23,
           28,
           18,
           23,
           28,
           33,
           38,
           43,
           33,
           38,
           43,
           33,
           38,
           43,
           48,
           53,
           58,
           48,
           53,
           58,
           48,
           53,
           58,
           63,
           68,
           73,
           63,
           68,
           73,
           63,
           68,
           73,
           78,
           83,
           88,
           78,
           83,
           88,
           78,
           83,
           88,
           93,
           98,
           103,
           93,
           98,
           103,
           93,
           98,
           103,
           4,
           9,
           14,
           4,
           9,
           14,
           4,
           9,
           14,
           19,
           24,
           29,
           19,
           24,
           29,
           19,
           24,
           29,
           34,
           39,
           44,
           34,
           39,
           44,
           34,
           39,
           44,
           49,
           54,
           59,
           49,
           54,
           59,
           49,
           54,
           59,
           64,
           69,
           74,
           64,
           69,
           74,
           64,
           69,
           74,
           79,
           84,
           89,
           79,
           84,
           89,
           79,
           84,
           89,
           94,
           99,
           104,
           94,
           99,
           104,
           94,
           99,
           104
          ],
          "value": [
           135,
           21,
           19,
           435,
           154,
           31,
           41,
           24,
           57,
           70,
           11,
           18,
           265,
           56,
           16,
           26,
           5,
           17,
           12,
           0,
           1,
           29,
           7,
           0,
           6,
           1,
           5,
           91,
           27,
           12,
           279,
           104,
           25,
           30,
           24,
           37,
           206,
           14,
           44,
           352,
           69,
           18,
           80,
           9,
           66,
           12,
           2,
           2,
           22,
           13,
           5,
           5,
           5,
           8,
           8,
           1,
           2,
           8,
           3,
           0,
           6,
           1,
           2,
           491,
           93,
           27,
           97,
           93,
           9,
           27,
           17,
           63,
           274,
           72,
           15,
           42,
           25,
           5,
           4,
           5,
           42,
           31,
           11,
           5,
           6,
           2,
           0,
           3,
           0,
           3,
           293,
           92,
           15,
           58,
           80,
           17,
           9,
           23,
           42,
           518,
           77,
           43,
           47,
           36,
           9,
           49,
           9,
           70,
           35,
           2,
           2,
           3,
           13,
           4,
           1,
           3,
           11,
           20,
           0,
           2,
           1,
           3,
           1,
           1,
           0,
           3,
           278,
           306,
           31,
           21,
           133,
           49,
           17,
           23,
           59,
           151,
           160,
           8,
           21,
           71,
           10,
           16,
           10,
           36,
           18,
           20,
           2,
           2,
           10,
           1,
           3,
           1,
           4,
           141,
           204,
           15,
           22,
           131,
           42,
           9,
           22,
           43,
           348,
           199,
           67,
           15,
           97,
           10,
           44,
           19,
           59,
           17,
           18,
           4,
           0,
           7,
           11,
           1,
           9,
           7,
           10,
           9,
           3,
           0,
           0,
           3,
           2,
           2,
           2,
           180,
           116,
           20,
           46,
           400,
           16,
           20,
           24,
           95,
           119,
           52,
           17,
           30,
           207,
           4,
           7,
           9,
           38,
           11,
           9,
           3,
           3,
           28,
           0,
           0,
           3,
           4,
           90,
           73,
           9,
           36,
           305,
           16,
           12,
           27,
           61,
           250,
           114,
           43,
           38,
           261,
           16,
           50,
           14,
           72,
           9,
           8,
           1,
           3,
           26,
           5,
           0,
           5,
           17,
           7,
           1,
           4,
           3,
           7,
           1,
           2,
           2,
           4
          ]
         },
         "node": {
          "label": [
           "Universal: A in ESCs",
           "Universal: A in NPCs",
           "Universal: A in CNs",
           "Universal: A in ncxNPCs",
           "Universal: A in ncxCNs",
           "Universal: B in ESCs",
           "Universal: B in NPCs",
           "Universal: B in CNs",
           "Universal: B in ncxNPCs",
           "Universal: B in ncxCNs",
           "Universal: others in ESCs",
           "Universal: others in NPCs",
           "Universal: others in CNs",
           "Universal: others in ncxNPCs",
           "Universal: others in ncxCNs",
           "EarlyEmbryoSpecific: A in ESCs",
           "EarlyEmbryoSpecific: A in NPCs",
           "EarlyEmbryoSpecific: A in CNs",
           "EarlyEmbryoSpecific: A in ncxNPCs",
           "EarlyEmbryoSpecific: A in ncxCNs",
           "EarlyEmbryoSpecific: B in ESCs",
           "EarlyEmbryoSpecific: B in NPCs",
           "EarlyEmbryoSpecific: B in CNs",
           "EarlyEmbryoSpecific: B in ncxNPCs",
           "EarlyEmbryoSpecific: B in ncxCNs",
           "EarlyEmbryoSpecific: others in ESCs",
           "EarlyEmbryoSpecific: others in NPCs",
           "EarlyEmbryoSpecific: others in CNs",
           "EarlyEmbryoSpecific: others in ncxNPCs",
           "EarlyEmbryoSpecific: others in ncxCNs",
           "PGCSpecific: A in ESCs",
           "PGCSpecific: A in NPCs",
           "PGCSpecific: A in CNs",
           "PGCSpecific: A in ncxNPCs",
           "PGCSpecific: A in ncxCNs",
           "PGCSpecific: B in ESCs",
           "PGCSpecific: B in NPCs",
           "PGCSpecific: B in CNs",
           "PGCSpecific: B in ncxNPCs",
           "PGCSpecific: B in ncxCNs",
           "PGCSpecific: others in ESCs",
           "PGCSpecific: others in NPCs",
           "PGCSpecific: others in CNs",
           "PGCSpecific: others in ncxNPCs",
           "PGCSpecific: others in ncxCNs",
           "SpermSpecific: A in ESCs",
           "SpermSpecific: A in NPCs",
           "SpermSpecific: A in CNs",
           "SpermSpecific: A in ncxNPCs",
           "SpermSpecific: A in ncxCNs",
           "SpermSpecific: B in ESCs",
           "SpermSpecific: B in NPCs",
           "SpermSpecific: B in CNs",
           "SpermSpecific: B in ncxNPCs",
           "SpermSpecific: B in ncxCNs",
           "SpermSpecific: others in ESCs",
           "SpermSpecific: others in NPCs",
           "SpermSpecific: others in CNs",
           "SpermSpecific: others in ncxNPCs",
           "SpermSpecific: others in ncxCNs",
           "RetinalSpecific: A in ESCs",
           "RetinalSpecific: A in NPCs",
           "RetinalSpecific: A in CNs",
           "RetinalSpecific: A in ncxNPCs",
           "RetinalSpecific: A in ncxCNs",
           "RetinalSpecific: B in ESCs",
           "RetinalSpecific: B in NPCs",
           "RetinalSpecific: B in CNs",
           "RetinalSpecific: B in ncxNPCs",
           "RetinalSpecific: B in ncxCNs",
           "RetinalSpecific: others in ESCs",
           "RetinalSpecific: others in NPCs",
           "RetinalSpecific: others in CNs",
           "RetinalSpecific: others in ncxNPCs",
           "RetinalSpecific: others in ncxCNs",
           "HeartSpecific: A in ESCs",
           "HeartSpecific: A in NPCs",
           "HeartSpecific: A in CNs",
           "HeartSpecific: A in ncxNPCs",
           "HeartSpecific: A in ncxCNs",
           "HeartSpecific: B in ESCs",
           "HeartSpecific: B in NPCs",
           "HeartSpecific: B in CNs",
           "HeartSpecific: B in ncxNPCs",
           "HeartSpecific: B in ncxCNs",
           "HeartSpecific: others in ESCs",
           "HeartSpecific: others in NPCs",
           "HeartSpecific: others in CNs",
           "HeartSpecific: others in ncxNPCs",
           "HeartSpecific: others in ncxCNs",
           "LiverSpecific: A in ESCs",
           "LiverSpecific: A in NPCs",
           "LiverSpecific: A in CNs",
           "LiverSpecific: A in ncxNPCs",
           "LiverSpecific: A in ncxCNs",
           "LiverSpecific: B in ESCs",
           "LiverSpecific: B in NPCs",
           "LiverSpecific: B in CNs",
           "LiverSpecific: B in ncxNPCs",
           "LiverSpecific: B in ncxCNs",
           "LiverSpecific: others in ESCs",
           "LiverSpecific: others in NPCs",
           "LiverSpecific: others in CNs",
           "LiverSpecific: others in ncxNPCs",
           "LiverSpecific: others in ncxCNs",
           "NonCHMsCpGrich: A in ESCs",
           "NonCHMsCpGrich: A in NPCs",
           "NonCHMsCpGrich: A in CNs",
           "NonCHMsCpGrich: A in ncxNPCs",
           "NonCHMsCpGrich: A in ncxCNs",
           "NonCHMsCpGrich: B in ESCs",
           "NonCHMsCpGrich: B in NPCs",
           "NonCHMsCpGrich: B in CNs",
           "NonCHMsCpGrich: B in ncxNPCs",
           "NonCHMsCpGrich: B in ncxCNs",
           "NonCHMsCpGrich: others in ESCs",
           "NonCHMsCpGrich: others in NPCs",
           "NonCHMsCpGrich: others in CNs",
           "NonCHMsCpGrich: others in ncxNPCs",
           "NonCHMsCpGrich: others in ncxCNs"
          ],
          "line": {
           "color": "black",
           "width": 0.5
          },
          "pad": 25,
          "thickness": 20
         },
         "type": "sankey"
        }
       ],
       "layout": {
        "font": {
         "size": 10
        },
        "height": 1000,
        "template": {
         "data": {
          "bar": [
           {
            "error_x": {
             "color": "#2a3f5f"
            },
            "error_y": {
             "color": "#2a3f5f"
            },
            "marker": {
             "line": {
              "color": "#E5ECF6",
              "width": 0.5
             },
             "pattern": {
              "fillmode": "overlay",
              "size": 10,
              "solidity": 0.2
             }
            },
            "type": "bar"
           }
          ],
          "barpolar": [
           {
            "marker": {
             "line": {
              "color": "#E5ECF6",
              "width": 0.5
             },
             "pattern": {
              "fillmode": "overlay",
              "size": 10,
              "solidity": 0.2
             }
            },
            "type": "barpolar"
           }
          ],
          "carpet": [
           {
            "aaxis": {
             "endlinecolor": "#2a3f5f",
             "gridcolor": "white",
             "linecolor": "white",
             "minorgridcolor": "white",
             "startlinecolor": "#2a3f5f"
            },
            "baxis": {
             "endlinecolor": "#2a3f5f",
             "gridcolor": "white",
             "linecolor": "white",
             "minorgridcolor": "white",
             "startlinecolor": "#2a3f5f"
            },
            "type": "carpet"
           }
          ],
          "choropleth": [
           {
            "colorbar": {
             "outlinewidth": 0,
             "ticks": ""
            },
            "type": "choropleth"
           }
          ],
          "contour": [
           {
            "colorbar": {
             "outlinewidth": 0,
             "ticks": ""
            },
            "colorscale": [
             [
              0,
              "#0d0887"
             ],
             [
              0.1111111111111111,
              "#46039f"
             ],
             [
              0.2222222222222222,
              "#7201a8"
             ],
             [
              0.3333333333333333,
              "#9c179e"
             ],
             [
              0.4444444444444444,
              "#bd3786"
             ],
             [
              0.5555555555555556,
              "#d8576b"
             ],
             [
              0.6666666666666666,
              "#ed7953"
             ],
             [
              0.7777777777777778,
              "#fb9f3a"
             ],
             [
              0.8888888888888888,
              "#fdca26"
             ],
             [
              1,
              "#f0f921"
             ]
            ],
            "type": "contour"
           }
          ],
          "contourcarpet": [
           {
            "colorbar": {
             "outlinewidth": 0,
             "ticks": ""
            },
            "type": "contourcarpet"
           }
          ],
          "heatmap": [
           {
            "colorbar": {
             "outlinewidth": 0,
             "ticks": ""
            },
            "colorscale": [
             [
              0,
              "#0d0887"
             ],
             [
              0.1111111111111111,
              "#46039f"
             ],
             [
              0.2222222222222222,
              "#7201a8"
             ],
             [
              0.3333333333333333,
              "#9c179e"
             ],
             [
              0.4444444444444444,
              "#bd3786"
             ],
             [
              0.5555555555555556,
              "#d8576b"
             ],
             [
              0.6666666666666666,
              "#ed7953"
             ],
             [
              0.7777777777777778,
              "#fb9f3a"
             ],
             [
              0.8888888888888888,
              "#fdca26"
             ],
             [
              1,
              "#f0f921"
             ]
            ],
            "type": "heatmap"
           }
          ],
          "heatmapgl": [
           {
            "colorbar": {
             "outlinewidth": 0,
             "ticks": ""
            },
            "colorscale": [
             [
              0,
              "#0d0887"
             ],
             [
              0.1111111111111111,
              "#46039f"
             ],
             [
              0.2222222222222222,
              "#7201a8"
             ],
             [
              0.3333333333333333,
              "#9c179e"
             ],
             [
              0.4444444444444444,
              "#bd3786"
             ],
             [
              0.5555555555555556,
              "#d8576b"
             ],
             [
              0.6666666666666666,
              "#ed7953"
             ],
             [
              0.7777777777777778,
              "#fb9f3a"
             ],
             [
              0.8888888888888888,
              "#fdca26"
             ],
             [
              1,
              "#f0f921"
             ]
            ],
            "type": "heatmapgl"
           }
          ],
          "histogram": [
           {
            "marker": {
             "pattern": {
              "fillmode": "overlay",
              "size": 10,
              "solidity": 0.2
             }
            },
            "type": "histogram"
           }
          ],
          "histogram2d": [
           {
            "colorbar": {
             "outlinewidth": 0,
             "ticks": ""
            },
            "colorscale": [
             [
              0,
              "#0d0887"
             ],
             [
              0.1111111111111111,
              "#46039f"
             ],
             [
              0.2222222222222222,
              "#7201a8"
             ],
             [
              0.3333333333333333,
              "#9c179e"
             ],
             [
              0.4444444444444444,
              "#bd3786"
             ],
             [
              0.5555555555555556,
              "#d8576b"
             ],
             [
              0.6666666666666666,
              "#ed7953"
             ],
             [
              0.7777777777777778,
              "#fb9f3a"
             ],
             [
              0.8888888888888888,
              "#fdca26"
             ],
             [
              1,
              "#f0f921"
             ]
            ],
            "type": "histogram2d"
           }
          ],
          "histogram2dcontour": [
           {
            "colorbar": {
             "outlinewidth": 0,
             "ticks": ""
            },
            "colorscale": [
             [
              0,
              "#0d0887"
             ],
             [
              0.1111111111111111,
              "#46039f"
             ],
             [
              0.2222222222222222,
              "#7201a8"
             ],
             [
              0.3333333333333333,
              "#9c179e"
             ],
             [
              0.4444444444444444,
              "#bd3786"
             ],
             [
              0.5555555555555556,
              "#d8576b"
             ],
             [
              0.6666666666666666,
              "#ed7953"
             ],
             [
              0.7777777777777778,
              "#fb9f3a"
             ],
             [
              0.8888888888888888,
              "#fdca26"
             ],
             [
              1,
              "#f0f921"
             ]
            ],
            "type": "histogram2dcontour"
           }
          ],
          "mesh3d": [
           {
            "colorbar": {
             "outlinewidth": 0,
             "ticks": ""
            },
            "type": "mesh3d"
           }
          ],
          "parcoords": [
           {
            "line": {
             "colorbar": {
              "outlinewidth": 0,
              "ticks": ""
             }
            },
            "type": "parcoords"
           }
          ],
          "pie": [
           {
            "automargin": true,
            "type": "pie"
           }
          ],
          "scatter": [
           {
            "marker": {
             "colorbar": {
              "outlinewidth": 0,
              "ticks": ""
             }
            },
            "type": "scatter"
           }
          ],
          "scatter3d": [
           {
            "line": {
             "colorbar": {
              "outlinewidth": 0,
              "ticks": ""
             }
            },
            "marker": {
             "colorbar": {
              "outlinewidth": 0,
              "ticks": ""
             }
            },
            "type": "scatter3d"
           }
          ],
          "scattercarpet": [
           {
            "marker": {
             "colorbar": {
              "outlinewidth": 0,
              "ticks": ""
             }
            },
            "type": "scattercarpet"
           }
          ],
          "scattergeo": [
           {
            "marker": {
             "colorbar": {
              "outlinewidth": 0,
              "ticks": ""
             }
            },
            "type": "scattergeo"
           }
          ],
          "scattergl": [
           {
            "marker": {
             "colorbar": {
              "outlinewidth": 0,
              "ticks": ""
             }
            },
            "type": "scattergl"
           }
          ],
          "scattermapbox": [
           {
            "marker": {
             "colorbar": {
              "outlinewidth": 0,
              "ticks": ""
             }
            },
            "type": "scattermapbox"
           }
          ],
          "scatterpolar": [
           {
            "marker": {
             "colorbar": {
              "outlinewidth": 0,
              "ticks": ""
             }
            },
            "type": "scatterpolar"
           }
          ],
          "scatterpolargl": [
           {
            "marker": {
             "colorbar": {
              "outlinewidth": 0,
              "ticks": ""
             }
            },
            "type": "scatterpolargl"
           }
          ],
          "scatterternary": [
           {
            "marker": {
             "colorbar": {
              "outlinewidth": 0,
              "ticks": ""
             }
            },
            "type": "scatterternary"
           }
          ],
          "surface": [
           {
            "colorbar": {
             "outlinewidth": 0,
             "ticks": ""
            },
            "colorscale": [
             [
              0,
              "#0d0887"
             ],
             [
              0.1111111111111111,
              "#46039f"
             ],
             [
              0.2222222222222222,
              "#7201a8"
             ],
             [
              0.3333333333333333,
              "#9c179e"
             ],
             [
              0.4444444444444444,
              "#bd3786"
             ],
             [
              0.5555555555555556,
              "#d8576b"
             ],
             [
              0.6666666666666666,
              "#ed7953"
             ],
             [
              0.7777777777777778,
              "#fb9f3a"
             ],
             [
              0.8888888888888888,
              "#fdca26"
             ],
             [
              1,
              "#f0f921"
             ]
            ],
            "type": "surface"
           }
          ],
          "table": [
           {
            "cells": {
             "fill": {
              "color": "#EBF0F8"
             },
             "line": {
              "color": "white"
             }
            },
            "header": {
             "fill": {
              "color": "#C8D4E3"
             },
             "line": {
              "color": "white"
             }
            },
            "type": "table"
           }
          ]
         },
         "layout": {
          "annotationdefaults": {
           "arrowcolor": "#2a3f5f",
           "arrowhead": 0,
           "arrowwidth": 1
          },
          "autotypenumbers": "strict",
          "coloraxis": {
           "colorbar": {
            "outlinewidth": 0,
            "ticks": ""
           }
          },
          "colorscale": {
           "diverging": [
            [
             0,
             "#8e0152"
            ],
            [
             0.1,
             "#c51b7d"
            ],
            [
             0.2,
             "#de77ae"
            ],
            [
             0.3,
             "#f1b6da"
            ],
            [
             0.4,
             "#fde0ef"
            ],
            [
             0.5,
             "#f7f7f7"
            ],
            [
             0.6,
             "#e6f5d0"
            ],
            [
             0.7,
             "#b8e186"
            ],
            [
             0.8,
             "#7fbc41"
            ],
            [
             0.9,
             "#4d9221"
            ],
            [
             1,
             "#276419"
            ]
           ],
           "sequential": [
            [
             0,
             "#0d0887"
            ],
            [
             0.1111111111111111,
             "#46039f"
            ],
            [
             0.2222222222222222,
             "#7201a8"
            ],
            [
             0.3333333333333333,
             "#9c179e"
            ],
            [
             0.4444444444444444,
             "#bd3786"
            ],
            [
             0.5555555555555556,
             "#d8576b"
            ],
            [
             0.6666666666666666,
             "#ed7953"
            ],
            [
             0.7777777777777778,
             "#fb9f3a"
            ],
            [
             0.8888888888888888,
             "#fdca26"
            ],
            [
             1,
             "#f0f921"
            ]
           ],
           "sequentialminus": [
            [
             0,
             "#0d0887"
            ],
            [
             0.1111111111111111,
             "#46039f"
            ],
            [
             0.2222222222222222,
             "#7201a8"
            ],
            [
             0.3333333333333333,
             "#9c179e"
            ],
            [
             0.4444444444444444,
             "#bd3786"
            ],
            [
             0.5555555555555556,
             "#d8576b"
            ],
            [
             0.6666666666666666,
             "#ed7953"
            ],
            [
             0.7777777777777778,
             "#fb9f3a"
            ],
            [
             0.8888888888888888,
             "#fdca26"
            ],
            [
             1,
             "#f0f921"
            ]
           ]
          },
          "colorway": [
           "#636efa",
           "#EF553B",
           "#00cc96",
           "#ab63fa",
           "#FFA15A",
           "#19d3f3",
           "#FF6692",
           "#B6E880",
           "#FF97FF",
           "#FECB52"
          ],
          "font": {
           "color": "#2a3f5f"
          },
          "geo": {
           "bgcolor": "white",
           "lakecolor": "white",
           "landcolor": "#E5ECF6",
           "showlakes": true,
           "showland": true,
           "subunitcolor": "white"
          },
          "hoverlabel": {
           "align": "left"
          },
          "hovermode": "closest",
          "mapbox": {
           "style": "light"
          },
          "paper_bgcolor": "white",
          "plot_bgcolor": "#E5ECF6",
          "polar": {
           "angularaxis": {
            "gridcolor": "white",
            "linecolor": "white",
            "ticks": ""
           },
           "bgcolor": "#E5ECF6",
           "radialaxis": {
            "gridcolor": "white",
            "linecolor": "white",
            "ticks": ""
           }
          },
          "scene": {
           "xaxis": {
            "backgroundcolor": "#E5ECF6",
            "gridcolor": "white",
            "gridwidth": 2,
            "linecolor": "white",
            "showbackground": true,
            "ticks": "",
            "zerolinecolor": "white"
           },
           "yaxis": {
            "backgroundcolor": "#E5ECF6",
            "gridcolor": "white",
            "gridwidth": 2,
            "linecolor": "white",
            "showbackground": true,
            "ticks": "",
            "zerolinecolor": "white"
           },
           "zaxis": {
            "backgroundcolor": "#E5ECF6",
            "gridcolor": "white",
            "gridwidth": 2,
            "linecolor": "white",
            "showbackground": true,
            "ticks": "",
            "zerolinecolor": "white"
           }
          },
          "shapedefaults": {
           "line": {
            "color": "#2a3f5f"
           }
          },
          "ternary": {
           "aaxis": {
            "gridcolor": "white",
            "linecolor": "white",
            "ticks": ""
           },
           "baxis": {
            "gridcolor": "white",
            "linecolor": "white",
            "ticks": ""
           },
           "bgcolor": "#E5ECF6",
           "caxis": {
            "gridcolor": "white",
            "linecolor": "white",
            "ticks": ""
           }
          },
          "title": {
           "x": 0.05
          },
          "xaxis": {
           "automargin": true,
           "gridcolor": "white",
           "linecolor": "white",
           "ticks": "",
           "title": {
            "standoff": 15
           },
           "zerolinecolor": "white",
           "zerolinewidth": 2
          },
          "yaxis": {
           "automargin": true,
           "gridcolor": "white",
           "linecolor": "white",
           "ticks": "",
           "title": {
            "standoff": 15
           },
           "zerolinecolor": "white",
           "zerolinewidth": 2
          }
         }
        },
        "title": {
         "text": "Alluvial Diagram Example"
        },
        "width": 1000
       }
      },
      "text/html": [
       "<div>                            <div id=\"197e1f79-a3ce-4632-a503-be6b6b641597\" class=\"plotly-graph-div\" style=\"height:1000px; width:1000px;\"></div>            <script type=\"text/javascript\">                require([\"plotly\"], function(Plotly) {                    window.PLOTLYENV=window.PLOTLYENV || {};                                    if (document.getElementById(\"197e1f79-a3ce-4632-a503-be6b6b641597\")) {                    Plotly.newPlot(                        \"197e1f79-a3ce-4632-a503-be6b6b641597\",                        [{\"link\":{\"color\":[\"#C490C6\",\"#90ADC6\",\"#777777\",\"#C490C6\",\"#90ADC6\",\"#777777\",\"#C490C6\",\"#90ADC6\",\"#777777\",\"#C490C6\",\"#90ADC6\",\"#777777\",\"#C490C6\",\"#90ADC6\",\"#777777\",\"#C490C6\",\"#90ADC6\",\"#777777\",\"#C490C6\",\"#90ADC6\",\"#777777\",\"#C490C6\",\"#90ADC6\",\"#777777\",\"#C490C6\",\"#90ADC6\",\"#777777\",\"#C490C6\",\"#90ADC6\",\"#777777\",\"#C490C6\",\"#90ADC6\",\"#777777\",\"#C490C6\",\"#90ADC6\",\"#777777\",\"#C490C6\",\"#90ADC6\",\"#777777\",\"#C490C6\",\"#90ADC6\",\"#777777\",\"#C490C6\",\"#90ADC6\",\"#777777\",\"#C490C6\",\"#90ADC6\",\"#777777\",\"#C490C6\",\"#90ADC6\",\"#777777\",\"#C490C6\",\"#90ADC6\",\"#777777\",\"#C490C6\",\"#90ADC6\",\"#777777\",\"#C490C6\",\"#90ADC6\",\"#777777\",\"#C490C6\",\"#90ADC6\",\"#777777\",\"#C490C6\",\"#90ADC6\",\"#777777\",\"#C490C6\",\"#90ADC6\",\"#777777\",\"#C490C6\",\"#90ADC6\",\"#777777\",\"#C490C6\",\"#90ADC6\",\"#777777\",\"#C490C6\",\"#90ADC6\",\"#777777\",\"#C490C6\",\"#90ADC6\",\"#777777\",\"#C490C6\",\"#90ADC6\",\"#777777\",\"#C490C6\",\"#90ADC6\",\"#777777\",\"#C490C6\",\"#90ADC6\",\"#777777\",\"#C490C6\",\"#90ADC6\",\"#777777\",\"#C490C6\",\"#90ADC6\",\"#777777\",\"#C490C6\",\"#90ADC6\",\"#777777\",\"#C490C6\",\"#90ADC6\",\"#777777\",\"#C490C6\",\"#90ADC6\",\"#777777\",\"#C490C6\",\"#90ADC6\",\"#777777\",\"#C490C6\",\"#90ADC6\",\"#777777\",\"#C490C6\",\"#90ADC6\",\"#777777\",\"#C490C6\",\"#90ADC6\",\"#777777\",\"#C490C6\",\"#90ADC6\",\"#777777\",\"#C490C6\",\"#90ADC6\",\"#777777\",\"#C490C6\",\"#90ADC6\",\"#777777\",\"#C490C6\",\"#90ADC6\",\"#777777\",\"#C490C6\",\"#90ADC6\",\"#777777\",\"#C490C6\",\"#90ADC6\",\"#777777\",\"#C490C6\",\"#90ADC6\",\"#777777\",\"#C490C6\",\"#90ADC6\",\"#777777\",\"#C490C6\",\"#90ADC6\",\"#777777\",\"#C490C6\",\"#90ADC6\",\"#777777\",\"#C490C6\",\"#90ADC6\",\"#777777\",\"#C490C6\",\"#90ADC6\",\"#777777\",\"#C490C6\",\"#90ADC6\",\"#777777\",\"#C490C6\",\"#90ADC6\",\"#777777\",\"#C490C6\",\"#90ADC6\",\"#777777\",\"#C490C6\",\"#90ADC6\",\"#777777\",\"#C490C6\",\"#90ADC6\",\"#777777\",\"#C490C6\",\"#90ADC6\",\"#777777\",\"#C490C6\",\"#90ADC6\",\"#777777\",\"#C490C6\",\"#90ADC6\",\"#777777\",\"#C490C6\",\"#90ADC6\",\"#777777\",\"#C490C6\",\"#90ADC6\",\"#777777\",\"#C490C6\",\"#90ADC6\",\"#777777\",\"#C490C6\",\"#90ADC6\",\"#777777\",\"#C490C6\",\"#90ADC6\",\"#777777\",\"#C490C6\",\"#90ADC6\",\"#777777\",\"#C490C6\",\"#90ADC6\",\"#777777\",\"#C490C6\",\"#90ADC6\",\"#777777\",\"#C490C6\",\"#90ADC6\",\"#777777\",\"#C490C6\",\"#90ADC6\",\"#777777\",\"#C490C6\",\"#90ADC6\",\"#777777\",\"#C490C6\",\"#90ADC6\",\"#777777\",\"#C490C6\",\"#90ADC6\",\"#777777\",\"#C490C6\",\"#90ADC6\",\"#777777\",\"#C490C6\",\"#90ADC6\",\"#777777\",\"#C490C6\",\"#90ADC6\",\"#777777\",\"#C490C6\",\"#90ADC6\",\"#777777\",\"#C490C6\",\"#90ADC6\",\"#777777\",\"#C490C6\",\"#90ADC6\",\"#777777\",\"#C490C6\",\"#90ADC6\",\"#777777\",\"#C490C6\",\"#90ADC6\",\"#777777\",\"#C490C6\",\"#90ADC6\",\"#777777\",\"#C490C6\",\"#90ADC6\",\"#777777\",\"#C490C6\",\"#90ADC6\",\"#777777\",\"#C490C6\",\"#90ADC6\",\"#777777\",\"#C490C6\",\"#90ADC6\",\"#777777\",\"#C490C6\",\"#90ADC6\",\"#777777\",\"#C490C6\",\"#90ADC6\",\"#777777\",\"#C490C6\",\"#90ADC6\",\"#777777\",\"#C490C6\",\"#90ADC6\",\"#777777\",\"#C490C6\",\"#90ADC6\",\"#777777\",\"#C490C6\",\"#90ADC6\",\"#777777\",\"#C490C6\",\"#90ADC6\",\"#777777\",\"#C490C6\",\"#90ADC6\",\"#777777\",\"#C490C6\",\"#90ADC6\",\"#777777\",\"#C490C6\",\"#90ADC6\",\"#777777\",\"#C490C6\",\"#90ADC6\",\"#777777\"],\"source\":[0,0,0,5,5,5,10,10,10,15,15,15,20,20,20,25,25,25,30,30,30,35,35,35,40,40,40,45,45,45,50,50,50,55,55,55,60,60,60,65,65,65,70,70,70,75,75,75,80,80,80,85,85,85,90,90,90,95,95,95,100,100,100,1,1,1,6,6,6,11,11,11,16,16,16,21,21,21,26,26,26,31,31,31,36,36,36,41,41,41,46,46,46,51,51,51,56,56,56,61,61,61,66,66,66,71,71,71,76,76,76,81,81,81,86,86,86,91,91,91,96,96,96,101,101,101,2,2,2,7,7,7,12,12,12,17,17,17,22,22,22,27,27,27,32,32,32,37,37,37,42,42,42,47,47,47,52,52,52,57,57,57,62,62,62,67,67,67,72,72,72,77,77,77,82,82,82,87,87,87,92,92,92,97,97,97,102,102,102,3,3,3,8,8,8,13,13,13,18,18,18,23,23,23,28,28,28,33,33,33,38,38,38,43,43,43,48,48,48,53,53,53,58,58,58,63,63,63,68,68,68,73,73,73,78,78,78,83,83,83,88,88,88,93,93,93,98,98,98,103,103,103],\"target\":[1,6,11,1,6,11,1,6,11,16,21,26,16,21,26,16,21,26,31,36,41,31,36,41,31,36,41,46,51,56,46,51,56,46,51,56,61,66,71,61,66,71,61,66,71,76,81,86,76,81,86,76,81,86,91,96,101,91,96,101,91,96,101,2,7,12,2,7,12,2,7,12,17,22,27,17,22,27,17,22,27,32,37,42,32,37,42,32,37,42,47,52,57,47,52,57,47,52,57,62,67,72,62,67,72,62,67,72,77,82,87,77,82,87,77,82,87,92,97,102,92,97,102,92,97,102,3,8,13,3,8,13,3,8,13,18,23,28,18,23,28,18,23,28,33,38,43,33,38,43,33,38,43,48,53,58,48,53,58,48,53,58,63,68,73,63,68,73,63,68,73,78,83,88,78,83,88,78,83,88,93,98,103,93,98,103,93,98,103,4,9,14,4,9,14,4,9,14,19,24,29,19,24,29,19,24,29,34,39,44,34,39,44,34,39,44,49,54,59,49,54,59,49,54,59,64,69,74,64,69,74,64,69,74,79,84,89,79,84,89,79,84,89,94,99,104,94,99,104,94,99,104],\"value\":[135,21,19,435,154,31,41,24,57,70,11,18,265,56,16,26,5,17,12,0,1,29,7,0,6,1,5,91,27,12,279,104,25,30,24,37,206,14,44,352,69,18,80,9,66,12,2,2,22,13,5,5,5,8,8,1,2,8,3,0,6,1,2,491,93,27,97,93,9,27,17,63,274,72,15,42,25,5,4,5,42,31,11,5,6,2,0,3,0,3,293,92,15,58,80,17,9,23,42,518,77,43,47,36,9,49,9,70,35,2,2,3,13,4,1,3,11,20,0,2,1,3,1,1,0,3,278,306,31,21,133,49,17,23,59,151,160,8,21,71,10,16,10,36,18,20,2,2,10,1,3,1,4,141,204,15,22,131,42,9,22,43,348,199,67,15,97,10,44,19,59,17,18,4,0,7,11,1,9,7,10,9,3,0,0,3,2,2,2,180,116,20,46,400,16,20,24,95,119,52,17,30,207,4,7,9,38,11,9,3,3,28,0,0,3,4,90,73,9,36,305,16,12,27,61,250,114,43,38,261,16,50,14,72,9,8,1,3,26,5,0,5,17,7,1,4,3,7,1,2,2,4]},\"node\":{\"label\":[\"Universal: A in ESCs\",\"Universal: A in NPCs\",\"Universal: A in CNs\",\"Universal: A in ncxNPCs\",\"Universal: A in ncxCNs\",\"Universal: B in ESCs\",\"Universal: B in NPCs\",\"Universal: B in CNs\",\"Universal: B in ncxNPCs\",\"Universal: B in ncxCNs\",\"Universal: others in ESCs\",\"Universal: others in NPCs\",\"Universal: others in CNs\",\"Universal: others in ncxNPCs\",\"Universal: others in ncxCNs\",\"EarlyEmbryoSpecific: A in ESCs\",\"EarlyEmbryoSpecific: A in NPCs\",\"EarlyEmbryoSpecific: A in CNs\",\"EarlyEmbryoSpecific: A in ncxNPCs\",\"EarlyEmbryoSpecific: A in ncxCNs\",\"EarlyEmbryoSpecific: B in ESCs\",\"EarlyEmbryoSpecific: B in NPCs\",\"EarlyEmbryoSpecific: B in CNs\",\"EarlyEmbryoSpecific: B in ncxNPCs\",\"EarlyEmbryoSpecific: B in ncxCNs\",\"EarlyEmbryoSpecific: others in ESCs\",\"EarlyEmbryoSpecific: others in NPCs\",\"EarlyEmbryoSpecific: others in CNs\",\"EarlyEmbryoSpecific: others in ncxNPCs\",\"EarlyEmbryoSpecific: others in ncxCNs\",\"PGCSpecific: A in ESCs\",\"PGCSpecific: A in NPCs\",\"PGCSpecific: A in CNs\",\"PGCSpecific: A in ncxNPCs\",\"PGCSpecific: A in ncxCNs\",\"PGCSpecific: B in ESCs\",\"PGCSpecific: B in NPCs\",\"PGCSpecific: B in CNs\",\"PGCSpecific: B in ncxNPCs\",\"PGCSpecific: B in ncxCNs\",\"PGCSpecific: others in ESCs\",\"PGCSpecific: others in NPCs\",\"PGCSpecific: others in CNs\",\"PGCSpecific: others in ncxNPCs\",\"PGCSpecific: others in ncxCNs\",\"SpermSpecific: A in ESCs\",\"SpermSpecific: A in NPCs\",\"SpermSpecific: A in CNs\",\"SpermSpecific: A in ncxNPCs\",\"SpermSpecific: A in ncxCNs\",\"SpermSpecific: B in ESCs\",\"SpermSpecific: B in NPCs\",\"SpermSpecific: B in CNs\",\"SpermSpecific: B in ncxNPCs\",\"SpermSpecific: B in ncxCNs\",\"SpermSpecific: others in ESCs\",\"SpermSpecific: others in NPCs\",\"SpermSpecific: others in CNs\",\"SpermSpecific: others in ncxNPCs\",\"SpermSpecific: others in ncxCNs\",\"RetinalSpecific: A in ESCs\",\"RetinalSpecific: A in NPCs\",\"RetinalSpecific: A in CNs\",\"RetinalSpecific: A in ncxNPCs\",\"RetinalSpecific: A in ncxCNs\",\"RetinalSpecific: B in ESCs\",\"RetinalSpecific: B in NPCs\",\"RetinalSpecific: B in CNs\",\"RetinalSpecific: B in ncxNPCs\",\"RetinalSpecific: B in ncxCNs\",\"RetinalSpecific: others in ESCs\",\"RetinalSpecific: others in NPCs\",\"RetinalSpecific: others in CNs\",\"RetinalSpecific: others in ncxNPCs\",\"RetinalSpecific: others in ncxCNs\",\"HeartSpecific: A in ESCs\",\"HeartSpecific: A in NPCs\",\"HeartSpecific: A in CNs\",\"HeartSpecific: A in ncxNPCs\",\"HeartSpecific: A in ncxCNs\",\"HeartSpecific: B in ESCs\",\"HeartSpecific: B in NPCs\",\"HeartSpecific: B in CNs\",\"HeartSpecific: B in ncxNPCs\",\"HeartSpecific: B in ncxCNs\",\"HeartSpecific: others in ESCs\",\"HeartSpecific: others in NPCs\",\"HeartSpecific: others in CNs\",\"HeartSpecific: others in ncxNPCs\",\"HeartSpecific: others in ncxCNs\",\"LiverSpecific: A in ESCs\",\"LiverSpecific: A in NPCs\",\"LiverSpecific: A in CNs\",\"LiverSpecific: A in ncxNPCs\",\"LiverSpecific: A in ncxCNs\",\"LiverSpecific: B in ESCs\",\"LiverSpecific: B in NPCs\",\"LiverSpecific: B in CNs\",\"LiverSpecific: B in ncxNPCs\",\"LiverSpecific: B in ncxCNs\",\"LiverSpecific: others in ESCs\",\"LiverSpecific: others in NPCs\",\"LiverSpecific: others in CNs\",\"LiverSpecific: others in ncxNPCs\",\"LiverSpecific: others in ncxCNs\",\"NonCHMsCpGrich: A in ESCs\",\"NonCHMsCpGrich: A in NPCs\",\"NonCHMsCpGrich: A in CNs\",\"NonCHMsCpGrich: A in ncxNPCs\",\"NonCHMsCpGrich: A in ncxCNs\",\"NonCHMsCpGrich: B in ESCs\",\"NonCHMsCpGrich: B in NPCs\",\"NonCHMsCpGrich: B in CNs\",\"NonCHMsCpGrich: B in ncxNPCs\",\"NonCHMsCpGrich: B in ncxCNs\",\"NonCHMsCpGrich: others in ESCs\",\"NonCHMsCpGrich: others in NPCs\",\"NonCHMsCpGrich: others in CNs\",\"NonCHMsCpGrich: others in ncxNPCs\",\"NonCHMsCpGrich: others in ncxCNs\"],\"line\":{\"color\":\"black\",\"width\":0.5},\"pad\":25,\"thickness\":20},\"type\":\"sankey\"}],                        {\"template\":{\"data\":{\"bar\":[{\"error_x\":{\"color\":\"#2a3f5f\"},\"error_y\":{\"color\":\"#2a3f5f\"},\"marker\":{\"line\":{\"color\":\"#E5ECF6\",\"width\":0.5},\"pattern\":{\"fillmode\":\"overlay\",\"size\":10,\"solidity\":0.2}},\"type\":\"bar\"}],\"barpolar\":[{\"marker\":{\"line\":{\"color\":\"#E5ECF6\",\"width\":0.5},\"pattern\":{\"fillmode\":\"overlay\",\"size\":10,\"solidity\":0.2}},\"type\":\"barpolar\"}],\"carpet\":[{\"aaxis\":{\"endlinecolor\":\"#2a3f5f\",\"gridcolor\":\"white\",\"linecolor\":\"white\",\"minorgridcolor\":\"white\",\"startlinecolor\":\"#2a3f5f\"},\"baxis\":{\"endlinecolor\":\"#2a3f5f\",\"gridcolor\":\"white\",\"linecolor\":\"white\",\"minorgridcolor\":\"white\",\"startlinecolor\":\"#2a3f5f\"},\"type\":\"carpet\"}],\"choropleth\":[{\"colorbar\":{\"outlinewidth\":0,\"ticks\":\"\"},\"type\":\"choropleth\"}],\"contour\":[{\"colorbar\":{\"outlinewidth\":0,\"ticks\":\"\"},\"colorscale\":[[0.0,\"#0d0887\"],[0.1111111111111111,\"#46039f\"],[0.2222222222222222,\"#7201a8\"],[0.3333333333333333,\"#9c179e\"],[0.4444444444444444,\"#bd3786\"],[0.5555555555555556,\"#d8576b\"],[0.6666666666666666,\"#ed7953\"],[0.7777777777777778,\"#fb9f3a\"],[0.8888888888888888,\"#fdca26\"],[1.0,\"#f0f921\"]],\"type\":\"contour\"}],\"contourcarpet\":[{\"colorbar\":{\"outlinewidth\":0,\"ticks\":\"\"},\"type\":\"contourcarpet\"}],\"heatmap\":[{\"colorbar\":{\"outlinewidth\":0,\"ticks\":\"\"},\"colorscale\":[[0.0,\"#0d0887\"],[0.1111111111111111,\"#46039f\"],[0.2222222222222222,\"#7201a8\"],[0.3333333333333333,\"#9c179e\"],[0.4444444444444444,\"#bd3786\"],[0.5555555555555556,\"#d8576b\"],[0.6666666666666666,\"#ed7953\"],[0.7777777777777778,\"#fb9f3a\"],[0.8888888888888888,\"#fdca26\"],[1.0,\"#f0f921\"]],\"type\":\"heatmap\"}],\"heatmapgl\":[{\"colorbar\":{\"outlinewidth\":0,\"ticks\":\"\"},\"colorscale\":[[0.0,\"#0d0887\"],[0.1111111111111111,\"#46039f\"],[0.2222222222222222,\"#7201a8\"],[0.3333333333333333,\"#9c179e\"],[0.4444444444444444,\"#bd3786\"],[0.5555555555555556,\"#d8576b\"],[0.6666666666666666,\"#ed7953\"],[0.7777777777777778,\"#fb9f3a\"],[0.8888888888888888,\"#fdca26\"],[1.0,\"#f0f921\"]],\"type\":\"heatmapgl\"}],\"histogram\":[{\"marker\":{\"pattern\":{\"fillmode\":\"overlay\",\"size\":10,\"solidity\":0.2}},\"type\":\"histogram\"}],\"histogram2d\":[{\"colorbar\":{\"outlinewidth\":0,\"ticks\":\"\"},\"colorscale\":[[0.0,\"#0d0887\"],[0.1111111111111111,\"#46039f\"],[0.2222222222222222,\"#7201a8\"],[0.3333333333333333,\"#9c179e\"],[0.4444444444444444,\"#bd3786\"],[0.5555555555555556,\"#d8576b\"],[0.6666666666666666,\"#ed7953\"],[0.7777777777777778,\"#fb9f3a\"],[0.8888888888888888,\"#fdca26\"],[1.0,\"#f0f921\"]],\"type\":\"histogram2d\"}],\"histogram2dcontour\":[{\"colorbar\":{\"outlinewidth\":0,\"ticks\":\"\"},\"colorscale\":[[0.0,\"#0d0887\"],[0.1111111111111111,\"#46039f\"],[0.2222222222222222,\"#7201a8\"],[0.3333333333333333,\"#9c179e\"],[0.4444444444444444,\"#bd3786\"],[0.5555555555555556,\"#d8576b\"],[0.6666666666666666,\"#ed7953\"],[0.7777777777777778,\"#fb9f3a\"],[0.8888888888888888,\"#fdca26\"],[1.0,\"#f0f921\"]],\"type\":\"histogram2dcontour\"}],\"mesh3d\":[{\"colorbar\":{\"outlinewidth\":0,\"ticks\":\"\"},\"type\":\"mesh3d\"}],\"parcoords\":[{\"line\":{\"colorbar\":{\"outlinewidth\":0,\"ticks\":\"\"}},\"type\":\"parcoords\"}],\"pie\":[{\"automargin\":true,\"type\":\"pie\"}],\"scatter\":[{\"marker\":{\"colorbar\":{\"outlinewidth\":0,\"ticks\":\"\"}},\"type\":\"scatter\"}],\"scatter3d\":[{\"line\":{\"colorbar\":{\"outlinewidth\":0,\"ticks\":\"\"}},\"marker\":{\"colorbar\":{\"outlinewidth\":0,\"ticks\":\"\"}},\"type\":\"scatter3d\"}],\"scattercarpet\":[{\"marker\":{\"colorbar\":{\"outlinewidth\":0,\"ticks\":\"\"}},\"type\":\"scattercarpet\"}],\"scattergeo\":[{\"marker\":{\"colorbar\":{\"outlinewidth\":0,\"ticks\":\"\"}},\"type\":\"scattergeo\"}],\"scattergl\":[{\"marker\":{\"colorbar\":{\"outlinewidth\":0,\"ticks\":\"\"}},\"type\":\"scattergl\"}],\"scattermapbox\":[{\"marker\":{\"colorbar\":{\"outlinewidth\":0,\"ticks\":\"\"}},\"type\":\"scattermapbox\"}],\"scatterpolar\":[{\"marker\":{\"colorbar\":{\"outlinewidth\":0,\"ticks\":\"\"}},\"type\":\"scatterpolar\"}],\"scatterpolargl\":[{\"marker\":{\"colorbar\":{\"outlinewidth\":0,\"ticks\":\"\"}},\"type\":\"scatterpolargl\"}],\"scatterternary\":[{\"marker\":{\"colorbar\":{\"outlinewidth\":0,\"ticks\":\"\"}},\"type\":\"scatterternary\"}],\"surface\":[{\"colorbar\":{\"outlinewidth\":0,\"ticks\":\"\"},\"colorscale\":[[0.0,\"#0d0887\"],[0.1111111111111111,\"#46039f\"],[0.2222222222222222,\"#7201a8\"],[0.3333333333333333,\"#9c179e\"],[0.4444444444444444,\"#bd3786\"],[0.5555555555555556,\"#d8576b\"],[0.6666666666666666,\"#ed7953\"],[0.7777777777777778,\"#fb9f3a\"],[0.8888888888888888,\"#fdca26\"],[1.0,\"#f0f921\"]],\"type\":\"surface\"}],\"table\":[{\"cells\":{\"fill\":{\"color\":\"#EBF0F8\"},\"line\":{\"color\":\"white\"}},\"header\":{\"fill\":{\"color\":\"#C8D4E3\"},\"line\":{\"color\":\"white\"}},\"type\":\"table\"}]},\"layout\":{\"annotationdefaults\":{\"arrowcolor\":\"#2a3f5f\",\"arrowhead\":0,\"arrowwidth\":1},\"autotypenumbers\":\"strict\",\"coloraxis\":{\"colorbar\":{\"outlinewidth\":0,\"ticks\":\"\"}},\"colorscale\":{\"diverging\":[[0,\"#8e0152\"],[0.1,\"#c51b7d\"],[0.2,\"#de77ae\"],[0.3,\"#f1b6da\"],[0.4,\"#fde0ef\"],[0.5,\"#f7f7f7\"],[0.6,\"#e6f5d0\"],[0.7,\"#b8e186\"],[0.8,\"#7fbc41\"],[0.9,\"#4d9221\"],[1,\"#276419\"]],\"sequential\":[[0.0,\"#0d0887\"],[0.1111111111111111,\"#46039f\"],[0.2222222222222222,\"#7201a8\"],[0.3333333333333333,\"#9c179e\"],[0.4444444444444444,\"#bd3786\"],[0.5555555555555556,\"#d8576b\"],[0.6666666666666666,\"#ed7953\"],[0.7777777777777778,\"#fb9f3a\"],[0.8888888888888888,\"#fdca26\"],[1.0,\"#f0f921\"]],\"sequentialminus\":[[0.0,\"#0d0887\"],[0.1111111111111111,\"#46039f\"],[0.2222222222222222,\"#7201a8\"],[0.3333333333333333,\"#9c179e\"],[0.4444444444444444,\"#bd3786\"],[0.5555555555555556,\"#d8576b\"],[0.6666666666666666,\"#ed7953\"],[0.7777777777777778,\"#fb9f3a\"],[0.8888888888888888,\"#fdca26\"],[1.0,\"#f0f921\"]]},\"colorway\":[\"#636efa\",\"#EF553B\",\"#00cc96\",\"#ab63fa\",\"#FFA15A\",\"#19d3f3\",\"#FF6692\",\"#B6E880\",\"#FF97FF\",\"#FECB52\"],\"font\":{\"color\":\"#2a3f5f\"},\"geo\":{\"bgcolor\":\"white\",\"lakecolor\":\"white\",\"landcolor\":\"#E5ECF6\",\"showlakes\":true,\"showland\":true,\"subunitcolor\":\"white\"},\"hoverlabel\":{\"align\":\"left\"},\"hovermode\":\"closest\",\"mapbox\":{\"style\":\"light\"},\"paper_bgcolor\":\"white\",\"plot_bgcolor\":\"#E5ECF6\",\"polar\":{\"angularaxis\":{\"gridcolor\":\"white\",\"linecolor\":\"white\",\"ticks\":\"\"},\"bgcolor\":\"#E5ECF6\",\"radialaxis\":{\"gridcolor\":\"white\",\"linecolor\":\"white\",\"ticks\":\"\"}},\"scene\":{\"xaxis\":{\"backgroundcolor\":\"#E5ECF6\",\"gridcolor\":\"white\",\"gridwidth\":2,\"linecolor\":\"white\",\"showbackground\":true,\"ticks\":\"\",\"zerolinecolor\":\"white\"},\"yaxis\":{\"backgroundcolor\":\"#E5ECF6\",\"gridcolor\":\"white\",\"gridwidth\":2,\"linecolor\":\"white\",\"showbackground\":true,\"ticks\":\"\",\"zerolinecolor\":\"white\"},\"zaxis\":{\"backgroundcolor\":\"#E5ECF6\",\"gridcolor\":\"white\",\"gridwidth\":2,\"linecolor\":\"white\",\"showbackground\":true,\"ticks\":\"\",\"zerolinecolor\":\"white\"}},\"shapedefaults\":{\"line\":{\"color\":\"#2a3f5f\"}},\"ternary\":{\"aaxis\":{\"gridcolor\":\"white\",\"linecolor\":\"white\",\"ticks\":\"\"},\"baxis\":{\"gridcolor\":\"white\",\"linecolor\":\"white\",\"ticks\":\"\"},\"bgcolor\":\"#E5ECF6\",\"caxis\":{\"gridcolor\":\"white\",\"linecolor\":\"white\",\"ticks\":\"\"}},\"title\":{\"x\":0.05},\"xaxis\":{\"automargin\":true,\"gridcolor\":\"white\",\"linecolor\":\"white\",\"ticks\":\"\",\"title\":{\"standoff\":15},\"zerolinecolor\":\"white\",\"zerolinewidth\":2},\"yaxis\":{\"automargin\":true,\"gridcolor\":\"white\",\"linecolor\":\"white\",\"ticks\":\"\",\"title\":{\"standoff\":15},\"zerolinecolor\":\"white\",\"zerolinewidth\":2}}},\"title\":{\"text\":\"Alluvial Diagram Example\"},\"font\":{\"size\":10},\"width\":1000,\"height\":1000},                        {\"responsive\": true}                    ).then(function(){\n",
       "                            \n",
       "var gd = document.getElementById('197e1f79-a3ce-4632-a503-be6b6b641597');\n",
       "var x = new MutationObserver(function (mutations, observer) {{\n",
       "        var display = window.getComputedStyle(gd).display;\n",
       "        if (!display || display === 'none') {{\n",
       "            console.log([gd, 'removed!']);\n",
       "            Plotly.purge(gd);\n",
       "            observer.disconnect();\n",
       "        }}\n",
       "}});\n",
       "\n",
       "// Listen for the removal of the full notebook cells\n",
       "var notebookContainer = gd.closest('#notebook-container');\n",
       "if (notebookContainer) {{\n",
       "    x.observe(notebookContainer, {childList: true});\n",
       "}}\n",
       "\n",
       "// Listen for the clearing of the current output cell\n",
       "var outputEl = gd.closest('.output');\n",
       "if (outputEl) {{\n",
       "    x.observe(outputEl, {childList: true});\n",
       "}}\n",
       "\n",
       "                        })                };                });            </script>        </div>"
      ]
     },
     "metadata": {},
     "output_type": "display_data"
    }
   ],
   "source": [
    "import plotly.graph_objects as go\n",
    "\n",
    "# Define the source, target, value, and label data\n",
    "# source = [0, 0, 1, 1, 1, 6, 6, 7, 7, 8, 8]\n",
    "# target = [2, 3, 4, 5, 6, 7, 8, 9, 10, 11, 12]\n",
    "# value = [8, 4, 2, 8, 4, 2, 8, 4, 6, 4, 3]\n",
    "# label = [\"A\", \"B\", \"C1\", \"C2\", \"C3\", \"D1\", \"D2\", \"E1\", \"E2\", \"F1\", \"F2\", \"G1\", \"G2\"]\n",
    "\n",
    "flow_colors = ['#C490C6', '#90ADC6', '#777777'] * 3 * 8 * 4\n",
    "\n",
    "# Create the alluvial diagram\n",
    "fig = go.Figure(data=[go.Sankey(\n",
    "    node=dict(\n",
    "        pad=25,\n",
    "        thickness=20,\n",
    "        line=dict(color=\"black\", width=0.5),\n",
    "        label=label\n",
    "    ),\n",
    "    link=dict(\n",
    "        source=source,\n",
    "        target=target,\n",
    "        value=value,\n",
    "        color=flow_colors\n",
    "    )\n",
    ")])\n",
    "\n",
    "# Update the layout and show the plot\n",
    "fig.update_layout(\n",
    "    title_text=\"Alluvial Diagram Example\",\n",
    "    font_size=10,\n",
    "    width=1000,  # Custom figure width\n",
    "    height=1000  # Custom figure height\n",
    ")\n",
    "fig.show()\n"
   ]
  },
  {
   "cell_type": "code",
   "execution_count": null,
   "metadata": {},
   "outputs": [],
   "source": []
  }
 ],
 "metadata": {
  "kernelspec": {
   "display_name": "base",
   "language": "python",
   "name": "python3"
  },
  "language_info": {
   "codemirror_mode": {
    "name": "ipython",
    "version": 3
   },
   "file_extension": ".py",
   "mimetype": "text/x-python",
   "name": "python",
   "nbconvert_exporter": "python",
   "pygments_lexer": "ipython3",
   "version": "3.8.5"
  },
  "orig_nbformat": 4
 },
 "nbformat": 4,
 "nbformat_minor": 2
}
