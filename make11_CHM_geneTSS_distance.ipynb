{
 "cells": [
  {
   "cell_type": "code",
   "execution_count": null,
   "metadata": {},
   "outputs": [],
   "source": []
  },
  {
   "cell_type": "code",
   "execution_count": 4,
   "metadata": {},
   "outputs": [],
   "source": [
    "import subprocess\n",
    "import os\n",
    "import numpy as np\n",
    "import pandas as pd\n",
    "import matplotlib as mpl\n",
    "mpl.rcParams['pdf.fonttype'] = 42\n",
    "mpl.rcParams['ps.fonttype'] = 42\n",
    "mpl.rcParams['font.sans-serif'] = 'Arial'\n",
    "import matplotlib.pyplot as plt\n",
    "import seaborn as sns\n",
    "from pprint import pprint\n",
    "from matplotlib.backends.backend_pdf import PdfPages\n",
    "%matplotlib inline"
   ]
  },
  {
   "cell_type": "code",
   "execution_count": 9,
   "metadata": {},
   "outputs": [],
   "source": [
    "%%bash\n",
    "cd ~/CHMsInOtherContexts/CellStateTransition/CHMOrganization/Universal_specific/Features/TargetGenes/distance_from_TSS\n",
    "for process in Universal EarlyEmbryoSpecific PGCSpecific SpermSpecific RetinalSpecific HeartSpecific LiverSpecific;do\n",
    "    bedtools closest -a /mnt/Storage/home/yanghui/annotations/mm10/mm10.TSS.refGene.bed -b ~/CHMsInOtherContexts/CellStateTransition/CHMOrganization/Universal_specific/${process}.CHM.bed -d | awk 'BEGIN{FS=OFS=\"\\t\"} $10<=100000 && $10!=-1 {print}' > ${process}_CHM_TSS_distance_within100kb.bed\n",
    "done"
   ]
  },
  {
   "cell_type": "code",
   "execution_count": 10,
   "metadata": {},
   "outputs": [
    {
     "data": {
      "text/html": [
       "<div>\n",
       "<style scoped>\n",
       "    .dataframe tbody tr th:only-of-type {\n",
       "        vertical-align: middle;\n",
       "    }\n",
       "\n",
       "    .dataframe tbody tr th {\n",
       "        vertical-align: top;\n",
       "    }\n",
       "\n",
       "    .dataframe thead th {\n",
       "        text-align: right;\n",
       "    }\n",
       "</style>\n",
       "<table border=\"1\" class=\"dataframe\">\n",
       "  <thead>\n",
       "    <tr style=\"text-align: right;\">\n",
       "      <th></th>\n",
       "      <th>chr</th>\n",
       "      <th>start</th>\n",
       "      <th>end</th>\n",
       "      <th>Transcript_id</th>\n",
       "      <th>score</th>\n",
       "      <th>strand</th>\n",
       "      <th>CHM_chr</th>\n",
       "      <th>CHM_start</th>\n",
       "      <th>CHM_end</th>\n",
       "      <th>distance</th>\n",
       "    </tr>\n",
       "  </thead>\n",
       "  <tbody>\n",
       "    <tr>\n",
       "      <th>0</th>\n",
       "      <td>chr1</td>\n",
       "      <td>4497354</td>\n",
       "      <td>4497355</td>\n",
       "      <td>NM_001289464</td>\n",
       "      <td>0</td>\n",
       "      <td>-</td>\n",
       "      <td>chr1</td>\n",
       "      <td>4556800</td>\n",
       "      <td>4560500</td>\n",
       "      <td>59446</td>\n",
       "    </tr>\n",
       "    <tr>\n",
       "      <th>1</th>\n",
       "      <td>chr1</td>\n",
       "      <td>4497354</td>\n",
       "      <td>4497355</td>\n",
       "      <td>NM_001289465</td>\n",
       "      <td>0</td>\n",
       "      <td>-</td>\n",
       "      <td>chr1</td>\n",
       "      <td>4556800</td>\n",
       "      <td>4560500</td>\n",
       "      <td>59446</td>\n",
       "    </tr>\n",
       "    <tr>\n",
       "      <th>2</th>\n",
       "      <td>chr1</td>\n",
       "      <td>4497354</td>\n",
       "      <td>4497355</td>\n",
       "      <td>NM_001289466</td>\n",
       "      <td>0</td>\n",
       "      <td>-</td>\n",
       "      <td>chr1</td>\n",
       "      <td>4556800</td>\n",
       "      <td>4560500</td>\n",
       "      <td>59446</td>\n",
       "    </tr>\n",
       "    <tr>\n",
       "      <th>3</th>\n",
       "      <td>chr1</td>\n",
       "      <td>4497354</td>\n",
       "      <td>4497355</td>\n",
       "      <td>NM_001289467</td>\n",
       "      <td>0</td>\n",
       "      <td>-</td>\n",
       "      <td>chr1</td>\n",
       "      <td>4556800</td>\n",
       "      <td>4560500</td>\n",
       "      <td>59446</td>\n",
       "    </tr>\n",
       "    <tr>\n",
       "      <th>4</th>\n",
       "      <td>chr1</td>\n",
       "      <td>4497354</td>\n",
       "      <td>4497355</td>\n",
       "      <td>NM_011441</td>\n",
       "      <td>0</td>\n",
       "      <td>-</td>\n",
       "      <td>chr1</td>\n",
       "      <td>4556800</td>\n",
       "      <td>4560500</td>\n",
       "      <td>59446</td>\n",
       "    </tr>\n",
       "    <tr>\n",
       "      <th>...</th>\n",
       "      <td>...</td>\n",
       "      <td>...</td>\n",
       "      <td>...</td>\n",
       "      <td>...</td>\n",
       "      <td>...</td>\n",
       "      <td>...</td>\n",
       "      <td>...</td>\n",
       "      <td>...</td>\n",
       "      <td>...</td>\n",
       "      <td>...</td>\n",
       "    </tr>\n",
       "    <tr>\n",
       "      <th>7208</th>\n",
       "      <td>chr9</td>\n",
       "      <td>123717625</td>\n",
       "      <td>123717626</td>\n",
       "      <td>NM_033322</td>\n",
       "      <td>0</td>\n",
       "      <td>-</td>\n",
       "      <td>chr9</td>\n",
       "      <td>123745200</td>\n",
       "      <td>123749900</td>\n",
       "      <td>27575</td>\n",
       "    </tr>\n",
       "    <tr>\n",
       "      <th>7209</th>\n",
       "      <td>chr9</td>\n",
       "      <td>123717625</td>\n",
       "      <td>123717626</td>\n",
       "      <td>NR_151689</td>\n",
       "      <td>0</td>\n",
       "      <td>-</td>\n",
       "      <td>chr9</td>\n",
       "      <td>123745200</td>\n",
       "      <td>123749900</td>\n",
       "      <td>27575</td>\n",
       "    </tr>\n",
       "    <tr>\n",
       "      <th>7210</th>\n",
       "      <td>chr9</td>\n",
       "      <td>123767210</td>\n",
       "      <td>123767211</td>\n",
       "      <td>NM_001166625</td>\n",
       "      <td>0</td>\n",
       "      <td>+</td>\n",
       "      <td>chr9</td>\n",
       "      <td>123745200</td>\n",
       "      <td>123749900</td>\n",
       "      <td>17311</td>\n",
       "    </tr>\n",
       "    <tr>\n",
       "      <th>7211</th>\n",
       "      <td>chr9</td>\n",
       "      <td>123767210</td>\n",
       "      <td>123767211</td>\n",
       "      <td>NM_009913</td>\n",
       "      <td>0</td>\n",
       "      <td>+</td>\n",
       "      <td>chr9</td>\n",
       "      <td>123745200</td>\n",
       "      <td>123749900</td>\n",
       "      <td>17311</td>\n",
       "    </tr>\n",
       "    <tr>\n",
       "      <th>7212</th>\n",
       "      <td>chr9</td>\n",
       "      <td>123806476</td>\n",
       "      <td>123806477</td>\n",
       "      <td>NM_030712</td>\n",
       "      <td>0</td>\n",
       "      <td>+</td>\n",
       "      <td>chr9</td>\n",
       "      <td>123745200</td>\n",
       "      <td>123749900</td>\n",
       "      <td>56577</td>\n",
       "    </tr>\n",
       "  </tbody>\n",
       "</table>\n",
       "<p>7213 rows × 10 columns</p>\n",
       "</div>"
      ],
      "text/plain": [
       "       chr      start        end Transcript_id  score strand CHM_chr  \\\n",
       "0     chr1    4497354    4497355  NM_001289464      0      -    chr1   \n",
       "1     chr1    4497354    4497355  NM_001289465      0      -    chr1   \n",
       "2     chr1    4497354    4497355  NM_001289466      0      -    chr1   \n",
       "3     chr1    4497354    4497355  NM_001289467      0      -    chr1   \n",
       "4     chr1    4497354    4497355     NM_011441      0      -    chr1   \n",
       "...    ...        ...        ...           ...    ...    ...     ...   \n",
       "7208  chr9  123717625  123717626     NM_033322      0      -    chr9   \n",
       "7209  chr9  123717625  123717626     NR_151689      0      -    chr9   \n",
       "7210  chr9  123767210  123767211  NM_001166625      0      +    chr9   \n",
       "7211  chr9  123767210  123767211     NM_009913      0      +    chr9   \n",
       "7212  chr9  123806476  123806477     NM_030712      0      +    chr9   \n",
       "\n",
       "      CHM_start    CHM_end  distance  \n",
       "0       4556800    4560500     59446  \n",
       "1       4556800    4560500     59446  \n",
       "2       4556800    4560500     59446  \n",
       "3       4556800    4560500     59446  \n",
       "4       4556800    4560500     59446  \n",
       "...         ...        ...       ...  \n",
       "7208  123745200  123749900     27575  \n",
       "7209  123745200  123749900     27575  \n",
       "7210  123745200  123749900     17311  \n",
       "7211  123745200  123749900     17311  \n",
       "7212  123745200  123749900     56577  \n",
       "\n",
       "[7213 rows x 10 columns]"
      ]
     },
     "execution_count": 10,
     "metadata": {},
     "output_type": "execute_result"
    }
   ],
   "source": [
    "tss_distance_df = {}\n",
    "for process in ['Universal', 'EarlyEmbryoSpecific', 'PGCSpecific', 'SpermSpecific', 'RetinalSpecific', 'HeartSpecific', 'LiverSpecific'] :\n",
    "    tss_distance_df[process] = pd.read_csv(f'/mnt/Storage/home/wangyiman/CHMsInOtherContexts/CellStateTransition/CHMOrganization/Universal_specific/Features/TargetGenes/distance_from_TSS/{process}_CHM_TSS_distance_within100kb.bed',\n",
    "                                  sep = \"\\t\", header = None, names = ['chr', 'start', 'end', 'Transcript_id', 'score', 'strand', 'CHM_chr', 'CHM_start', 'CHM_end', 'distance']\n",
    "                                 )\n",
    "    \n",
    "\n",
    "tss_distance_df['Universal']"
   ]
  },
  {
   "cell_type": "code",
   "execution_count": 15,
   "metadata": {},
   "outputs": [
    {
     "data": {
      "image/png": "[encoded data removed]",
      "text/plain": [
       "<Figure size 460.8x345.6 with 1 Axes>"
      ]
     },
     "metadata": {},
     "output_type": "display_data"
    },
    {
     "data": {
      "image/png": "[encoded data removed]",
      "text/plain": [
       "<Figure size 460.8x345.6 with 1 Axes>"
      ]
     },
     "metadata": {},
     "output_type": "display_data"
    },
    {
     "data": {
      "image/png": "[encoded data removed]",
      "text/plain": [
       "<Figure size 460.8x345.6 with 1 Axes>"
      ]
     },
     "metadata": {},
     "output_type": "display_data"
    },
    {
     "data": {
      "image/png": "[encoded data removed]",
      "text/plain": [
       "<Figure size 460.8x345.6 with 1 Axes>"
      ]
     },
     "metadata": {},
     "output_type": "display_data"
    },
    {
     "data": {
      "image/png": "[encoded data removed]",
      "text/plain": [
       "<Figure size 460.8x345.6 with 1 Axes>"
      ]
     },
     "metadata": {},
     "output_type": "display_data"
    },
    {
     "data": {
      "image/png": "[encoded data removed]",
      "text/plain": [
       "<Figure size 460.8x345.6 with 1 Axes>"
      ]
     },
     "metadata": {},
     "output_type": "display_data"
    },
    {
     "data": {
      "image/png": "[encoded data removed]",
      "text/plain": [
       "<Figure size 460.8x345.6 with 1 Axes>"
      ]
     },
     "metadata": {},
     "output_type": "display_data"
    }
   ],
   "source": [
    "with sns.axes_style('white', rc={\n",
    "        'xtick.bottom': True,\n",
    "        'ytick.left': True\n",
    "}), sns.plotting_context('paper',\n",
    "                         rc={\n",
    "                             'axes.titlesize': 14,\n",
    "                             'axes.labelsize': 12,\n",
    "                             'xtick.labelsize': 10,\n",
    "                             'ytick.labelsize': 10,\n",
    "                             'legend.fontsize': 10\n",
    "                         }):\n",
    "    for process in ['Universal', 'EarlyEmbryoSpecific', 'PGCSpecific', 'SpermSpecific', 'RetinalSpecific', 'HeartSpecific', 'LiverSpecific'] :\n",
    "        fig, ax = plt.subplots(figsize = (6.4, 4.8), tight_layout = True)\n",
    "        sns.histplot(\n",
    "            data = tss_distance_df[process],\n",
    "            x = 'distance',\n",
    "            ax = ax,\n",
    "            binwidth=2000\n",
    "        )"
   ]
  },
  {
   "cell_type": "code",
   "execution_count": null,
   "metadata": {},
   "outputs": [],
   "source": []
  }
 ],
 "metadata": {
  "kernelspec": {
   "display_name": "Python [conda env:root] *",
   "language": "python",
   "name": "conda-root-py"
  },
  "language_info": {
   "codemirror_mode": {
    "name": "ipython",
    "version": 3
   },
   "file_extension": ".py",
   "mimetype": "text/x-python",
   "name": "python",
   "nbconvert_exporter": "python",
   "pygments_lexer": "ipython3",
   "version": "3.8.5"
  }
 },
 "nbformat": 4,
 "nbformat_minor": 4
}
