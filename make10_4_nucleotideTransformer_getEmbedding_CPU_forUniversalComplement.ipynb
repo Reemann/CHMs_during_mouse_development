{
 "cells": [
  {
   "cell_type": "markdown",
   "metadata": {},
   "source": [
    "# probing nucleotide transformer to predict universal CHMs from CpG-rich regions   \n",
    "(using CPU; loop at 100 seq step)  \n",
    "(to classify sequences of universal CHMs, universal-complementary CHMs, and nonCHM CpG-rich regions)"
   ]
  },
  {
   "cell_type": "markdown",
   "metadata": {},
   "source": [
    "** !!! jax has version conflict to our GPU cuda !!! data can not be loaded into GPU using `jax.device_put()`  \n",
    "solved by re-install jax:  \n",
    "`pip install -U jax[cuda11_cudnn82] -f https://storage.googleapis.com/jax-releases/jax_cuda_releases.html`\n"
   ]
  },
  {
   "cell_type": "code",
   "execution_count": 1,
   "metadata": {},
   "outputs": [],
   "source": [
    "import nucleotide_transformer\n",
    "from nucleotide_transformer.pretrained import get_pretrained_model"
   ]
  },
  {
   "cell_type": "code",
   "execution_count": 2,
   "metadata": {
    "scrolled": true
   },
   "outputs": [],
   "source": [
    "import pandas as pd\n",
    "import numpy as np"
   ]
  },
  {
   "cell_type": "code",
   "execution_count": 3,
   "metadata": {},
   "outputs": [],
   "source": [
    "import haiku as hk\n",
    "import jax\n",
    "import jax.numpy as jnp"
   ]
  },
  {
   "cell_type": "code",
   "execution_count": 4,
   "metadata": {},
   "outputs": [],
   "source": [
    "jax.config.update('jax_platform_name', 'cpu')"
   ]
  },
  {
   "cell_type": "code",
   "execution_count": 5,
   "metadata": {},
   "outputs": [
    {
     "data": {
      "text/plain": [
       "[CpuDevice(id=0)]"
      ]
     },
     "execution_count": 5,
     "metadata": {},
     "output_type": "execute_result"
    }
   ],
   "source": [
    "import os\n",
    "os.environ['JAX_PLATFORM_NAME'] = 'cpu'\n",
    "jax.devices()"
   ]
  },
  {
   "cell_type": "markdown",
   "metadata": {},
   "source": [
    "# Download the weights"
   ]
  },
  {
   "cell_type": "code",
   "execution_count": 6,
   "metadata": {},
   "outputs": [],
   "source": [
    "#@title Select a model\n",
    "#@markdown ---\n",
    "model_name = '2B5_multi_species'#@param['500M_human_ref', '500M_1000G', '2B5_1000G', '2B5_multi_species']\n",
    "#@markdown ---"
   ]
  },
  {
   "cell_type": "code",
   "execution_count": 7,
   "metadata": {},
   "outputs": [
    {
     "data": {
      "text/plain": [
       "166.66666666666666"
      ]
     },
     "execution_count": 7,
     "metadata": {},
     "output_type": "execute_result"
    }
   ],
   "source": [
    "1000 / 6"
   ]
  },
  {
   "cell_type": "code",
   "execution_count": 8,
   "metadata": {},
   "outputs": [],
   "source": [
    "# Get pretrained model\n",
    "parameters, forward_fn, tokenizer, config = get_pretrained_model(\n",
    "    model_name=model_name,\n",
    "    mixed_precision=False,\n",
    "    embeddings_layers_to_save=(range(10, 21)),\n",
    "    attention_maps_to_save=((1, 4), (7, 18), (13, 20)),\n",
    "    max_positions=171,\n",
    ")\n",
    "forward_fn = hk.transform(forward_fn)\n"
   ]
  },
  {
   "cell_type": "markdown",
   "metadata": {},
   "source": [
    "# prepare fasta for universal-complementary CHMs"
   ]
  },
  {
   "cell_type": "code",
   "execution_count": 9,
   "metadata": {},
   "outputs": [],
   "source": [
    "%%bash\n",
    "cd /mnt/Storage/home/wangyiman/NLP_model/universalCHM_prediction_with_NLP_model/use_nucleotide_transformer/dataset_prepare\n",
    "# for feature in Universal.ComplementCHM.30CpG1kb;do\n",
    "#     bedtools getfasta -fi /mnt/Storage/home/wangyiman/annotations/mm10/mm10.fa -bed ${feature}.bed -fo ${feature}.fasta\n",
    "# done"
   ]
  },
  {
   "cell_type": "markdown",
   "metadata": {},
   "source": [
    "# define input data and tokenize it  "
   ]
  },
  {
   "cell_type": "code",
   "execution_count": 10,
   "metadata": {},
   "outputs": [],
   "source": [
    "%%bash\n",
    "cd /mnt/Storage/home/wangyiman/NLP_model/universalCHM_prediction_with_NLP_model/use_nucleotide_transformer/dataset_prepare\n",
    "# ln -s /mnt/Storage/home/wangyiman/NLP_model/universalCHM_prediction_with_NLP_model/use_DNABERT/dataset_prepare/*.fasta .\n"
   ]
  },
  {
   "cell_type": "code",
   "execution_count": 11,
   "metadata": {},
   "outputs": [],
   "source": [
    "label_dict = {\n",
    "    'Universal.CHM.30CpG1kb': 1, \n",
    "    'Universal.ComplementCHM.30CpG1kb': 2, \n",
    "    'NonCHMsCpGrich': 0,\n",
    "}"
   ]
  },
  {
   "cell_type": "code",
   "execution_count": 14,
   "metadata": {
    "scrolled": true
   },
   "outputs": [
    {
     "data": {
      "text/html": [
       "<div>\n",
       "<style scoped>\n",
       "    .dataframe tbody tr th:only-of-type {\n",
       "        vertical-align: middle;\n",
       "    }\n",
       "\n",
       "    .dataframe tbody tr th {\n",
       "        vertical-align: top;\n",
       "    }\n",
       "\n",
       "    .dataframe thead th {\n",
       "        text-align: right;\n",
       "    }\n",
       "</style>\n",
       "<table border=\"1\" class=\"dataframe\">\n",
       "  <thead>\n",
       "    <tr style=\"text-align: right;\">\n",
       "      <th></th>\n",
       "      <th>sequence</th>\n",
       "      <th>if_N</th>\n",
       "      <th>label</th>\n",
       "      <th>length</th>\n",
       "    </tr>\n",
       "  </thead>\n",
       "  <tbody>\n",
       "    <tr>\n",
       "      <th>0</th>\n",
       "      <td>CGGCCAGGAAGAACACAACAGACCAGAATCTTCTGCGGCAAAACTT...</td>\n",
       "      <td>False</td>\n",
       "      <td>1</td>\n",
       "      <td>1000</td>\n",
       "    </tr>\n",
       "    <tr>\n",
       "      <th>1</th>\n",
       "      <td>ATCTACAACTCCAGGGTGGACAATAAGACCTTGTAGGCTGTAAGAG...</td>\n",
       "      <td>False</td>\n",
       "      <td>1</td>\n",
       "      <td>1000</td>\n",
       "    </tr>\n",
       "    <tr>\n",
       "      <th>2</th>\n",
       "      <td>TGTTGACAATCCATAACTCCAGGGTGGACTACTAAGCCCTGCAAGG...</td>\n",
       "      <td>False</td>\n",
       "      <td>1</td>\n",
       "      <td>1000</td>\n",
       "    </tr>\n",
       "    <tr>\n",
       "      <th>3</th>\n",
       "      <td>ACTAGGGAGAGCGGCTTTTACAACCGTTTGCCAGTCGGCAGGAGTT...</td>\n",
       "      <td>False</td>\n",
       "      <td>1</td>\n",
       "      <td>1000</td>\n",
       "    </tr>\n",
       "    <tr>\n",
       "      <th>4</th>\n",
       "      <td>CCAGAAACTTAGGATACCCAAGATATAAGATATAATTTGCTAAAAA...</td>\n",
       "      <td>False</td>\n",
       "      <td>1</td>\n",
       "      <td>1000</td>\n",
       "    </tr>\n",
       "    <tr>\n",
       "      <th>...</th>\n",
       "      <td>...</td>\n",
       "      <td>...</td>\n",
       "      <td>...</td>\n",
       "      <td>...</td>\n",
       "    </tr>\n",
       "    <tr>\n",
       "      <th>27858</th>\n",
       "      <td>CACCGGCCGAGCTCGCGGGCTGGGCTTTCCCCGTCCAGCCTGGCTG...</td>\n",
       "      <td>False</td>\n",
       "      <td>0</td>\n",
       "      <td>1000</td>\n",
       "    </tr>\n",
       "    <tr>\n",
       "      <th>27859</th>\n",
       "      <td>GTACTTGGACTTCGGAAAGTCCCAGTCCCAGAGTTCTCAGCTCTTT...</td>\n",
       "      <td>False</td>\n",
       "      <td>0</td>\n",
       "      <td>1000</td>\n",
       "    </tr>\n",
       "    <tr>\n",
       "      <th>27860</th>\n",
       "      <td>TTGTTTAGATGTATACAAAGTGACACTTACTAGGAATTGATTGCTG...</td>\n",
       "      <td>False</td>\n",
       "      <td>0</td>\n",
       "      <td>1000</td>\n",
       "    </tr>\n",
       "    <tr>\n",
       "      <th>27861</th>\n",
       "      <td>TGTAAGTAGATTAAGTCCTGAGCCTCTGCCCCATTTCTGTCTGGAA...</td>\n",
       "      <td>False</td>\n",
       "      <td>0</td>\n",
       "      <td>1000</td>\n",
       "    </tr>\n",
       "    <tr>\n",
       "      <th>27862</th>\n",
       "      <td>NNNNNNNNNNNNNNNNNNNNNNNNNNNNNNNNNNNNNNNNNNNNNN...</td>\n",
       "      <td>True</td>\n",
       "      <td>0</td>\n",
       "      <td>1000</td>\n",
       "    </tr>\n",
       "  </tbody>\n",
       "</table>\n",
       "<p>27863 rows × 4 columns</p>\n",
       "</div>"
      ],
      "text/plain": [
       "                                                sequence   if_N  label  length\n",
       "0      CGGCCAGGAAGAACACAACAGACCAGAATCTTCTGCGGCAAAACTT...  False      1    1000\n",
       "1      ATCTACAACTCCAGGGTGGACAATAAGACCTTGTAGGCTGTAAGAG...  False      1    1000\n",
       "2      TGTTGACAATCCATAACTCCAGGGTGGACTACTAAGCCCTGCAAGG...  False      1    1000\n",
       "3      ACTAGGGAGAGCGGCTTTTACAACCGTTTGCCAGTCGGCAGGAGTT...  False      1    1000\n",
       "4      CCAGAAACTTAGGATACCCAAGATATAAGATATAATTTGCTAAAAA...  False      1    1000\n",
       "...                                                  ...    ...    ...     ...\n",
       "27858  CACCGGCCGAGCTCGCGGGCTGGGCTTTCCCCGTCCAGCCTGGCTG...  False      0    1000\n",
       "27859  GTACTTGGACTTCGGAAAGTCCCAGTCCCAGAGTTCTCAGCTCTTT...  False      0    1000\n",
       "27860  TTGTTTAGATGTATACAAAGTGACACTTACTAGGAATTGATTGCTG...  False      0    1000\n",
       "27861  TGTAAGTAGATTAAGTCCTGAGCCTCTGCCCCATTTCTGTCTGGAA...  False      0    1000\n",
       "27862  NNNNNNNNNNNNNNNNNNNNNNNNNNNNNNNNNNNNNNNNNNNNNN...   True      0    1000\n",
       "\n",
       "[27863 rows x 4 columns]"
      ]
     },
     "execution_count": 14,
     "metadata": {},
     "output_type": "execute_result"
    }
   ],
   "source": [
    "os.chdir(\"/mnt/Storage/home/wangyiman/NLP_model/universalCHM_prediction_with_NLP_model/use_nucleotide_transformer/dataset_prepare\")\n",
    "\n",
    "sequence_df = pd.DataFrame()\n",
    "sequence_ls = []\n",
    "if_N_ls = []\n",
    "label_ls = []\n",
    "for feature in ['Universal.CHM.30CpG1kb', 'Universal.ComplementCHM.30CpG1kb', 'NonCHMsCpGrich'] :\n",
    "    with open(feature+'.fasta','r') as f:\n",
    "        for line in f:\n",
    "            if line.startswith('>'):\n",
    "                continue\n",
    "            else:\n",
    "                sequence_ls.append(line.strip().upper())\n",
    "                label_ls.append(label_dict[feature])\n",
    "                if 'N' in line :\n",
    "                    if_N_ls.append(True)\n",
    "                else :\n",
    "                    if_N_ls.append(False)\n",
    "                    \n",
    "sequence_df['sequence'] = sequence_ls\n",
    "sequence_df['if_N'] = if_N_ls\n",
    "sequence_df['label'] = label_ls\n",
    "sequence_df['length'] = [len(x) for x in sequence_df['sequence']]\n",
    "sequence_df"
   ]
  },
  {
   "cell_type": "code",
   "execution_count": 15,
   "metadata": {
    "scrolled": true
   },
   "outputs": [
    {
     "data": {
      "text/html": [
       "<div>\n",
       "<style scoped>\n",
       "    .dataframe tbody tr th:only-of-type {\n",
       "        vertical-align: middle;\n",
       "    }\n",
       "\n",
       "    .dataframe tbody tr th {\n",
       "        vertical-align: top;\n",
       "    }\n",
       "\n",
       "    .dataframe thead th {\n",
       "        text-align: right;\n",
       "    }\n",
       "</style>\n",
       "<table border=\"1\" class=\"dataframe\">\n",
       "  <thead>\n",
       "    <tr style=\"text-align: right;\">\n",
       "      <th></th>\n",
       "      <th>sequence</th>\n",
       "      <th>if_N</th>\n",
       "      <th>label</th>\n",
       "      <th>length</th>\n",
       "    </tr>\n",
       "  </thead>\n",
       "  <tbody>\n",
       "    <tr>\n",
       "      <th>6954</th>\n",
       "      <td>AATCTGGACCCCCCCGAAATCTCTCAAACACTGGACCACCAAACAG...</td>\n",
       "      <td>True</td>\n",
       "      <td>0</td>\n",
       "      <td>1000</td>\n",
       "    </tr>\n",
       "    <tr>\n",
       "      <th>13887</th>\n",
       "      <td>GACTTTGAATTTAGACTGCTTTATGCTTCTGATTTCAGCTCCAACC...</td>\n",
       "      <td>True</td>\n",
       "      <td>0</td>\n",
       "      <td>1000</td>\n",
       "    </tr>\n",
       "    <tr>\n",
       "      <th>19078</th>\n",
       "      <td>TCTTAAGGTAGAGTGTTATCTTGCTTTTTGTTGCAACAACAGTTGT...</td>\n",
       "      <td>True</td>\n",
       "      <td>0</td>\n",
       "      <td>1000</td>\n",
       "    </tr>\n",
       "    <tr>\n",
       "      <th>21110</th>\n",
       "      <td>TCGCACCTTCCATCGGGGCTGCAGGCCGGGCCTGCCGGGGCCGAGC...</td>\n",
       "      <td>True</td>\n",
       "      <td>0</td>\n",
       "      <td>1000</td>\n",
       "    </tr>\n",
       "    <tr>\n",
       "      <th>21112</th>\n",
       "      <td>GGCATTCTGGGCCCGGAAGTGCGGCGCACGCGGCTGGGCGCGCCAT...</td>\n",
       "      <td>True</td>\n",
       "      <td>0</td>\n",
       "      <td>1000</td>\n",
       "    </tr>\n",
       "    <tr>\n",
       "      <th>21114</th>\n",
       "      <td>NNNNNNNNNNNNNNNNNNNNNNNNNNNNNNNNNNNNNNNNNNNNNN...</td>\n",
       "      <td>True</td>\n",
       "      <td>0</td>\n",
       "      <td>1000</td>\n",
       "    </tr>\n",
       "    <tr>\n",
       "      <th>27862</th>\n",
       "      <td>NNNNNNNNNNNNNNNNNNNNNNNNNNNNNNNNNNNNNNNNNNNNNN...</td>\n",
       "      <td>True</td>\n",
       "      <td>0</td>\n",
       "      <td>1000</td>\n",
       "    </tr>\n",
       "  </tbody>\n",
       "</table>\n",
       "</div>"
      ],
      "text/plain": [
       "                                                sequence  if_N  label  length\n",
       "6954   AATCTGGACCCCCCCGAAATCTCTCAAACACTGGACCACCAAACAG...  True      0    1000\n",
       "13887  GACTTTGAATTTAGACTGCTTTATGCTTCTGATTTCAGCTCCAACC...  True      0    1000\n",
       "19078  TCTTAAGGTAGAGTGTTATCTTGCTTTTTGTTGCAACAACAGTTGT...  True      0    1000\n",
       "21110  TCGCACCTTCCATCGGGGCTGCAGGCCGGGCCTGCCGGGGCCGAGC...  True      0    1000\n",
       "21112  GGCATTCTGGGCCCGGAAGTGCGGCGCACGCGGCTGGGCGCGCCAT...  True      0    1000\n",
       "21114  NNNNNNNNNNNNNNNNNNNNNNNNNNNNNNNNNNNNNNNNNNNNNN...  True      0    1000\n",
       "27862  NNNNNNNNNNNNNNNNNNNNNNNNNNNNNNNNNNNNNNNNNNNNNN...  True      0    1000"
      ]
     },
     "execution_count": 15,
     "metadata": {},
     "output_type": "execute_result"
    }
   ],
   "source": [
    "sequence_df[sequence_df['if_N']]"
   ]
  },
  {
   "cell_type": "code",
   "execution_count": 17,
   "metadata": {},
   "outputs": [],
   "source": [
    "def tokenize_seq_in_part(sequence_df, start_line, num_line_used = 100) :\n",
    "    seq_df_part = sequence_df.iloc[start_line:(start_line + num_line_used), :]\n",
    "    \n",
    "    # Get data and tokenize it\n",
    "    sequences = seq_df_part['sequence']\n",
    "    tokens_ids = [b[1] for b in tokenizer.batch_tokenize(sequences)]\n",
    "    tokens_str = [b[0] for b in tokenizer.batch_tokenize(sequences)]\n",
    "    tokens = jnp.asarray(tokens_ids, dtype=jnp.int32)\n",
    "    print(tokens.shape)\n",
    "    return tokens"
   ]
  },
  {
   "cell_type": "markdown",
   "metadata": {},
   "source": [
    "# do the inference & retrieve embeddings"
   ]
  },
  {
   "cell_type": "markdown",
   "metadata": {},
   "source": [
    "The tokeninzing,inference and embeddings retrievement has been done for universal CHM and nonCHM CpG-rich regions.  \n",
    "Only need to do this for 'Universal.ComplementCHM.30CpG1kb'  "
   ]
  },
  {
   "cell_type": "code",
   "execution_count": 18,
   "metadata": {},
   "outputs": [
    {
     "name": "stdout",
     "output_type": "stream",
     "text": [
      "(100, 171)\n",
      "(100, 171)\n",
      "(100, 171)\n",
      "(100, 171)\n",
      "(100, 171)\n",
      "(100, 171)\n",
      "(100, 171)\n",
      "(100, 171)\n",
      "(100, 171)\n",
      "(100, 171)\n",
      "(100, 171)\n",
      "(100, 171)\n",
      "(100, 171)\n",
      "(100, 171)\n",
      "(100, 171)\n",
      "(100, 171)\n",
      "(100, 171)\n",
      "(100, 171)\n",
      "(100, 171)\n",
      "(100, 171)\n",
      "(100, 171)\n",
      "(100, 171)\n",
      "(100, 171)\n",
      "(92, 171)\n",
      "CPU times: user 13h 49min 22s, sys: 3h 43min 18s, total: 17h 32min 41s\n",
      "Wall time: 48min 8s\n"
     ]
    }
   ],
   "source": [
    "%%time\n",
    "\n",
    "import pickle\n",
    "\n",
    "# Initialize random key\n",
    "random_key = jax.random.PRNGKey(0)\n",
    "sequence_df_woN = sequence_df.loc[~sequence_df['if_N']]\n",
    "sequence_df_woN.to_pickle('/mnt/Storage/home/wangyiman/NLP_model/universalCHM_prediction_with_NLP_model/use_nucleotide_transformer/embedding_results/total_CPU/dataset_y_wiUniversalComplement.pkl')\n",
    "sequence_df_woN_universalComplement = sequence_df_woN.loc[sequence_df_woN['label'] == 2]\n",
    "\n",
    "for i in range(0, 2392, 100) :\n",
    "    # Infer\n",
    "    num_line_used = 100 if i < 2300 else 92\n",
    "    tokens = tokenize_seq_in_part(sequence_df_woN_universalComplement, start_line=i, num_line_used = num_line_used)\n",
    "    outs = forward_fn.apply(parameters, random_key, tokens)\n",
    "\n",
    "    # retrieve embeddings\n",
    "    for embed in range(10,21) :\n",
    "        outs_key = f'embeddings_{embed}'\n",
    "        embeddings = outs[outs_key][:, 1:, :]  # removing CLS token\n",
    "        padding_mask = jnp.expand_dims(tokens[:, 1:] != tokenizer.pad_token_id, axis=-1)\n",
    "        masked_embeddings = embeddings * padding_mask  # multiply by 0 pad tokens embeddings\n",
    "        sequences_lengths = jnp.sum(padding_mask, axis=1)\n",
    "        mean_embeddings = jnp.sum(masked_embeddings, axis=1) / sequences_lengths        \n",
    "        ### write embedding results into files :\n",
    "        mean_embeddings_np = jax.device_get(mean_embeddings).copy()\n",
    "        np.save(\n",
    "            f'/mnt/Storage/home/wangyiman/NLP_model/universalCHM_prediction_with_NLP_model/use_nucleotide_transformer/embedding_results/total_CPU/seqStartLine{i}_mean_embeddings_{embed}_universalComplement.npy', \n",
    "            mean_embeddings_np)\n",
    "\n",
    "        "
   ]
  },
  {
   "cell_type": "code",
   "execution_count": 16,
   "metadata": {},
   "outputs": [
    {
     "data": {
      "text/plain": [
       "10.833333333333334"
      ]
     },
     "execution_count": 16,
     "metadata": {},
     "output_type": "execute_result"
    }
   ],
   "source": [
    "130 * 5 / 60"
   ]
  },
  {
   "cell_type": "code",
   "execution_count": null,
   "metadata": {},
   "outputs": [],
   "source": []
  }
 ],
 "metadata": {
  "kernelspec": {
   "display_name": "Python 3 (ipykernel)",
   "language": "python",
   "name": "python3"
  },
  "language_info": {
   "codemirror_mode": {
    "name": "ipython",
    "version": 3
   },
   "file_extension": ".py",
   "mimetype": "text/x-python",
   "name": "python",
   "nbconvert_exporter": "python",
   "pygments_lexer": "ipython3",
   "version": "3.10.9"
  }
 },
 "nbformat": 4,
 "nbformat_minor": 2
}
