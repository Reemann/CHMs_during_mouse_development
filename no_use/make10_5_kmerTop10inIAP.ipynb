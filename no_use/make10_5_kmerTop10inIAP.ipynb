{
 "cells": [
  {
   "cell_type": "markdown",
   "id": "f22b6c37-5d12-4bce-bf48-7744a6fcb1df",
   "metadata": {},
   "source": [
    "# top 10 kmer in IAP v.s. genome (total region)"
   ]
  },
  {
   "cell_type": "code",
   "execution_count": 3,
   "id": "f14db45c-98cb-4452-8e66-e4607c48dd69",
   "metadata": {},
   "outputs": [],
   "source": [
    "import os\n",
    "import subprocess\n",
    "import gzip\n",
    "import numpy as np\n",
    "import pandas as pd\n",
    "import matplotlib as mpl\n",
    "mpl.rcParams['pdf.fonttype'] = 42\n",
    "mpl.rcParams['ps.fonttype'] = 42\n",
    "mpl.rcParams['font.sans-serif'] = 'Arial'\n",
    "import matplotlib.pyplot as plt\n",
    "import seaborn as sns\n",
    "from pprint import pprint\n",
    "%matplotlib inline"
   ]
  },
  {
   "cell_type": "code",
   "execution_count": 4,
   "id": "92d2d7a0-52d8-42b8-986a-1e444a4c36e7",
   "metadata": {},
   "outputs": [],
   "source": [
    "from sklearn.metrics import roc_curve, auc\n",
    "from sklearn.metrics import roc_auc_score"
   ]
  },
  {
   "cell_type": "code",
   "execution_count": 6,
   "id": "2c6079b7-d637-46c5-8745-93833562ff7a",
   "metadata": {},
   "outputs": [
    {
     "data": {
      "text/plain": [
       "['AGA',\n",
       " 'CAC',\n",
       " 'AAG',\n",
       " 'CACC',\n",
       " 'GTAAA',\n",
       " 'AAAG',\n",
       " 'CCC',\n",
       " 'ATTAG',\n",
       " 'ATTC',\n",
       " 'ATCAG',\n",
       " 'TGCmCGC']"
      ]
     },
     "execution_count": 6,
     "metadata": {},
     "output_type": "execute_result"
    }
   ],
   "source": [
    "kmer_ls = pd.read_csv(\n",
    "    '/mnt/Storage/home/wangyiman/CHMsInOtherContexts/CellStateTransition/CHMOrganization/Universal_specific/Sequence/AUC_1kb/top10andZfp57meth_kmer_frequency.tsv',\n",
    "    sep = \"\\t\", header = 0, \n",
    ").columns.tolist()[1:]\n",
    "kmer_ls"
   ]
  },
  {
   "cell_type": "code",
   "execution_count": 17,
   "id": "14fd8774-1860-413d-89c2-01f816fef93b",
   "metadata": {},
   "outputs": [
    {
     "name": "stderr",
     "output_type": "stream",
     "text": [
      "Warning: the index file is older than the FASTA file.\n"
     ]
    }
   ],
   "source": [
    "%%bash\n",
    "cd /mnt/Storage/home/wangyiman/CHMsInOtherContexts/CellStateTransition/CHMOrganization/Universal_specific/Sequence/AUC_1kb/IAP_topKmers\n",
    "IAP_bed=/mnt/Storage/home/wangyiman/annotations/mm10/Repeats/LTR/ERVK/mm10_euch.IAPEz-int.merged.bed\n",
    "fa_bed=/mnt/Storage/home/wangyiman/annotations/mm10/mm10.fa\n",
    "\n",
    "bedtools getfasta -fi $fa_bed -bed $IAP_bed > mm10_euch.IAPEz-int.merged.fa"
   ]
  },
  {
   "cell_type": "code",
   "execution_count": 20,
   "id": "7ef93f3a-06ae-4b03-b400-b49aba8ea320",
   "metadata": {},
   "outputs": [
    {
     "name": "stdout",
     "output_type": "stream",
     "text": [
      "AGA\n",
      "CAC\n",
      "AAG\n",
      "CACC\n",
      "GTAAA\n",
      "AAAG\n",
      "CCC\n",
      "ATTAG\n",
      "ATTC\n",
      "ATCAG\n"
     ]
    }
   ],
   "source": [
    "%%bash\n",
    "### kmer frequency in IAPEz sequence\n",
    "cd /mnt/Storage/home/wangyiman/CHMsInOtherContexts/CellStateTransition/CHMOrganization/Universal_specific/Sequence/AUC_1kb/IAP_topKmers\n",
    "for kmer in $(head -1 ../top10andZfp57meth_kmer_frequency.tsv | cut -f 2-11);do\n",
    "    echo $kmer\n",
    "    get_Kmer_frequency.py $kmer /mnt/Storage/home/wangyiman/annotations/mm10/Repeats/LTR/ERVK/mm10_euch.IAPEz-int.merged.bed IAPEzint_top10kmer_freq_${kmer}.bed /mnt/Storage/home/wangyiman/annotations/mm10/mm10.2bit\n",
    "done"
   ]
  },
  {
   "cell_type": "code",
   "execution_count": 40,
   "id": "4ab13907-6752-42b5-89d3-9a78f08435a5",
   "metadata": {},
   "outputs": [],
   "source": [
    "%%bash \n",
    "### kmer frequency in genome-wide (background)\n",
    "### runned in runned_tmp6.sh in tmux\n",
    "cd /mnt/Storage/home/wangyiman/CHMsInOtherContexts/CellStateTransition/CHMOrganization/Universal_specific/Sequence/AUC_1kb/IAP_topKmers\n",
    "# for kmer in $(head -1 ../top10andZfp57meth_kmer_frequency.tsv | cut -f 2-11);do\n",
    "#     echo $kmer\n",
    "#     get_Kmer_frequency.py $kmer /mnt/Storage/home/wangyiman/annotations/mm10/mm10_euch.chrom.limits genomeEuch_top10kmer_freq_${kmer}.bed /mnt/Storage/home/wangyiman/annotations/mm10/mm10.2bit\n",
    "# done"
   ]
  },
  {
   "cell_type": "code",
   "execution_count": 43,
   "id": "ce0f85fb-0077-47c6-84a5-451a1fbeb6ae",
   "metadata": {},
   "outputs": [
    {
     "data": {
      "text/html": [
       "<div>\n",
       "<style scoped>\n",
       "    .dataframe tbody tr th:only-of-type {\n",
       "        vertical-align: middle;\n",
       "    }\n",
       "\n",
       "    .dataframe tbody tr th {\n",
       "        vertical-align: top;\n",
       "    }\n",
       "\n",
       "    .dataframe thead th {\n",
       "        text-align: right;\n",
       "    }\n",
       "</style>\n",
       "<table border=\"1\" class=\"dataframe\">\n",
       "  <thead>\n",
       "    <tr style=\"text-align: right;\">\n",
       "      <th></th>\n",
       "      <th>frequency</th>\n",
       "      <th>kmer</th>\n",
       "      <th>region</th>\n",
       "    </tr>\n",
       "  </thead>\n",
       "  <tbody>\n",
       "    <tr>\n",
       "      <th>0</th>\n",
       "      <td>0.024858</td>\n",
       "      <td>AGA</td>\n",
       "      <td>IAPEzint</td>\n",
       "    </tr>\n",
       "    <tr>\n",
       "      <th>1</th>\n",
       "      <td>0.023864</td>\n",
       "      <td>AGA</td>\n",
       "      <td>genomeEuch</td>\n",
       "    </tr>\n",
       "    <tr>\n",
       "      <th>2</th>\n",
       "      <td>0.011450</td>\n",
       "      <td>CAC</td>\n",
       "      <td>IAPEzint</td>\n",
       "    </tr>\n",
       "    <tr>\n",
       "      <th>3</th>\n",
       "      <td>0.015909</td>\n",
       "      <td>CAC</td>\n",
       "      <td>genomeEuch</td>\n",
       "    </tr>\n",
       "    <tr>\n",
       "      <th>4</th>\n",
       "      <td>0.022127</td>\n",
       "      <td>AAG</td>\n",
       "      <td>IAPEzint</td>\n",
       "    </tr>\n",
       "    <tr>\n",
       "      <th>5</th>\n",
       "      <td>0.020611</td>\n",
       "      <td>AAG</td>\n",
       "      <td>genomeEuch</td>\n",
       "    </tr>\n",
       "    <tr>\n",
       "      <th>6</th>\n",
       "      <td>0.003139</td>\n",
       "      <td>CACC</td>\n",
       "      <td>IAPEzint</td>\n",
       "    </tr>\n",
       "    <tr>\n",
       "      <th>7</th>\n",
       "      <td>0.003413</td>\n",
       "      <td>CACC</td>\n",
       "      <td>genomeEuch</td>\n",
       "    </tr>\n",
       "    <tr>\n",
       "      <th>8</th>\n",
       "      <td>0.001960</td>\n",
       "      <td>GTAAA</td>\n",
       "      <td>IAPEzint</td>\n",
       "    </tr>\n",
       "    <tr>\n",
       "      <th>9</th>\n",
       "      <td>0.001068</td>\n",
       "      <td>GTAAA</td>\n",
       "      <td>genomeEuch</td>\n",
       "    </tr>\n",
       "    <tr>\n",
       "      <th>10</th>\n",
       "      <td>0.007510</td>\n",
       "      <td>AAAG</td>\n",
       "      <td>IAPEzint</td>\n",
       "    </tr>\n",
       "    <tr>\n",
       "      <th>11</th>\n",
       "      <td>0.007047</td>\n",
       "      <td>AAAG</td>\n",
       "      <td>genomeEuch</td>\n",
       "    </tr>\n",
       "    <tr>\n",
       "      <th>12</th>\n",
       "      <td>0.017383</td>\n",
       "      <td>CCC</td>\n",
       "      <td>IAPEzint</td>\n",
       "    </tr>\n",
       "    <tr>\n",
       "      <th>13</th>\n",
       "      <td>0.013253</td>\n",
       "      <td>CCC</td>\n",
       "      <td>genomeEuch</td>\n",
       "    </tr>\n",
       "    <tr>\n",
       "      <th>14</th>\n",
       "      <td>0.001169</td>\n",
       "      <td>ATTAG</td>\n",
       "      <td>IAPEzint</td>\n",
       "    </tr>\n",
       "    <tr>\n",
       "      <th>15</th>\n",
       "      <td>0.000871</td>\n",
       "      <td>ATTAG</td>\n",
       "      <td>genomeEuch</td>\n",
       "    </tr>\n",
       "    <tr>\n",
       "      <th>16</th>\n",
       "      <td>0.005316</td>\n",
       "      <td>ATTC</td>\n",
       "      <td>IAPEzint</td>\n",
       "    </tr>\n",
       "    <tr>\n",
       "      <th>17</th>\n",
       "      <td>0.004155</td>\n",
       "      <td>ATTC</td>\n",
       "      <td>genomeEuch</td>\n",
       "    </tr>\n",
       "    <tr>\n",
       "      <th>18</th>\n",
       "      <td>0.001300</td>\n",
       "      <td>ATCAG</td>\n",
       "      <td>IAPEzint</td>\n",
       "    </tr>\n",
       "    <tr>\n",
       "      <th>19</th>\n",
       "      <td>0.001094</td>\n",
       "      <td>ATCAG</td>\n",
       "      <td>genomeEuch</td>\n",
       "    </tr>\n",
       "  </tbody>\n",
       "</table>\n",
       "</div>"
      ],
      "text/plain": [
       "    frequency   kmer      region\n",
       "0    0.024858    AGA    IAPEzint\n",
       "1    0.023864    AGA  genomeEuch\n",
       "2    0.011450    CAC    IAPEzint\n",
       "3    0.015909    CAC  genomeEuch\n",
       "4    0.022127    AAG    IAPEzint\n",
       "5    0.020611    AAG  genomeEuch\n",
       "6    0.003139   CACC    IAPEzint\n",
       "7    0.003413   CACC  genomeEuch\n",
       "8    0.001960  GTAAA    IAPEzint\n",
       "9    0.001068  GTAAA  genomeEuch\n",
       "10   0.007510   AAAG    IAPEzint\n",
       "11   0.007047   AAAG  genomeEuch\n",
       "12   0.017383    CCC    IAPEzint\n",
       "13   0.013253    CCC  genomeEuch\n",
       "14   0.001169  ATTAG    IAPEzint\n",
       "15   0.000871  ATTAG  genomeEuch\n",
       "16   0.005316   ATTC    IAPEzint\n",
       "17   0.004155   ATTC  genomeEuch\n",
       "18   0.001300  ATCAG    IAPEzint\n",
       "19   0.001094  ATCAG  genomeEuch"
      ]
     },
     "execution_count": 43,
     "metadata": {},
     "output_type": "execute_result"
    }
   ],
   "source": [
    "os.chdir('/mnt/Storage/home/wangyiman/CHMsInOtherContexts/CellStateTransition/CHMOrganization/Universal_specific/Sequence/AUC_1kb/IAP_topKmers')\n",
    "top10kmer_freq = {}\n",
    "\n",
    "for kmer in kmer_ls[:-1] :\n",
    "    top10kmer_freq[kmer] = {}\n",
    "    for region in ['IAPEzint', 'genomeEuch'] :\n",
    "        top10kmer_freq[kmer][region] = pd.read_csv(f'{region}_top10kmer_freq_{kmer}.bed', sep = \"\\t\", usecols = ['Mean_Kmer_Ratio'])['Mean_Kmer_Ratio'].mean()\n",
    "        \n",
    "top10kmer_freq_df = pd.DataFrame.from_dict({(i,j): top10kmer_freq[i][j] \n",
    "                           for i in top10kmer_freq.keys() \n",
    "                           for j in top10kmer_freq[i].keys()},\n",
    "                       orient='index')\n",
    "top10kmer_freq_df = top10kmer_freq_df.reset_index()\n",
    "top10kmer_freq_df['kmer'] = list(zip(*top10kmer_freq_df['index'].tolist()))[0]\n",
    "top10kmer_freq_df['region'] = list(zip(*top10kmer_freq_df['index'].tolist()))[1]\n",
    "top10kmer_freq_df = top10kmer_freq_df.drop(['index'], axis = 1)\n",
    "top10kmer_freq_df.columns = ['frequency', 'kmer', 'region']\n",
    "top10kmer_freq_df"
   ]
  },
  {
   "cell_type": "code",
   "execution_count": 47,
   "id": "5e5f56b4-7e33-4c9e-8c4d-f9bb5ba4c55f",
   "metadata": {},
   "outputs": [
    {
     "data": {
      "image/png": "[encoded data removed]",
      "text/plain": [
       "<Figure size 460.8x345.6 with 1 Axes>"
      ]
     },
     "metadata": {},
     "output_type": "display_data"
    }
   ],
   "source": [
    "with sns.axes_style('white', rc={\n",
    "        'xtick.bottom': True,\n",
    "        'ytick.left': True\n",
    "}), sns.plotting_context('paper',\n",
    "                         rc={\n",
    "                             'axes.titlesize': 14,\n",
    "                             'axes.labelsize': 12,\n",
    "                             'xtick.labelsize': 10,\n",
    "                             'ytick.labelsize': 10,\n",
    "                             'legend.fontsize': 10\n",
    "                         }):\n",
    "    fig, ax = plt.subplots(figsize = (6.4, 4.8), tight_layout = True)\n",
    "    sns.barplot(\n",
    "        data = top10kmer_freq_df,\n",
    "        y = 'frequency',\n",
    "        x = 'kmer', \n",
    "        hue = 'region',\n",
    "        palette = 'YlGnBu_r',\n",
    "        orient = 'v')\n",
    "    # ax.set_xlim(0,20000)\n",
    "#     ax.set_xscale('log')\n",
    "    # ax.set_xlabel('Number of peaks')\n",
    "    fig.savefig(f'/mnt/Storage/home/wangyiman/CHMsInOtherContexts/figures/make10_bar_top10kmerFreq_IAP_genome.pdf',transparent=True)\n",
    "     \n"
   ]
  },
  {
   "cell_type": "code",
   "execution_count": null,
   "id": "2ce4a44a-946a-4502-b42a-3f2187f08a30",
   "metadata": {},
   "outputs": [],
   "source": []
  }
 ],
 "metadata": {
  "kernelspec": {
   "display_name": "Python 3 (ipykernel)",
   "language": "python",
   "name": "python3"
  },
  "language_info": {
   "codemirror_mode": {
    "name": "ipython",
    "version": 3
   },
   "file_extension": ".py",
   "mimetype": "text/x-python",
   "name": "python",
   "nbconvert_exporter": "python",
   "pygments_lexer": "ipython3",
   "version": "3.9.12"
  }
 },
 "nbformat": 4,
 "nbformat_minor": 5
}
