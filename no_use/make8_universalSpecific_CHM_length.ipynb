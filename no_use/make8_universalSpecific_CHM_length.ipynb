{
 "cells": [
  {
   "cell_type": "code",
   "execution_count": null,
   "metadata": {},
   "outputs": [],
   "source": []
  },
  {
   "cell_type": "code",
   "execution_count": 1,
   "metadata": {},
   "outputs": [],
   "source": [
    "import subprocess\n",
    "import os\n",
    "import numpy as np\n",
    "import pandas as pd\n",
    "import matplotlib as mpl\n",
    "mpl.rcParams['pdf.fonttype'] = 42\n",
    "mpl.rcParams['ps.fonttype'] = 42\n",
    "mpl.rcParams['font.sans-serif'] = 'Arial'\n",
    "import matplotlib.pyplot as plt\n",
    "import seaborn as sns\n",
    "from pprint import pprint\n",
    "from matplotlib.backends.backend_pdf import PdfPages\n",
    "%matplotlib inline"
   ]
  },
  {
   "cell_type": "code",
   "execution_count": 7,
   "metadata": {},
   "outputs": [],
   "source": [
    "%%bash\n",
    "cd ${HOME}/CHMsInOtherContexts/CellStateTransition/CHMOrganization/Universal_specific/Features\n",
    "mkdir -p Length\n",
    "cd Length\n",
    "echo -e \"xValue\\tyValue\\tgroup\" > universal_specific_CHMs_length.txt\n",
    "for group in Universal EarlyEmbryoSpecific PGCSpecific SpermSpecific RetinalSpecific HeartSpecific LiverSpecific\n",
    "do\n",
    "    awk -v XVALUE=${group} 'BEGIN{FS=OFS=\"\\t\"}{print XVALUE, $3-$2, \"Length\";}' ${HOME}/CHMsInOtherContexts/CellStateTransition/CHMOrganization/Universal_specific/${group}.CHM.bed >> universal_specific_CHMs_length.txt\n",
    "done # for group end"
   ]
  },
  {
   "cell_type": "code",
   "execution_count": 9,
   "metadata": {},
   "outputs": [
    {
     "data": {
      "text/html": [
       "<div>\n",
       "<style scoped>\n",
       "    .dataframe tbody tr th:only-of-type {\n",
       "        vertical-align: middle;\n",
       "    }\n",
       "\n",
       "    .dataframe tbody tr th {\n",
       "        vertical-align: top;\n",
       "    }\n",
       "\n",
       "    .dataframe thead th {\n",
       "        text-align: right;\n",
       "    }\n",
       "</style>\n",
       "<table border=\"1\" class=\"dataframe\">\n",
       "  <thead>\n",
       "    <tr style=\"text-align: right;\">\n",
       "      <th></th>\n",
       "      <th>xValue</th>\n",
       "      <th>yValue</th>\n",
       "      <th>group</th>\n",
       "    </tr>\n",
       "  </thead>\n",
       "  <tbody>\n",
       "    <tr>\n",
       "      <th>0</th>\n",
       "      <td>Universal</td>\n",
       "      <td>3700</td>\n",
       "      <td>Length</td>\n",
       "    </tr>\n",
       "    <tr>\n",
       "      <th>1</th>\n",
       "      <td>Universal</td>\n",
       "      <td>800</td>\n",
       "      <td>Length</td>\n",
       "    </tr>\n",
       "    <tr>\n",
       "      <th>2</th>\n",
       "      <td>Universal</td>\n",
       "      <td>750</td>\n",
       "      <td>Length</td>\n",
       "    </tr>\n",
       "    <tr>\n",
       "      <th>3</th>\n",
       "      <td>Universal</td>\n",
       "      <td>1250</td>\n",
       "      <td>Length</td>\n",
       "    </tr>\n",
       "    <tr>\n",
       "      <th>4</th>\n",
       "      <td>Universal</td>\n",
       "      <td>7300</td>\n",
       "      <td>Length</td>\n",
       "    </tr>\n",
       "    <tr>\n",
       "      <th>...</th>\n",
       "      <td>...</td>\n",
       "      <td>...</td>\n",
       "      <td>...</td>\n",
       "    </tr>\n",
       "    <tr>\n",
       "      <th>9652</th>\n",
       "      <td>LiverSpecific</td>\n",
       "      <td>600</td>\n",
       "      <td>Length</td>\n",
       "    </tr>\n",
       "    <tr>\n",
       "      <th>9653</th>\n",
       "      <td>LiverSpecific</td>\n",
       "      <td>800</td>\n",
       "      <td>Length</td>\n",
       "    </tr>\n",
       "    <tr>\n",
       "      <th>9654</th>\n",
       "      <td>LiverSpecific</td>\n",
       "      <td>600</td>\n",
       "      <td>Length</td>\n",
       "    </tr>\n",
       "    <tr>\n",
       "      <th>9655</th>\n",
       "      <td>LiverSpecific</td>\n",
       "      <td>600</td>\n",
       "      <td>Length</td>\n",
       "    </tr>\n",
       "    <tr>\n",
       "      <th>9656</th>\n",
       "      <td>LiverSpecific</td>\n",
       "      <td>600</td>\n",
       "      <td>Length</td>\n",
       "    </tr>\n",
       "  </tbody>\n",
       "</table>\n",
       "<p>9657 rows × 3 columns</p>\n",
       "</div>"
      ],
      "text/plain": [
       "             xValue  yValue   group\n",
       "0         Universal    3700  Length\n",
       "1         Universal     800  Length\n",
       "2         Universal     750  Length\n",
       "3         Universal    1250  Length\n",
       "4         Universal    7300  Length\n",
       "...             ...     ...     ...\n",
       "9652  LiverSpecific     600  Length\n",
       "9653  LiverSpecific     800  Length\n",
       "9654  LiverSpecific     600  Length\n",
       "9655  LiverSpecific     600  Length\n",
       "9656  LiverSpecific     600  Length\n",
       "\n",
       "[9657 rows x 3 columns]"
      ]
     },
     "execution_count": 9,
     "metadata": {},
     "output_type": "execute_result"
    }
   ],
   "source": [
    "os.chdir('/mnt/Storage/home/wangyiman/CHMsInOtherContexts/CellStateTransition/CHMOrganization/Universal_specific/Features/Length')\n",
    "uni_spe_len = pd.read_csv('universal_specific_CHMs_length.txt', sep = \"\\t\", header = 0)\n",
    "uni_spe_len"
   ]
  },
  {
   "cell_type": "code",
   "execution_count": 52,
   "metadata": {},
   "outputs": [
    {
     "data": {
      "image/png": "[encoded data removed]",
      "text/plain": [
       "<Figure size 345.6x259.2 with 1 Axes>"
      ]
     },
     "metadata": {},
     "output_type": "display_data"
    }
   ],
   "source": [
    "with sns.axes_style('white', rc={\n",
    "        'xtick.bottom': True,\n",
    "        'ytick.left': True\n",
    "}), sns.plotting_context('paper',\n",
    "                         rc={\n",
    "                             'axes.titlesize': 14,\n",
    "                             'axes.labelsize': 12,\n",
    "                             'xtick.labelsize': 10,\n",
    "                             'ytick.labelsize': 10,\n",
    "                             'legend.fontsize': 10\n",
    "                         }):\n",
    "    fig, ax = plt.subplots(figsize = (6.4 * .75, 4.8 *.75), tight_layout = True)\n",
    "    sns.boxplot(\n",
    "        data = uni_spe_len,\n",
    "        x = 'xValue',\n",
    "        y = 'yValue',\n",
    "        ax = ax,\n",
    "        showfliers = False,\n",
    "        width = 0.618,\n",
    "        palette = 'Set2'\n",
    "    )\n",
    "    ax.set_xticks(ax.get_xticks())\n",
    "    ax.set_xticklabels([f'{x.get_text()}\\nCHMs' if x.get_text() != 'EarlyEmbryoSpecific' else 'Pre-implantation\\nCHMs' for x in ax.get_xticklabels()], rotation = 90, ha = 'right', va = 'top')\n",
    "    ax.set_xlabel(\"\")\n",
    "    ax.set_ylabel('Length (bp)')\n",
    "    ax.set_ylim(0,12000)\n",
    "    fig.savefig('/mnt/Storage/home/wangyiman/CHMsInOtherContexts/figures/make8_box_universal_specific_length.pdf', transparent = True)\n",
    "    "
   ]
  },
  {
   "cell_type": "code",
   "execution_count": 27,
   "metadata": {},
   "outputs": [
    {
     "data": {
      "text/plain": [
       "['Universal',\n",
       " 'EarlyEmbryoSpecific',\n",
       " 'PGCSpecific',\n",
       " 'SpermSpecific',\n",
       " 'RetinalSpecific',\n",
       " 'HeartSpecific',\n",
       " 'LiverSpecific']"
      ]
     },
     "execution_count": 27,
     "metadata": {},
     "output_type": "execute_result"
    }
   ],
   "source": [
    "[x.get_text() for x in ax.get_xticklabels()]"
   ]
  },
  {
   "cell_type": "code",
   "execution_count": null,
   "metadata": {},
   "outputs": [],
   "source": []
  }
 ],
 "metadata": {
  "kernelspec": {
   "display_name": "Python [conda env:root] *",
   "language": "python",
   "name": "conda-root-py"
  },
  "language_info": {
   "codemirror_mode": {
    "name": "ipython",
    "version": 3
   },
   "file_extension": ".py",
   "mimetype": "text/x-python",
   "name": "python",
   "nbconvert_exporter": "python",
   "pygments_lexer": "ipython3",
   "version": "3.8.5"
  }
 },
 "nbformat": 4,
 "nbformat_minor": 4
}
