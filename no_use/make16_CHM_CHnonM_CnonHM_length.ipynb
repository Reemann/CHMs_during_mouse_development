{
 "cells": [
  {
   "cell_type": "markdown",
   "metadata": {},
   "source": [
    "# length of CHM, CHnonM, CMnonH"
   ]
  },
  {
   "cell_type": "code",
   "execution_count": 1,
   "metadata": {},
   "outputs": [],
   "source": [
    "import subprocess\n",
    "import os\n",
    "import numpy as np\n",
    "import pandas as pd\n",
    "import matplotlib as mpl\n",
    "mpl.rcParams['pdf.fonttype'] = 42\n",
    "mpl.rcParams['ps.fonttype'] = 42\n",
    "mpl.rcParams['font.sans-serif'] = 'Arial'\n",
    "import matplotlib.pyplot as plt\n",
    "import seaborn as sns\n",
    "from pprint import pprint\n",
    "from matplotlib.backends.backend_pdf import PdfPages\n",
    "%matplotlib inline"
   ]
  },
  {
   "cell_type": "code",
   "execution_count": 9,
   "metadata": {},
   "outputs": [],
   "source": [
    "%%bash\n",
    "cd ~/CHMsInOtherContexts/CellStateTransition/CHMOrganization/Universal_specific/Features/Length\n",
    "echo -ne \"region\\tlength\\t\" > universal_CHM_CHnonM_CnonHM.length.txt\n",
    "for t in CHM CHnonM CMnonH;do\n",
    "    awk -v T=${t} 'BEGIN{FS=OFS=\"\\t\"}{print T,$3-$2}' ../../Universal.${t}.bed >> universal_CHM_CHnonM_CnonHM.length.txt \n",
    "done"
   ]
  },
  {
   "cell_type": "code",
   "execution_count": 12,
   "metadata": {},
   "outputs": [
    {
     "data": {
      "image/png": "[encoded data removed]",
      "text/plain": [
       "<Figure size 230.4x345.6 with 1 Axes>"
      ]
     },
     "metadata": {},
     "output_type": "display_data"
    }
   ],
   "source": [
    "with sns.axes_style('white', rc={\n",
    "        'xtick.bottom': True,\n",
    "        'ytick.left': True\n",
    "}), sns.plotting_context('paper',\n",
    "                         rc={\n",
    "                             'axes.titlesize': 14,\n",
    "                             'axes.labelsize': 12,\n",
    "                             'xtick.labelsize': 10,\n",
    "                             'ytick.labelsize': 10,\n",
    "                             'legend.fontsize': 10\n",
    "                         }): \n",
    "    fig, ax = plt.subplots(figsize=(6.4 * .5, 4.8), tight_layout = True)\n",
    "    df = pd.read_csv(\n",
    "        '/mnt/Storage/home/wangyiman/CHMsInOtherContexts/CellStateTransition/CHMOrganization/Universal_specific/Features/Length/universal_CHM_CHnonM_CnonHM.length.txt',\n",
    "        sep = \"\\t\",\n",
    "        header = 0\n",
    "    )\n",
    "    sns.boxplot(\n",
    "        data = df,\n",
    "        x = \"region\",\n",
    "        y = \"length\",\n",
    "        showfliers = False\n",
    "    )\n",
    "    "
   ]
  },
  {
   "cell_type": "code",
   "execution_count": null,
   "metadata": {},
   "outputs": [],
   "source": []
  }
 ],
 "metadata": {
  "kernelspec": {
   "display_name": "Python [conda env:root] *",
   "language": "python",
   "name": "conda-root-py"
  },
  "language_info": {
   "codemirror_mode": {
    "name": "ipython",
    "version": 3
   },
   "file_extension": ".py",
   "mimetype": "text/x-python",
   "name": "python",
   "nbconvert_exporter": "python",
   "pygments_lexer": "ipython3",
   "version": "3.8.5"
  }
 },
 "nbformat": 4,
 "nbformat_minor": 4
}
