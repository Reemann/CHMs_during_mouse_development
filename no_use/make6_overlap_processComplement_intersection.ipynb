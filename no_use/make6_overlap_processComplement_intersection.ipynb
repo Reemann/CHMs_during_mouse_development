{
 "cells": [
  {
   "cell_type": "code",
   "execution_count": 5,
   "metadata": {},
   "outputs": [
    {
     "name": "stdout",
     "output_type": "stream",
     "text": [
      "chr10\t65261800\t65262600\n",
      "chr14\t113371600\t113372450\n",
      "chr4\t149816200\t149816800\n",
      "chr6\t58282600\t58283200\n",
      "chr7\t25965800\t25966400\n"
     ]
    }
   ],
   "source": [
    "%%bash\n",
    "\n",
    "cd ~/CHMsInOtherContexts/CellStateTransition/CHMOrganization/Overlap\n",
    "bedtools intersect -a EarlyEmbryogenesis_complementarySet.CHM.bed -b HeartDevelopment_complementarySet.CHM.bed | \\\n",
    "    bedtools intersect -b LiverDevelopment_complementarySet.CHM.bed -a - | \\\n",
    "    bedtools intersect -b PGCsDevelopment_complementarySet.CHM.bed -a - | \\\n",
    "    bedtools intersect -b RetinalDevelopment_complementarySet.CHM.bed -a - | \\\n",
    "    bedtools intersect -b Spermatogenesis_complementarySet.CHM.bed -a - "
   ]
  },
  {
   "cell_type": "code",
   "execution_count": null,
   "metadata": {},
   "outputs": [],
   "source": []
  }
 ],
 "metadata": {
  "kernelspec": {
   "display_name": "base",
   "language": "python",
   "name": "python3"
  },
  "language_info": {
   "codemirror_mode": {
    "name": "ipython",
    "version": 3
   },
   "file_extension": ".py",
   "mimetype": "text/x-python",
   "name": "python",
   "nbconvert_exporter": "python",
   "pygments_lexer": "ipython3",
   "version": "3.8.5"
  },
  "orig_nbformat": 4
 },
 "nbformat": 4,
 "nbformat_minor": 2
}
