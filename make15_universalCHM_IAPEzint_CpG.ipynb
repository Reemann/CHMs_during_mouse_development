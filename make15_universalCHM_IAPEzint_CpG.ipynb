{
 "cells": [
  {
   "cell_type": "code",
   "execution_count": null,
   "metadata": {},
   "outputs": [],
   "source": []
  },
  {
   "cell_type": "code",
   "execution_count": 1,
   "metadata": {},
   "outputs": [],
   "source": [
    "import subprocess\n",
    "import os\n",
    "import numpy as np\n",
    "import pandas as pd\n",
    "import matplotlib as mpl\n",
    "mpl.rcParams['pdf.fonttype'] = 42\n",
    "mpl.rcParams['ps.fonttype'] = 42\n",
    "mpl.rcParams['font.sans-serif'] = 'Arial'\n",
    "import matplotlib.pyplot as plt\n",
    "import seaborn as sns\n",
    "from pprint import pprint\n",
    "from matplotlib.backends.backend_pdf import PdfPages\n",
    "%matplotlib inline"
   ]
  },
  {
   "cell_type": "markdown",
   "metadata": {},
   "source": [
    "# 200bp (>= 6 CpG) (not used)"
   ]
  },
  {
   "cell_type": "code",
   "execution_count": 33,
   "metadata": {},
   "outputs": [
    {
     "data": {
      "text/html": [
       "<div>\n",
       "<style scoped>\n",
       "    .dataframe tbody tr th:only-of-type {\n",
       "        vertical-align: middle;\n",
       "    }\n",
       "\n",
       "    .dataframe tbody tr th {\n",
       "        vertical-align: top;\n",
       "    }\n",
       "\n",
       "    .dataframe thead th {\n",
       "        text-align: right;\n",
       "    }\n",
       "</style>\n",
       "<table border=\"1\" class=\"dataframe\">\n",
       "  <thead>\n",
       "    <tr style=\"text-align: right;\">\n",
       "      <th></th>\n",
       "      <th>CHM_name</th>\n",
       "      <th>Mean_Kmer_Ratio</th>\n",
       "    </tr>\n",
       "  </thead>\n",
       "  <tbody>\n",
       "    <tr>\n",
       "      <th>0</th>\n",
       "      <td>universalCHM_specific-1</td>\n",
       "      <td>0.048333</td>\n",
       "    </tr>\n",
       "    <tr>\n",
       "      <th>1</th>\n",
       "      <td>universalCHM_specific-10</td>\n",
       "      <td>0.042500</td>\n",
       "    </tr>\n",
       "    <tr>\n",
       "      <th>2</th>\n",
       "      <td>universalCHM_specific-100</td>\n",
       "      <td>0.039500</td>\n",
       "    </tr>\n",
       "    <tr>\n",
       "      <th>3</th>\n",
       "      <td>universalCHM_specific-101</td>\n",
       "      <td>0.043333</td>\n",
       "    </tr>\n",
       "    <tr>\n",
       "      <th>4</th>\n",
       "      <td>universalCHM_specific-102</td>\n",
       "      <td>0.045000</td>\n",
       "    </tr>\n",
       "    <tr>\n",
       "      <th>...</th>\n",
       "      <td>...</td>\n",
       "      <td>...</td>\n",
       "    </tr>\n",
       "    <tr>\n",
       "      <th>700</th>\n",
       "      <td>universalCHM_specific-95</td>\n",
       "      <td>0.045294</td>\n",
       "    </tr>\n",
       "    <tr>\n",
       "      <th>701</th>\n",
       "      <td>universalCHM_specific-96</td>\n",
       "      <td>0.038571</td>\n",
       "    </tr>\n",
       "    <tr>\n",
       "      <th>702</th>\n",
       "      <td>universalCHM_specific-97</td>\n",
       "      <td>0.057500</td>\n",
       "    </tr>\n",
       "    <tr>\n",
       "      <th>703</th>\n",
       "      <td>universalCHM_specific-98</td>\n",
       "      <td>0.033333</td>\n",
       "    </tr>\n",
       "    <tr>\n",
       "      <th>704</th>\n",
       "      <td>universalCHM_specific-99</td>\n",
       "      <td>0.035000</td>\n",
       "    </tr>\n",
       "  </tbody>\n",
       "</table>\n",
       "<p>705 rows × 2 columns</p>\n",
       "</div>"
      ],
      "text/plain": [
       "                      CHM_name  Mean_Kmer_Ratio\n",
       "0      universalCHM_specific-1         0.048333\n",
       "1     universalCHM_specific-10         0.042500\n",
       "2    universalCHM_specific-100         0.039500\n",
       "3    universalCHM_specific-101         0.043333\n",
       "4    universalCHM_specific-102         0.045000\n",
       "..                         ...              ...\n",
       "700   universalCHM_specific-95         0.045294\n",
       "701   universalCHM_specific-96         0.038571\n",
       "702   universalCHM_specific-97         0.057500\n",
       "703   universalCHM_specific-98         0.033333\n",
       "704   universalCHM_specific-99         0.035000\n",
       "\n",
       "[705 rows x 2 columns]"
      ]
     },
     "execution_count": 33,
     "metadata": {},
     "output_type": "execute_result"
    }
   ],
   "source": [
    "os.chdir('/mnt/Storage/home/wangyiman/CHMsInOtherContexts/CellStateTransition/CHMOrganization/Universal_specific/Features/overlap_IAPEz/CpG_frequency/200bp')\n",
    "freq_df_dict_same = {}\n",
    "for kmer in ['CpG'] :\n",
    "    freq_df_dict_same[kmer] = {}\n",
    "    for group in ['universalCHM_IAPEz_overlap', 'universalCHM_specific'] :\n",
    "        df = pd.read_csv(f'{group}_6CpG200bp_{kmer}.RegionNum.bed', header = None, \n",
    "                                                       names = ['#chrom', 'start', 'end', 'Kmer_Name', 'Mean_Kmer_Ratio', 'Higher_Ratio_Strand', 'CHM_name',],\n",
    "                                                       sep = \"\\t\")\n",
    "        freq_df_dict_same[kmer][group] = df.groupby(['CHM_name']).mean().reset_index()[['CHM_name', 'Mean_Kmer_Ratio']]\n",
    "    \n",
    "freq_df_dict_same[kmer][group]"
   ]
  },
  {
   "cell_type": "code",
   "execution_count": 34,
   "metadata": {},
   "outputs": [
    {
     "data": {
      "image/png": "[encoded data removed]",
      "text/plain": [
       "<Figure size 345.6x345.6 with 1 Axes>"
      ]
     },
     "metadata": {},
     "output_type": "display_data"
    }
   ],
   "source": [
    "with sns.axes_style('white', rc={\n",
    "        'xtick.bottom': True,\n",
    "        'ytick.left': True\n",
    "}), sns.plotting_context('paper',\n",
    "                         rc={\n",
    "                             'axes.titlesize': 14,\n",
    "                             'axes.labelsize': 12,\n",
    "                             'xtick.labelsize': 10,\n",
    "                             'ytick.labelsize': 10,\n",
    "                             'legend.fontsize': 10\n",
    "                         }):\n",
    "    fig, axes = plt.subplots(figsize = (6.4 * .75, 4.8 * 1), tight_layout = True)\n",
    "    for i,kmer in enumerate(['CpG']) :\n",
    "        ax = axes\n",
    "        df = pd.DataFrame()\n",
    "        for group in ['universalCHM_IAPEz_overlap', 'universalCHM_specific'][::-1] :\n",
    "            df = pd.concat([df, freq_df_dict_same[kmer][group][['CHM_name', 'Mean_Kmer_Ratio']]], axis = 0)\n",
    "            \n",
    "        df[['Type', 'group']] = df['CHM_name'].str.split('-', expand = True)[[1,0]]\n",
    "        df['frequency_per_kb'] = df['Mean_Kmer_Ratio'] * 1000\n",
    "        sns.violinplot(data = df,\n",
    "                       x = 'group',\n",
    "                       y = 'frequency_per_kb',\n",
    "                       ax = ax,\n",
    "                       palette = 'Set2'\n",
    "                      )\n",
    "        ax.set_xticks(ax.get_xticks())\n",
    "        ax.set_xticklabels(ax.get_xticklabels(), rotation = 90)\n",
    "        ax.set_title(f'{kmer}')\n",
    "        ax.set_ylabel(\"Count per kb\")\n",
    "        ax.set_xlabel(\"\")\n",
    "#         if kmer == 'CpG' :\n",
    "#             scale1 = 25\n",
    "#             scale2 = 75\n",
    "#         else :\n",
    "#             scale1 = 0\n",
    "#             scale2 = 5\n",
    "#         ax.set_ylim(scale1, scale2)\n",
    "\n",
    "    fig.savefig('/mnt/Storage/home/wangyiman/CHMsInOtherContexts/figures/make15_violin_universalCHM_IAPEzint_CpG_freq_200bpAdd.pdf')\n",
    "         "
   ]
  },
  {
   "cell_type": "code",
   "execution_count": 35,
   "metadata": {},
   "outputs": [],
   "source": [
    "from scipy import stats\n",
    "kmer = 'CpG'\n",
    "df = pd.DataFrame()\n",
    "for group in ['universalCHM_IAPEz_overlap', 'universalCHM_specific'][::-1] :\n",
    "    df = pd.concat([df, freq_df_dict_same[kmer][group][['CHM_name', 'Mean_Kmer_Ratio']]], axis = 0)\n",
    "\n",
    "df[['Type', 'group']] = df['CHM_name'].str.split('-', expand = True)[[1,0]]\n",
    "df['frequency_per_kb'] = df['Mean_Kmer_Ratio'] * 1000"
   ]
  },
  {
   "cell_type": "code",
   "execution_count": 36,
   "metadata": {},
   "outputs": [
    {
     "name": "stdout",
     "output_type": "stream",
     "text": [
      "universalCHM_specific universalCHM_IAPEz_overlap MannwhitneyuResult(statistic=622822.0, pvalue=4.037635281391197e-05)\n"
     ]
    }
   ],
   "source": [
    "### universal CHM specific v.s. universal CHM overlap IAP\n",
    "\n",
    "res = stats.mannwhitneyu(df.loc[df['group'] == 'universalCHM_specific']['frequency_per_kb'], \n",
    "                   df.loc[df['group'] == 'universalCHM_IAPEz_overlap']['frequency_per_kb'], \n",
    "                   alternative = 'two-sided',\n",
    "                   use_continuity = True\n",
    "                  )\n",
    "print('universalCHM_specific', 'universalCHM_IAPEz_overlap', res)"
   ]
  },
  {
   "cell_type": "markdown",
   "metadata": {},
   "source": [
    "# total region"
   ]
  },
  {
   "cell_type": "code",
   "execution_count": 41,
   "metadata": {},
   "outputs": [
    {
     "data": {
      "text/html": [
       "<div>\n",
       "<style scoped>\n",
       "    .dataframe tbody tr th:only-of-type {\n",
       "        vertical-align: middle;\n",
       "    }\n",
       "\n",
       "    .dataframe tbody tr th {\n",
       "        vertical-align: top;\n",
       "    }\n",
       "\n",
       "    .dataframe thead th {\n",
       "        text-align: right;\n",
       "    }\n",
       "</style>\n",
       "<table border=\"1\" class=\"dataframe\">\n",
       "  <thead>\n",
       "    <tr style=\"text-align: right;\">\n",
       "      <th></th>\n",
       "      <th>region_name</th>\n",
       "      <th>region_num</th>\n",
       "      <th>Mean_Kmer_Ratio</th>\n",
       "    </tr>\n",
       "  </thead>\n",
       "  <tbody>\n",
       "    <tr>\n",
       "      <th>0</th>\n",
       "      <td>CG_universalCHM_specific</td>\n",
       "      <td>1</td>\n",
       "      <td>0.040000</td>\n",
       "    </tr>\n",
       "    <tr>\n",
       "      <th>1</th>\n",
       "      <td>CG_universalCHM_specific</td>\n",
       "      <td>2</td>\n",
       "      <td>0.040800</td>\n",
       "    </tr>\n",
       "    <tr>\n",
       "      <th>2</th>\n",
       "      <td>CG_universalCHM_specific</td>\n",
       "      <td>3</td>\n",
       "      <td>0.027083</td>\n",
       "    </tr>\n",
       "    <tr>\n",
       "      <th>3</th>\n",
       "      <td>CG_universalCHM_specific</td>\n",
       "      <td>4</td>\n",
       "      <td>0.023056</td>\n",
       "    </tr>\n",
       "    <tr>\n",
       "      <th>4</th>\n",
       "      <td>CG_universalCHM_specific</td>\n",
       "      <td>5</td>\n",
       "      <td>0.024615</td>\n",
       "    </tr>\n",
       "    <tr>\n",
       "      <th>...</th>\n",
       "      <td>...</td>\n",
       "      <td>...</td>\n",
       "      <td>...</td>\n",
       "    </tr>\n",
       "    <tr>\n",
       "      <th>700</th>\n",
       "      <td>CG_universalCHM_specific</td>\n",
       "      <td>701</td>\n",
       "      <td>0.026500</td>\n",
       "    </tr>\n",
       "    <tr>\n",
       "      <th>701</th>\n",
       "      <td>CG_universalCHM_specific</td>\n",
       "      <td>702</td>\n",
       "      <td>0.032000</td>\n",
       "    </tr>\n",
       "    <tr>\n",
       "      <th>702</th>\n",
       "      <td>CG_universalCHM_specific</td>\n",
       "      <td>703</td>\n",
       "      <td>0.060952</td>\n",
       "    </tr>\n",
       "    <tr>\n",
       "      <th>703</th>\n",
       "      <td>CG_universalCHM_specific</td>\n",
       "      <td>704</td>\n",
       "      <td>0.034167</td>\n",
       "    </tr>\n",
       "    <tr>\n",
       "      <th>704</th>\n",
       "      <td>CG_universalCHM_specific</td>\n",
       "      <td>705</td>\n",
       "      <td>0.024865</td>\n",
       "    </tr>\n",
       "  </tbody>\n",
       "</table>\n",
       "<p>705 rows × 3 columns</p>\n",
       "</div>"
      ],
      "text/plain": [
       "                  region_name region_num  Mean_Kmer_Ratio\n",
       "0    CG_universalCHM_specific          1         0.040000\n",
       "1    CG_universalCHM_specific          2         0.040800\n",
       "2    CG_universalCHM_specific          3         0.027083\n",
       "3    CG_universalCHM_specific          4         0.023056\n",
       "4    CG_universalCHM_specific          5         0.024615\n",
       "..                        ...        ...              ...\n",
       "700  CG_universalCHM_specific        701         0.026500\n",
       "701  CG_universalCHM_specific        702         0.032000\n",
       "702  CG_universalCHM_specific        703         0.060952\n",
       "703  CG_universalCHM_specific        704         0.034167\n",
       "704  CG_universalCHM_specific        705         0.024865\n",
       "\n",
       "[705 rows x 3 columns]"
      ]
     },
     "execution_count": 41,
     "metadata": {},
     "output_type": "execute_result"
    }
   ],
   "source": [
    "freq_df_dict_total = {}\n",
    "os.chdir('/mnt/Storage/home/wangyiman/CHMsInOtherContexts/CellStateTransition/CHMOrganization/Universal_specific/Features/overlap_IAPEz/CpG_frequency/total_region')\n",
    "for kmer in ['CpG'] :\n",
    "    freq_df_dict_total[kmer] = {}\n",
    "    for group in ['IAPEz_specific', 'IAPEz_universalCHM_overlap', 'universalCHM_IAPEz_overlap', 'universalCHM_specific'] :\n",
    "        df = pd.read_csv(f'{group}_{kmer}.bed', header = 0,\n",
    "                                                       sep = \"\\t\")\n",
    "        df['region_name'] = df['Kmer_Name'].str.split('.', expand = True)[0]\n",
    "        df['region_num'] = df['Kmer_Name'].str.split('.', expand = True)[1].str.split(\"_\", expand = True)[1]\n",
    "        freq_df_dict_total[kmer][group] = df[['region_name', 'region_num', 'Mean_Kmer_Ratio']]\n",
    "        \n",
    "    \n",
    "freq_df_dict_total[kmer][group]"
   ]
  },
  {
   "cell_type": "code",
   "execution_count": 64,
   "metadata": {},
   "outputs": [
    {
     "data": {
      "image/png": "[encoded data removed]",
      "text/plain": [
       "<Figure size 345.6x432 with 1 Axes>"
      ]
     },
     "metadata": {},
     "output_type": "display_data"
    }
   ],
   "source": [
    "with sns.axes_style('white', rc={\n",
    "        'xtick.bottom': True,\n",
    "        'ytick.left': True\n",
    "}), sns.plotting_context('paper',\n",
    "                         rc={\n",
    "                             'axes.titlesize': 14,\n",
    "                             'axes.labelsize': 12,\n",
    "                             'xtick.labelsize': 10,\n",
    "                             'ytick.labelsize': 10,\n",
    "                             'legend.fontsize': 10\n",
    "                         }):\n",
    "    fig, axes = plt.subplots(figsize = (6.4 * .75, 4.8 * 1.25), tight_layout = True)\n",
    "    for i,kmer in enumerate(['CpG']) :\n",
    "        ax = axes\n",
    "        df = pd.DataFrame()\n",
    "        for group in ['IAPEz_specific', 'IAPEz_universalCHM_overlap', 'universalCHM_specific'][::-1] :\n",
    "#         for group in ['IAPEz_specific', 'IAPEz_universalCHM_overlap', 'universalCHM_IAPEz_overlap', 'universalCHM_specific'][::-1] :\n",
    "            df = pd.concat([df, freq_df_dict_total[kmer][group][['region_name', 'region_num', 'Mean_Kmer_Ratio']]], axis = 0)\n",
    "            \n",
    "        df['frequency_per_kb'] = df['Mean_Kmer_Ratio'] * 1000\n",
    "        sns.violinplot(data = df,\n",
    "                       x = 'region_name',\n",
    "                       y = 'frequency_per_kb',\n",
    "                       ax = ax,\n",
    "                       palette = 'Set2'\n",
    "                      )\n",
    "        ax.set_xticks(ax.get_xticks())\n",
    "        ax.set_xticklabels([x.get_text()[3:] for x in ax.get_xticklabels()], rotation = 90)\n",
    "        ax.set_title(f'{kmer}')\n",
    "        ax.set_ylabel(\"Count per kb\")\n",
    "        ax.set_xlabel(\"\")\n",
    "#         if kmer == 'CpG' :\n",
    "#             scale1 = 25\n",
    "#             scale2 = 75\n",
    "#         else :\n",
    "#             scale1 = 0\n",
    "#             scale2 = 5\n",
    "#         ax.set_ylim(scale1, scale2)\n",
    "\n",
    "    fig.savefig('/mnt/Storage/home/wangyiman/CHMsInOtherContexts/figures/make15_violin_universalCHM_IAPEzint_CpG_freq_totalRegion.pdf')\n",
    "         "
   ]
  },
  {
   "cell_type": "code",
   "execution_count": null,
   "metadata": {},
   "outputs": [],
   "source": []
  },
  {
   "cell_type": "markdown",
   "metadata": {},
   "source": [
    "## mannwhitneyu test"
   ]
  },
  {
   "cell_type": "code",
   "execution_count": 60,
   "metadata": {},
   "outputs": [],
   "source": [
    "from scipy import stats\n",
    "kmer = 'CpG'\n",
    "df = pd.DataFrame()\n",
    "for group in ['IAPEz_specific', 'IAPEz_universalCHM_overlap', 'universalCHM_IAPEz_overlap', 'universalCHM_specific'][::-1] :\n",
    "    df = pd.concat([df, freq_df_dict_total[kmer][group][['region_name', 'region_num', 'Mean_Kmer_Ratio']]], axis = 0)\n",
    "\n",
    "df['frequency_per_kb'] = df['Mean_Kmer_Ratio'] * 1000"
   ]
  },
  {
   "cell_type": "code",
   "execution_count": 61,
   "metadata": {},
   "outputs": [
    {
     "name": "stdout",
     "output_type": "stream",
     "text": [
      "universalCHM_specific IAPEz_specific MannwhitneyuResult(statistic=560766.5, pvalue=1.6672877961720143e-51)\n",
      "universalCHM_IAPEz_overlap IAPEz_specific MannwhitneyuResult(statistic=1481037.0, pvalue=8.294575401848019e-56)\n",
      "IAPEz_universalCHM_overlap IAPEz_specific MannwhitneyuResult(statistic=1551365.0, pvalue=0.008268235088518861)\n"
     ]
    }
   ],
   "source": [
    "### 3 others v.s. IAP specific\n",
    "\n",
    "for group in ['IAPEz_universalCHM_overlap', 'universalCHM_IAPEz_overlap', 'universalCHM_specific'][::-1] :\n",
    "    res = stats.mannwhitneyu(df.loc[df['region_name'] == f'CG_{group}']['frequency_per_kb'], \n",
    "                       df.loc[df['region_name'] == 'CG_IAPEz_specific']['frequency_per_kb'], \n",
    "                       alternative = 'two-sided',\n",
    "                       use_continuity = True\n",
    "                      )\n",
    "    print(group, 'IAPEz_specific', res)"
   ]
  },
  {
   "cell_type": "code",
   "execution_count": 63,
   "metadata": {},
   "outputs": [
    {
     "name": "stdout",
     "output_type": "stream",
     "text": [
      "universalCHM_IAPEz_overlap universalCHM_specific MannwhitneyuResult(statistic=327770.5, pvalue=1.3476275213088471e-96)\n",
      "IAPEz_universalCHM_overlap universalCHM_specific MannwhitneyuResult(statistic=320338.5, pvalue=5.833708869211418e-157)\n",
      "IAPEz_specific universalCHM_specific MannwhitneyuResult(statistic=229538.5, pvalue=1.6672877961720143e-51)\n"
     ]
    }
   ],
   "source": [
    "### 3 others v.s. universal CHM specific\n",
    "\n",
    "for group in ['IAPEz_specific', 'IAPEz_universalCHM_overlap', 'universalCHM_IAPEz_overlap'][::-1] :\n",
    "    res = stats.mannwhitneyu(df.loc[df['region_name'] == f'CG_{group}']['frequency_per_kb'], \n",
    "                       df.loc[df['region_name'] == 'CG_universalCHM_specific']['frequency_per_kb'], \n",
    "                       alternative = 'two-sided',\n",
    "                       use_continuity = True\n",
    "                      )\n",
    "    print(group, 'universalCHM_specific', res)"
   ]
  },
  {
   "cell_type": "code",
   "execution_count": null,
   "metadata": {},
   "outputs": [],
   "source": []
  }
 ],
 "metadata": {
  "kernelspec": {
   "display_name": "Python [conda env:root] *",
   "language": "python",
   "name": "conda-root-py"
  },
  "language_info": {
   "codemirror_mode": {
    "name": "ipython",
    "version": 3
   },
   "file_extension": ".py",
   "mimetype": "text/x-python",
   "name": "python",
   "nbconvert_exporter": "python",
   "pygments_lexer": "ipython3",
   "version": "3.8.5"
  }
 },
 "nbformat": 4,
 "nbformat_minor": 4
}
