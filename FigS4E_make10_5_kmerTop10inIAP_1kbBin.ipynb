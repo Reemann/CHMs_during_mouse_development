{
 "cells": [
  {
   "cell_type": "markdown",
   "id": "2c05a7ee-7d20-4bc8-ae4b-d3544e2c759c",
   "metadata": {},
   "source": [
    "# top 10 kmer in IAP v.s. genome (1kb-bin)"
   ]
  },
  {
   "cell_type": "code",
   "execution_count": 1,
   "id": "f14db45c-98cb-4452-8e66-e4607c48dd69",
   "metadata": {},
   "outputs": [],
   "source": [
    "import os\n",
    "import subprocess\n",
    "import gzip\n",
    "import numpy as np\n",
    "import pandas as pd\n",
    "import matplotlib as mpl\n",
    "mpl.rcParams['pdf.fonttype'] = 42\n",
    "mpl.rcParams['ps.fonttype'] = 42\n",
    "mpl.rcParams['font.sans-serif'] = 'Arial'\n",
    "import matplotlib.pyplot as plt\n",
    "import seaborn as sns\n",
    "from pprint import pprint\n",
    "%matplotlib inline"
   ]
  },
  {
   "cell_type": "code",
   "execution_count": 2,
   "id": "92d2d7a0-52d8-42b8-986a-1e444a4c36e7",
   "metadata": {},
   "outputs": [],
   "source": [
    "from sklearn.metrics import roc_curve, auc\n",
    "from sklearn.metrics import roc_auc_score"
   ]
  },
  {
   "cell_type": "code",
   "execution_count": 3,
   "id": "2c6079b7-d637-46c5-8745-93833562ff7a",
   "metadata": {},
   "outputs": [
    {
     "data": {
      "text/plain": [
       "['AGA',\n",
       " 'CAC',\n",
       " 'AAG',\n",
       " 'CACC',\n",
       " 'GTAAA',\n",
       " 'AAAG',\n",
       " 'CCC',\n",
       " 'ATTAG',\n",
       " 'ATTC',\n",
       " 'ATCAG',\n",
       " 'TGCmCGC']"
      ]
     },
     "execution_count": 3,
     "metadata": {},
     "output_type": "execute_result"
    }
   ],
   "source": [
    "kmer_ls = pd.read_csv(\n",
    "    '/mnt/Storage/home/wangyiman/CHMsInOtherContexts/CellStateTransition/CHMOrganization/Universal_specific/Sequence/AUC_1kb/top10andZfp57meth_kmer_frequency.tsv',\n",
    "    sep = \"\\t\", header = 0, \n",
    ").columns.tolist()[1:]\n",
    "kmer_ls"
   ]
  },
  {
   "cell_type": "code",
   "execution_count": null,
   "id": "d3db2090-b407-421f-a57b-af45d6baea44",
   "metadata": {},
   "outputs": [],
   "source": []
  },
  {
   "cell_type": "code",
   "execution_count": 5,
   "id": "512671cc-2944-4ae7-ba4d-2d504f82bcbd",
   "metadata": {},
   "outputs": [],
   "source": [
    "%%bash\n",
    "cd /mnt/Storage/home/wangyiman/CHMsInOtherContexts/CellStateTransition/CHMOrganization/Universal_specific/Sequence/AUC_1kb/IAP_topKmers/1kbBin/\n",
    "IAP_bed=/mnt/Storage/home/wangyiman/annotations/mm10/Repeats/LTR/ERVK/mm10_euch.IAPEz-int.merged.bed\n",
    "genome_bed=/mnt/Storage/home/wangyiman/annotations/mm10/mm10_euch.chrom.limits\n",
    "bedtools makewindows -b $IAP_bed -w 1000 > IAPEzint_1kbBin.bed\n",
    "bedtools makewindows -b <(awk 'BEGIN{FS=OFS=\"\\t\"}{print $1,$2-1,$3}' $genome_bed) -w 1000 > genomeEu_1kbBin.bed\n",
    "\n"
   ]
  },
  {
   "cell_type": "code",
   "execution_count": 6,
   "id": "14fd8774-1860-413d-89c2-01f816fef93b",
   "metadata": {},
   "outputs": [
    {
     "name": "stderr",
     "output_type": "stream",
     "text": [
      "Warning: the index file is older than the FASTA file.\n"
     ]
    },
    {
     "name": "stdout",
     "output_type": "stream",
     "text": [
      "Process is interrupted.\n"
     ]
    }
   ],
   "source": [
    "%%bash\n",
    "\n",
    "### not used\n",
    "cd /mnt/Storage/home/wangyiman/CHMsInOtherContexts/CellStateTransition/CHMOrganization/Universal_specific/Sequence/AUC_1kb/IAP_topKmers/1kbBin\n",
    "IAP_1kb_bed=IAPEzint_1kbBin.bed\n",
    "genome_1kb_bed=genomeEu_1kbBin.bed\n",
    "fa_bed=/mnt/Storage/home/wangyiman/annotations/mm10/mm10.fa\n",
    "\n",
    "bedtools getfasta -fi $fa_bed -bed $IAP_1kb_bed > mm10_euch.IAPEz-int1kb.merged.fa\n",
    "bedtools getfasta -fi $fa_bed -bed $genome_1kb_bed > mm10_euch.genome1kb.merged.fa"
   ]
  },
  {
   "cell_type": "code",
   "execution_count": 8,
   "id": "7ef93f3a-06ae-4b03-b400-b49aba8ea320",
   "metadata": {},
   "outputs": [
    {
     "name": "stdout",
     "output_type": "stream",
     "text": [
      "AGA\n",
      "CAC\n",
      "AAG\n",
      "CACC\n",
      "GTAAA\n",
      "AAAG\n",
      "CCC\n",
      "ATTAG\n",
      "ATTC\n",
      "ATCAG\n"
     ]
    }
   ],
   "source": [
    "%%bash\n",
    "### kmer frequency in IAPEz sequence\n",
    "cd /mnt/Storage/home/wangyiman/CHMsInOtherContexts/CellStateTransition/CHMOrganization/Universal_specific/Sequence/AUC_1kb/IAP_topKmers/1kbBin\n",
    "for kmer in $(head -1 ../../top10andZfp57meth_kmer_frequency.tsv | cut -f 2-11);do\n",
    "    echo $kmer\n",
    "    get_Kmer_frequency.py $kmer IAPEzint_1kbBin.bed IAPEzint1kb_top10kmer_freq_${kmer}.bed /mnt/Storage/home/wangyiman/annotations/mm10/mm10.2bit\n",
    "done"
   ]
  },
  {
   "cell_type": "code",
   "execution_count": 40,
   "id": "4ab13907-6752-42b5-89d3-9a78f08435a5",
   "metadata": {},
   "outputs": [],
   "source": [
    "%%bash \n",
    "### kmer frequency in genome-wide (background)\n",
    "### runned in runned_tmp6.sh in tmux\n",
    "cd /mnt/Storage/home/wangyiman/CHMsInOtherContexts/CellStateTransition/CHMOrganization/Universal_specific/Sequence/AUC_1kb/IAP_topKmers/1kbBin\n",
    "for kmer in $(head -1 ../../top10andZfp57meth_kmer_frequency.tsv | cut -f 2-11);do\n",
    "    echo $kmer\n",
    "    get_Kmer_frequency.py $kmer genomeEu_1kbBin.bed genomeEuch_top10kmer_freq_${kmer}.bed /mnt/Storage/home/wangyiman/annotations/mm10/mm10.2bit\n",
    "done"
   ]
  },
  {
   "cell_type": "code",
   "execution_count": 16,
   "id": "ce0f85fb-0077-47c6-84a5-451a1fbeb6ae",
   "metadata": {},
   "outputs": [],
   "source": [
    "os.chdir('/mnt/Storage/home/wangyiman/CHMsInOtherContexts/CellStateTransition/CHMOrganization/Universal_specific/Sequence/AUC_1kb/IAP_topKmers/1kbBin')\n",
    "top10kmer_freq = pd.DataFrame()\n",
    "\n",
    "for kmer in kmer_ls[:-1] :\n",
    "    for region in ['IAPEzint1kb', 'genomeEuch'] : \n",
    "        df = pd.read_csv(f'{region}_top10kmer_freq_{kmer}.bed', sep = \"\\t\", usecols = ['Mean_Kmer_Ratio'])\n",
    "        df[\"kmer\"] = kmer \n",
    "        df[\"region\"] = region\n",
    "        top10kmer_freq = pd.concat([top10kmer_freq, df])\n",
    "        "
   ]
  },
  {
   "cell_type": "code",
   "execution_count": 24,
   "id": "ac0b0979-0bd8-4027-bc28-a6640e042091",
   "metadata": {},
   "outputs": [
    {
     "data": {
      "text/html": [
       "<div>\n",
       "<style scoped>\n",
       "    .dataframe tbody tr th:only-of-type {\n",
       "        vertical-align: middle;\n",
       "    }\n",
       "\n",
       "    .dataframe tbody tr th {\n",
       "        vertical-align: top;\n",
       "    }\n",
       "\n",
       "    .dataframe thead th {\n",
       "        text-align: right;\n",
       "    }\n",
       "</style>\n",
       "<table border=\"1\" class=\"dataframe\">\n",
       "  <thead>\n",
       "    <tr style=\"text-align: right;\">\n",
       "      <th></th>\n",
       "      <th>Mean_Kmer_Ratio</th>\n",
       "      <th>kmer</th>\n",
       "      <th>region</th>\n",
       "      <th>Count per Kb</th>\n",
       "      <th>Count per kb</th>\n",
       "    </tr>\n",
       "  </thead>\n",
       "  <tbody>\n",
       "    <tr>\n",
       "      <th>0</th>\n",
       "      <td>0.024500</td>\n",
       "      <td>AGA</td>\n",
       "      <td>IAPEzint1kb</td>\n",
       "      <td>24.500000</td>\n",
       "      <td>24.500000</td>\n",
       "    </tr>\n",
       "    <tr>\n",
       "      <th>1</th>\n",
       "      <td>0.029528</td>\n",
       "      <td>AGA</td>\n",
       "      <td>IAPEzint1kb</td>\n",
       "      <td>29.527559</td>\n",
       "      <td>29.527559</td>\n",
       "    </tr>\n",
       "    <tr>\n",
       "      <th>2</th>\n",
       "      <td>0.033877</td>\n",
       "      <td>AGA</td>\n",
       "      <td>IAPEzint1kb</td>\n",
       "      <td>33.877039</td>\n",
       "      <td>33.877039</td>\n",
       "    </tr>\n",
       "    <tr>\n",
       "      <th>3</th>\n",
       "      <td>0.023810</td>\n",
       "      <td>AGA</td>\n",
       "      <td>IAPEzint1kb</td>\n",
       "      <td>23.809524</td>\n",
       "      <td>23.809524</td>\n",
       "    </tr>\n",
       "    <tr>\n",
       "      <th>4</th>\n",
       "      <td>0.052632</td>\n",
       "      <td>AGA</td>\n",
       "      <td>IAPEzint1kb</td>\n",
       "      <td>52.631579</td>\n",
       "      <td>52.631579</td>\n",
       "    </tr>\n",
       "    <tr>\n",
       "      <th>...</th>\n",
       "      <td>...</td>\n",
       "      <td>...</td>\n",
       "      <td>...</td>\n",
       "      <td>...</td>\n",
       "      <td>...</td>\n",
       "    </tr>\n",
       "    <tr>\n",
       "      <th>2462750</th>\n",
       "      <td>0.000000</td>\n",
       "      <td>ATCAG</td>\n",
       "      <td>genomeEuch</td>\n",
       "      <td>0.000000</td>\n",
       "      <td>0.000000</td>\n",
       "    </tr>\n",
       "    <tr>\n",
       "      <th>2462751</th>\n",
       "      <td>0.000000</td>\n",
       "      <td>ATCAG</td>\n",
       "      <td>genomeEuch</td>\n",
       "      <td>0.000000</td>\n",
       "      <td>0.000000</td>\n",
       "    </tr>\n",
       "    <tr>\n",
       "      <th>2462752</th>\n",
       "      <td>0.000000</td>\n",
       "      <td>ATCAG</td>\n",
       "      <td>genomeEuch</td>\n",
       "      <td>0.000000</td>\n",
       "      <td>0.000000</td>\n",
       "    </tr>\n",
       "    <tr>\n",
       "      <th>2462753</th>\n",
       "      <td>0.000000</td>\n",
       "      <td>ATCAG</td>\n",
       "      <td>genomeEuch</td>\n",
       "      <td>0.000000</td>\n",
       "      <td>0.000000</td>\n",
       "    </tr>\n",
       "    <tr>\n",
       "      <th>2462754</th>\n",
       "      <td>0.000000</td>\n",
       "      <td>ATCAG</td>\n",
       "      <td>genomeEuch</td>\n",
       "      <td>0.000000</td>\n",
       "      <td>0.000000</td>\n",
       "    </tr>\n",
       "  </tbody>\n",
       "</table>\n",
       "<p>24754530 rows × 5 columns</p>\n",
       "</div>"
      ],
      "text/plain": [
       "         Mean_Kmer_Ratio   kmer       region  Count per Kb  Count per kb\n",
       "0               0.024500    AGA  IAPEzint1kb     24.500000     24.500000\n",
       "1               0.029528    AGA  IAPEzint1kb     29.527559     29.527559\n",
       "2               0.033877    AGA  IAPEzint1kb     33.877039     33.877039\n",
       "3               0.023810    AGA  IAPEzint1kb     23.809524     23.809524\n",
       "4               0.052632    AGA  IAPEzint1kb     52.631579     52.631579\n",
       "...                  ...    ...          ...           ...           ...\n",
       "2462750         0.000000  ATCAG   genomeEuch      0.000000      0.000000\n",
       "2462751         0.000000  ATCAG   genomeEuch      0.000000      0.000000\n",
       "2462752         0.000000  ATCAG   genomeEuch      0.000000      0.000000\n",
       "2462753         0.000000  ATCAG   genomeEuch      0.000000      0.000000\n",
       "2462754         0.000000  ATCAG   genomeEuch      0.000000      0.000000\n",
       "\n",
       "[24754530 rows x 5 columns]"
      ]
     },
     "execution_count": 24,
     "metadata": {},
     "output_type": "execute_result"
    }
   ],
   "source": [
    "top10kmer_freq['Count per kb'] = top10kmer_freq['Mean_Kmer_Ratio'] * 1000\n",
    "top10kmer_freq"
   ]
  },
  {
   "cell_type": "code",
   "execution_count": 25,
   "id": "69d5a617-b2b1-4e29-95e6-2eaea3bffc03",
   "metadata": {},
   "outputs": [
    {
     "data": {
      "image/png": "[encoded data removed]",
      "text/plain": [
       "<Figure size 460.8x345.6 with 1 Axes>"
      ]
     },
     "metadata": {},
     "output_type": "display_data"
    }
   ],
   "source": [
    "with sns.axes_style('white', rc={\n",
    "        'xtick.bottom': True,\n",
    "        'ytick.left': True\n",
    "}), sns.plotting_context('paper',\n",
    "                         rc={\n",
    "                             'axes.titlesize': 14,\n",
    "                             'axes.labelsize': 12,\n",
    "                             'xtick.labelsize': 10,\n",
    "                             'ytick.labelsize': 10,\n",
    "                             'legend.fontsize': 10\n",
    "                         }):\n",
    "    fig, ax = plt.subplots(figsize = (6.4, 4.8), tight_layout = True)\n",
    "    sns.violinplot(\n",
    "        data = top10kmer_freq,\n",
    "        y = \"Count per kb\",\n",
    "        x = \"kmer\",\n",
    "        hue = \"region\",\n",
    "        \n",
    "    )\n",
    "    ax.set_ylim(0,50)\n",
    "    "
   ]
  },
  {
   "cell_type": "code",
   "execution_count": 47,
   "id": "5e5f56b4-7e33-4c9e-8c4d-f9bb5ba4c55f",
   "metadata": {},
   "outputs": [
    {
     "data": {
      "image/png": "[encoded data removed]",
      "text/plain": [
       "<Figure size 460.8x345.6 with 1 Axes>"
      ]
     },
     "metadata": {},
     "output_type": "display_data"
    }
   ],
   "source": [
    "with sns.axes_style('white', rc={\n",
    "        'xtick.bottom': True,\n",
    "        'ytick.left': True\n",
    "}), sns.plotting_context('paper',\n",
    "                         rc={\n",
    "                             'axes.titlesize': 14,\n",
    "                             'axes.labelsize': 12,\n",
    "                             'xtick.labelsize': 10,\n",
    "                             'ytick.labelsize': 10,\n",
    "                             'legend.fontsize': 10\n",
    "                         }):\n",
    "    fig, ax = plt.subplots(figsize = (6.4, 4.8), tight_layout = True)\n",
    "    sns.barplot(\n",
    "        data = top10kmer_freq_df,\n",
    "        y = 'frequency',\n",
    "        x = 'kmer', \n",
    "        hue = 'region',\n",
    "        palette = 'YlGnBu_r',\n",
    "        orient = 'v')\n",
    "    # ax.set_xlim(0,20000)\n",
    "#     ax.set_xscale('log')\n",
    "    # ax.set_xlabel('Number of peaks')\n",
    "    fig.savefig(f'/mnt/Storage/home/wangyiman/CHMsInOtherContexts/figures/make10_bar_top10kmerFreq_IAP_genome.pdf',transparent=True)\n",
    "     \n"
   ]
  },
  {
   "cell_type": "code",
   "execution_count": null,
   "id": "2ce4a44a-946a-4502-b42a-3f2187f08a30",
   "metadata": {},
   "outputs": [],
   "source": []
  }
 ],
 "metadata": {
  "kernelspec": {
   "display_name": "Python 3 (ipykernel)",
   "language": "python",
   "name": "python3"
  },
  "language_info": {
   "codemirror_mode": {
    "name": "ipython",
    "version": 3
   },
   "file_extension": ".py",
   "mimetype": "text/x-python",
   "name": "python",
   "nbconvert_exporter": "python",
   "pygments_lexer": "ipython3",
   "version": "3.9.12"
  }
 },
 "nbformat": 4,
 "nbformat_minor": 5
}
